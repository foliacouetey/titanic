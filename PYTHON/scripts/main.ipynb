{
 "cells": [
  {
   "cell_type": "markdown",
   "metadata": {},
   "source": [
    "#### 1. Refer to this section for a description of the problem"
   ]
  },
  {
   "cell_type": "markdown",
   "metadata": {},
   "source": [
    "__[Kaggle](https://www.kaggle.com/competitions/titanic/data)__ platform provides two datasets (_train.csv_, _test.csv_) containing detailed information about Titanic passengers, such as :\n",
    "- A unique identifier for each passenger (_PassengerId_) ;\n",
    "- The class of service in which the passenger traveled (_Pclass_) ;\n",
    "- The passenger's full name (_Name_) ;\n",
    "- The gender of the passenger (_Sex_) ;\n",
    "- The age of the passenger (_Age_) ;\n",
    "- The number of siblings or spouses accompanying the passenger on the ship (_SibSp_) ;\n",
    "- The number of parents or children accompanying the passenger on the ship (_Parch_) ;\n",
    "- The ticket number assigned to the passenger (_Ticket_) ;\n",
    "- The fare paid by the passenger (_Fare_) ;\n",
    "- The cabin number assigned to the passenger (_Cabin_) ;\n",
    "- The port from which the passenger embarked (_Embarked_) ;\n",
    "- The survival status of the passenger post-collision (_Survived_), which is available only in the _train.csv_ dataset.\n",
    "\n",
    "Based on the data and relationships identified in the _train.csv_ file, we aim to predict the survival status of passengers listed in the _test.csv_ file following the shipwreck."
   ]
  },
  {
   "cell_type": "markdown",
   "metadata": {},
   "source": [
    "#### 2. Import required libraries"
   ]
  },
  {
   "cell_type": "code",
   "execution_count": 181,
   "metadata": {},
   "outputs": [],
   "source": [
    "import gc, pandas as pd, numpy as np, matplotlib.pyplot as plt\n",
    "from sklearn.linear_model import LogisticRegression\n",
    "from scipy.stats import kruskal, chi2_contingency\n",
    "from sklearn.preprocessing import OneHotEncoder\n",
    "from pathlib import Path"
   ]
  },
  {
   "cell_type": "markdown",
   "metadata": {},
   "source": [
    "#### 3. Set up correct path"
   ]
  },
  {
   "cell_type": "code",
   "execution_count": 182,
   "metadata": {},
   "outputs": [],
   "source": [
    "windowspath__scripts = Path().resolve()\n",
    "windowspath__data = windowspath__scripts.parent / \"data\""
   ]
  },
  {
   "cell_type": "markdown",
   "metadata": {},
   "source": [
    "#### 4. Import train.csv and test.csv files"
   ]
  },
  {
   "cell_type": "code",
   "execution_count": 183,
   "metadata": {},
   "outputs": [],
   "source": [
    "df__train = pd.read_csv(filepath_or_buffer=windowspath__data / \"train\" / \"train.csv\", dtype=str)\n",
    "df__test = pd.read_csv(filepath_or_buffer=windowspath__data / \"test\" / \"test.csv\", dtype=str)"
   ]
  },
  {
   "cell_type": "code",
   "execution_count": 184,
   "metadata": {},
   "outputs": [
    {
     "data": {
      "text/html": [
       "<div>\n",
       "<style scoped>\n",
       "    .dataframe tbody tr th:only-of-type {\n",
       "        vertical-align: middle;\n",
       "    }\n",
       "\n",
       "    .dataframe tbody tr th {\n",
       "        vertical-align: top;\n",
       "    }\n",
       "\n",
       "    .dataframe thead th {\n",
       "        text-align: right;\n",
       "    }\n",
       "</style>\n",
       "<table border=\"1\" class=\"dataframe\">\n",
       "  <thead>\n",
       "    <tr style=\"text-align: right;\">\n",
       "      <th></th>\n",
       "      <th>PassengerId</th>\n",
       "      <th>Survived</th>\n",
       "      <th>Pclass</th>\n",
       "      <th>Name</th>\n",
       "      <th>Sex</th>\n",
       "      <th>Age</th>\n",
       "      <th>SibSp</th>\n",
       "      <th>Parch</th>\n",
       "      <th>Ticket</th>\n",
       "      <th>Fare</th>\n",
       "      <th>Cabin</th>\n",
       "      <th>Embarked</th>\n",
       "    </tr>\n",
       "  </thead>\n",
       "  <tbody>\n",
       "    <tr>\n",
       "      <th>581</th>\n",
       "      <td>582</td>\n",
       "      <td>1</td>\n",
       "      <td>1</td>\n",
       "      <td>Thayer, Mrs. John Borland (Marian Longstreth M...</td>\n",
       "      <td>female</td>\n",
       "      <td>39</td>\n",
       "      <td>1</td>\n",
       "      <td>1</td>\n",
       "      <td>17421</td>\n",
       "      <td>110.8833</td>\n",
       "      <td>C68</td>\n",
       "      <td>C</td>\n",
       "    </tr>\n",
       "    <tr>\n",
       "      <th>801</th>\n",
       "      <td>802</td>\n",
       "      <td>1</td>\n",
       "      <td>2</td>\n",
       "      <td>Collyer, Mrs. Harvey (Charlotte Annie Tate)</td>\n",
       "      <td>female</td>\n",
       "      <td>31</td>\n",
       "      <td>1</td>\n",
       "      <td>1</td>\n",
       "      <td>C.A. 31921</td>\n",
       "      <td>26.25</td>\n",
       "      <td>NaN</td>\n",
       "      <td>S</td>\n",
       "    </tr>\n",
       "    <tr>\n",
       "      <th>193</th>\n",
       "      <td>194</td>\n",
       "      <td>1</td>\n",
       "      <td>2</td>\n",
       "      <td>Navratil, Master. Michel M</td>\n",
       "      <td>male</td>\n",
       "      <td>3</td>\n",
       "      <td>1</td>\n",
       "      <td>1</td>\n",
       "      <td>230080</td>\n",
       "      <td>26</td>\n",
       "      <td>F2</td>\n",
       "      <td>S</td>\n",
       "    </tr>\n",
       "  </tbody>\n",
       "</table>\n",
       "</div>"
      ],
      "text/plain": [
       "    PassengerId Survived Pclass  \\\n",
       "581         582        1      1   \n",
       "801         802        1      2   \n",
       "193         194        1      2   \n",
       "\n",
       "                                                  Name     Sex Age SibSp  \\\n",
       "581  Thayer, Mrs. John Borland (Marian Longstreth M...  female  39     1   \n",
       "801        Collyer, Mrs. Harvey (Charlotte Annie Tate)  female  31     1   \n",
       "193                         Navratil, Master. Michel M    male   3     1   \n",
       "\n",
       "    Parch      Ticket      Fare Cabin Embarked  \n",
       "581     1       17421  110.8833   C68        C  \n",
       "801     1  C.A. 31921     26.25   NaN        S  \n",
       "193     1      230080        26    F2        S  "
      ]
     },
     "execution_count": 184,
     "metadata": {},
     "output_type": "execute_result"
    }
   ],
   "source": [
    "df__train.sample(n=3)"
   ]
  },
  {
   "cell_type": "code",
   "execution_count": 185,
   "metadata": {},
   "outputs": [
    {
     "data": {
      "text/html": [
       "<div>\n",
       "<style scoped>\n",
       "    .dataframe tbody tr th:only-of-type {\n",
       "        vertical-align: middle;\n",
       "    }\n",
       "\n",
       "    .dataframe tbody tr th {\n",
       "        vertical-align: top;\n",
       "    }\n",
       "\n",
       "    .dataframe thead th {\n",
       "        text-align: right;\n",
       "    }\n",
       "</style>\n",
       "<table border=\"1\" class=\"dataframe\">\n",
       "  <thead>\n",
       "    <tr style=\"text-align: right;\">\n",
       "      <th></th>\n",
       "      <th>PassengerId</th>\n",
       "      <th>Pclass</th>\n",
       "      <th>Name</th>\n",
       "      <th>Sex</th>\n",
       "      <th>Age</th>\n",
       "      <th>SibSp</th>\n",
       "      <th>Parch</th>\n",
       "      <th>Ticket</th>\n",
       "      <th>Fare</th>\n",
       "      <th>Cabin</th>\n",
       "      <th>Embarked</th>\n",
       "    </tr>\n",
       "  </thead>\n",
       "  <tbody>\n",
       "    <tr>\n",
       "      <th>91</th>\n",
       "      <td>983</td>\n",
       "      <td>3</td>\n",
       "      <td>Pedersen, Mr. Olaf</td>\n",
       "      <td>male</td>\n",
       "      <td>NaN</td>\n",
       "      <td>0</td>\n",
       "      <td>0</td>\n",
       "      <td>345498</td>\n",
       "      <td>7.775</td>\n",
       "      <td>NaN</td>\n",
       "      <td>S</td>\n",
       "    </tr>\n",
       "    <tr>\n",
       "      <th>359</th>\n",
       "      <td>1251</td>\n",
       "      <td>3</td>\n",
       "      <td>Lindell, Mrs. Edvard Bengtsson (Elin Gerda Per...</td>\n",
       "      <td>female</td>\n",
       "      <td>30</td>\n",
       "      <td>1</td>\n",
       "      <td>0</td>\n",
       "      <td>349910</td>\n",
       "      <td>15.55</td>\n",
       "      <td>NaN</td>\n",
       "      <td>S</td>\n",
       "    </tr>\n",
       "    <tr>\n",
       "      <th>333</th>\n",
       "      <td>1225</td>\n",
       "      <td>3</td>\n",
       "      <td>Nakid, Mrs. Said (Waika Mary\" Mowad)\"</td>\n",
       "      <td>female</td>\n",
       "      <td>19</td>\n",
       "      <td>1</td>\n",
       "      <td>1</td>\n",
       "      <td>2653</td>\n",
       "      <td>15.7417</td>\n",
       "      <td>NaN</td>\n",
       "      <td>C</td>\n",
       "    </tr>\n",
       "  </tbody>\n",
       "</table>\n",
       "</div>"
      ],
      "text/plain": [
       "    PassengerId Pclass                                               Name  \\\n",
       "91          983      3                                 Pedersen, Mr. Olaf   \n",
       "359        1251      3  Lindell, Mrs. Edvard Bengtsson (Elin Gerda Per...   \n",
       "333        1225      3              Nakid, Mrs. Said (Waika Mary\" Mowad)\"   \n",
       "\n",
       "        Sex  Age SibSp Parch  Ticket     Fare Cabin Embarked  \n",
       "91     male  NaN     0     0  345498    7.775   NaN        S  \n",
       "359  female   30     1     0  349910    15.55   NaN        S  \n",
       "333  female   19     1     1    2653  15.7417   NaN        C  "
      ]
     },
     "execution_count": 185,
     "metadata": {},
     "output_type": "execute_result"
    }
   ],
   "source": [
    "df__test.sample(n=3)"
   ]
  },
  {
   "cell_type": "markdown",
   "metadata": {},
   "source": [
    "#### 5. Basic feature engineering (using some of the relations between covariates)"
   ]
  },
  {
   "cell_type": "code",
   "execution_count": 186,
   "metadata": {},
   "outputs": [
    {
     "data": {
      "text/html": [
       "<div>\n",
       "<style scoped>\n",
       "    .dataframe tbody tr th:only-of-type {\n",
       "        vertical-align: middle;\n",
       "    }\n",
       "\n",
       "    .dataframe tbody tr th {\n",
       "        vertical-align: top;\n",
       "    }\n",
       "\n",
       "    .dataframe thead th {\n",
       "        text-align: right;\n",
       "    }\n",
       "</style>\n",
       "<table border=\"1\" class=\"dataframe\">\n",
       "  <thead>\n",
       "    <tr style=\"text-align: right;\">\n",
       "      <th></th>\n",
       "      <th>PassengerId</th>\n",
       "      <th>Pclass</th>\n",
       "      <th>Name</th>\n",
       "      <th>Sex</th>\n",
       "      <th>Age</th>\n",
       "      <th>SibSp</th>\n",
       "      <th>Parch</th>\n",
       "      <th>Ticket</th>\n",
       "      <th>Fare</th>\n",
       "      <th>Cabin</th>\n",
       "      <th>Embarked</th>\n",
       "    </tr>\n",
       "  </thead>\n",
       "  <tbody>\n",
       "    <tr>\n",
       "      <th>1067</th>\n",
       "      <td>1068</td>\n",
       "      <td>2</td>\n",
       "      <td>Sincock, Miss. Maude</td>\n",
       "      <td>female</td>\n",
       "      <td>20</td>\n",
       "      <td>0</td>\n",
       "      <td>0</td>\n",
       "      <td>C.A. 33112</td>\n",
       "      <td>36.75</td>\n",
       "      <td>NaN</td>\n",
       "      <td>S</td>\n",
       "    </tr>\n",
       "    <tr>\n",
       "      <th>1070</th>\n",
       "      <td>1071</td>\n",
       "      <td>1</td>\n",
       "      <td>Compton, Mrs. Alexander Taylor (Mary Eliza Ing...</td>\n",
       "      <td>female</td>\n",
       "      <td>64</td>\n",
       "      <td>0</td>\n",
       "      <td>2</td>\n",
       "      <td>PC 17756</td>\n",
       "      <td>83.1583</td>\n",
       "      <td>E45</td>\n",
       "      <td>C</td>\n",
       "    </tr>\n",
       "    <tr>\n",
       "      <th>5</th>\n",
       "      <td>6</td>\n",
       "      <td>3</td>\n",
       "      <td>Moran, Mr. James</td>\n",
       "      <td>male</td>\n",
       "      <td>NaN</td>\n",
       "      <td>0</td>\n",
       "      <td>0</td>\n",
       "      <td>330877</td>\n",
       "      <td>8.4583</td>\n",
       "      <td>NaN</td>\n",
       "      <td>Q</td>\n",
       "    </tr>\n",
       "  </tbody>\n",
       "</table>\n",
       "</div>"
      ],
      "text/plain": [
       "     PassengerId Pclass                                               Name  \\\n",
       "1067        1068      2                               Sincock, Miss. Maude   \n",
       "1070        1071      1  Compton, Mrs. Alexander Taylor (Mary Eliza Ing...   \n",
       "5              6      3                                   Moran, Mr. James   \n",
       "\n",
       "         Sex  Age SibSp Parch      Ticket     Fare Cabin Embarked  \n",
       "1067  female   20     0     0  C.A. 33112    36.75   NaN        S  \n",
       "1070  female   64     0     2    PC 17756  83.1583   E45        C  \n",
       "5       male  NaN     0     0      330877   8.4583   NaN        Q  "
      ]
     },
     "execution_count": 186,
     "metadata": {},
     "output_type": "execute_result"
    }
   ],
   "source": [
    "# Define an unified view of df__train and df__test\n",
    "df__titanic = pd.concat([df__train.copy(deep=True).drop(columns=[\"Survived\"]), df__test.copy(deep=True)], ignore_index=True)\n",
    "\n",
    "# Tip: samples of df__train and df__test are identified by their PassengerId\n",
    "\n",
    "df__titanic.sample(n=3)"
   ]
  },
  {
   "cell_type": "markdown",
   "metadata": {},
   "source": [
    "##### *5.1. PClass, Ticket, Cabin*"
   ]
  },
  {
   "cell_type": "code",
   "execution_count": 187,
   "metadata": {},
   "outputs": [],
   "source": [
    "# Remove \"Ticket\" and \"Cabin\" since their information can be seen as summarized in \"PClass\"\n",
    "df__titanic.drop(columns=[\"Ticket\", \"Cabin\"], inplace=True)"
   ]
  },
  {
   "cell_type": "code",
   "execution_count": 188,
   "metadata": {},
   "outputs": [
    {
     "data": {
      "text/plain": [
       "Pclass    0\n",
       "dtype: int64"
      ]
     },
     "execution_count": 188,
     "metadata": {},
     "output_type": "execute_result"
    }
   ],
   "source": [
    "# Are there missing values in \"Pclass\" ?\n",
    "df__titanic[[\"Pclass\"]].isnull().sum()"
   ]
  },
  {
   "cell_type": "code",
   "execution_count": 189,
   "metadata": {},
   "outputs": [],
   "source": [
    "# Rewrite \"PClass\" feature as \"BoardingClass\"\n",
    "# first class is the most privileged, second class is moderately privileged, and third class is the least privileged. \n",
    "dict__pclass = {\"1\": \"most privileged\", \"2\": \"moderately privileged\", \"3\": \"least privileged\"}  \n",
    "df__titanic[\"BoardingClass\"] = df__titanic[\"Pclass\"].map(dict__pclass)\n",
    "\n",
    "# Cleanup\n",
    "del df__titanic[\"Pclass\"], dict__pclass"
   ]
  },
  {
   "cell_type": "code",
   "execution_count": 190,
   "metadata": {},
   "outputs": [
    {
     "data": {
      "text/plain": [
       "<Axes: title={'center': 'BoardingClass count distribution'}, xlabel='BoardingClass'>"
      ]
     },
     "execution_count": 190,
     "metadata": {},
     "output_type": "execute_result"
    },
    {
     "data": {
      "image/png": "[encoded data removed]",
      "text/plain": [
       "<Figure size 640x480 with 1 Axes>"
      ]
     },
     "metadata": {},
     "output_type": "display_data"
    }
   ],
   "source": [
    "# Take a look at \"BoardingClass\"\n",
    "df__titanic[\"BoardingClass\"].value_counts().plot(kind=\"bar\", title=\"BoardingClass count distribution\")"
   ]
  },
  {
   "cell_type": "markdown",
   "metadata": {},
   "source": [
    "<div style=\"background-color: green; padding: 10px;\">\n",
    "Half of the passengers on the ship are least privileged people.\n",
    "</div>"
   ]
  },
  {
   "cell_type": "code",
   "execution_count": 191,
   "metadata": {},
   "outputs": [
    {
     "data": {
      "text/html": [
       "<div>\n",
       "<style scoped>\n",
       "    .dataframe tbody tr th:only-of-type {\n",
       "        vertical-align: middle;\n",
       "    }\n",
       "\n",
       "    .dataframe tbody tr th {\n",
       "        vertical-align: top;\n",
       "    }\n",
       "\n",
       "    .dataframe thead th {\n",
       "        text-align: right;\n",
       "    }\n",
       "</style>\n",
       "<table border=\"1\" class=\"dataframe\">\n",
       "  <thead>\n",
       "    <tr style=\"text-align: right;\">\n",
       "      <th></th>\n",
       "      <th>PassengerId</th>\n",
       "      <th>Name</th>\n",
       "      <th>Sex</th>\n",
       "      <th>Age</th>\n",
       "      <th>SibSp</th>\n",
       "      <th>Parch</th>\n",
       "      <th>Fare</th>\n",
       "      <th>Embarked</th>\n",
       "      <th>BoardingClass</th>\n",
       "    </tr>\n",
       "  </thead>\n",
       "  <tbody>\n",
       "    <tr>\n",
       "      <th>208</th>\n",
       "      <td>209</td>\n",
       "      <td>Carr, Miss. Helen \"Ellen\"</td>\n",
       "      <td>female</td>\n",
       "      <td>16</td>\n",
       "      <td>0</td>\n",
       "      <td>0</td>\n",
       "      <td>7.75</td>\n",
       "      <td>Q</td>\n",
       "      <td>least privileged</td>\n",
       "    </tr>\n",
       "    <tr>\n",
       "      <th>644</th>\n",
       "      <td>645</td>\n",
       "      <td>Baclini, Miss. Eugenie</td>\n",
       "      <td>female</td>\n",
       "      <td>0.75</td>\n",
       "      <td>2</td>\n",
       "      <td>1</td>\n",
       "      <td>19.2583</td>\n",
       "      <td>C</td>\n",
       "      <td>least privileged</td>\n",
       "    </tr>\n",
       "    <tr>\n",
       "      <th>1125</th>\n",
       "      <td>1126</td>\n",
       "      <td>Cumings, Mr. John Bradley</td>\n",
       "      <td>male</td>\n",
       "      <td>39</td>\n",
       "      <td>1</td>\n",
       "      <td>0</td>\n",
       "      <td>71.2833</td>\n",
       "      <td>C</td>\n",
       "      <td>most privileged</td>\n",
       "    </tr>\n",
       "  </tbody>\n",
       "</table>\n",
       "</div>"
      ],
      "text/plain": [
       "     PassengerId                       Name     Sex   Age SibSp Parch  \\\n",
       "208          209  Carr, Miss. Helen \"Ellen\"  female    16     0     0   \n",
       "644          645     Baclini, Miss. Eugenie  female  0.75     2     1   \n",
       "1125        1126  Cumings, Mr. John Bradley    male    39     1     0   \n",
       "\n",
       "         Fare Embarked     BoardingClass  \n",
       "208      7.75        Q  least privileged  \n",
       "644   19.2583        C  least privileged  \n",
       "1125  71.2833        C   most privileged  "
      ]
     },
     "execution_count": 191,
     "metadata": {},
     "output_type": "execute_result"
    }
   ],
   "source": [
    "# A view of df__titanic at this step\n",
    "df__titanic.sample(n=3)"
   ]
  },
  {
   "cell_type": "markdown",
   "metadata": {},
   "source": [
    "##### *5.2. Name, Sex, Age*"
   ]
  },
  {
   "cell_type": "code",
   "execution_count": 192,
   "metadata": {},
   "outputs": [
    {
     "data": {
      "text/plain": [
       "Sex    0\n",
       "dtype: int64"
      ]
     },
     "execution_count": 192,
     "metadata": {},
     "output_type": "execute_result"
    }
   ],
   "source": [
    "# Are there missing values in \"Sex\" ?\n",
    "df__titanic[[\"Sex\"]].isnull().sum()"
   ]
  },
  {
   "cell_type": "code",
   "execution_count": 193,
   "metadata": {},
   "outputs": [],
   "source": [
    "# Lowercase \"Name\" values, and remove periods\n",
    "df__titanic[\"Name\"] = df__titanic[\"Name\"].apply(lambda x: x.lower().replace(\".\", \"\"))"
   ]
  },
  {
   "cell_type": "markdown",
   "metadata": {},
   "source": [
    "<div style=\"background-color: green; padding: 10px;\">\n",
    "\n",
    "Research on early 20th-century naming conventions provides insights into titles incorporated in names, which often indicated age or marital status :\n",
    "\n",
    "- Adult titles : \"mr\", \"mrs\", \"sir\", \"rev\", \"capt\", \"dr\", \"col\", \"major\", \"ms\", \"mme\", \"countess\", \"don\", \"jonkheer\"\n",
    "\n",
    "- Youth titles : \"master\", \"miss\"\n",
    "\n",
    "- Ambiguous titles : \"mlle\" (used for both young girls and unmarried women)\n",
    "\n",
    "Aldulthood for men was 21; whereas for women, it was 18 or 21.\n",
    "\n",
    "</div>"
   ]
  },
  {
   "cell_type": "code",
   "execution_count": 194,
   "metadata": {},
   "outputs": [],
   "source": [
    "# Extract a \"Title\" column from \"Name\" column\n",
    "\n",
    "# Define a list of all possible titles\n",
    "list__adulttitles = [\"mr\", \"mrs\", \"sir\", \"rev\", \"capt\", \"dr\", \"col\", \"major\", \"ms\", \"mme\", \"countess\", \"don\", \"jonkheer\"]\n",
    "list__youngtitles = [\"master\", \"miss\"]\n",
    "list__ambiguoustitles = [\"mlle\"]\n",
    "list__alltitles = list__adulttitles + list__youngtitles + list__ambiguoustitles\n",
    "\n",
    "# An example of function to extract title\n",
    "def function__title(str__name: str) -> str:\n",
    "    \"\"\"\n",
    "    Input:\n",
    "    str__name : a string (real name and title)\n",
    "    Output:\n",
    "    str__title : a string (title)\n",
    "    \"\"\"\n",
    "    for str__title in list__alltitles:\n",
    "        if str__title in str__name:\n",
    "            return str__title\n",
    "\n",
    "# Apply function__title on \"Name\" column\n",
    "df__titanic[\"Title\"] = df__titanic[\"Name\"].apply(lambda x: function__title(x))\n",
    "\n",
    "# Cleanup\n",
    "del df__titanic[\"Name\"], list__alltitles"
   ]
  },
  {
   "cell_type": "code",
   "execution_count": 195,
   "metadata": {},
   "outputs": [
    {
     "data": {
      "text/plain": [
       "<Axes: title={'center': 'Title count distribution'}, xlabel='Title'>"
      ]
     },
     "execution_count": 195,
     "metadata": {},
     "output_type": "execute_result"
    },
    {
     "data": {
      "image/png": "[encoded data removed]",
      "text/plain": [
       "<Figure size 640x480 with 1 Axes>"
      ]
     },
     "metadata": {},
     "output_type": "display_data"
    }
   ],
   "source": [
    "# Take a look at \"Title\"\n",
    "df__titanic[\"Title\"].value_counts().plot(kind=\"bar\", title=\"Title count distribution\")"
   ]
  },
  {
   "cell_type": "markdown",
   "metadata": {},
   "source": [
    "<div style=\"background-color: green; padding: 10px;\">\n",
    "More than half of the passengers on the ship are adult men.\n",
    "</div>"
   ]
  },
  {
   "cell_type": "code",
   "execution_count": 196,
   "metadata": {},
   "outputs": [
    {
     "data": {
      "text/plain": [
       "Age    263\n",
       "dtype: int64"
      ]
     },
     "execution_count": 196,
     "metadata": {},
     "output_type": "execute_result"
    }
   ],
   "source": [
    "# Are there missing values in \"Age\" ?\n",
    "df__titanic[[\"Age\"]].isnull().sum()"
   ]
  },
  {
   "cell_type": "code",
   "execution_count": 197,
   "metadata": {},
   "outputs": [],
   "source": [
    "# Set \"Age\" column data type to decimal number\n",
    "df__titanic[\"Age\"] = df__titanic[\"Age\"].astype(float)"
   ]
  },
  {
   "cell_type": "markdown",
   "metadata": {},
   "source": [
    "<div style=\"background-color: green; padding: 10px;\">\n",
    "Decimals age values can be challenging to interpret. Some of the folks who worked on Titanic problem, explained that these decimals arise when ages are estimated.\n",
    "</div>"
   ]
  },
  {
   "cell_type": "code",
   "execution_count": 198,
   "metadata": {},
   "outputs": [
    {
     "name": "stdout",
     "output_type": "stream",
     "text": [
      "Of the 1309 samples, 20.09% have missing age values.\n"
     ]
    }
   ],
   "source": [
    "# Analyze the proportion of samples with missing age values\n",
    "print(f\"Of the {len(df__titanic)} samples, {(100*df__titanic[\"Age\"].isnull().sum() / len(df__titanic)):.2f}% have missing age values.\")"
   ]
  },
  {
   "cell_type": "code",
   "execution_count": 199,
   "metadata": {},
   "outputs": [],
   "source": [
    "# Define a new column \"AgeCategory\" based on \"Title\" and \"Age\"\n",
    "\n",
    "# An example of function to categorize age\n",
    "def function__agecategory(str__title: str, float__age: float, float__adulthood = 21.0) -> str:\n",
    "    \"\"\"\n",
    "    Input:\n",
    "    str__title : a string (title)\n",
    "    float__age : a decimal number (age)\n",
    "    float__adulthood : a decimal number (age value to know if adulthood is reached or not)\n",
    "    Output:\n",
    "    str__title : a string (title)\n",
    "    \"\"\"\n",
    "    # Test if age value is different of NA\n",
    "    if float__age != np.nan:\n",
    "        # Compare its value to adulthood threshold\n",
    "        if float__age < float__adulthood:\n",
    "            return \"young\"\n",
    "        else: return \"adult\"\n",
    "    \n",
    "    # Test if age value is NA\n",
    "    if float__age == np.nan:\n",
    "        # Use title to know if adulthood is reached\n",
    "        if str__title in list__adulttitles:\n",
    "            return \"adult\"\n",
    "        if str__title in list__youngtitles:\n",
    "            return \"young\"\n",
    "        if str__title in list__ambiguoustitles:\n",
    "            return \"young/adult\"\n",
    "\n",
    "# Apply function__agecategory\n",
    "df__titanic[\"AgeCategory\"] = df__titanic.apply(lambda row: function__agecategory(str__title=row[\"Title\"], float__age=row[\"Age\"]), axis=1)\n",
    "\n",
    "# Cleanup\n",
    "del df__titanic[\"Age\"], df__titanic[\"Title\"], list__adulttitles, list__youngtitles, list__ambiguoustitles"
   ]
  },
  {
   "cell_type": "code",
   "execution_count": 200,
   "metadata": {},
   "outputs": [
    {
     "data": {
      "text/plain": [
       "<Axes: title={'center': 'AgeCategory count distribution'}, xlabel='AgeCategory'>"
      ]
     },
     "execution_count": 200,
     "metadata": {},
     "output_type": "execute_result"
    },
    {
     "data": {
      "image/png": "[encoded data removed]",
      "text/plain": [
       "<Figure size 640x480 with 1 Axes>"
      ]
     },
     "metadata": {},
     "output_type": "display_data"
    }
   ],
   "source": [
    "# Take a look at \"AgeCategory\"\n",
    "df__titanic[\"AgeCategory\"].value_counts().plot(kind=\"bar\", title=\"AgeCategory count distribution\")"
   ]
  },
  {
   "cell_type": "markdown",
   "metadata": {},
   "source": [
    "<div style=\"background-color: green; padding: 10px;\">\n",
    "Since \"AgeCategory\" is a result of combining \"Title\" and \"Age\" in order to impute \"Age\" missing values, it's normal that more than half of the passengers are adults (especially adult men).\n",
    "</div>"
   ]
  },
  {
   "cell_type": "code",
   "execution_count": 201,
   "metadata": {},
   "outputs": [
    {
     "data": {
      "text/html": [
       "<div>\n",
       "<style scoped>\n",
       "    .dataframe tbody tr th:only-of-type {\n",
       "        vertical-align: middle;\n",
       "    }\n",
       "\n",
       "    .dataframe tbody tr th {\n",
       "        vertical-align: top;\n",
       "    }\n",
       "\n",
       "    .dataframe thead th {\n",
       "        text-align: right;\n",
       "    }\n",
       "</style>\n",
       "<table border=\"1\" class=\"dataframe\">\n",
       "  <thead>\n",
       "    <tr style=\"text-align: right;\">\n",
       "      <th></th>\n",
       "      <th>PassengerId</th>\n",
       "      <th>Sex</th>\n",
       "      <th>SibSp</th>\n",
       "      <th>Parch</th>\n",
       "      <th>Fare</th>\n",
       "      <th>Embarked</th>\n",
       "      <th>BoardingClass</th>\n",
       "      <th>AgeCategory</th>\n",
       "    </tr>\n",
       "  </thead>\n",
       "  <tbody>\n",
       "    <tr>\n",
       "      <th>1220</th>\n",
       "      <td>1221</td>\n",
       "      <td>male</td>\n",
       "      <td>0</td>\n",
       "      <td>0</td>\n",
       "      <td>13</td>\n",
       "      <td>S</td>\n",
       "      <td>moderately privileged</td>\n",
       "      <td>adult</td>\n",
       "    </tr>\n",
       "    <tr>\n",
       "      <th>799</th>\n",
       "      <td>800</td>\n",
       "      <td>female</td>\n",
       "      <td>1</td>\n",
       "      <td>1</td>\n",
       "      <td>24.15</td>\n",
       "      <td>S</td>\n",
       "      <td>least privileged</td>\n",
       "      <td>adult</td>\n",
       "    </tr>\n",
       "    <tr>\n",
       "      <th>862</th>\n",
       "      <td>863</td>\n",
       "      <td>female</td>\n",
       "      <td>0</td>\n",
       "      <td>0</td>\n",
       "      <td>25.9292</td>\n",
       "      <td>S</td>\n",
       "      <td>most privileged</td>\n",
       "      <td>adult</td>\n",
       "    </tr>\n",
       "  </tbody>\n",
       "</table>\n",
       "</div>"
      ],
      "text/plain": [
       "     PassengerId     Sex SibSp Parch     Fare Embarked          BoardingClass  \\\n",
       "1220        1221    male     0     0       13        S  moderately privileged   \n",
       "799          800  female     1     1    24.15        S       least privileged   \n",
       "862          863  female     0     0  25.9292        S        most privileged   \n",
       "\n",
       "     AgeCategory  \n",
       "1220       adult  \n",
       "799        adult  \n",
       "862        adult  "
      ]
     },
     "execution_count": 201,
     "metadata": {},
     "output_type": "execute_result"
    }
   ],
   "source": [
    "# A view of df__titanic at this step\n",
    "df__titanic.sample(n=3)"
   ]
  },
  {
   "cell_type": "markdown",
   "metadata": {},
   "source": [
    "##### *5.3. SibSp, ParCh, Fare*"
   ]
  },
  {
   "cell_type": "code",
   "execution_count": 202,
   "metadata": {},
   "outputs": [
    {
     "data": {
      "text/plain": [
       "SibSp    0\n",
       "dtype: int64"
      ]
     },
     "execution_count": 202,
     "metadata": {},
     "output_type": "execute_result"
    }
   ],
   "source": [
    "# Are there missing values in \"SibSp\"?\n",
    "df__titanic[[\"SibSp\"]].isnull().sum()"
   ]
  },
  {
   "cell_type": "code",
   "execution_count": 203,
   "metadata": {},
   "outputs": [
    {
     "data": {
      "text/plain": [
       "Parch    0\n",
       "dtype: int64"
      ]
     },
     "execution_count": 203,
     "metadata": {},
     "output_type": "execute_result"
    }
   ],
   "source": [
    "# Are there missing values in \"Parch\"?\n",
    "df__titanic[[\"Parch\"]].isnull().sum()"
   ]
  },
  {
   "cell_type": "code",
   "execution_count": 204,
   "metadata": {},
   "outputs": [],
   "source": [
    "# Set \"SibSp\" and \"Parch\" data type to integer\n",
    "df__titanic[[\"SibSp\",\"Parch\"]] = df__titanic[[\"SibSp\",\"Parch\"]].astype(int)\n",
    "\n",
    "# Create \"FamilySize\" by incrementing of 1 the sum of \"SibSp\" and \"Parch\" \n",
    "df__titanic[\"FamilySize\"] = df__titanic[[\"SibSp\",\"Parch\"]].sum(axis=1) + 1\n",
    "\n",
    "# Cleanup\n",
    "df__titanic.drop(columns=[\"SibSp\",\"Parch\"], inplace=True)"
   ]
  },
  {
   "cell_type": "code",
   "execution_count": 205,
   "metadata": {},
   "outputs": [
    {
     "data": {
      "text/plain": [
       "<Axes: title={'center': 'FamilySize count distribution'}, xlabel='FamilySize'>"
      ]
     },
     "execution_count": 205,
     "metadata": {},
     "output_type": "execute_result"
    },
    {
     "data": {
      "image/png": "[encoded data removed]",
      "text/plain": [
       "<Figure size 640x480 with 1 Axes>"
      ]
     },
     "metadata": {},
     "output_type": "display_data"
    }
   ],
   "source": [
    "# Take a look at \"FamilySize\"\n",
    "df__titanic[\"FamilySize\"].value_counts().plot(kind=\"bar\", title=\"FamilySize count distribution\")"
   ]
  },
  {
   "cell_type": "markdown",
   "metadata": {},
   "source": [
    "<div style=\"background-color: green; padding: 10px;\">\n",
    "\n",
    "More than half of the passengers on the ship were alone.\n",
    "\n",
    "We decide to transform \"FamilySize\" into a qualitative variable with two modalities : \"alone\", ant \"not alone\".\n",
    "\n",
    "</div>"
   ]
  },
  {
   "cell_type": "code",
   "execution_count": 206,
   "metadata": {},
   "outputs": [],
   "source": [
    "# Transform \"FamilySize\" into a qualitative variable with two modalities : \"alone\", ant \"not alone\"\n",
    "df__titanic[\"FamilySize\"] = df__titanic[\"FamilySize\"].apply(lambda x: \"alone\" if x == 1 else \"not alone\")"
   ]
  },
  {
   "cell_type": "code",
   "execution_count": 207,
   "metadata": {},
   "outputs": [
    {
     "data": {
      "text/plain": [
       "Fare    1\n",
       "dtype: int64"
      ]
     },
     "execution_count": 207,
     "metadata": {},
     "output_type": "execute_result"
    }
   ],
   "source": [
    "# Are there missing values in \"Fare\" ?\n",
    "df__titanic[[\"Fare\"]].isnull().sum()\n",
    "\n",
    "# Only one passenger \"Fare\" is missing."
   ]
  },
  {
   "cell_type": "code",
   "execution_count": 208,
   "metadata": {},
   "outputs": [
    {
     "data": {
      "text/plain": [
       "<Axes: title={'center': 'Fare distribution'}, ylabel='Frequency'>"
      ]
     },
     "execution_count": 208,
     "metadata": {},
     "output_type": "execute_result"
    },
    {
     "data": {
      "image/png": "[encoded data removed]",
      "text/plain": [
       "<Figure size 640x480 with 1 Axes>"
      ]
     },
     "metadata": {},
     "output_type": "display_data"
    }
   ],
   "source": [
    "# Set \"Fare\" data type to float\n",
    "df__titanic[\"Fare\"] = df__titanic[\"Fare\"].astype(float)\n",
    "\n",
    "# Take a look at \"Fare\"\n",
    "df__titanic[\"Fare\"].plot(kind=\"hist\", title=\"Fare distribution\")"
   ]
  },
  {
   "cell_type": "markdown",
   "metadata": {},
   "source": [
    "<div style=\"background-color: green; padding: 10px;\">\n",
    "\"Fare\" distribution is right-skewed, which is normal since most of the people were least priviliged (3rd class tickets).\n",
    "Let's dive further.\n",
    "</div>"
   ]
  },
  {
   "cell_type": "code",
   "execution_count": 209,
   "metadata": {},
   "outputs": [
    {
     "data": {
      "text/html": [
       "<div>\n",
       "<style scoped>\n",
       "    .dataframe tbody tr th:only-of-type {\n",
       "        vertical-align: middle;\n",
       "    }\n",
       "\n",
       "    .dataframe tbody tr th {\n",
       "        vertical-align: top;\n",
       "    }\n",
       "\n",
       "    .dataframe thead tr th {\n",
       "        text-align: left;\n",
       "    }\n",
       "\n",
       "    .dataframe thead tr:last-of-type th {\n",
       "        text-align: right;\n",
       "    }\n",
       "</style>\n",
       "<table border=\"1\" class=\"dataframe\">\n",
       "  <thead>\n",
       "    <tr>\n",
       "      <th></th>\n",
       "      <th colspan=\"8\" halign=\"left\">Fare</th>\n",
       "    </tr>\n",
       "    <tr>\n",
       "      <th></th>\n",
       "      <th>count</th>\n",
       "      <th>mean</th>\n",
       "      <th>std</th>\n",
       "      <th>min</th>\n",
       "      <th>25%</th>\n",
       "      <th>50%</th>\n",
       "      <th>75%</th>\n",
       "      <th>max</th>\n",
       "    </tr>\n",
       "    <tr>\n",
       "      <th>BoardingClass</th>\n",
       "      <th></th>\n",
       "      <th></th>\n",
       "      <th></th>\n",
       "      <th></th>\n",
       "      <th></th>\n",
       "      <th></th>\n",
       "      <th></th>\n",
       "      <th></th>\n",
       "    </tr>\n",
       "  </thead>\n",
       "  <tbody>\n",
       "    <tr>\n",
       "      <th>least privileged</th>\n",
       "      <td>708.0</td>\n",
       "      <td>13.302889</td>\n",
       "      <td>11.494358</td>\n",
       "      <td>0.0</td>\n",
       "      <td>7.7500</td>\n",
       "      <td>8.0500</td>\n",
       "      <td>15.2458</td>\n",
       "      <td>69.5500</td>\n",
       "    </tr>\n",
       "    <tr>\n",
       "      <th>moderately privileged</th>\n",
       "      <td>277.0</td>\n",
       "      <td>21.179196</td>\n",
       "      <td>13.607122</td>\n",
       "      <td>0.0</td>\n",
       "      <td>13.0000</td>\n",
       "      <td>15.0458</td>\n",
       "      <td>26.0000</td>\n",
       "      <td>73.5000</td>\n",
       "    </tr>\n",
       "    <tr>\n",
       "      <th>most privileged</th>\n",
       "      <td>323.0</td>\n",
       "      <td>87.508992</td>\n",
       "      <td>80.447178</td>\n",
       "      <td>0.0</td>\n",
       "      <td>30.6958</td>\n",
       "      <td>60.0000</td>\n",
       "      <td>107.6625</td>\n",
       "      <td>512.3292</td>\n",
       "    </tr>\n",
       "  </tbody>\n",
       "</table>\n",
       "</div>"
      ],
      "text/plain": [
       "                        Fare                                               \\\n",
       "                       count       mean        std  min      25%      50%   \n",
       "BoardingClass                                                               \n",
       "least privileged       708.0  13.302889  11.494358  0.0   7.7500   8.0500   \n",
       "moderately privileged  277.0  21.179196  13.607122  0.0  13.0000  15.0458   \n",
       "most privileged        323.0  87.508992  80.447178  0.0  30.6958  60.0000   \n",
       "\n",
       "                                           \n",
       "                            75%       max  \n",
       "BoardingClass                              \n",
       "least privileged        15.2458   69.5500  \n",
       "moderately privileged   26.0000   73.5000  \n",
       "most privileged        107.6625  512.3292  "
      ]
     },
     "execution_count": 209,
     "metadata": {},
     "output_type": "execute_result"
    }
   ],
   "source": [
    "# Cross \"Fare\" values with \"BoardingClass\" modalities\n",
    "df__titanic[[\"Fare\", \"BoardingClass\"]].groupby([\"BoardingClass\"], observed=False).describe()"
   ]
  },
  {
   "cell_type": "markdown",
   "metadata": {},
   "source": [
    "<div style=\"background-color: green; padding: 10px;\">\n",
    "Tickets' Fare seems to depend on \"BoardingClass\" as we thought after \"Fare\" distribution analysis. Let's confirm statistically the correlation between these two features.\n",
    "</div>"
   ]
  },
  {
   "cell_type": "code",
   "execution_count": 210,
   "metadata": {},
   "outputs": [
    {
     "data": {
      "text/plain": [
       "KruskalResult(statistic=np.float64(438.0437034212556), pvalue=np.float64(7.586096900646798e-96))"
      ]
     },
     "execution_count": 210,
     "metadata": {},
     "output_type": "execute_result"
    }
   ],
   "source": [
    "# Do a Kruskall-Wallis test between \"Fare\" and \"BoardingClass\" as a proof of high correlation between these two features\n",
    "# Don't forget to here use only training data\n",
    "\n",
    "# Do not consider the passenger with missing \"Fare\"\n",
    "df__table = df__titanic[df__titanic[\"PassengerId\"].isin(df__train[\"PassengerId\"].tolist())][[\"Fare\", \"BoardingClass\"]].copy(deep=True).dropna()\n",
    "\n",
    "# Perform a Kruskall-Wallis test with a 95% level of confidence\n",
    "kruskal(*df__table.groupby([\"BoardingClass\"], observed=False)[\"Fare\"].apply(list))"
   ]
  },
  {
   "cell_type": "markdown",
   "metadata": {},
   "source": [
    "<div style=\"background-color: green; padding: 10px;\">\n",
    "\n",
    "Based on 1308 passengers with no missing \"Fare\" value :\n",
    "- The p-value computed from a Kruskal-Wallis testbetween \"Fare\" and \"BoardingClass\" is up to 7.59e-96 (lesser than 0.05);\n",
    "- We conclude that statistically there's a correlation between these two features under a 5% risk level.\n",
    "\n",
    "Since \"Fare\" is the one with one missing value out of 1309 passengers, we'll remove it and keep only \"BoardingClass\".\n",
    "</div>"
   ]
  },
  {
   "cell_type": "code",
   "execution_count": 211,
   "metadata": {},
   "outputs": [],
   "source": [
    "# Cleanup\n",
    "del df__table, df__titanic[\"Fare\"]"
   ]
  },
  {
   "cell_type": "code",
   "execution_count": 212,
   "metadata": {},
   "outputs": [
    {
     "data": {
      "text/html": [
       "<div>\n",
       "<style scoped>\n",
       "    .dataframe tbody tr th:only-of-type {\n",
       "        vertical-align: middle;\n",
       "    }\n",
       "\n",
       "    .dataframe tbody tr th {\n",
       "        vertical-align: top;\n",
       "    }\n",
       "\n",
       "    .dataframe thead th {\n",
       "        text-align: right;\n",
       "    }\n",
       "</style>\n",
       "<table border=\"1\" class=\"dataframe\">\n",
       "  <thead>\n",
       "    <tr style=\"text-align: right;\">\n",
       "      <th></th>\n",
       "      <th>PassengerId</th>\n",
       "      <th>Sex</th>\n",
       "      <th>Embarked</th>\n",
       "      <th>BoardingClass</th>\n",
       "      <th>AgeCategory</th>\n",
       "      <th>FamilySize</th>\n",
       "    </tr>\n",
       "  </thead>\n",
       "  <tbody>\n",
       "    <tr>\n",
       "      <th>965</th>\n",
       "      <td>966</td>\n",
       "      <td>female</td>\n",
       "      <td>C</td>\n",
       "      <td>most privileged</td>\n",
       "      <td>adult</td>\n",
       "      <td>alone</td>\n",
       "    </tr>\n",
       "    <tr>\n",
       "      <th>231</th>\n",
       "      <td>232</td>\n",
       "      <td>male</td>\n",
       "      <td>S</td>\n",
       "      <td>least privileged</td>\n",
       "      <td>adult</td>\n",
       "      <td>alone</td>\n",
       "    </tr>\n",
       "    <tr>\n",
       "      <th>1134</th>\n",
       "      <td>1135</td>\n",
       "      <td>male</td>\n",
       "      <td>S</td>\n",
       "      <td>least privileged</td>\n",
       "      <td>adult</td>\n",
       "      <td>alone</td>\n",
       "    </tr>\n",
       "  </tbody>\n",
       "</table>\n",
       "</div>"
      ],
      "text/plain": [
       "     PassengerId     Sex Embarked     BoardingClass AgeCategory FamilySize\n",
       "965          966  female        C   most privileged       adult      alone\n",
       "231          232    male        S  least privileged       adult      alone\n",
       "1134        1135    male        S  least privileged       adult      alone"
      ]
     },
     "execution_count": 212,
     "metadata": {},
     "output_type": "execute_result"
    }
   ],
   "source": [
    "# A view of df__titanic at this step\n",
    "df__titanic.sample(n=3)"
   ]
  },
  {
   "cell_type": "markdown",
   "metadata": {},
   "source": [
    "##### *5.4. Embarked*"
   ]
  },
  {
   "cell_type": "code",
   "execution_count": 213,
   "metadata": {},
   "outputs": [
    {
     "data": {
      "text/plain": [
       "Embarked    2\n",
       "dtype: int64"
      ]
     },
     "execution_count": 213,
     "metadata": {},
     "output_type": "execute_result"
    }
   ],
   "source": [
    "# Are there missing values in \"Embarked\" ?\n",
    "df__titanic[[\"Embarked\"]].isnull().sum()\n",
    "\n",
    "# Two passengers' embarkation towns are missing."
   ]
  },
  {
   "cell_type": "code",
   "execution_count": 214,
   "metadata": {},
   "outputs": [
    {
     "data": {
      "text/plain": [
       "<Axes: title={'center': 'Embarked count distribution'}, xlabel='Embarked'>"
      ]
     },
     "execution_count": 214,
     "metadata": {},
     "output_type": "execute_result"
    },
    {
     "data": {
      "image/png": "[encoded data removed]",
      "text/plain": [
       "<Figure size 640x480 with 1 Axes>"
      ]
     },
     "metadata": {},
     "output_type": "display_data"
    }
   ],
   "source": [
    "# Take a look at \"Embarked\"\n",
    "df__titanic[\"Embarked\"].value_counts().plot(kind=\"bar\", title=\"Embarked count distribution\")"
   ]
  },
  {
   "cell_type": "markdown",
   "metadata": {},
   "source": [
    "<div style=\"background-color: green; padding: 10px;\">\n",
    "More than half of the passengers on the ship were and/or embarked from Southampton (S).\n",
    "</div>"
   ]
  },
  {
   "cell_type": "code",
   "execution_count": 215,
   "metadata": {},
   "outputs": [],
   "source": [
    "# We choose to impute the most present modality to these two passengers with missing embarkation towns\n",
    "df__titanic[\"Embarked\"] = df__titanic[\"Embarked\"].fillna(value=df__titanic[\"Embarked\"].mode()[0], inplace=False)"
   ]
  },
  {
   "cell_type": "code",
   "execution_count": 216,
   "metadata": {},
   "outputs": [
    {
     "data": {
      "text/html": [
       "<div>\n",
       "<style scoped>\n",
       "    .dataframe tbody tr th:only-of-type {\n",
       "        vertical-align: middle;\n",
       "    }\n",
       "\n",
       "    .dataframe tbody tr th {\n",
       "        vertical-align: top;\n",
       "    }\n",
       "\n",
       "    .dataframe thead th {\n",
       "        text-align: right;\n",
       "    }\n",
       "</style>\n",
       "<table border=\"1\" class=\"dataframe\">\n",
       "  <thead>\n",
       "    <tr style=\"text-align: right;\">\n",
       "      <th></th>\n",
       "      <th>PassengerId</th>\n",
       "      <th>Sex</th>\n",
       "      <th>Embarked</th>\n",
       "      <th>BoardingClass</th>\n",
       "      <th>AgeCategory</th>\n",
       "      <th>FamilySize</th>\n",
       "    </tr>\n",
       "  </thead>\n",
       "  <tbody>\n",
       "    <tr>\n",
       "      <th>699</th>\n",
       "      <td>700</td>\n",
       "      <td>male</td>\n",
       "      <td>S</td>\n",
       "      <td>least privileged</td>\n",
       "      <td>adult</td>\n",
       "      <td>alone</td>\n",
       "    </tr>\n",
       "    <tr>\n",
       "      <th>1258</th>\n",
       "      <td>1259</td>\n",
       "      <td>female</td>\n",
       "      <td>S</td>\n",
       "      <td>least privileged</td>\n",
       "      <td>adult</td>\n",
       "      <td>alone</td>\n",
       "    </tr>\n",
       "    <tr>\n",
       "      <th>800</th>\n",
       "      <td>801</td>\n",
       "      <td>male</td>\n",
       "      <td>S</td>\n",
       "      <td>moderately privileged</td>\n",
       "      <td>adult</td>\n",
       "      <td>alone</td>\n",
       "    </tr>\n",
       "  </tbody>\n",
       "</table>\n",
       "</div>"
      ],
      "text/plain": [
       "     PassengerId     Sex Embarked          BoardingClass AgeCategory  \\\n",
       "699          700    male        S       least privileged       adult   \n",
       "1258        1259  female        S       least privileged       adult   \n",
       "800          801    male        S  moderately privileged       adult   \n",
       "\n",
       "     FamilySize  \n",
       "699       alone  \n",
       "1258      alone  \n",
       "800       alone  "
      ]
     },
     "execution_count": 216,
     "metadata": {},
     "output_type": "execute_result"
    }
   ],
   "source": [
    "# A view of df__titanic at this step\n",
    "df__titanic.sample(n=3)"
   ]
  },
  {
   "cell_type": "markdown",
   "metadata": {},
   "source": [
    "##### *5.5. Retrieve engineered versions of df__train and df__test*"
   ]
  },
  {
   "cell_type": "code",
   "execution_count": 217,
   "metadata": {},
   "outputs": [],
   "source": [
    "# Get engineered version of df__train\n",
    "df__engtrain = df__train[[\"PassengerId\", \"Survived\"]].merge(right=df__titanic, on=[\"PassengerId\"], how=\"left\")\n",
    "\n",
    "# Make sure that \"Survived\" data type is set to integer\n",
    "df__engtrain[\"Survived\"] = df__engtrain[\"Survived\"].astype(int)\n",
    "\n",
    "# Get engineered version of df__test\n",
    "df__engtest = df__test[[\"PassengerId\"]].merge(right=df__titanic, on=[\"PassengerId\"], how=\"left\")\n",
    "\n",
    "# Cleanup\n",
    "del df__titanic"
   ]
  },
  {
   "cell_type": "code",
   "execution_count": 218,
   "metadata": {},
   "outputs": [
    {
     "data": {
      "text/plain": [
       "PassengerId      0\n",
       "Survived         0\n",
       "Sex              0\n",
       "Embarked         0\n",
       "BoardingClass    0\n",
       "AgeCategory      0\n",
       "FamilySize       0\n",
       "dtype: int64"
      ]
     },
     "execution_count": 218,
     "metadata": {},
     "output_type": "execute_result"
    }
   ],
   "source": [
    "# Make sure joins and feature engineering worked well so no missing values are present in df__engtrain\n",
    "df__engtrain.isnull().sum()"
   ]
  },
  {
   "cell_type": "code",
   "execution_count": 219,
   "metadata": {},
   "outputs": [],
   "source": [
    "# Get all groups of identic PassengerId in characteristics\n",
    "list__groups = df__engtrain.copy(deep=True).groupby(df__engtrain.columns[~(df__engtrain.columns.isin([\"PassengerId\"]))].tolist())[\"PassengerId\"].apply(list)\n",
    "\n",
    "df__engtrain[\"SimilarPassengerIds\"] = \"\"\n",
    "# Go through to each PassengerId in df__engtrain\n",
    "for str__passengerid in df__engtrain[\"PassengerId\"].tolist():\n",
    "    # Go through to each list in list__groups\n",
    "    for list__group in list__groups:\n",
    "        # Get str__passengerid group\n",
    "        if str__passengerid in list__group:\n",
    "            df__engtrain.loc[df__engtrain[\"PassengerId\"] == str__passengerid, \"SimilarPassengerIds\"] = \"__\".join(list__group)\n",
    "            break\n",
    "\n",
    "# Cleanup\n",
    "del list__groups, str__passengerid, list__group"
   ]
  },
  {
   "cell_type": "code",
   "execution_count": 220,
   "metadata": {},
   "outputs": [],
   "source": [
    "# Remove \"PassengerId\" column, then remove duplicate rows\n",
    "del df__engtrain[\"PassengerId\"]\n",
    "df__engtrain.drop_duplicates(inplace=True)\n",
    "\n",
    "# Reset index values\n",
    "df__engtrain.reset_index(inplace=True,drop=True)"
   ]
  },
  {
   "cell_type": "code",
   "execution_count": 221,
   "metadata": {},
   "outputs": [
    {
     "data": {
      "text/plain": [
       "PassengerId      0\n",
       "Sex              0\n",
       "Embarked         0\n",
       "BoardingClass    0\n",
       "AgeCategory      0\n",
       "FamilySize       0\n",
       "dtype: int64"
      ]
     },
     "execution_count": 221,
     "metadata": {},
     "output_type": "execute_result"
    }
   ],
   "source": [
    "# Make sure joins and feature engineering worked well so no missing values are present in df__engtest\n",
    "df__engtest.isnull().sum()"
   ]
  },
  {
   "cell_type": "code",
   "execution_count": 222,
   "metadata": {},
   "outputs": [
    {
     "data": {
      "text/plain": [
       "91"
      ]
     },
     "execution_count": 222,
     "metadata": {},
     "output_type": "execute_result"
    }
   ],
   "source": [
    "# Empty garbage collector\n",
    "gc.collect()"
   ]
  },
  {
   "cell_type": "markdown",
   "metadata": {},
   "source": [
    "#### 6. Advanced feature engineering (using all possible relations between covariates and the target Survived)"
   ]
  },
  {
   "cell_type": "markdown",
   "metadata": {},
   "source": [
    "##### *6.1. Sex and Survived*"
   ]
  },
  {
   "cell_type": "code",
   "execution_count": 223,
   "metadata": {},
   "outputs": [
    {
     "data": {
      "image/png": "[encoded data removed]",
      "text/plain": [
       "<Figure size 1000x600 with 1 Axes>"
      ]
     },
     "metadata": {},
     "output_type": "display_data"
    }
   ],
   "source": [
    "# Create a cross-tab between \"Sex\" and \"Survived\"\n",
    "df__table = 100 * pd.crosstab(df__engtrain[\"Sex\"], df__engtrain[\"Survived\"], normalize=\"index\")\n",
    "\n",
    "# Create the stacked bar chart\n",
    "ax__object = df__table.plot(kind=\"bar\", stacked=True, figsize=(10, 6))\n",
    "\n",
    "# Customize the chart\n",
    "plt.title(\"Survival Rates by Sex on Titanic\", fontsize=16)\n",
    "plt.xlabel(\"Sex\", fontsize=12)\n",
    "plt.ylabel(\"Percentage\", fontsize=12)\n",
    "plt.legend([\"Did Not Survive\", \"Survived\"], title=\"Survival\", loc=\"upper right\")\n",
    "\n",
    "# Add value labels on the bars, rounded to two decimal places\n",
    "for barcontainer__object in ax__object.containers:\n",
    "    ax__object.bar_label(barcontainer__object, label_type=\"center\", fmt=\"%.2f\")\n",
    "\n",
    "# Adjust layout and display\n",
    "plt.tight_layout()\n",
    "plt.show()"
   ]
  },
  {
   "cell_type": "code",
   "execution_count": 224,
   "metadata": {},
   "outputs": [],
   "source": [
    "# Cleanup\n",
    "del df__table, ax__object, barcontainer__object"
   ]
  },
  {
   "cell_type": "code",
   "execution_count": 225,
   "metadata": {},
   "outputs": [
    {
     "data": {
      "text/plain": [
       "Chi2ContingencyResult(statistic=np.float64(2.672366881735676), pvalue=np.float64(0.10210407566357733), dof=1, expected_freq=array([[19.37362637, 23.62637363],\n",
       "       [21.62637363, 26.37362637]]))"
      ]
     },
     "execution_count": 225,
     "metadata": {},
     "output_type": "execute_result"
    }
   ],
   "source": [
    "# Perform a Chi-Square test (risk level of 5%) between \"Sex\" and \"Survived\"\n",
    "chi2_contingency(pd.crosstab(df__engtrain[\"Sex\"], df__engtrain[\"Survived\"]))"
   ]
  },
  {
   "cell_type": "code",
   "execution_count": 226,
   "metadata": {},
   "outputs": [
    {
     "data": {
      "text/plain": [
       "np.float64(0.17136705934940463)"
      ]
     },
     "execution_count": 226,
     "metadata": {},
     "output_type": "execute_result"
    }
   ],
   "source": [
    "# Calculate Cramer's V : strength of the association between \"Sex\" and \"Survived\"\n",
    "df__table = pd.crosstab(df__engtrain[\"Sex\"], df__engtrain[\"Survived\"])\n",
    "np.sqrt(chi2_contingency(df__table)[0] / (df__table.sum().sum() * (min(df__table.shape) - 1)))"
   ]
  },
  {
   "cell_type": "code",
   "execution_count": 227,
   "metadata": {},
   "outputs": [],
   "source": [
    "# Cleanup\n",
    "del df__table"
   ]
  },
  {
   "cell_type": "markdown",
   "metadata": {},
   "source": [
    "<div style=\"background-color: green; padding: 10px;\">\n",
    "\n",
    "- The p-value of the Chi-Square test between \"Sex\" and \"Survived\" is up to 0.1 (a little higher than 0.05).\n",
    "- The strength of the association between \"Sex\" and \"Survived\" is only up to 17%.\n",
    "- Under a risk level of 5%, there's no enough proof to attest that the survival rate of a passenger on the Titanic is statistically linked to him being a man/woman.\n",
    "\n",
    "</div>"
   ]
  },
  {
   "cell_type": "markdown",
   "metadata": {},
   "source": [
    "##### *6.2. Embarked and Survived*"
   ]
  },
  {
   "cell_type": "code",
   "execution_count": 228,
   "metadata": {},
   "outputs": [
    {
     "data": {
      "image/png": "[encoded data removed]",
      "text/plain": [
       "<Figure size 1000x600 with 1 Axes>"
      ]
     },
     "metadata": {},
     "output_type": "display_data"
    }
   ],
   "source": [
    "# Create a cross-tab between \"Embarked\" and \"Survived\"\n",
    "df__table = 100 * pd.crosstab(df__engtrain[\"Embarked\"], df__engtrain[\"Survived\"], normalize=\"index\")\n",
    "\n",
    "# Create the stacked bar chart\n",
    "ax__object = df__table.plot(kind=\"bar\", stacked=True, figsize=(10, 6))\n",
    "\n",
    "# Customize the chart\n",
    "plt.title(\"Survival Rates by Embarkation Origin on Titanic\", fontsize=16)\n",
    "plt.xlabel(\"Embarked\", fontsize=12)\n",
    "plt.ylabel(\"Percentage\", fontsize=12)\n",
    "plt.legend([\"Did Not Survive\", \"Survived\"], title=\"Survival\", loc=\"upper right\")\n",
    "\n",
    "# Add value labels on the bars, rounded to two decimal places\n",
    "for barcontainer__object in ax__object.containers:\n",
    "    ax__object.bar_label(barcontainer__object, label_type=\"center\", fmt=\"%.2f\")\n",
    "\n",
    "# Adjust layout and display\n",
    "plt.tight_layout()\n",
    "plt.show()"
   ]
  },
  {
   "cell_type": "code",
   "execution_count": 229,
   "metadata": {},
   "outputs": [],
   "source": [
    "# Cleanup\n",
    "del df__table, ax__object, barcontainer__object"
   ]
  },
  {
   "cell_type": "code",
   "execution_count": 230,
   "metadata": {},
   "outputs": [
    {
     "data": {
      "text/plain": [
       "Chi2ContingencyResult(statistic=np.float64(1.2377984109386553), pvalue=np.float64(0.5385369299357192), dof=2, expected_freq=array([[14.86813187, 18.13186813],\n",
       "       [ 7.20879121,  8.79120879],\n",
       "       [18.92307692, 23.07692308]]))"
      ]
     },
     "execution_count": 230,
     "metadata": {},
     "output_type": "execute_result"
    }
   ],
   "source": [
    "# Perform a Chi-Square test (risk level of 5%) between \"Embarked\" and \"Survived\"\n",
    "chi2_contingency(pd.crosstab(df__engtrain[\"Embarked\"], df__engtrain[\"Survived\"]))"
   ]
  },
  {
   "cell_type": "code",
   "execution_count": 231,
   "metadata": {},
   "outputs": [
    {
     "data": {
      "text/plain": [
       "np.float64(0.11662838565282992)"
      ]
     },
     "execution_count": 231,
     "metadata": {},
     "output_type": "execute_result"
    }
   ],
   "source": [
    "# Calculate Cramer's V : strength of the association between \"Embarked\" and \"Survived\"\n",
    "df__table = pd.crosstab(df__engtrain[\"Embarked\"], df__engtrain[\"Survived\"])\n",
    "np.sqrt(chi2_contingency(df__table)[0] / (df__table.sum().sum() * (min(df__table.shape) - 1)))"
   ]
  },
  {
   "cell_type": "code",
   "execution_count": 232,
   "metadata": {},
   "outputs": [],
   "source": [
    "# Cleanup\n",
    "del df__table"
   ]
  },
  {
   "cell_type": "markdown",
   "metadata": {},
   "source": [
    "<div style=\"background-color: green; padding: 10px;\">\n",
    "\n",
    "- The p-value of the Chi-Square test between \"Embarked\" and \"Survived\" is up to 0.54 (higher than 0.05).\n",
    "- The strength of the association between \"Embarked\" and \"Survived\" is only up to 12%.\n",
    "- Under a risk level of 5%, there's no enough proof to attest that the survival rate of a passenger on the Titanic is statistically linked to his embarkation point.\n",
    "\n",
    "</div>"
   ]
  },
  {
   "cell_type": "markdown",
   "metadata": {},
   "source": [
    "##### *6.3. BoardingClass and Survived*"
   ]
  },
  {
   "cell_type": "code",
   "execution_count": 233,
   "metadata": {},
   "outputs": [
    {
     "data": {
      "image/png": "[encoded data removed]",
      "text/plain": [
       "<Figure size 1000x600 with 1 Axes>"
      ]
     },
     "metadata": {},
     "output_type": "display_data"
    }
   ],
   "source": [
    "# Create a cross-tab between \"BoardingClass\" and \"Survived\"\n",
    "df__table = 100 * pd.crosstab(df__engtrain[\"BoardingClass\"], df__engtrain[\"Survived\"], normalize=\"index\")\n",
    "\n",
    "# Create the stacked bar chart\n",
    "ax__object = df__table.plot(kind=\"bar\", stacked=True, figsize=(10, 6))\n",
    "\n",
    "# Customize the chart\n",
    "plt.title(\"Survival Rates by Boarding Class on Titanic\", fontsize=16)\n",
    "plt.xlabel(\"BoardingClass\", fontsize=12)\n",
    "plt.ylabel(\"Percentage\", fontsize=12)\n",
    "plt.legend([\"Did Not Survive\", \"Survived\"], title=\"Survival\", loc=\"upper right\")\n",
    "\n",
    "# Add value labels on the bars, rounded to two decimal places\n",
    "for barcontainer__object in ax__object.containers:\n",
    "    ax__object.bar_label(barcontainer__object, label_type=\"center\", fmt=\"%.2f\")\n",
    "\n",
    "# Adjust layout and display\n",
    "plt.tight_layout()\n",
    "plt.show()"
   ]
  },
  {
   "cell_type": "code",
   "execution_count": 234,
   "metadata": {},
   "outputs": [],
   "source": [
    "# Cleanup\n",
    "del df__table, ax__object, barcontainer__object"
   ]
  },
  {
   "cell_type": "code",
   "execution_count": 235,
   "metadata": {},
   "outputs": [
    {
     "data": {
      "text/plain": [
       "Chi2ContingencyResult(statistic=np.float64(1.3126522026848189), pvalue=np.float64(0.5187536862997854), dof=2, expected_freq=array([[19.37362637, 23.62637363],\n",
       "       [10.81318681, 13.18681319],\n",
       "       [10.81318681, 13.18681319]]))"
      ]
     },
     "execution_count": 235,
     "metadata": {},
     "output_type": "execute_result"
    }
   ],
   "source": [
    "# Perform a Chi-Square test (risk level of 5%) between \"BoardingClass\" and \"Survived\"\n",
    "chi2_contingency(pd.crosstab(df__engtrain[\"BoardingClass\"], df__engtrain[\"Survived\"]))"
   ]
  },
  {
   "cell_type": "code",
   "execution_count": 236,
   "metadata": {},
   "outputs": [
    {
     "data": {
      "text/plain": [
       "np.float64(0.12010307856192927)"
      ]
     },
     "execution_count": 236,
     "metadata": {},
     "output_type": "execute_result"
    }
   ],
   "source": [
    "# Calculate Cramer's V : strength of the association between \"BoardingClass\" and \"Survived\"\n",
    "df__table = pd.crosstab(df__engtrain[\"BoardingClass\"], df__engtrain[\"Survived\"])\n",
    "np.sqrt(chi2_contingency(df__table)[0] / (df__table.sum().sum() * (min(df__table.shape) - 1)))"
   ]
  },
  {
   "cell_type": "code",
   "execution_count": 237,
   "metadata": {},
   "outputs": [],
   "source": [
    "# Cleanup\n",
    "del df__table"
   ]
  },
  {
   "cell_type": "markdown",
   "metadata": {},
   "source": [
    "<div style=\"background-color: green; padding: 10px;\">\n",
    "\n",
    "- The p-value of the Chi-Square test between \"BoardingClass\" and \"Survived\" is up to 0.52 (higher than 0.05).\n",
    "- The strength of the association between \"BoardingClass\" and \"Survived\" is only up to 12%.\n",
    "- Under a risk level of 5%, there's no enough proof to attest that the survival rate of a passenger on the Titanic is statistically linked to his boarding class.\n",
    "\n",
    "</div>"
   ]
  },
  {
   "cell_type": "markdown",
   "metadata": {},
   "source": [
    "##### *6.4. AgeCategory and Survived*"
   ]
  },
  {
   "cell_type": "code",
   "execution_count": 238,
   "metadata": {},
   "outputs": [
    {
     "data": {
      "image/png": "[encoded data removed]",
      "text/plain": [
       "<Figure size 1000x600 with 1 Axes>"
      ]
     },
     "metadata": {},
     "output_type": "display_data"
    }
   ],
   "source": [
    "# Create a cross-tab between \"AgeCategory\" and \"Survived\"\n",
    "df__table = 100 * pd.crosstab(df__engtrain[\"AgeCategory\"], df__engtrain[\"Survived\"], normalize=\"index\")\n",
    "\n",
    "# Create the stacked bar chart\n",
    "ax__object = df__table.plot(kind=\"bar\", stacked=True, figsize=(10, 6))\n",
    "\n",
    "# Customize the chart\n",
    "plt.title(\"Survival Rates by Age Category on Titanic\", fontsize=16)\n",
    "plt.xlabel(\"AgeCategory\", fontsize=12)\n",
    "plt.ylabel(\"Percentage\", fontsize=12)\n",
    "plt.legend([\"Did Not Survive\", \"Survived\"], title=\"Survival\", loc=\"upper right\")\n",
    "\n",
    "# Add value labels on the bars, rounded to two decimal places\n",
    "for barcontainer__object in ax__object.containers:\n",
    "    ax__object.bar_label(barcontainer__object, label_type=\"center\", fmt=\"%.2f\")\n",
    "\n",
    "# Adjust layout and display\n",
    "plt.tight_layout()\n",
    "plt.show()"
   ]
  },
  {
   "cell_type": "code",
   "execution_count": 239,
   "metadata": {},
   "outputs": [],
   "source": [
    "# Cleanup\n",
    "del df__table, ax__object, barcontainer__object"
   ]
  },
  {
   "cell_type": "code",
   "execution_count": 240,
   "metadata": {},
   "outputs": [
    {
     "data": {
      "text/plain": [
       "Chi2ContingencyResult(statistic=np.float64(0.005337715764545107), pvalue=np.float64(0.9417586324398239), dof=1, expected_freq=array([[24.32967033, 29.67032967],\n",
       "       [16.67032967, 20.32967033]]))"
      ]
     },
     "execution_count": 240,
     "metadata": {},
     "output_type": "execute_result"
    }
   ],
   "source": [
    "# Perform a Chi-Square test (risk level of 5%) between \"AgeCategory\" and \"Survived\"\n",
    "chi2_contingency(pd.crosstab(df__engtrain[\"AgeCategory\"], df__engtrain[\"Survived\"]))"
   ]
  },
  {
   "cell_type": "code",
   "execution_count": 241,
   "metadata": {},
   "outputs": [
    {
     "data": {
      "text/plain": [
       "np.float64(0.007658734699204782)"
      ]
     },
     "execution_count": 241,
     "metadata": {},
     "output_type": "execute_result"
    }
   ],
   "source": [
    "# Calculate Cramer's V : strength of the association between \"AgeCategory\" and \"Survived\"\n",
    "df__table = pd.crosstab(df__engtrain[\"AgeCategory\"], df__engtrain[\"Survived\"])\n",
    "np.sqrt(chi2_contingency(df__table)[0] / (df__table.sum().sum() * (min(df__table.shape) - 1)))"
   ]
  },
  {
   "cell_type": "code",
   "execution_count": 242,
   "metadata": {},
   "outputs": [],
   "source": [
    "# Cleanup\n",
    "del df__table"
   ]
  },
  {
   "cell_type": "markdown",
   "metadata": {},
   "source": [
    "<div style=\"background-color: green; padding: 10px;\">\n",
    "\n",
    "- The p-value of the Chi-Square test between \"AgeCategory\" and \"Survived\" is up to 0.94 (higher than 0.05).\n",
    "- The strength of the association between \"AgeCategory\" and \"Survived\" is less than 1%.\n",
    "- Under a risk level of 5%, there's no enough proof to attest that the survival rate of a passenger on the Titanic is statistically linked to him being young or adult.\n",
    "\n",
    "</div>"
   ]
  },
  {
   "cell_type": "markdown",
   "metadata": {},
   "source": [
    "##### *6.5. FamilySize and Survived*"
   ]
  },
  {
   "cell_type": "code",
   "execution_count": 243,
   "metadata": {},
   "outputs": [
    {
     "data": {
      "image/png": "[encoded data removed]",
      "text/plain": [
       "<Figure size 1000x600 with 1 Axes>"
      ]
     },
     "metadata": {},
     "output_type": "display_data"
    }
   ],
   "source": [
    "# Create a cross-tab between \"FamilySize\" and \"Survived\"\n",
    "df__table = 100 * pd.crosstab(df__engtrain[\"FamilySize\"], df__engtrain[\"Survived\"], normalize=\"index\")\n",
    "\n",
    "# Create the stacked bar chart\n",
    "ax__object = df__table.plot(kind=\"bar\", stacked=True, figsize=(10, 6))\n",
    "\n",
    "# Customize the chart\n",
    "plt.title(\"Survival Rates by Family Size on Titanic\", fontsize=16)\n",
    "plt.xlabel(\"FamilySize\", fontsize=12)\n",
    "plt.ylabel(\"Percentage\", fontsize=12)\n",
    "plt.legend([\"Did Not Survive\", \"Survived\"], title=\"Survival\", loc=\"upper right\")\n",
    "\n",
    "# Add value labels on the bars, rounded to two decimal places\n",
    "for barcontainer__object in ax__object.containers:\n",
    "    ax__object.bar_label(barcontainer__object, label_type=\"center\", fmt=\"%.2f\")\n",
    "\n",
    "# Adjust layout and display\n",
    "plt.tight_layout()\n",
    "plt.show()"
   ]
  },
  {
   "cell_type": "code",
   "execution_count": 244,
   "metadata": {},
   "outputs": [],
   "source": [
    "# Cleanup\n",
    "del df__table, ax__object, barcontainer__object"
   ]
  },
  {
   "cell_type": "code",
   "execution_count": 245,
   "metadata": {},
   "outputs": [
    {
     "data": {
      "text/plain": [
       "Chi2ContingencyResult(statistic=np.float64(0.0), pvalue=np.float64(1.0), dof=1, expected_freq=array([[19.37362637, 23.62637363],\n",
       "       [21.62637363, 26.37362637]]))"
      ]
     },
     "execution_count": 245,
     "metadata": {},
     "output_type": "execute_result"
    }
   ],
   "source": [
    "# Perform a Chi-Square test (risk level of 5%) between \"FamilySize\" and \"Survived\"\n",
    "chi2_contingency(pd.crosstab(df__engtrain[\"FamilySize\"], df__engtrain[\"Survived\"]))"
   ]
  },
  {
   "cell_type": "code",
   "execution_count": 246,
   "metadata": {},
   "outputs": [
    {
     "data": {
      "text/plain": [
       "np.float64(0.0)"
      ]
     },
     "execution_count": 246,
     "metadata": {},
     "output_type": "execute_result"
    }
   ],
   "source": [
    "# Calculate Cramer's V : strength of the association between \"FamilySize\" and \"Survived\"\n",
    "df__table = pd.crosstab(df__engtrain[\"FamilySize\"], df__engtrain[\"Survived\"])\n",
    "np.sqrt(chi2_contingency(df__table)[0] / (df__table.sum().sum() * (min(df__table.shape) - 1)))"
   ]
  },
  {
   "cell_type": "code",
   "execution_count": 247,
   "metadata": {},
   "outputs": [],
   "source": [
    "# Cleanup\n",
    "del df__table"
   ]
  },
  {
   "cell_type": "markdown",
   "metadata": {},
   "source": [
    "<div style=\"background-color: green; padding: 10px;\">\n",
    "\n",
    "- The p-value of the Chi-Square test between \"FamilySize\" and \"Survived\" is up to 1 (higher than 0.05).\n",
    "- The strength of the association between \"FamilySize\" and \"Survived\" is estimated at 0%.\n",
    "- Under a risk level of 5%, there's no enough proof to attest that the survival rate of a passenger on the Titanic is statistically linked to his family size.\n",
    "\n",
    "</div>"
   ]
  },
  {
   "cell_type": "code",
   "execution_count": 248,
   "metadata": {},
   "outputs": [],
   "source": [
    "# Order \"FamilySize\" modalities\n",
    "df__engtrain[\"FamilySize\"] = pd.Categorical(df__engtrain[\"FamilySize\"], categories=[\"not alone\", \"alone\"], ordered=True) "
   ]
  },
  {
   "cell_type": "code",
   "execution_count": 249,
   "metadata": {},
   "outputs": [],
   "source": [
    "# Don't forget to apply the same transformation on the test data\n",
    "df__engtest[\"FamilySize\"] = pd.Categorical(df__engtest[\"FamilySize\"], categories=[\"not alone\", \"alone\"], ordered=True)"
   ]
  },
  {
   "cell_type": "markdown",
   "metadata": {},
   "source": [
    "##### *6.6. Make sure correlations between covariates are low*"
   ]
  },
  {
   "cell_type": "code",
   "execution_count": 250,
   "metadata": {},
   "outputs": [
    {
     "name": "stdout",
     "output_type": "stream",
     "text": [
      "The p-value is 0.95\n",
      "The strength of the association is 0.03\n"
     ]
    }
   ],
   "source": [
    "# Cross-tab between \"Sex\" and \"Embarked\"\n",
    "df__table = pd.crosstab(df__engtrain[\"Sex\"], df__engtrain[\"Embarked\"])\n",
    "\n",
    "# Perform a Chi-Square test (risk level of 5%) between \"Sex\" and \"Embarked\"\n",
    "print(f\"The p-value is {chi2_contingency(df__table)[1]:.2f}\")\n",
    "\n",
    "# Calculate Cramer's V : strength of the association between \"Sex\" and \"Embarked\"\n",
    "print(f\"The strength of the association is {np.sqrt(chi2_contingency(df__table)[0] / (df__table.sum().sum() * (min(df__table.shape) - 1))):.2f}\")\n",
    "\n",
    "# Cleanup\n",
    "del df__table"
   ]
  },
  {
   "cell_type": "markdown",
   "metadata": {},
   "source": [
    "<div style=\"background-color: green; padding: 10px;\">\n",
    "Statistically, we can assume there's no correlation between \"Sex\" and \"Embarked\".\n",
    "</div>"
   ]
  },
  {
   "cell_type": "code",
   "execution_count": 251,
   "metadata": {},
   "outputs": [
    {
     "name": "stdout",
     "output_type": "stream",
     "text": [
      "The p-value is 0.96\n",
      "The strength of the association is 0.03\n"
     ]
    }
   ],
   "source": [
    "# Cross-tab between \"Sex\" and \"BoardingClass\"\n",
    "df__table = pd.crosstab(df__engtrain[\"Sex\"], df__engtrain[\"BoardingClass\"])\n",
    "\n",
    "# Perform a Chi-Square test (risk level of 5%) between \"Sex\" and \"BoardingClass\"\n",
    "print(f\"The p-value is {chi2_contingency(df__table)[1]:.2f}\")\n",
    "\n",
    "# Calculate Cramer's V for effect size : strength of the association between \"Sex\" and \"BoardingClass\"\n",
    "print(f\"The strength of the association is {np.sqrt(chi2_contingency(df__table)[0] / (df__table.sum().sum() * (min(df__table.shape) - 1))):.2f}\")\n",
    "\n",
    "# Cleanup\n",
    "del df__table"
   ]
  },
  {
   "cell_type": "markdown",
   "metadata": {},
   "source": [
    "<div style=\"background-color: green; padding: 10px;\">\n",
    "Statistically, we can assume there's no correlation between \"Sex\" and \"BoardingClass\".\n",
    "</div>"
   ]
  },
  {
   "cell_type": "code",
   "execution_count": 252,
   "metadata": {},
   "outputs": [
    {
     "name": "stdout",
     "output_type": "stream",
     "text": [
      "The p-value is 0.99\n",
      "The strength of the association is 0.00\n"
     ]
    }
   ],
   "source": [
    "# Cross-tab between \"Sex\" and \"AgeCategory\"\n",
    "df__table = pd.crosstab(df__engtrain[\"Sex\"], df__engtrain[\"AgeCategory\"])\n",
    "\n",
    "# Perform a Chi-Square test (risk level of 5%) between \"Sex\" and \"AgeCategory\"\n",
    "print(f\"The p-value is {chi2_contingency(df__table)[1]:.2f}\")\n",
    "\n",
    "# Calculate Cramer's V for effect size : strength of the association between \"Sex\" and \"AgeCategory\"\n",
    "print(f\"The strength of the association is {np.sqrt(chi2_contingency(df__table)[0] / (df__table.sum().sum() * (min(df__table.shape) - 1))):.2f}\")\n",
    "\n",
    "# Cleanup\n",
    "del df__table"
   ]
  },
  {
   "cell_type": "markdown",
   "metadata": {},
   "source": [
    "<div style=\"background-color: green; padding: 10px;\">\n",
    "Statistically, we can assume there's no correlation between \"Sex\" and \"AgeCategory\".\n",
    "</div>"
   ]
  },
  {
   "cell_type": "code",
   "execution_count": 253,
   "metadata": {},
   "outputs": [
    {
     "name": "stdout",
     "output_type": "stream",
     "text": [
      "The p-value is 0.94\n",
      "The strength of the association is 0.01\n"
     ]
    }
   ],
   "source": [
    "# Cross-tab between \"Sex\" and \"FamilySize\"\n",
    "df__table = pd.crosstab(df__engtrain[\"Sex\"], df__engtrain[\"FamilySize\"])\n",
    "\n",
    "# Perform a Chi-Square test (risk level of 5%) between \"Sex\" and \"FamilySize\"\n",
    "print(f\"The p-value is {chi2_contingency(df__table)[1]:.2f}\")\n",
    "\n",
    "# Calculate Cramer's V for effect size : strength of the association between \"Sex\" and \"FamilySize\"\n",
    "print(f\"The strength of the association is {np.sqrt(chi2_contingency(df__table)[0] / (df__table.sum().sum() * (min(df__table.shape) - 1))):.2f}\")\n",
    "\n",
    "# Cleanup\n",
    "del df__table"
   ]
  },
  {
   "cell_type": "markdown",
   "metadata": {},
   "source": [
    "<div style=\"background-color: green; padding: 10px;\">\n",
    "Statistically, we can assume there's no correlation between \"Sex\" and \"FamilySize\".\n",
    "</div>"
   ]
  },
  {
   "cell_type": "code",
   "execution_count": 254,
   "metadata": {},
   "outputs": [
    {
     "name": "stdout",
     "output_type": "stream",
     "text": [
      "The p-value is 0.15\n",
      "The strength of the association is 0.19\n"
     ]
    }
   ],
   "source": [
    "# Cross-tab between \"Embarked\" and \"BoardingClass\"\n",
    "df__table = pd.crosstab(df__engtrain[\"Embarked\"], df__engtrain[\"BoardingClass\"])\n",
    "\n",
    "# Perform a Chi-Square test (risk level of 5%) between \"Embarked\" and \"BoardingClass\"\n",
    "print(f\"The p-value is {chi2_contingency(df__table)[1]:.2f}\")\n",
    "\n",
    "# Calculate Cramer's V for effect size : strength of the association between \"Embarked\" and \"BoardingClass\"\n",
    "print(f\"The strength of the association is {np.sqrt(chi2_contingency(df__table)[0] / (df__table.sum().sum() * (min(df__table.shape) - 1))):.2f}\")\n",
    "\n",
    "# Cleanup\n",
    "del df__table"
   ]
  },
  {
   "cell_type": "markdown",
   "metadata": {},
   "source": [
    "<div style=\"background-color: green; padding: 10px;\">\n",
    "Statistically, we can assume there's no correlation between \"Embarked\" and \"BoardingClass\".\n",
    "</div>"
   ]
  },
  {
   "cell_type": "code",
   "execution_count": 255,
   "metadata": {},
   "outputs": [
    {
     "name": "stdout",
     "output_type": "stream",
     "text": [
      "The p-value is 0.36\n",
      "The strength of the association is 0.15\n"
     ]
    }
   ],
   "source": [
    "# Cross-tab between \"Embarked\" and \"AgeCategory\"\n",
    "df__table = pd.crosstab(df__engtrain[\"Embarked\"], df__engtrain[\"AgeCategory\"])\n",
    "\n",
    "# Perform a Chi-Square test (risk level of 5%) between \"Embarked\" and \"AgeCategory\"\n",
    "print(f\"The p-value is {chi2_contingency(df__table)[1]:.2f}\")\n",
    "\n",
    "# Calculate Cramer's V for effect size : strength of the association between \"Embarked\" and \"AgeCategory\"\n",
    "print(f\"The strength of the association is {np.sqrt(chi2_contingency(df__table)[0] / (df__table.sum().sum() * (min(df__table.shape) - 1))):.2f}\")\n",
    "\n",
    "# Cleanup\n",
    "del df__table"
   ]
  },
  {
   "cell_type": "markdown",
   "metadata": {},
   "source": [
    "<div style=\"background-color: green; padding: 10px;\">\n",
    "Statistically, we can assume there's no correlation between \"Embarked\" and \"AgeCategory\".\n",
    "</div>"
   ]
  },
  {
   "cell_type": "code",
   "execution_count": 256,
   "metadata": {},
   "outputs": [
    {
     "name": "stdout",
     "output_type": "stream",
     "text": [
      "The p-value is 0.73\n",
      "The strength of the association is 0.08\n"
     ]
    }
   ],
   "source": [
    "# Cross-tab between \"Embarked\" and \"FamilySize\"\n",
    "df__table = pd.crosstab(df__engtrain[\"Embarked\"], df__engtrain[\"FamilySize\"])\n",
    "\n",
    "# Perform a Chi-Square test (risk level of 5%) between \"Embarked\" and \"FamilySize\"\n",
    "print(f\"The p-value is {chi2_contingency(df__table)[1]:.2f}\")\n",
    "\n",
    "# Calculate Cramer's V for effect size : strength of the association between \"Embarked\" and \"FamilySize\"\n",
    "print(f\"The strength of the association is {np.sqrt(chi2_contingency(df__table)[0] / (df__table.sum().sum() * (min(df__table.shape) - 1))):.2f}\")\n",
    "\n",
    "# Cleanup\n",
    "del df__table"
   ]
  },
  {
   "cell_type": "markdown",
   "metadata": {},
   "source": [
    "<div style=\"background-color: green; padding: 10px;\">\n",
    "Statistically, we can assume there's no correlation between \"Embarked\" and \"FamilySize\".\n",
    "</div>"
   ]
  },
  {
   "cell_type": "code",
   "execution_count": 257,
   "metadata": {},
   "outputs": [
    {
     "name": "stdout",
     "output_type": "stream",
     "text": [
      "The p-value is 0.54\n",
      "The strength of the association is 0.12\n"
     ]
    }
   ],
   "source": [
    "# Cross-tab between \"BoardingClass\" and \"AgeCategory\"\n",
    "df__table = pd.crosstab(df__engtrain[\"BoardingClass\"], df__engtrain[\"AgeCategory\"])\n",
    "\n",
    "# Perform a Chi-Square test (risk level of 5%) between \"BoardingClass\" and \"AgeCategory\"\n",
    "print(f\"The p-value is {chi2_contingency(df__table)[1]:.2f}\")\n",
    "\n",
    "# Calculate Cramer's V for effect size : strength of the association between \"BoardingClass\" and \"AgeCategory\"\n",
    "print(f\"The strength of the association is {np.sqrt(chi2_contingency(df__table)[0] / (df__table.sum().sum() * (min(df__table.shape) - 1))):.2f}\")\n",
    "\n",
    "# Cleanup\n",
    "del df__table"
   ]
  },
  {
   "cell_type": "markdown",
   "metadata": {},
   "source": [
    "<div style=\"background-color: green; padding: 10px;\">\n",
    "Statistically, we can assume there's no strong correlation between \"BoardingClass\" and \"AgeCategory\".\n",
    "</div>"
   ]
  },
  {
   "cell_type": "code",
   "execution_count": 258,
   "metadata": {},
   "outputs": [
    {
     "name": "stdout",
     "output_type": "stream",
     "text": [
      "The p-value is 0.27\n",
      "The strength of the association is 0.17\n"
     ]
    }
   ],
   "source": [
    "# Cross-tab between \"BoardingClass\" and \"FamilySize\"\n",
    "df__table = pd.crosstab(df__engtrain[\"BoardingClass\"], df__engtrain[\"FamilySize\"])\n",
    "\n",
    "# Perform a Chi-Square test (risk level of 5%) between \"BoardingClass\" and \"FamilySize\"\n",
    "print(f\"The p-value is {chi2_contingency(df__table)[1]:.2f}\")\n",
    "\n",
    "# Calculate Cramer's V for effect size : strength of the association between \"BoardingClass\" and \"FamilySize\"\n",
    "print(f\"The strength of the association is {np.sqrt(chi2_contingency(df__table)[0] / (df__table.sum().sum() * (min(df__table.shape) - 1))):.2f}\")\n",
    "\n",
    "# Cleanup\n",
    "del df__table"
   ]
  },
  {
   "cell_type": "markdown",
   "metadata": {},
   "source": [
    "<div style=\"background-color: green; padding: 10px;\">\n",
    "Statistically, we can assume there's no strong correlation between \"BoardingClass\" and \"FamilySize\".\n",
    "</div>"
   ]
  },
  {
   "cell_type": "code",
   "execution_count": 259,
   "metadata": {},
   "outputs": [
    {
     "name": "stdout",
     "output_type": "stream",
     "text": [
      "The p-value is 0.67\n",
      "The strength of the association is 0.04\n"
     ]
    }
   ],
   "source": [
    "# Cross-tab between \"AgeCategory\" and \"FamilySize\"\n",
    "df__table = pd.crosstab(df__engtrain[\"AgeCategory\"], df__engtrain[\"FamilySize\"])\n",
    "\n",
    "# Perform a Chi-Square test (risk level of 5%) between \"AgeCategory\" and \"FamilySize\"\n",
    "print(f\"The p-value is {chi2_contingency(df__table)[1]:.2f}\")\n",
    "\n",
    "# Calculate Cramer's V for effect size : strength of the association between \"AgeCategory\" and \"FamilySize\"\n",
    "print(f\"The strength of the association is {np.sqrt(chi2_contingency(df__table)[0] / (df__table.sum().sum() * (min(df__table.shape) - 1))):.2f}\")\n",
    "\n",
    "# Cleanup\n",
    "del df__table"
   ]
  },
  {
   "cell_type": "markdown",
   "metadata": {},
   "source": [
    "<div style=\"background-color: green; padding: 10px;\">\n",
    "Statistically, we can assume there's no strong correlation between \"AgeCategory\" and \"FamilySize\".\n",
    "</div>"
   ]
  },
  {
   "cell_type": "code",
   "execution_count": 260,
   "metadata": {},
   "outputs": [
    {
     "data": {
      "text/plain": [
       "10567"
      ]
     },
     "execution_count": 260,
     "metadata": {},
     "output_type": "execute_result"
    }
   ],
   "source": [
    "# Empty garbage collector\n",
    "gc.collect()"
   ]
  },
  {
   "cell_type": "markdown",
   "metadata": {},
   "source": [
    "#### 7. Model the target Survived"
   ]
  },
  {
   "cell_type": "code",
   "execution_count": 261,
   "metadata": {},
   "outputs": [
    {
     "data": {
      "text/plain": [
       "<Axes: title={'center': 'Survived count distribution'}, xlabel='Survived'>"
      ]
     },
     "execution_count": 261,
     "metadata": {},
     "output_type": "execute_result"
    },
    {
     "data": {
      "image/png": "[encoded data removed]",
      "text/plain": [
       "<Figure size 640x480 with 1 Axes>"
      ]
     },
     "metadata": {},
     "output_type": "display_data"
    }
   ],
   "source": [
    "# Take a look at \"Survived\" to watch for any eventual class imbalance\n",
    "df__engtrain[\"Survived\"].value_counts().plot(kind=\"bar\", title=\"Survived count distribution\")"
   ]
  },
  {
   "cell_type": "code",
   "execution_count": 262,
   "metadata": {},
   "outputs": [],
   "source": [
    "# Separate Covariates form Target\n",
    "df__covariates = df__engtrain[df__engtrain.columns[~(df__engtrain.columns.isin([\"Survived\"]))]].copy(deep=True)\n",
    "df__target = df__engtrain[[\"Survived\"]].copy(deep=True)\n",
    "\n",
    "# Cleanup\n",
    "del df__engtrain"
   ]
  },
  {
   "cell_type": "markdown",
   "metadata": {},
   "source": [
    "##### *7.1. Try a logistic regression*"
   ]
  },
  {
   "cell_type": "code",
   "execution_count": 263,
   "metadata": {},
   "outputs": [],
   "source": [
    "# Perform an encoding of categorical variables modalities\n",
    "\n",
    "# Initialize a counter\n",
    "int__counter = 0\n",
    "\n",
    "# Create a copy of df__covariates\n",
    "df__nwcovariates = df__covariates.copy(deep=True)\n",
    "\n",
    "# Define a list with all the names of covariates \n",
    "list__covariates = df__covariates[df__covariates.columns[~(df__covariates.columns.isin([\"SimilarPassengerIds\"]))]]\n",
    "\n",
    "# Go through each feature\n",
    "for str__featurename in list__covariates:\n",
    "    \n",
    "    # Initialize a OneHotEncoder object\n",
    "    onehotencoder__object = OneHotEncoder(drop=\"first\", sparse_output=False)\n",
    "    \n",
    "    # Perform an encoding of str__featurename modalities\n",
    "    array__feature = onehotencoder__object.fit_transform(df__covariates[[str__featurename]])\n",
    "    # Convert the encoding into a DataFrame\n",
    "    df__feature = pd.DataFrame(data=array__feature, columns=[\"newfeature_\" + str(int__i) for int__i in range(int__counter, array__feature.shape[1]+int__counter)])\n",
    "    \n",
    "    # Add df__feature into df__nwcovariates\n",
    "    df__nwcovariates = pd.concat([df__nwcovariates, df__feature], axis=1)\n",
    "    \n",
    "    # Increment int__counter\n",
    "    int__counter += array__feature.shape[1]\n",
    "    \n",
    "    # Cleanup\n",
    "    del df__nwcovariates[str__featurename], onehotencoder__object, array__feature, df__feature\n",
    "\n",
    "# Cleanup\n",
    "del str__featurename, int__counter\n",
    "\n",
    "# Correct the list of covariates \n",
    "list__covariates = df__nwcovariates.columns[~(df__nwcovariates.columns.isin([\"Survived\", \"SimilarPassengerIds\"]))]"
   ]
  },
  {
   "cell_type": "code",
   "execution_count": 264,
   "metadata": {},
   "outputs": [],
   "source": [
    "# Put back together data that will be used for logistic regression model\n",
    "df__logisticregression = pd.concat([df__nwcovariates, df__target], axis=1)\n",
    "\n",
    "# Cleanup\n",
    "del df__nwcovariates"
   ]
  },
  {
   "cell_type": "code",
   "execution_count": 265,
   "metadata": {},
   "outputs": [
    {
     "name": "stdout",
     "output_type": "stream",
     "text": [
      "The minimum number of samples and covariates of the covariates matrix is 7.\n",
      "The rank of the covariates matrix is 7.\n"
     ]
    }
   ],
   "source": [
    "# Remove any eventual duplicate infos\n",
    "df__logisticregression.drop_duplicates(inplace=True)\n",
    "\n",
    "# Reset index values\n",
    "df__logisticregression.reset_index(inplace=True, drop=True)\n",
    "\n",
    "# Make sure the rank of matrix of covariates is no less than the min number of samples and covariates\n",
    "print(f\"The minimum number of samples and covariates of the covariates matrix is {min(df__logisticregression[list__covariates].shape)}.\")\n",
    "print(f\"The rank of the covariates matrix is {np.linalg.matrix_rank(df__logisticregression[list__covariates])}.\")"
   ]
  },
  {
   "cell_type": "code",
   "execution_count": 266,
   "metadata": {},
   "outputs": [
    {
     "data": {
      "text/html": [
       "<style>#sk-container-id-3 {\n",
       "  /* Definition of color scheme common for light and dark mode */\n",
       "  --sklearn-color-text: black;\n",
       "  --sklearn-color-line: gray;\n",
       "  /* Definition of color scheme for unfitted estimators */\n",
       "  --sklearn-color-unfitted-level-0: #fff5e6;\n",
       "  --sklearn-color-unfitted-level-1: #f6e4d2;\n",
       "  --sklearn-color-unfitted-level-2: #ffe0b3;\n",
       "  --sklearn-color-unfitted-level-3: chocolate;\n",
       "  /* Definition of color scheme for fitted estimators */\n",
       "  --sklearn-color-fitted-level-0: #f0f8ff;\n",
       "  --sklearn-color-fitted-level-1: #d4ebff;\n",
       "  --sklearn-color-fitted-level-2: #b3dbfd;\n",
       "  --sklearn-color-fitted-level-3: cornflowerblue;\n",
       "\n",
       "  /* Specific color for light theme */\n",
       "  --sklearn-color-text-on-default-background: var(--sg-text-color, var(--theme-code-foreground, var(--jp-content-font-color1, black)));\n",
       "  --sklearn-color-background: var(--sg-background-color, var(--theme-background, var(--jp-layout-color0, white)));\n",
       "  --sklearn-color-border-box: var(--sg-text-color, var(--theme-code-foreground, var(--jp-content-font-color1, black)));\n",
       "  --sklearn-color-icon: #696969;\n",
       "\n",
       "  @media (prefers-color-scheme: dark) {\n",
       "    /* Redefinition of color scheme for dark theme */\n",
       "    --sklearn-color-text-on-default-background: var(--sg-text-color, var(--theme-code-foreground, var(--jp-content-font-color1, white)));\n",
       "    --sklearn-color-background: var(--sg-background-color, var(--theme-background, var(--jp-layout-color0, #111)));\n",
       "    --sklearn-color-border-box: var(--sg-text-color, var(--theme-code-foreground, var(--jp-content-font-color1, white)));\n",
       "    --sklearn-color-icon: #878787;\n",
       "  }\n",
       "}\n",
       "\n",
       "#sk-container-id-3 {\n",
       "  color: var(--sklearn-color-text);\n",
       "}\n",
       "\n",
       "#sk-container-id-3 pre {\n",
       "  padding: 0;\n",
       "}\n",
       "\n",
       "#sk-container-id-3 input.sk-hidden--visually {\n",
       "  border: 0;\n",
       "  clip: rect(1px 1px 1px 1px);\n",
       "  clip: rect(1px, 1px, 1px, 1px);\n",
       "  height: 1px;\n",
       "  margin: -1px;\n",
       "  overflow: hidden;\n",
       "  padding: 0;\n",
       "  position: absolute;\n",
       "  width: 1px;\n",
       "}\n",
       "\n",
       "#sk-container-id-3 div.sk-dashed-wrapped {\n",
       "  border: 1px dashed var(--sklearn-color-line);\n",
       "  margin: 0 0.4em 0.5em 0.4em;\n",
       "  box-sizing: border-box;\n",
       "  padding-bottom: 0.4em;\n",
       "  background-color: var(--sklearn-color-background);\n",
       "}\n",
       "\n",
       "#sk-container-id-3 div.sk-container {\n",
       "  /* jupyter's `normalize.less` sets `[hidden] { display: none; }`\n",
       "     but bootstrap.min.css set `[hidden] { display: none !important; }`\n",
       "     so we also need the `!important` here to be able to override the\n",
       "     default hidden behavior on the sphinx rendered scikit-learn.org.\n",
       "     See: https://github.com/scikit-learn/scikit-learn/issues/21755 */\n",
       "  display: inline-block !important;\n",
       "  position: relative;\n",
       "}\n",
       "\n",
       "#sk-container-id-3 div.sk-text-repr-fallback {\n",
       "  display: none;\n",
       "}\n",
       "\n",
       "div.sk-parallel-item,\n",
       "div.sk-serial,\n",
       "div.sk-item {\n",
       "  /* draw centered vertical line to link estimators */\n",
       "  background-image: linear-gradient(var(--sklearn-color-text-on-default-background), var(--sklearn-color-text-on-default-background));\n",
       "  background-size: 2px 100%;\n",
       "  background-repeat: no-repeat;\n",
       "  background-position: center center;\n",
       "}\n",
       "\n",
       "/* Parallel-specific style estimator block */\n",
       "\n",
       "#sk-container-id-3 div.sk-parallel-item::after {\n",
       "  content: \"\";\n",
       "  width: 100%;\n",
       "  border-bottom: 2px solid var(--sklearn-color-text-on-default-background);\n",
       "  flex-grow: 1;\n",
       "}\n",
       "\n",
       "#sk-container-id-3 div.sk-parallel {\n",
       "  display: flex;\n",
       "  align-items: stretch;\n",
       "  justify-content: center;\n",
       "  background-color: var(--sklearn-color-background);\n",
       "  position: relative;\n",
       "}\n",
       "\n",
       "#sk-container-id-3 div.sk-parallel-item {\n",
       "  display: flex;\n",
       "  flex-direction: column;\n",
       "}\n",
       "\n",
       "#sk-container-id-3 div.sk-parallel-item:first-child::after {\n",
       "  align-self: flex-end;\n",
       "  width: 50%;\n",
       "}\n",
       "\n",
       "#sk-container-id-3 div.sk-parallel-item:last-child::after {\n",
       "  align-self: flex-start;\n",
       "  width: 50%;\n",
       "}\n",
       "\n",
       "#sk-container-id-3 div.sk-parallel-item:only-child::after {\n",
       "  width: 0;\n",
       "}\n",
       "\n",
       "/* Serial-specific style estimator block */\n",
       "\n",
       "#sk-container-id-3 div.sk-serial {\n",
       "  display: flex;\n",
       "  flex-direction: column;\n",
       "  align-items: center;\n",
       "  background-color: var(--sklearn-color-background);\n",
       "  padding-right: 1em;\n",
       "  padding-left: 1em;\n",
       "}\n",
       "\n",
       "\n",
       "/* Toggleable style: style used for estimator/Pipeline/ColumnTransformer box that is\n",
       "clickable and can be expanded/collapsed.\n",
       "- Pipeline and ColumnTransformer use this feature and define the default style\n",
       "- Estimators will overwrite some part of the style using the `sk-estimator` class\n",
       "*/\n",
       "\n",
       "/* Pipeline and ColumnTransformer style (default) */\n",
       "\n",
       "#sk-container-id-3 div.sk-toggleable {\n",
       "  /* Default theme specific background. It is overwritten whether we have a\n",
       "  specific estimator or a Pipeline/ColumnTransformer */\n",
       "  background-color: var(--sklearn-color-background);\n",
       "}\n",
       "\n",
       "/* Toggleable label */\n",
       "#sk-container-id-3 label.sk-toggleable__label {\n",
       "  cursor: pointer;\n",
       "  display: block;\n",
       "  width: 100%;\n",
       "  margin-bottom: 0;\n",
       "  padding: 0.5em;\n",
       "  box-sizing: border-box;\n",
       "  text-align: center;\n",
       "}\n",
       "\n",
       "#sk-container-id-3 label.sk-toggleable__label-arrow:before {\n",
       "  /* Arrow on the left of the label */\n",
       "  content: \"▸\";\n",
       "  float: left;\n",
       "  margin-right: 0.25em;\n",
       "  color: var(--sklearn-color-icon);\n",
       "}\n",
       "\n",
       "#sk-container-id-3 label.sk-toggleable__label-arrow:hover:before {\n",
       "  color: var(--sklearn-color-text);\n",
       "}\n",
       "\n",
       "/* Toggleable content - dropdown */\n",
       "\n",
       "#sk-container-id-3 div.sk-toggleable__content {\n",
       "  max-height: 0;\n",
       "  max-width: 0;\n",
       "  overflow: hidden;\n",
       "  text-align: left;\n",
       "  /* unfitted */\n",
       "  background-color: var(--sklearn-color-unfitted-level-0);\n",
       "}\n",
       "\n",
       "#sk-container-id-3 div.sk-toggleable__content.fitted {\n",
       "  /* fitted */\n",
       "  background-color: var(--sklearn-color-fitted-level-0);\n",
       "}\n",
       "\n",
       "#sk-container-id-3 div.sk-toggleable__content pre {\n",
       "  margin: 0.2em;\n",
       "  border-radius: 0.25em;\n",
       "  color: var(--sklearn-color-text);\n",
       "  /* unfitted */\n",
       "  background-color: var(--sklearn-color-unfitted-level-0);\n",
       "}\n",
       "\n",
       "#sk-container-id-3 div.sk-toggleable__content.fitted pre {\n",
       "  /* unfitted */\n",
       "  background-color: var(--sklearn-color-fitted-level-0);\n",
       "}\n",
       "\n",
       "#sk-container-id-3 input.sk-toggleable__control:checked~div.sk-toggleable__content {\n",
       "  /* Expand drop-down */\n",
       "  max-height: 200px;\n",
       "  max-width: 100%;\n",
       "  overflow: auto;\n",
       "}\n",
       "\n",
       "#sk-container-id-3 input.sk-toggleable__control:checked~label.sk-toggleable__label-arrow:before {\n",
       "  content: \"▾\";\n",
       "}\n",
       "\n",
       "/* Pipeline/ColumnTransformer-specific style */\n",
       "\n",
       "#sk-container-id-3 div.sk-label input.sk-toggleable__control:checked~label.sk-toggleable__label {\n",
       "  color: var(--sklearn-color-text);\n",
       "  background-color: var(--sklearn-color-unfitted-level-2);\n",
       "}\n",
       "\n",
       "#sk-container-id-3 div.sk-label.fitted input.sk-toggleable__control:checked~label.sk-toggleable__label {\n",
       "  background-color: var(--sklearn-color-fitted-level-2);\n",
       "}\n",
       "\n",
       "/* Estimator-specific style */\n",
       "\n",
       "/* Colorize estimator box */\n",
       "#sk-container-id-3 div.sk-estimator input.sk-toggleable__control:checked~label.sk-toggleable__label {\n",
       "  /* unfitted */\n",
       "  background-color: var(--sklearn-color-unfitted-level-2);\n",
       "}\n",
       "\n",
       "#sk-container-id-3 div.sk-estimator.fitted input.sk-toggleable__control:checked~label.sk-toggleable__label {\n",
       "  /* fitted */\n",
       "  background-color: var(--sklearn-color-fitted-level-2);\n",
       "}\n",
       "\n",
       "#sk-container-id-3 div.sk-label label.sk-toggleable__label,\n",
       "#sk-container-id-3 div.sk-label label {\n",
       "  /* The background is the default theme color */\n",
       "  color: var(--sklearn-color-text-on-default-background);\n",
       "}\n",
       "\n",
       "/* On hover, darken the color of the background */\n",
       "#sk-container-id-3 div.sk-label:hover label.sk-toggleable__label {\n",
       "  color: var(--sklearn-color-text);\n",
       "  background-color: var(--sklearn-color-unfitted-level-2);\n",
       "}\n",
       "\n",
       "/* Label box, darken color on hover, fitted */\n",
       "#sk-container-id-3 div.sk-label.fitted:hover label.sk-toggleable__label.fitted {\n",
       "  color: var(--sklearn-color-text);\n",
       "  background-color: var(--sklearn-color-fitted-level-2);\n",
       "}\n",
       "\n",
       "/* Estimator label */\n",
       "\n",
       "#sk-container-id-3 div.sk-label label {\n",
       "  font-family: monospace;\n",
       "  font-weight: bold;\n",
       "  display: inline-block;\n",
       "  line-height: 1.2em;\n",
       "}\n",
       "\n",
       "#sk-container-id-3 div.sk-label-container {\n",
       "  text-align: center;\n",
       "}\n",
       "\n",
       "/* Estimator-specific */\n",
       "#sk-container-id-3 div.sk-estimator {\n",
       "  font-family: monospace;\n",
       "  border: 1px dotted var(--sklearn-color-border-box);\n",
       "  border-radius: 0.25em;\n",
       "  box-sizing: border-box;\n",
       "  margin-bottom: 0.5em;\n",
       "  /* unfitted */\n",
       "  background-color: var(--sklearn-color-unfitted-level-0);\n",
       "}\n",
       "\n",
       "#sk-container-id-3 div.sk-estimator.fitted {\n",
       "  /* fitted */\n",
       "  background-color: var(--sklearn-color-fitted-level-0);\n",
       "}\n",
       "\n",
       "/* on hover */\n",
       "#sk-container-id-3 div.sk-estimator:hover {\n",
       "  /* unfitted */\n",
       "  background-color: var(--sklearn-color-unfitted-level-2);\n",
       "}\n",
       "\n",
       "#sk-container-id-3 div.sk-estimator.fitted:hover {\n",
       "  /* fitted */\n",
       "  background-color: var(--sklearn-color-fitted-level-2);\n",
       "}\n",
       "\n",
       "/* Specification for estimator info (e.g. \"i\" and \"?\") */\n",
       "\n",
       "/* Common style for \"i\" and \"?\" */\n",
       "\n",
       ".sk-estimator-doc-link,\n",
       "a:link.sk-estimator-doc-link,\n",
       "a:visited.sk-estimator-doc-link {\n",
       "  float: right;\n",
       "  font-size: smaller;\n",
       "  line-height: 1em;\n",
       "  font-family: monospace;\n",
       "  background-color: var(--sklearn-color-background);\n",
       "  border-radius: 1em;\n",
       "  height: 1em;\n",
       "  width: 1em;\n",
       "  text-decoration: none !important;\n",
       "  margin-left: 1ex;\n",
       "  /* unfitted */\n",
       "  border: var(--sklearn-color-unfitted-level-1) 1pt solid;\n",
       "  color: var(--sklearn-color-unfitted-level-1);\n",
       "}\n",
       "\n",
       ".sk-estimator-doc-link.fitted,\n",
       "a:link.sk-estimator-doc-link.fitted,\n",
       "a:visited.sk-estimator-doc-link.fitted {\n",
       "  /* fitted */\n",
       "  border: var(--sklearn-color-fitted-level-1) 1pt solid;\n",
       "  color: var(--sklearn-color-fitted-level-1);\n",
       "}\n",
       "\n",
       "/* On hover */\n",
       "div.sk-estimator:hover .sk-estimator-doc-link:hover,\n",
       ".sk-estimator-doc-link:hover,\n",
       "div.sk-label-container:hover .sk-estimator-doc-link:hover,\n",
       ".sk-estimator-doc-link:hover {\n",
       "  /* unfitted */\n",
       "  background-color: var(--sklearn-color-unfitted-level-3);\n",
       "  color: var(--sklearn-color-background);\n",
       "  text-decoration: none;\n",
       "}\n",
       "\n",
       "div.sk-estimator.fitted:hover .sk-estimator-doc-link.fitted:hover,\n",
       ".sk-estimator-doc-link.fitted:hover,\n",
       "div.sk-label-container:hover .sk-estimator-doc-link.fitted:hover,\n",
       ".sk-estimator-doc-link.fitted:hover {\n",
       "  /* fitted */\n",
       "  background-color: var(--sklearn-color-fitted-level-3);\n",
       "  color: var(--sklearn-color-background);\n",
       "  text-decoration: none;\n",
       "}\n",
       "\n",
       "/* Span, style for the box shown on hovering the info icon */\n",
       ".sk-estimator-doc-link span {\n",
       "  display: none;\n",
       "  z-index: 9999;\n",
       "  position: relative;\n",
       "  font-weight: normal;\n",
       "  right: .2ex;\n",
       "  padding: .5ex;\n",
       "  margin: .5ex;\n",
       "  width: min-content;\n",
       "  min-width: 20ex;\n",
       "  max-width: 50ex;\n",
       "  color: var(--sklearn-color-text);\n",
       "  box-shadow: 2pt 2pt 4pt #999;\n",
       "  /* unfitted */\n",
       "  background: var(--sklearn-color-unfitted-level-0);\n",
       "  border: .5pt solid var(--sklearn-color-unfitted-level-3);\n",
       "}\n",
       "\n",
       ".sk-estimator-doc-link.fitted span {\n",
       "  /* fitted */\n",
       "  background: var(--sklearn-color-fitted-level-0);\n",
       "  border: var(--sklearn-color-fitted-level-3);\n",
       "}\n",
       "\n",
       ".sk-estimator-doc-link:hover span {\n",
       "  display: block;\n",
       "}\n",
       "\n",
       "/* \"?\"-specific style due to the `<a>` HTML tag */\n",
       "\n",
       "#sk-container-id-3 a.estimator_doc_link {\n",
       "  float: right;\n",
       "  font-size: 1rem;\n",
       "  line-height: 1em;\n",
       "  font-family: monospace;\n",
       "  background-color: var(--sklearn-color-background);\n",
       "  border-radius: 1rem;\n",
       "  height: 1rem;\n",
       "  width: 1rem;\n",
       "  text-decoration: none;\n",
       "  /* unfitted */\n",
       "  color: var(--sklearn-color-unfitted-level-1);\n",
       "  border: var(--sklearn-color-unfitted-level-1) 1pt solid;\n",
       "}\n",
       "\n",
       "#sk-container-id-3 a.estimator_doc_link.fitted {\n",
       "  /* fitted */\n",
       "  border: var(--sklearn-color-fitted-level-1) 1pt solid;\n",
       "  color: var(--sklearn-color-fitted-level-1);\n",
       "}\n",
       "\n",
       "/* On hover */\n",
       "#sk-container-id-3 a.estimator_doc_link:hover {\n",
       "  /* unfitted */\n",
       "  background-color: var(--sklearn-color-unfitted-level-3);\n",
       "  color: var(--sklearn-color-background);\n",
       "  text-decoration: none;\n",
       "}\n",
       "\n",
       "#sk-container-id-3 a.estimator_doc_link.fitted:hover {\n",
       "  /* fitted */\n",
       "  background-color: var(--sklearn-color-fitted-level-3);\n",
       "}\n",
       "</style><div id=\"sk-container-id-3\" class=\"sk-top-container\"><div class=\"sk-text-repr-fallback\"><pre>LogisticRegression(C=1, random_state=123)</pre><b>In a Jupyter environment, please rerun this cell to show the HTML representation or trust the notebook. <br />On GitHub, the HTML representation is unable to render, please try loading this page with nbviewer.org.</b></div><div class=\"sk-container\" hidden><div class=\"sk-item\"><div class=\"sk-estimator fitted sk-toggleable\"><input class=\"sk-toggleable__control sk-hidden--visually\" id=\"sk-estimator-id-3\" type=\"checkbox\" checked><label for=\"sk-estimator-id-3\" class=\"sk-toggleable__label fitted sk-toggleable__label-arrow fitted\">&nbsp;&nbsp;LogisticRegression<a class=\"sk-estimator-doc-link fitted\" rel=\"noreferrer\" target=\"_blank\" href=\"https://scikit-learn.org/1.5/modules/generated/sklearn.linear_model.LogisticRegression.html\">?<span>Documentation for LogisticRegression</span></a><span class=\"sk-estimator-doc-link fitted\">i<span>Fitted</span></span></label><div class=\"sk-toggleable__content fitted\"><pre>LogisticRegression(C=1, random_state=123)</pre></div> </div></div></div></div>"
      ],
      "text/plain": [
       "LogisticRegression(C=1, random_state=123)"
      ]
     },
     "execution_count": 266,
     "metadata": {},
     "output_type": "execute_result"
    }
   ],
   "source": [
    "# Initialize a LogisticRegression object : be very careful of the chosen parameters\n",
    "logisticregression__object = LogisticRegression(random_state=123, penalty=\"l2\", C=1, verbose=0, max_iter=100, solver=\"lbfgs\")\n",
    "\n",
    "# Fit logisticregression__object\n",
    "logisticregression__object.fit(\n",
    "    X=np.array(df__logisticregression[list__covariates])\n",
    "    , y=np.array(df__logisticregression[\"Survived\"]))\n"
   ]
  },
  {
   "cell_type": "code",
   "execution_count": 267,
   "metadata": {},
   "outputs": [
    {
     "data": {
      "text/plain": [
       "array([7], dtype=int32)"
      ]
     },
     "execution_count": 267,
     "metadata": {},
     "output_type": "execute_result"
    }
   ],
   "source": [
    "# Check the number of iterations used for the optimization algo to converge\n",
    "logisticregression__object.n_iter_"
   ]
  },
  {
   "cell_type": "code",
   "execution_count": 268,
   "metadata": {},
   "outputs": [],
   "source": [
    "# Get the predicted death probabilities\n",
    "df__logisticregression = pd.concat(\n",
    "    [\n",
    "        df__logisticregression\n",
    "        , pd.DataFrame(data=np.array(pd.DataFrame(logisticregression__object.predict_proba(X=np.array(df__logisticregression[list__covariates]))).loc[:, 0]), columns=[\"DeathProbability\"]) \n",
    "    ]\n",
    "    , axis=1)"
   ]
  },
  {
   "cell_type": "code",
   "execution_count": 269,
   "metadata": {},
   "outputs": [
    {
     "data": {
      "text/html": [
       "<div>\n",
       "<style scoped>\n",
       "    .dataframe tbody tr th:only-of-type {\n",
       "        vertical-align: middle;\n",
       "    }\n",
       "\n",
       "    .dataframe tbody tr th {\n",
       "        vertical-align: top;\n",
       "    }\n",
       "\n",
       "    .dataframe thead tr th {\n",
       "        text-align: left;\n",
       "    }\n",
       "\n",
       "    .dataframe thead tr:last-of-type th {\n",
       "        text-align: right;\n",
       "    }\n",
       "</style>\n",
       "<table border=\"1\" class=\"dataframe\">\n",
       "  <thead>\n",
       "    <tr>\n",
       "      <th></th>\n",
       "      <th colspan=\"8\" halign=\"left\">DeathProbability</th>\n",
       "    </tr>\n",
       "    <tr>\n",
       "      <th></th>\n",
       "      <th>count</th>\n",
       "      <th>mean</th>\n",
       "      <th>std</th>\n",
       "      <th>min</th>\n",
       "      <th>25%</th>\n",
       "      <th>50%</th>\n",
       "      <th>75%</th>\n",
       "      <th>max</th>\n",
       "    </tr>\n",
       "    <tr>\n",
       "      <th>Survived</th>\n",
       "      <th></th>\n",
       "      <th></th>\n",
       "      <th></th>\n",
       "      <th></th>\n",
       "      <th></th>\n",
       "      <th></th>\n",
       "      <th></th>\n",
       "      <th></th>\n",
       "    </tr>\n",
       "  </thead>\n",
       "  <tbody>\n",
       "    <tr>\n",
       "      <th>0</th>\n",
       "      <td>41.0</td>\n",
       "      <td>0.478815</td>\n",
       "      <td>0.094078</td>\n",
       "      <td>0.30475</td>\n",
       "      <td>0.411582</td>\n",
       "      <td>0.478194</td>\n",
       "      <td>0.537577</td>\n",
       "      <td>0.6556</td>\n",
       "    </tr>\n",
       "    <tr>\n",
       "      <th>1</th>\n",
       "      <td>50.0</td>\n",
       "      <td>0.427294</td>\n",
       "      <td>0.103718</td>\n",
       "      <td>0.25422</td>\n",
       "      <td>0.341737</td>\n",
       "      <td>0.425702</td>\n",
       "      <td>0.505432</td>\n",
       "      <td>0.6556</td>\n",
       "    </tr>\n",
       "  </tbody>\n",
       "</table>\n",
       "</div>"
      ],
      "text/plain": [
       "         DeathProbability                                                   \\\n",
       "                    count      mean       std      min       25%       50%   \n",
       "Survived                                                                     \n",
       "0                    41.0  0.478815  0.094078  0.30475  0.411582  0.478194   \n",
       "1                    50.0  0.427294  0.103718  0.25422  0.341737  0.425702   \n",
       "\n",
       "                            \n",
       "               75%     max  \n",
       "Survived                    \n",
       "0         0.537577  0.6556  \n",
       "1         0.505432  0.6556  "
      ]
     },
     "execution_count": 269,
     "metadata": {},
     "output_type": "execute_result"
    }
   ],
   "source": [
    "# Display the characteristics of the predicted death probabilities by \"Survived\" modalities \n",
    "df__logisticregression[[\"DeathProbability\", \"Survived\"]].groupby([\"Survived\"], observed=False).describe()"
   ]
  },
  {
   "cell_type": "markdown",
   "metadata": {},
   "source": [
    "<div style=\"background-color: green; padding: 10px;\">\n",
    "\n",
    "-  75% of people who survived or are dead have their death probabilities less than or equal to approximately 50%.\n",
    "\n",
    "-  The max death probability observed in both groups of survived or dead people is the same : 65.56%.\n",
    "\n",
    "-  Simply by choosing a threshold of 50% to predict the fact that a passenger will survive or not, we have a better result that choosing the \"Survived\" modality with most samples.\n",
    "\n",
    "</div>"
   ]
  },
  {
   "cell_type": "code",
   "execution_count": null,
   "metadata": {},
   "outputs": [],
   "source": []
  },
  {
   "cell_type": "code",
   "execution_count": null,
   "metadata": {},
   "outputs": [],
   "source": []
  },
  {
   "cell_type": "code",
   "execution_count": 270,
   "metadata": {},
   "outputs": [],
   "source": [
    "# \n",
    "# %reset -f"
   ]
  }
 ],
 "metadata": {
  "kernelspec": {
   "display_name": ".venv",
   "language": "python",
   "name": "python3"
  },
  "language_info": {
   "codemirror_mode": {
    "name": "ipython",
    "version": 3
   },
   "file_extension": ".py",
   "mimetype": "text/x-python",
   "name": "python",
   "nbconvert_exporter": "python",
   "pygments_lexer": "ipython3",
   "version": "3.12.4"
  }
 },
 "nbformat": 4,
 "nbformat_minor": 2
}
