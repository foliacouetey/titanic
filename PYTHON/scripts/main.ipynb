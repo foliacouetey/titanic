{
 "cells": [
  {
   "cell_type": "markdown",
   "metadata": {},
   "source": [
    "#### 1. Refer to this section for a description of the problem"
   ]
  },
  {
   "cell_type": "markdown",
   "metadata": {},
   "source": [
    "__[Kaggle](https://www.kaggle.com/competitions/titanic/data)__ platform provides two datasets (_train.csv_, _test.csv_) containing detailed information about Titanic passengers, such as :\n",
    "- A unique identifier for each passenger (_PassengerId_) ;\n",
    "- The class of service in which the passenger traveled (_Pclass_) ;\n",
    "- The passenger's full name (_Name_) ;\n",
    "- The gender of the passenger (_Sex_) ;\n",
    "- The age of the passenger (_Age_) ;\n",
    "- The number of siblings or spouses accompanying the passenger on the ship (_SibSp_) ;\n",
    "- The number of parents or children accompanying the passenger on the ship (_Parch_) ;\n",
    "- The ticket number assigned to the passenger (_Ticket_) ;\n",
    "- The fare paid by the passenger (_Fare_) ;\n",
    "- The cabin number assigned to the passenger (_Cabin_) ;\n",
    "- The port from which the passenger embarked (_Embarked_) ;\n",
    "- The survival status of the passenger post-collision (_Survived_), which is available only in the _train.csv_ dataset.\n",
    "\n",
    "Based on the data and relationships identified in the _train.csv_ file, we aim to predict the survival status of passengers listed in the _test.csv_ file following the shipwreck."
   ]
  },
  {
   "cell_type": "markdown",
   "metadata": {},
   "source": [
    "#### 2. Import required libraries"
   ]
  },
  {
   "cell_type": "code",
   "execution_count": 69,
   "metadata": {},
   "outputs": [],
   "source": [
    "import gc, pandas as pd, numpy as np, matplotlib.pyplot as plt\n",
    "from scipy.stats import kruskal, chi2_contingency\n",
    "from pathlib import Path"
   ]
  },
  {
   "cell_type": "markdown",
   "metadata": {},
   "source": [
    "#### 3. Set up correct path"
   ]
  },
  {
   "cell_type": "code",
   "execution_count": 70,
   "metadata": {},
   "outputs": [],
   "source": [
    "windowspath__scripts = Path().resolve()\n",
    "windowspath__data = windowspath__scripts.parent / \"data\""
   ]
  },
  {
   "cell_type": "markdown",
   "metadata": {},
   "source": [
    "#### 4. Import train.csv and test.csv files"
   ]
  },
  {
   "cell_type": "code",
   "execution_count": 71,
   "metadata": {},
   "outputs": [],
   "source": [
    "df__train = pd.read_csv(filepath_or_buffer=windowspath__data / \"train\" / \"train.csv\", dtype=str)\n",
    "df__test = pd.read_csv(filepath_or_buffer=windowspath__data / \"test\" / \"test.csv\", dtype=str)"
   ]
  },
  {
   "cell_type": "code",
   "execution_count": 72,
   "metadata": {},
   "outputs": [
    {
     "data": {
      "text/html": [
       "<div>\n",
       "<style scoped>\n",
       "    .dataframe tbody tr th:only-of-type {\n",
       "        vertical-align: middle;\n",
       "    }\n",
       "\n",
       "    .dataframe tbody tr th {\n",
       "        vertical-align: top;\n",
       "    }\n",
       "\n",
       "    .dataframe thead th {\n",
       "        text-align: right;\n",
       "    }\n",
       "</style>\n",
       "<table border=\"1\" class=\"dataframe\">\n",
       "  <thead>\n",
       "    <tr style=\"text-align: right;\">\n",
       "      <th></th>\n",
       "      <th>PassengerId</th>\n",
       "      <th>Survived</th>\n",
       "      <th>Pclass</th>\n",
       "      <th>Name</th>\n",
       "      <th>Sex</th>\n",
       "      <th>Age</th>\n",
       "      <th>SibSp</th>\n",
       "      <th>Parch</th>\n",
       "      <th>Ticket</th>\n",
       "      <th>Fare</th>\n",
       "      <th>Cabin</th>\n",
       "      <th>Embarked</th>\n",
       "    </tr>\n",
       "  </thead>\n",
       "  <tbody>\n",
       "    <tr>\n",
       "      <th>559</th>\n",
       "      <td>560</td>\n",
       "      <td>1</td>\n",
       "      <td>3</td>\n",
       "      <td>de Messemaeker, Mrs. Guillaume Joseph (Emma)</td>\n",
       "      <td>female</td>\n",
       "      <td>36</td>\n",
       "      <td>1</td>\n",
       "      <td>0</td>\n",
       "      <td>345572</td>\n",
       "      <td>17.4</td>\n",
       "      <td>NaN</td>\n",
       "      <td>S</td>\n",
       "    </tr>\n",
       "    <tr>\n",
       "      <th>184</th>\n",
       "      <td>185</td>\n",
       "      <td>1</td>\n",
       "      <td>3</td>\n",
       "      <td>Kink-Heilmann, Miss. Luise Gretchen</td>\n",
       "      <td>female</td>\n",
       "      <td>4</td>\n",
       "      <td>0</td>\n",
       "      <td>2</td>\n",
       "      <td>315153</td>\n",
       "      <td>22.025</td>\n",
       "      <td>NaN</td>\n",
       "      <td>S</td>\n",
       "    </tr>\n",
       "    <tr>\n",
       "      <th>477</th>\n",
       "      <td>478</td>\n",
       "      <td>0</td>\n",
       "      <td>3</td>\n",
       "      <td>Braund, Mr. Lewis Richard</td>\n",
       "      <td>male</td>\n",
       "      <td>29</td>\n",
       "      <td>1</td>\n",
       "      <td>0</td>\n",
       "      <td>3460</td>\n",
       "      <td>7.0458</td>\n",
       "      <td>NaN</td>\n",
       "      <td>S</td>\n",
       "    </tr>\n",
       "  </tbody>\n",
       "</table>\n",
       "</div>"
      ],
      "text/plain": [
       "    PassengerId Survived Pclass                                          Name  \\\n",
       "559         560        1      3  de Messemaeker, Mrs. Guillaume Joseph (Emma)   \n",
       "184         185        1      3           Kink-Heilmann, Miss. Luise Gretchen   \n",
       "477         478        0      3                     Braund, Mr. Lewis Richard   \n",
       "\n",
       "        Sex Age SibSp Parch  Ticket    Fare Cabin Embarked  \n",
       "559  female  36     1     0  345572    17.4   NaN        S  \n",
       "184  female   4     0     2  315153  22.025   NaN        S  \n",
       "477    male  29     1     0    3460  7.0458   NaN        S  "
      ]
     },
     "execution_count": 72,
     "metadata": {},
     "output_type": "execute_result"
    }
   ],
   "source": [
    "df__train.sample(n=3)"
   ]
  },
  {
   "cell_type": "code",
   "execution_count": 73,
   "metadata": {},
   "outputs": [
    {
     "data": {
      "text/html": [
       "<div>\n",
       "<style scoped>\n",
       "    .dataframe tbody tr th:only-of-type {\n",
       "        vertical-align: middle;\n",
       "    }\n",
       "\n",
       "    .dataframe tbody tr th {\n",
       "        vertical-align: top;\n",
       "    }\n",
       "\n",
       "    .dataframe thead th {\n",
       "        text-align: right;\n",
       "    }\n",
       "</style>\n",
       "<table border=\"1\" class=\"dataframe\">\n",
       "  <thead>\n",
       "    <tr style=\"text-align: right;\">\n",
       "      <th></th>\n",
       "      <th>PassengerId</th>\n",
       "      <th>Pclass</th>\n",
       "      <th>Name</th>\n",
       "      <th>Sex</th>\n",
       "      <th>Age</th>\n",
       "      <th>SibSp</th>\n",
       "      <th>Parch</th>\n",
       "      <th>Ticket</th>\n",
       "      <th>Fare</th>\n",
       "      <th>Cabin</th>\n",
       "      <th>Embarked</th>\n",
       "    </tr>\n",
       "  </thead>\n",
       "  <tbody>\n",
       "    <tr>\n",
       "      <th>200</th>\n",
       "      <td>1092</td>\n",
       "      <td>3</td>\n",
       "      <td>Murphy, Miss. Nora</td>\n",
       "      <td>female</td>\n",
       "      <td>NaN</td>\n",
       "      <td>0</td>\n",
       "      <td>0</td>\n",
       "      <td>36568</td>\n",
       "      <td>15.5</td>\n",
       "      <td>NaN</td>\n",
       "      <td>Q</td>\n",
       "    </tr>\n",
       "    <tr>\n",
       "      <th>154</th>\n",
       "      <td>1046</td>\n",
       "      <td>3</td>\n",
       "      <td>Asplund, Master. Filip Oscar</td>\n",
       "      <td>male</td>\n",
       "      <td>13</td>\n",
       "      <td>4</td>\n",
       "      <td>2</td>\n",
       "      <td>347077</td>\n",
       "      <td>31.3875</td>\n",
       "      <td>NaN</td>\n",
       "      <td>S</td>\n",
       "    </tr>\n",
       "    <tr>\n",
       "      <th>324</th>\n",
       "      <td>1216</td>\n",
       "      <td>1</td>\n",
       "      <td>Kreuchen, Miss. Emilie</td>\n",
       "      <td>female</td>\n",
       "      <td>39</td>\n",
       "      <td>0</td>\n",
       "      <td>0</td>\n",
       "      <td>24160</td>\n",
       "      <td>211.3375</td>\n",
       "      <td>NaN</td>\n",
       "      <td>S</td>\n",
       "    </tr>\n",
       "  </tbody>\n",
       "</table>\n",
       "</div>"
      ],
      "text/plain": [
       "    PassengerId Pclass                          Name     Sex  Age SibSp Parch  \\\n",
       "200        1092      3            Murphy, Miss. Nora  female  NaN     0     0   \n",
       "154        1046      3  Asplund, Master. Filip Oscar    male   13     4     2   \n",
       "324        1216      1        Kreuchen, Miss. Emilie  female   39     0     0   \n",
       "\n",
       "     Ticket      Fare Cabin Embarked  \n",
       "200   36568      15.5   NaN        Q  \n",
       "154  347077   31.3875   NaN        S  \n",
       "324   24160  211.3375   NaN        S  "
      ]
     },
     "execution_count": 73,
     "metadata": {},
     "output_type": "execute_result"
    }
   ],
   "source": [
    "df__test.sample(n=3)"
   ]
  },
  {
   "cell_type": "markdown",
   "metadata": {},
   "source": [
    "#### 5. Feature engineering"
   ]
  },
  {
   "cell_type": "code",
   "execution_count": 74,
   "metadata": {},
   "outputs": [
    {
     "data": {
      "text/html": [
       "<div>\n",
       "<style scoped>\n",
       "    .dataframe tbody tr th:only-of-type {\n",
       "        vertical-align: middle;\n",
       "    }\n",
       "\n",
       "    .dataframe tbody tr th {\n",
       "        vertical-align: top;\n",
       "    }\n",
       "\n",
       "    .dataframe thead th {\n",
       "        text-align: right;\n",
       "    }\n",
       "</style>\n",
       "<table border=\"1\" class=\"dataframe\">\n",
       "  <thead>\n",
       "    <tr style=\"text-align: right;\">\n",
       "      <th></th>\n",
       "      <th>PassengerId</th>\n",
       "      <th>Pclass</th>\n",
       "      <th>Name</th>\n",
       "      <th>Sex</th>\n",
       "      <th>Age</th>\n",
       "      <th>SibSp</th>\n",
       "      <th>Parch</th>\n",
       "      <th>Ticket</th>\n",
       "      <th>Fare</th>\n",
       "      <th>Cabin</th>\n",
       "      <th>Embarked</th>\n",
       "    </tr>\n",
       "  </thead>\n",
       "  <tbody>\n",
       "    <tr>\n",
       "      <th>839</th>\n",
       "      <td>840</td>\n",
       "      <td>1</td>\n",
       "      <td>Marechal, Mr. Pierre</td>\n",
       "      <td>male</td>\n",
       "      <td>NaN</td>\n",
       "      <td>0</td>\n",
       "      <td>0</td>\n",
       "      <td>11774</td>\n",
       "      <td>29.7</td>\n",
       "      <td>C47</td>\n",
       "      <td>C</td>\n",
       "    </tr>\n",
       "    <tr>\n",
       "      <th>32</th>\n",
       "      <td>33</td>\n",
       "      <td>3</td>\n",
       "      <td>Glynn, Miss. Mary Agatha</td>\n",
       "      <td>female</td>\n",
       "      <td>NaN</td>\n",
       "      <td>0</td>\n",
       "      <td>0</td>\n",
       "      <td>335677</td>\n",
       "      <td>7.75</td>\n",
       "      <td>NaN</td>\n",
       "      <td>Q</td>\n",
       "    </tr>\n",
       "    <tr>\n",
       "      <th>323</th>\n",
       "      <td>324</td>\n",
       "      <td>2</td>\n",
       "      <td>Caldwell, Mrs. Albert Francis (Sylvia Mae Harb...</td>\n",
       "      <td>female</td>\n",
       "      <td>22</td>\n",
       "      <td>1</td>\n",
       "      <td>1</td>\n",
       "      <td>248738</td>\n",
       "      <td>29</td>\n",
       "      <td>NaN</td>\n",
       "      <td>S</td>\n",
       "    </tr>\n",
       "  </tbody>\n",
       "</table>\n",
       "</div>"
      ],
      "text/plain": [
       "    PassengerId Pclass                                               Name  \\\n",
       "839         840      1                               Marechal, Mr. Pierre   \n",
       "32           33      3                           Glynn, Miss. Mary Agatha   \n",
       "323         324      2  Caldwell, Mrs. Albert Francis (Sylvia Mae Harb...   \n",
       "\n",
       "        Sex  Age SibSp Parch  Ticket  Fare Cabin Embarked  \n",
       "839    male  NaN     0     0   11774  29.7   C47        C  \n",
       "32   female  NaN     0     0  335677  7.75   NaN        Q  \n",
       "323  female   22     1     1  248738    29   NaN        S  "
      ]
     },
     "execution_count": 74,
     "metadata": {},
     "output_type": "execute_result"
    }
   ],
   "source": [
    "# Define an unified view of df__train and df__test\n",
    "df__titanic = pd.concat([df__train.copy(deep=True).drop(columns=[\"Survived\"]), df__test.copy(deep=True)], ignore_index=True)\n",
    "\n",
    "# Tip: samples of df__train and df__test are identified by their PassengerId\n",
    "\n",
    "df__titanic.sample(n=3)"
   ]
  },
  {
   "cell_type": "markdown",
   "metadata": {},
   "source": [
    "##### *5.1. PClass, Ticket, Cabin*"
   ]
  },
  {
   "cell_type": "code",
   "execution_count": 75,
   "metadata": {},
   "outputs": [],
   "source": [
    "# Remove \"Ticket\" and \"Cabin\" since their information can be seen as summarized in \"PClass\"\n",
    "df__titanic.drop(columns=[\"Ticket\", \"Cabin\"], inplace=True)"
   ]
  },
  {
   "cell_type": "code",
   "execution_count": 76,
   "metadata": {},
   "outputs": [
    {
     "data": {
      "text/plain": [
       "Pclass    0\n",
       "dtype: int64"
      ]
     },
     "execution_count": 76,
     "metadata": {},
     "output_type": "execute_result"
    }
   ],
   "source": [
    "# Are there missing values in \"Pclass\" ?\n",
    "df__titanic[[\"Pclass\"]].isnull().sum()"
   ]
  },
  {
   "cell_type": "code",
   "execution_count": 77,
   "metadata": {},
   "outputs": [],
   "source": [
    "# Rewrite \"PClass\" feature as \"BoardingClass\"\n",
    "# first class is the most privileged, second class is moderately privileged, and third class is the least privileged. \n",
    "dict__pclass = {\"1\": \"most privileged\", \"2\": \"moderately privileged\", \"3\": \"least privileged\"}  \n",
    "df__titanic[\"BoardingClass\"] = df__titanic[\"Pclass\"].map(dict__pclass)\n",
    "\n",
    "# Cleanup\n",
    "del df__titanic[\"Pclass\"], dict__pclass"
   ]
  },
  {
   "cell_type": "code",
   "execution_count": 78,
   "metadata": {},
   "outputs": [
    {
     "data": {
      "text/plain": [
       "<Axes: title={'center': 'BoardingClass count distribution'}, xlabel='BoardingClass'>"
      ]
     },
     "execution_count": 78,
     "metadata": {},
     "output_type": "execute_result"
    },
    {
     "data": {
      "image/png": "[encoded data removed]",
      "text/plain": [
       "<Figure size 640x480 with 1 Axes>"
      ]
     },
     "metadata": {},
     "output_type": "display_data"
    }
   ],
   "source": [
    "# Take a look at \"BoardingClass\"\n",
    "df__titanic[\"BoardingClass\"].value_counts().plot(kind=\"bar\", title=\"BoardingClass count distribution\")"
   ]
  },
  {
   "cell_type": "markdown",
   "metadata": {},
   "source": [
    "<div style=\"background-color: green; padding: 10px;\">\n",
    "Half of the passengers on the ship are least privileged people.\n",
    "</div>"
   ]
  },
  {
   "cell_type": "code",
   "execution_count": 79,
   "metadata": {},
   "outputs": [
    {
     "data": {
      "text/html": [
       "<div>\n",
       "<style scoped>\n",
       "    .dataframe tbody tr th:only-of-type {\n",
       "        vertical-align: middle;\n",
       "    }\n",
       "\n",
       "    .dataframe tbody tr th {\n",
       "        vertical-align: top;\n",
       "    }\n",
       "\n",
       "    .dataframe thead th {\n",
       "        text-align: right;\n",
       "    }\n",
       "</style>\n",
       "<table border=\"1\" class=\"dataframe\">\n",
       "  <thead>\n",
       "    <tr style=\"text-align: right;\">\n",
       "      <th></th>\n",
       "      <th>PassengerId</th>\n",
       "      <th>Name</th>\n",
       "      <th>Sex</th>\n",
       "      <th>Age</th>\n",
       "      <th>SibSp</th>\n",
       "      <th>Parch</th>\n",
       "      <th>Fare</th>\n",
       "      <th>Embarked</th>\n",
       "      <th>BoardingClass</th>\n",
       "    </tr>\n",
       "  </thead>\n",
       "  <tbody>\n",
       "    <tr>\n",
       "      <th>81</th>\n",
       "      <td>82</td>\n",
       "      <td>Sheerlinck, Mr. Jan Baptist</td>\n",
       "      <td>male</td>\n",
       "      <td>29</td>\n",
       "      <td>0</td>\n",
       "      <td>0</td>\n",
       "      <td>9.5</td>\n",
       "      <td>S</td>\n",
       "      <td>least privileged</td>\n",
       "    </tr>\n",
       "    <tr>\n",
       "      <th>511</th>\n",
       "      <td>512</td>\n",
       "      <td>Webber, Mr. James</td>\n",
       "      <td>male</td>\n",
       "      <td>NaN</td>\n",
       "      <td>0</td>\n",
       "      <td>0</td>\n",
       "      <td>8.05</td>\n",
       "      <td>S</td>\n",
       "      <td>least privileged</td>\n",
       "    </tr>\n",
       "    <tr>\n",
       "      <th>79</th>\n",
       "      <td>80</td>\n",
       "      <td>Dowdell, Miss. Elizabeth</td>\n",
       "      <td>female</td>\n",
       "      <td>30</td>\n",
       "      <td>0</td>\n",
       "      <td>0</td>\n",
       "      <td>12.475</td>\n",
       "      <td>S</td>\n",
       "      <td>least privileged</td>\n",
       "    </tr>\n",
       "  </tbody>\n",
       "</table>\n",
       "</div>"
      ],
      "text/plain": [
       "    PassengerId                         Name     Sex  Age SibSp Parch    Fare  \\\n",
       "81           82  Sheerlinck, Mr. Jan Baptist    male   29     0     0     9.5   \n",
       "511         512            Webber, Mr. James    male  NaN     0     0    8.05   \n",
       "79           80     Dowdell, Miss. Elizabeth  female   30     0     0  12.475   \n",
       "\n",
       "    Embarked     BoardingClass  \n",
       "81         S  least privileged  \n",
       "511        S  least privileged  \n",
       "79         S  least privileged  "
      ]
     },
     "execution_count": 79,
     "metadata": {},
     "output_type": "execute_result"
    }
   ],
   "source": [
    "# A view of df__titanic at this step\n",
    "df__titanic.sample(n=3)"
   ]
  },
  {
   "cell_type": "markdown",
   "metadata": {},
   "source": [
    "##### *5.2. Name, Sex, Age*"
   ]
  },
  {
   "cell_type": "code",
   "execution_count": 80,
   "metadata": {},
   "outputs": [
    {
     "data": {
      "text/plain": [
       "Sex    0\n",
       "dtype: int64"
      ]
     },
     "execution_count": 80,
     "metadata": {},
     "output_type": "execute_result"
    }
   ],
   "source": [
    "# Are there missing values in \"Sex\" ?\n",
    "df__titanic[[\"Sex\"]].isnull().sum()"
   ]
  },
  {
   "cell_type": "code",
   "execution_count": 81,
   "metadata": {},
   "outputs": [],
   "source": [
    "# Lowercase \"Name\" values, and remove periods\n",
    "df__titanic[\"Name\"] = df__titanic[\"Name\"].apply(lambda x: x.lower().replace(\".\", \"\"))"
   ]
  },
  {
   "cell_type": "markdown",
   "metadata": {},
   "source": [
    "<div style=\"background-color: green; padding: 10px;\">\n",
    "\n",
    "Research on early 20th-century naming conventions provides insights into titles incorporated in names, which often indicated age or marital status :\n",
    "\n",
    "- Adult titles : \"mr\", \"mrs\", \"sir\", \"rev\", \"capt\", \"dr\", \"col\", \"major\", \"ms\", \"mme\", \"countess\", \"don\", \"jonkheer\"\n",
    "\n",
    "- Youth titles : \"master\", \"miss\"\n",
    "\n",
    "- Ambiguous titles : \"mlle\" (used for both young girls and unmarried women)\n",
    "\n",
    "Aldulthood for men was 21; whereas for women, it was 18 or 21.\n",
    "\n",
    "</div>"
   ]
  },
  {
   "cell_type": "code",
   "execution_count": 82,
   "metadata": {},
   "outputs": [],
   "source": [
    "# Extract a \"Title\" column from \"Name\" column\n",
    "\n",
    "# Define a list of all possible titles\n",
    "list__adulttitles = [\"mr\", \"mrs\", \"sir\", \"rev\", \"capt\", \"dr\", \"col\", \"major\", \"ms\", \"mme\", \"countess\", \"don\", \"jonkheer\"]\n",
    "list__youngtitles = [\"master\", \"miss\"]\n",
    "list__ambiguoustitles = [\"mlle\"]\n",
    "list__alltitles = list__adulttitles + list__youngtitles + list__ambiguoustitles\n",
    "\n",
    "# An example of function to extract title\n",
    "def function__title(str__name: str) -> str:\n",
    "    \"\"\"\n",
    "    Input:\n",
    "    str__name : a string (real name and title)\n",
    "    Output:\n",
    "    str__title : a string (title)\n",
    "    \"\"\"\n",
    "    for str__title in list__alltitles:\n",
    "        if str__title in str__name:\n",
    "            return str__title\n",
    "\n",
    "# Apply function__title on \"Name\" column\n",
    "df__titanic[\"Title\"] = df__titanic[\"Name\"].apply(lambda x: function__title(x))\n",
    "\n",
    "# Cleanup\n",
    "del df__titanic[\"Name\"], list__alltitles"
   ]
  },
  {
   "cell_type": "code",
   "execution_count": 83,
   "metadata": {},
   "outputs": [
    {
     "data": {
      "text/plain": [
       "<Axes: title={'center': 'Title count distribution'}, xlabel='Title'>"
      ]
     },
     "execution_count": 83,
     "metadata": {},
     "output_type": "execute_result"
    },
    {
     "data": {
      "image/png": "[encoded data removed]",
      "text/plain": [
       "<Figure size 640x480 with 1 Axes>"
      ]
     },
     "metadata": {},
     "output_type": "display_data"
    }
   ],
   "source": [
    "# Take a look at \"Title\"\n",
    "df__titanic[\"Title\"].value_counts().plot(kind=\"bar\", title=\"Title count distribution\")"
   ]
  },
  {
   "cell_type": "markdown",
   "metadata": {},
   "source": [
    "<div style=\"background-color: green; padding: 10px;\">\n",
    "More than half of the passengers on the ship are adult men.\n",
    "</div>"
   ]
  },
  {
   "cell_type": "code",
   "execution_count": 84,
   "metadata": {},
   "outputs": [
    {
     "data": {
      "text/plain": [
       "Age    263\n",
       "dtype: int64"
      ]
     },
     "execution_count": 84,
     "metadata": {},
     "output_type": "execute_result"
    }
   ],
   "source": [
    "# Are there missing values in \"Age\" ?\n",
    "df__titanic[[\"Age\"]].isnull().sum()"
   ]
  },
  {
   "cell_type": "code",
   "execution_count": 85,
   "metadata": {},
   "outputs": [],
   "source": [
    "# Set \"Age\" column data type to decimal number\n",
    "df__titanic[\"Age\"] = df__titanic[\"Age\"].astype(float)"
   ]
  },
  {
   "cell_type": "markdown",
   "metadata": {},
   "source": [
    "<div style=\"background-color: green; padding: 10px;\">\n",
    "Decimals age values can be challenging to interpret. Some of the folks who worked on Titanic problem, explained that these decimals arise when ages are estimated.\n",
    "</div>"
   ]
  },
  {
   "cell_type": "code",
   "execution_count": 86,
   "metadata": {},
   "outputs": [
    {
     "name": "stdout",
     "output_type": "stream",
     "text": [
      "Of the 1309 samples, 20.09% have missing age values.\n"
     ]
    }
   ],
   "source": [
    "# Analyze the proportion of samples with missing age values\n",
    "print(f\"Of the {len(df__titanic)} samples, {(100*df__titanic[\"Age\"].isnull().sum() / len(df__titanic)):.2f}% have missing age values.\")"
   ]
  },
  {
   "cell_type": "code",
   "execution_count": 87,
   "metadata": {},
   "outputs": [],
   "source": [
    "# Define a new column \"AgeCategory\" based on \"Title\" and \"Age\"\n",
    "\n",
    "# An example of function to categorize age\n",
    "def function__agecategory(str__title: str, float__age: float, float__adulthood = 21.0) -> str:\n",
    "    \"\"\"\n",
    "    Input:\n",
    "    str__title : a string (title)\n",
    "    float__age : a decimal number (age)\n",
    "    float__adulthood : a decimal number (age value to know if adulthood is reached or not)\n",
    "    Output:\n",
    "    str__title : a string (title)\n",
    "    \"\"\"\n",
    "    # Test if age value is different of NA\n",
    "    if float__age != np.nan:\n",
    "        # Compare its value to adulthood threshold\n",
    "        if float__age < float__adulthood:\n",
    "            return \"young\"\n",
    "        else: return \"adult\"\n",
    "    \n",
    "    # Test if age value is NA\n",
    "    if float__age == np.nan:\n",
    "        # Use title to know if adulthood is reached\n",
    "        if str__title in list__adulttitles:\n",
    "            return \"adult\"\n",
    "        if str__title in list__youngtitles:\n",
    "            return \"young\"\n",
    "        if str__title in list__ambiguoustitles:\n",
    "            return \"young/adult\"\n",
    "\n",
    "# Apply function__agecategory\n",
    "df__titanic[\"AgeCategory\"] = df__titanic.apply(lambda row: function__agecategory(str__title=row[\"Title\"], float__age=row[\"Age\"]), axis=1)\n",
    "\n",
    "# Cleanup\n",
    "del df__titanic[\"Age\"], df__titanic[\"Title\"], list__adulttitles, list__youngtitles, list__ambiguoustitles"
   ]
  },
  {
   "cell_type": "code",
   "execution_count": 88,
   "metadata": {},
   "outputs": [
    {
     "data": {
      "text/plain": [
       "<Axes: title={'center': 'AgeCategory count distribution'}, xlabel='AgeCategory'>"
      ]
     },
     "execution_count": 88,
     "metadata": {},
     "output_type": "execute_result"
    },
    {
     "data": {
      "image/png": "[encoded data removed]",
      "text/plain": [
       "<Figure size 640x480 with 1 Axes>"
      ]
     },
     "metadata": {},
     "output_type": "display_data"
    }
   ],
   "source": [
    "# Take a look at \"AgeCategory\"\n",
    "df__titanic[\"AgeCategory\"].value_counts().plot(kind=\"bar\", title=\"AgeCategory count distribution\")"
   ]
  },
  {
   "cell_type": "markdown",
   "metadata": {},
   "source": [
    "<div style=\"background-color: green; padding: 10px;\">\n",
    "Since \"AgeCategory\" is a result of combining \"Title\" and \"Age\" in order to impute \"Age\" missing values, it's normal that more than half of the passengers are adults (especially adult men).\n",
    "</div>"
   ]
  },
  {
   "cell_type": "code",
   "execution_count": 89,
   "metadata": {},
   "outputs": [
    {
     "data": {
      "text/html": [
       "<div>\n",
       "<style scoped>\n",
       "    .dataframe tbody tr th:only-of-type {\n",
       "        vertical-align: middle;\n",
       "    }\n",
       "\n",
       "    .dataframe tbody tr th {\n",
       "        vertical-align: top;\n",
       "    }\n",
       "\n",
       "    .dataframe thead th {\n",
       "        text-align: right;\n",
       "    }\n",
       "</style>\n",
       "<table border=\"1\" class=\"dataframe\">\n",
       "  <thead>\n",
       "    <tr style=\"text-align: right;\">\n",
       "      <th></th>\n",
       "      <th>PassengerId</th>\n",
       "      <th>Sex</th>\n",
       "      <th>SibSp</th>\n",
       "      <th>Parch</th>\n",
       "      <th>Fare</th>\n",
       "      <th>Embarked</th>\n",
       "      <th>BoardingClass</th>\n",
       "      <th>AgeCategory</th>\n",
       "    </tr>\n",
       "  </thead>\n",
       "  <tbody>\n",
       "    <tr>\n",
       "      <th>265</th>\n",
       "      <td>266</td>\n",
       "      <td>male</td>\n",
       "      <td>0</td>\n",
       "      <td>0</td>\n",
       "      <td>10.5</td>\n",
       "      <td>S</td>\n",
       "      <td>moderately privileged</td>\n",
       "      <td>adult</td>\n",
       "    </tr>\n",
       "    <tr>\n",
       "      <th>152</th>\n",
       "      <td>153</td>\n",
       "      <td>male</td>\n",
       "      <td>0</td>\n",
       "      <td>0</td>\n",
       "      <td>8.05</td>\n",
       "      <td>S</td>\n",
       "      <td>least privileged</td>\n",
       "      <td>adult</td>\n",
       "    </tr>\n",
       "    <tr>\n",
       "      <th>981</th>\n",
       "      <td>982</td>\n",
       "      <td>female</td>\n",
       "      <td>1</td>\n",
       "      <td>0</td>\n",
       "      <td>13.9</td>\n",
       "      <td>S</td>\n",
       "      <td>least privileged</td>\n",
       "      <td>adult</td>\n",
       "    </tr>\n",
       "  </tbody>\n",
       "</table>\n",
       "</div>"
      ],
      "text/plain": [
       "    PassengerId     Sex SibSp Parch  Fare Embarked          BoardingClass  \\\n",
       "265         266    male     0     0  10.5        S  moderately privileged   \n",
       "152         153    male     0     0  8.05        S       least privileged   \n",
       "981         982  female     1     0  13.9        S       least privileged   \n",
       "\n",
       "    AgeCategory  \n",
       "265       adult  \n",
       "152       adult  \n",
       "981       adult  "
      ]
     },
     "execution_count": 89,
     "metadata": {},
     "output_type": "execute_result"
    }
   ],
   "source": [
    "# A view of df__titanic at this step\n",
    "df__titanic.sample(n=3)"
   ]
  },
  {
   "cell_type": "markdown",
   "metadata": {},
   "source": [
    "##### *5.3. SibSp, ParCh, Fare*"
   ]
  },
  {
   "cell_type": "code",
   "execution_count": 90,
   "metadata": {},
   "outputs": [
    {
     "data": {
      "text/plain": [
       "SibSp    0\n",
       "dtype: int64"
      ]
     },
     "execution_count": 90,
     "metadata": {},
     "output_type": "execute_result"
    }
   ],
   "source": [
    "# Are there missing values in \"SibSp\"?\n",
    "df__titanic[[\"SibSp\"]].isnull().sum()"
   ]
  },
  {
   "cell_type": "code",
   "execution_count": 91,
   "metadata": {},
   "outputs": [
    {
     "data": {
      "text/plain": [
       "Parch    0\n",
       "dtype: int64"
      ]
     },
     "execution_count": 91,
     "metadata": {},
     "output_type": "execute_result"
    }
   ],
   "source": [
    "# Are there missing values in \"Parch\"?\n",
    "df__titanic[[\"Parch\"]].isnull().sum()"
   ]
  },
  {
   "cell_type": "code",
   "execution_count": 92,
   "metadata": {},
   "outputs": [],
   "source": [
    "# Set \"SibSp\" and \"Parch\" data type to integer\n",
    "df__titanic[[\"SibSp\",\"Parch\"]] = df__titanic[[\"SibSp\",\"Parch\"]].astype(int)\n",
    "\n",
    "# Create \"FamilySize\" by incrementing of 1 the sum of \"SibSp\" and \"Parch\" \n",
    "df__titanic[\"FamilySize\"] = df__titanic[[\"SibSp\",\"Parch\"]].sum(axis=1) + 1\n",
    "\n",
    "# Cleanup\n",
    "df__titanic.drop(columns=[\"SibSp\",\"Parch\"], inplace=True)"
   ]
  },
  {
   "cell_type": "code",
   "execution_count": 93,
   "metadata": {},
   "outputs": [
    {
     "data": {
      "text/plain": [
       "<Axes: title={'center': 'FamilySize count distribution'}, xlabel='FamilySize'>"
      ]
     },
     "execution_count": 93,
     "metadata": {},
     "output_type": "execute_result"
    },
    {
     "data": {
      "image/png": "[encoded data removed]",
      "text/plain": [
       "<Figure size 640x480 with 1 Axes>"
      ]
     },
     "metadata": {},
     "output_type": "display_data"
    }
   ],
   "source": [
    "# Take a look at \"FamilySize\"\n",
    "df__titanic[\"FamilySize\"].value_counts().plot(kind=\"bar\", title=\"FamilySize count distribution\")"
   ]
  },
  {
   "cell_type": "markdown",
   "metadata": {},
   "source": [
    "<div style=\"background-color: green; padding: 10px;\">\n",
    "\n",
    "More than half of the passengers on the ship were alone.\n",
    "\n",
    "We decide to transform \"FamilySize\" into a qualitative variable with two modalities : \"alone\", ant \"not alone\".\n",
    "\n",
    "</div>"
   ]
  },
  {
   "cell_type": "code",
   "execution_count": 94,
   "metadata": {},
   "outputs": [],
   "source": [
    "# Transform \"FamilySize\" into a qualitative variable with two modalities : \"alone\", ant \"not alone\"\n",
    "df__titanic[\"FamilySize\"] = df__titanic[\"FamilySize\"].apply(lambda x: \"alone\" if x == 1 else \"not alone\")"
   ]
  },
  {
   "cell_type": "code",
   "execution_count": 95,
   "metadata": {},
   "outputs": [
    {
     "data": {
      "text/plain": [
       "Fare    1\n",
       "dtype: int64"
      ]
     },
     "execution_count": 95,
     "metadata": {},
     "output_type": "execute_result"
    }
   ],
   "source": [
    "# Are there missing values in \"Fare\" ?\n",
    "df__titanic[[\"Fare\"]].isnull().sum()\n",
    "\n",
    "# Only one passenger \"Fare\" is missing."
   ]
  },
  {
   "cell_type": "code",
   "execution_count": 96,
   "metadata": {},
   "outputs": [
    {
     "data": {
      "text/plain": [
       "<Axes: title={'center': 'Fare distribution'}, ylabel='Frequency'>"
      ]
     },
     "execution_count": 96,
     "metadata": {},
     "output_type": "execute_result"
    },
    {
     "data": {
      "image/png": "[encoded data removed]",
      "text/plain": [
       "<Figure size 640x480 with 1 Axes>"
      ]
     },
     "metadata": {},
     "output_type": "display_data"
    }
   ],
   "source": [
    "# Set \"Fare\" data type to float\n",
    "df__titanic[\"Fare\"] = df__titanic[\"Fare\"].astype(float)\n",
    "\n",
    "# Take a look at \"Fare\"\n",
    "df__titanic[\"Fare\"].plot(kind=\"hist\", title=\"Fare distribution\")"
   ]
  },
  {
   "cell_type": "markdown",
   "metadata": {},
   "source": [
    "<div style=\"background-color: green; padding: 10px;\">\n",
    "\"Fare\" distribution is right-skewed, which is normal since most of the people were least priviliged (3rd class tickets).\n",
    "Let's dive further.\n",
    "</div>"
   ]
  },
  {
   "cell_type": "code",
   "execution_count": 97,
   "metadata": {},
   "outputs": [
    {
     "data": {
      "text/html": [
       "<div>\n",
       "<style scoped>\n",
       "    .dataframe tbody tr th:only-of-type {\n",
       "        vertical-align: middle;\n",
       "    }\n",
       "\n",
       "    .dataframe tbody tr th {\n",
       "        vertical-align: top;\n",
       "    }\n",
       "\n",
       "    .dataframe thead tr th {\n",
       "        text-align: left;\n",
       "    }\n",
       "\n",
       "    .dataframe thead tr:last-of-type th {\n",
       "        text-align: right;\n",
       "    }\n",
       "</style>\n",
       "<table border=\"1\" class=\"dataframe\">\n",
       "  <thead>\n",
       "    <tr>\n",
       "      <th></th>\n",
       "      <th colspan=\"8\" halign=\"left\">Fare</th>\n",
       "    </tr>\n",
       "    <tr>\n",
       "      <th></th>\n",
       "      <th>count</th>\n",
       "      <th>mean</th>\n",
       "      <th>std</th>\n",
       "      <th>min</th>\n",
       "      <th>25%</th>\n",
       "      <th>50%</th>\n",
       "      <th>75%</th>\n",
       "      <th>max</th>\n",
       "    </tr>\n",
       "    <tr>\n",
       "      <th>BoardingClass</th>\n",
       "      <th></th>\n",
       "      <th></th>\n",
       "      <th></th>\n",
       "      <th></th>\n",
       "      <th></th>\n",
       "      <th></th>\n",
       "      <th></th>\n",
       "      <th></th>\n",
       "    </tr>\n",
       "  </thead>\n",
       "  <tbody>\n",
       "    <tr>\n",
       "      <th>least privileged</th>\n",
       "      <td>708.0</td>\n",
       "      <td>13.302889</td>\n",
       "      <td>11.494358</td>\n",
       "      <td>0.0</td>\n",
       "      <td>7.7500</td>\n",
       "      <td>8.0500</td>\n",
       "      <td>15.2458</td>\n",
       "      <td>69.5500</td>\n",
       "    </tr>\n",
       "    <tr>\n",
       "      <th>moderately privileged</th>\n",
       "      <td>277.0</td>\n",
       "      <td>21.179196</td>\n",
       "      <td>13.607122</td>\n",
       "      <td>0.0</td>\n",
       "      <td>13.0000</td>\n",
       "      <td>15.0458</td>\n",
       "      <td>26.0000</td>\n",
       "      <td>73.5000</td>\n",
       "    </tr>\n",
       "    <tr>\n",
       "      <th>most privileged</th>\n",
       "      <td>323.0</td>\n",
       "      <td>87.508992</td>\n",
       "      <td>80.447178</td>\n",
       "      <td>0.0</td>\n",
       "      <td>30.6958</td>\n",
       "      <td>60.0000</td>\n",
       "      <td>107.6625</td>\n",
       "      <td>512.3292</td>\n",
       "    </tr>\n",
       "  </tbody>\n",
       "</table>\n",
       "</div>"
      ],
      "text/plain": [
       "                        Fare                                               \\\n",
       "                       count       mean        std  min      25%      50%   \n",
       "BoardingClass                                                               \n",
       "least privileged       708.0  13.302889  11.494358  0.0   7.7500   8.0500   \n",
       "moderately privileged  277.0  21.179196  13.607122  0.0  13.0000  15.0458   \n",
       "most privileged        323.0  87.508992  80.447178  0.0  30.6958  60.0000   \n",
       "\n",
       "                                           \n",
       "                            75%       max  \n",
       "BoardingClass                              \n",
       "least privileged        15.2458   69.5500  \n",
       "moderately privileged   26.0000   73.5000  \n",
       "most privileged        107.6625  512.3292  "
      ]
     },
     "execution_count": 97,
     "metadata": {},
     "output_type": "execute_result"
    }
   ],
   "source": [
    "# Cross \"Fare\" values with \"BoardingClass\" modalities\n",
    "df__titanic[[\"Fare\", \"BoardingClass\"]].groupby([\"BoardingClass\"], observed=False).describe()"
   ]
  },
  {
   "cell_type": "markdown",
   "metadata": {},
   "source": [
    "<div style=\"background-color: green; padding: 10px;\">\n",
    "Tickets' Fare seems to depend on \"BoardingClass\" as we thought after \"Fare\" distribution analysis. Let's confirm statistically the correlation between these two features.\n",
    "</div>"
   ]
  },
  {
   "cell_type": "code",
   "execution_count": 98,
   "metadata": {},
   "outputs": [
    {
     "data": {
      "text/plain": [
       "KruskalResult(statistic=np.float64(675.6437116957771), pvalue=np.float64(1.9312217278120738e-147))"
      ]
     },
     "execution_count": 98,
     "metadata": {},
     "output_type": "execute_result"
    }
   ],
   "source": [
    "# Do a Kruskall-Wallis test between \"Fare\" and \"BoardingClass\" as a proof of high correlation between these two features\n",
    "\n",
    "# Do not consider the passenger with missing \"Fare\"\n",
    "df__table = df__titanic[[\"Fare\", \"BoardingClass\"]].copy(deep=True).dropna()\n",
    "\n",
    "# Perform a Kruskall-Wallis test with a 95% level of confidence\n",
    "kruskal(*df__table.groupby([\"BoardingClass\"], observed=False)[\"Fare\"].apply(list))"
   ]
  },
  {
   "cell_type": "markdown",
   "metadata": {},
   "source": [
    "<div style=\"background-color: green; padding: 10px;\">\n",
    "\n",
    "Based on 1308 passengers with no missing \"Fare\" value :\n",
    "- The p-value computed from a Kruskal-Wallis test with 95% level of confidence between \"Fare\" and \"BoardingClass\" is up to 3.24e-72 ;\n",
    "- The p-value computed is much lesser than 0.05, and we conclude that there's statistically a correlation between these two features under a risk level of 5%.\n",
    "\n",
    "Since \"Fare\" is the one with one missing value out of 1309 passengers, we'll remove it and keep only \"BoardingClass\".\n",
    "</div>"
   ]
  },
  {
   "cell_type": "code",
   "execution_count": 99,
   "metadata": {},
   "outputs": [],
   "source": [
    "# Cleanup\n",
    "del df__table, df__titanic[\"Fare\"]"
   ]
  },
  {
   "cell_type": "code",
   "execution_count": 100,
   "metadata": {},
   "outputs": [
    {
     "data": {
      "text/html": [
       "<div>\n",
       "<style scoped>\n",
       "    .dataframe tbody tr th:only-of-type {\n",
       "        vertical-align: middle;\n",
       "    }\n",
       "\n",
       "    .dataframe tbody tr th {\n",
       "        vertical-align: top;\n",
       "    }\n",
       "\n",
       "    .dataframe thead th {\n",
       "        text-align: right;\n",
       "    }\n",
       "</style>\n",
       "<table border=\"1\" class=\"dataframe\">\n",
       "  <thead>\n",
       "    <tr style=\"text-align: right;\">\n",
       "      <th></th>\n",
       "      <th>PassengerId</th>\n",
       "      <th>Sex</th>\n",
       "      <th>Embarked</th>\n",
       "      <th>BoardingClass</th>\n",
       "      <th>AgeCategory</th>\n",
       "      <th>FamilySize</th>\n",
       "    </tr>\n",
       "  </thead>\n",
       "  <tbody>\n",
       "    <tr>\n",
       "      <th>1278</th>\n",
       "      <td>1279</td>\n",
       "      <td>male</td>\n",
       "      <td>S</td>\n",
       "      <td>moderately privileged</td>\n",
       "      <td>adult</td>\n",
       "      <td>alone</td>\n",
       "    </tr>\n",
       "    <tr>\n",
       "      <th>376</th>\n",
       "      <td>377</td>\n",
       "      <td>female</td>\n",
       "      <td>S</td>\n",
       "      <td>least privileged</td>\n",
       "      <td>adult</td>\n",
       "      <td>alone</td>\n",
       "    </tr>\n",
       "    <tr>\n",
       "      <th>716</th>\n",
       "      <td>717</td>\n",
       "      <td>female</td>\n",
       "      <td>C</td>\n",
       "      <td>most privileged</td>\n",
       "      <td>adult</td>\n",
       "      <td>alone</td>\n",
       "    </tr>\n",
       "  </tbody>\n",
       "</table>\n",
       "</div>"
      ],
      "text/plain": [
       "     PassengerId     Sex Embarked          BoardingClass AgeCategory  \\\n",
       "1278        1279    male        S  moderately privileged       adult   \n",
       "376          377  female        S       least privileged       adult   \n",
       "716          717  female        C        most privileged       adult   \n",
       "\n",
       "     FamilySize  \n",
       "1278      alone  \n",
       "376       alone  \n",
       "716       alone  "
      ]
     },
     "execution_count": 100,
     "metadata": {},
     "output_type": "execute_result"
    }
   ],
   "source": [
    "# A view of df__titanic at this step\n",
    "df__titanic.sample(n=3)"
   ]
  },
  {
   "cell_type": "markdown",
   "metadata": {},
   "source": [
    "##### *5.4. Embarked*"
   ]
  },
  {
   "cell_type": "code",
   "execution_count": 101,
   "metadata": {},
   "outputs": [
    {
     "data": {
      "text/plain": [
       "Embarked    2\n",
       "dtype: int64"
      ]
     },
     "execution_count": 101,
     "metadata": {},
     "output_type": "execute_result"
    }
   ],
   "source": [
    "# Are there missing values in \"Embarked\" ?\n",
    "df__titanic[[\"Embarked\"]].isnull().sum()\n",
    "\n",
    "# Two passengers' embarkation towns are missing."
   ]
  },
  {
   "cell_type": "code",
   "execution_count": 102,
   "metadata": {},
   "outputs": [
    {
     "data": {
      "text/plain": [
       "<Axes: title={'center': 'Embarked count distribution'}, xlabel='Embarked'>"
      ]
     },
     "execution_count": 102,
     "metadata": {},
     "output_type": "execute_result"
    },
    {
     "data": {
      "image/png": "[encoded data removed]",
      "text/plain": [
       "<Figure size 640x480 with 1 Axes>"
      ]
     },
     "metadata": {},
     "output_type": "display_data"
    }
   ],
   "source": [
    "# Take a look at \"Embarked\"\n",
    "df__titanic[\"Embarked\"].value_counts().plot(kind=\"bar\", title=\"Embarked count distribution\")"
   ]
  },
  {
   "cell_type": "markdown",
   "metadata": {},
   "source": [
    "<div style=\"background-color: green; padding: 10px;\">\n",
    "More than half of the passengers on the ship were and/or embarked from Southampton (S).\n",
    "</div>"
   ]
  },
  {
   "cell_type": "code",
   "execution_count": 103,
   "metadata": {},
   "outputs": [],
   "source": [
    "# We choose to impute the most present modality to these two passengers with missing embarkation towns\n",
    "df__titanic[\"Embarked\"] = df__titanic[\"Embarked\"].fillna(value=df__titanic[\"Embarked\"].mode()[0], inplace=False)"
   ]
  },
  {
   "cell_type": "code",
   "execution_count": 104,
   "metadata": {},
   "outputs": [
    {
     "data": {
      "text/html": [
       "<div>\n",
       "<style scoped>\n",
       "    .dataframe tbody tr th:only-of-type {\n",
       "        vertical-align: middle;\n",
       "    }\n",
       "\n",
       "    .dataframe tbody tr th {\n",
       "        vertical-align: top;\n",
       "    }\n",
       "\n",
       "    .dataframe thead th {\n",
       "        text-align: right;\n",
       "    }\n",
       "</style>\n",
       "<table border=\"1\" class=\"dataframe\">\n",
       "  <thead>\n",
       "    <tr style=\"text-align: right;\">\n",
       "      <th></th>\n",
       "      <th>PassengerId</th>\n",
       "      <th>Sex</th>\n",
       "      <th>Embarked</th>\n",
       "      <th>BoardingClass</th>\n",
       "      <th>AgeCategory</th>\n",
       "      <th>FamilySize</th>\n",
       "    </tr>\n",
       "  </thead>\n",
       "  <tbody>\n",
       "    <tr>\n",
       "      <th>182</th>\n",
       "      <td>183</td>\n",
       "      <td>male</td>\n",
       "      <td>S</td>\n",
       "      <td>least privileged</td>\n",
       "      <td>young</td>\n",
       "      <td>not alone</td>\n",
       "    </tr>\n",
       "    <tr>\n",
       "      <th>905</th>\n",
       "      <td>906</td>\n",
       "      <td>female</td>\n",
       "      <td>S</td>\n",
       "      <td>most privileged</td>\n",
       "      <td>adult</td>\n",
       "      <td>not alone</td>\n",
       "    </tr>\n",
       "    <tr>\n",
       "      <th>271</th>\n",
       "      <td>272</td>\n",
       "      <td>male</td>\n",
       "      <td>S</td>\n",
       "      <td>least privileged</td>\n",
       "      <td>adult</td>\n",
       "      <td>alone</td>\n",
       "    </tr>\n",
       "  </tbody>\n",
       "</table>\n",
       "</div>"
      ],
      "text/plain": [
       "    PassengerId     Sex Embarked     BoardingClass AgeCategory FamilySize\n",
       "182         183    male        S  least privileged       young  not alone\n",
       "905         906  female        S   most privileged       adult  not alone\n",
       "271         272    male        S  least privileged       adult      alone"
      ]
     },
     "execution_count": 104,
     "metadata": {},
     "output_type": "execute_result"
    }
   ],
   "source": [
    "# A view of df__titanic at this step\n",
    "df__titanic.sample(n=3)"
   ]
  },
  {
   "cell_type": "markdown",
   "metadata": {},
   "source": [
    "##### *5.5. Retrieve engineered versions of df__train and df__test*"
   ]
  },
  {
   "cell_type": "code",
   "execution_count": 105,
   "metadata": {},
   "outputs": [],
   "source": [
    "# Get engineered version of df__train\n",
    "df__engtrain = df__train[[\"PassengerId\", \"Survived\"]].merge(right=df__titanic, on=[\"PassengerId\"], how=\"left\")\n",
    "\n",
    "# Make sure that \"Survived\" data type is set to integer\n",
    "df__engtrain[\"Survived\"] = df__engtrain[\"Survived\"].astype(int)\n",
    "\n",
    "# Get engineered version of df__test\n",
    "df__engtest = df__test[[\"PassengerId\"]].merge(right=df__titanic, on=[\"PassengerId\"], how=\"left\")\n",
    "\n",
    "# Cleanup\n",
    "del df__titanic, df__test, df__train"
   ]
  },
  {
   "cell_type": "code",
   "execution_count": 106,
   "metadata": {},
   "outputs": [
    {
     "data": {
      "text/plain": [
       "PassengerId      0\n",
       "Survived         0\n",
       "Sex              0\n",
       "Embarked         0\n",
       "BoardingClass    0\n",
       "AgeCategory      0\n",
       "FamilySize       0\n",
       "dtype: int64"
      ]
     },
     "execution_count": 106,
     "metadata": {},
     "output_type": "execute_result"
    }
   ],
   "source": [
    "# Make sure joins and feature engineering worked well so no missing values are present in df__engtrain\n",
    "df__engtrain.isnull().sum()"
   ]
  },
  {
   "cell_type": "code",
   "execution_count": 107,
   "metadata": {},
   "outputs": [
    {
     "data": {
      "text/plain": [
       "PassengerId      0\n",
       "Sex              0\n",
       "Embarked         0\n",
       "BoardingClass    0\n",
       "AgeCategory      0\n",
       "FamilySize       0\n",
       "dtype: int64"
      ]
     },
     "execution_count": 107,
     "metadata": {},
     "output_type": "execute_result"
    }
   ],
   "source": [
    "# Make sure joins and feature engineering worked well so no missing values are present in df__engtest\n",
    "df__engtest.isnull().sum()"
   ]
  },
  {
   "cell_type": "markdown",
   "metadata": {},
   "source": [
    "#### 6. Association between covariates and the target Survived"
   ]
  },
  {
   "cell_type": "markdown",
   "metadata": {},
   "source": [
    "##### *6.1. Sex and Survived*"
   ]
  },
  {
   "cell_type": "code",
   "execution_count": 108,
   "metadata": {},
   "outputs": [
    {
     "data": {
      "image/png": "[encoded data removed]",
      "text/plain": [
       "<Figure size 1000x600 with 1 Axes>"
      ]
     },
     "metadata": {},
     "output_type": "display_data"
    }
   ],
   "source": [
    "# Create a cross-tab between \"Sex\" and \"Survived\"\n",
    "df__table = 100 * pd.crosstab(df__engtrain[\"Sex\"], df__engtrain[\"Survived\"], normalize=\"index\")\n",
    "\n",
    "# Create the stacked bar chart\n",
    "ax_object = df__table.plot(kind='bar', stacked=True, figsize=(10, 6))\n",
    "\n",
    "# Customize the chart\n",
    "plt.title('Survival Rates by Sex on Titanic', fontsize=16)\n",
    "plt.xlabel('Sex', fontsize=12)\n",
    "plt.ylabel('Percentage', fontsize=12)\n",
    "plt.legend(['Did Not Survive', 'Survived'], title='Survival', loc='upper right')\n",
    "\n",
    "# Add value labels on the bars, rounded to two decimal places\n",
    "for barcontainer_object in ax_object.containers:\n",
    "    ax_object.bar_label(barcontainer_object, label_type='center', fmt='%.2f')\n",
    "\n",
    "# Adjust layout and display\n",
    "plt.tight_layout()\n",
    "plt.show()"
   ]
  },
  {
   "cell_type": "code",
   "execution_count": 109,
   "metadata": {},
   "outputs": [],
   "source": [
    "# Cleanup\n",
    "del df__table, ax_object, barcontainer_object"
   ]
  },
  {
   "cell_type": "code",
   "execution_count": 110,
   "metadata": {},
   "outputs": [
    {
     "data": {
      "text/plain": [
       "Chi2ContingencyResult(statistic=np.float64(260.71702016732104), pvalue=np.float64(1.1973570627755645e-58), dof=1, expected_freq=array([[193.47474747, 120.52525253],\n",
       "       [355.52525253, 221.47474747]]))"
      ]
     },
     "execution_count": 110,
     "metadata": {},
     "output_type": "execute_result"
    }
   ],
   "source": [
    "# Perform a Chi-Square test (risk level of 5%) between \"Sex\" and \"Survived\"\n",
    "chi2_contingency(pd.crosstab(df__engtrain[\"Sex\"], df__engtrain[\"Survived\"]))"
   ]
  },
  {
   "cell_type": "code",
   "execution_count": 111,
   "metadata": {},
   "outputs": [
    {
     "data": {
      "text/plain": [
       "np.float64(0.5409359434469282)"
      ]
     },
     "execution_count": 111,
     "metadata": {},
     "output_type": "execute_result"
    }
   ],
   "source": [
    "# Calculate Cramer's V for effect size : strength of the association between \"Sex\" and \"Survived\"\n",
    "df__table = pd.crosstab(df__engtrain[\"Sex\"], df__engtrain[\"Survived\"])\n",
    "np.sqrt(chi2_contingency(df__table)[0] / (df__table.sum().sum() * (min(df__table.shape) - 1)))"
   ]
  },
  {
   "cell_type": "code",
   "execution_count": 112,
   "metadata": {},
   "outputs": [],
   "source": [
    "# Cleanup\n",
    "del df__table"
   ]
  },
  {
   "cell_type": "markdown",
   "metadata": {},
   "source": [
    "<div style=\"background-color: green; padding: 10px;\">\n",
    "\n",
    "- The p-value of the Chi-Square test between \"Sex\" and \"Survived\" is up to 1.2e-58 (lesser than 0.05).\n",
    "- The strength of the association between \"Sex\" and \"Survived\" is up to 54%.\n",
    "- Under a risk level of 5%, the survival rate of a passenger on the Titanic is statistically linked to him being a man/woman; women being those with the best survival rate.\n",
    "- We will order \"Sex\" modalities as \"female\" > \"male\" since women have a better survival rate compared to men.\n",
    "\n",
    "</div>"
   ]
  },
  {
   "cell_type": "code",
   "execution_count": 113,
   "metadata": {},
   "outputs": [],
   "source": [
    "# Order \"Sex\" modalities\n",
    "df__engtrain[\"Sex\"] = pd.Categorical(df__engtrain[\"Sex\"], categories=[\"male\", \"female\"], ordered=True)"
   ]
  },
  {
   "cell_type": "markdown",
   "metadata": {},
   "source": [
    "##### *6.2. Embarked and Survived*"
   ]
  },
  {
   "cell_type": "code",
   "execution_count": 114,
   "metadata": {},
   "outputs": [
    {
     "data": {
      "image/png": "[encoded data removed]",
      "text/plain": [
       "<Figure size 1000x600 with 1 Axes>"
      ]
     },
     "metadata": {},
     "output_type": "display_data"
    }
   ],
   "source": [
    "# Create a cross-tab between \"Embarked\" and \"Survived\"\n",
    "df__table = 100 * pd.crosstab(df__engtrain[\"Embarked\"], df__engtrain[\"Survived\"], normalize=\"index\")\n",
    "\n",
    "# Create the stacked bar chart\n",
    "ax_object = df__table.plot(kind='bar', stacked=True, figsize=(10, 6))\n",
    "\n",
    "# Customize the chart\n",
    "plt.title('Survival Rates by Embarkation Origin on Titanic', fontsize=16)\n",
    "plt.xlabel('Embarked', fontsize=12)\n",
    "plt.ylabel('Percentage', fontsize=12)\n",
    "plt.legend(['Did Not Survive', 'Survived'], title='Survival', loc='upper right')\n",
    "\n",
    "# Add value labels on the bars, rounded to two decimal places\n",
    "for barcontainer_object in ax_object.containers:\n",
    "    ax_object.bar_label(barcontainer_object, label_type='center', fmt='%.2f')\n",
    "\n",
    "# Adjust layout and display\n",
    "plt.tight_layout()\n",
    "plt.show()"
   ]
  },
  {
   "cell_type": "code",
   "execution_count": 115,
   "metadata": {},
   "outputs": [],
   "source": [
    "# Cleanup\n",
    "del df__table, ax_object, barcontainer_object"
   ]
  },
  {
   "cell_type": "code",
   "execution_count": 116,
   "metadata": {},
   "outputs": [
    {
     "data": {
      "text/plain": [
       "Chi2ContingencyResult(statistic=np.float64(25.964452881874784), pvalue=np.float64(2.3008626481449577e-06), dof=2, expected_freq=array([[103.51515152,  64.48484848],\n",
       "       [ 47.44444444,  29.55555556],\n",
       "       [398.04040404, 247.95959596]]))"
      ]
     },
     "execution_count": 116,
     "metadata": {},
     "output_type": "execute_result"
    }
   ],
   "source": [
    "# Perform a Chi-Square test (risk level of 5%) between \"Embarked\" and \"Survived\"\n",
    "chi2_contingency(pd.crosstab(df__engtrain[\"Embarked\"], df__engtrain[\"Survived\"]))"
   ]
  },
  {
   "cell_type": "code",
   "execution_count": 117,
   "metadata": {},
   "outputs": [
    {
     "data": {
      "text/plain": [
       "np.float64(0.17070676639164276)"
      ]
     },
     "execution_count": 117,
     "metadata": {},
     "output_type": "execute_result"
    }
   ],
   "source": [
    "# Calculate Cramer's V for effect size : strength of the association between \"Embarked\" and \"Survived\"\n",
    "df__table = pd.crosstab(df__engtrain[\"Embarked\"], df__engtrain[\"Survived\"])\n",
    "np.sqrt(chi2_contingency(df__table)[0] / (df__table.sum().sum() * (min(df__table.shape) - 1)))"
   ]
  },
  {
   "cell_type": "code",
   "execution_count": 118,
   "metadata": {},
   "outputs": [],
   "source": [
    "# Cleanup\n",
    "del df__table"
   ]
  },
  {
   "cell_type": "markdown",
   "metadata": {},
   "source": [
    "<div style=\"background-color: green; padding: 10px;\">\n",
    "\n",
    "- The p-value of the Chi-Square test between \"Embarked\" and \"Survived\" is up to 2.3e-06 (lesser than 0.05).\n",
    "- The strength of the association between \"Embarked\" and \"Survived\" is up to 17%.\n",
    "- Under a risk level of 5%, the survival rate of a passenger on the Titanic is statistically linked to its embarkation point; Cherbourg being the one with the best survival rate, Queenstown and Southampton having the lowest survival rates.\n",
    "- We decide to regroup Queenstown and Southampton together as an unique modality \"S/Q\" since they present similar survival rates.\n",
    "- We will order \"Embarked\" modalities as \"C\" > \"S/Q\" since Cherbourg has the best survival rate.\n",
    "\n",
    "</div>"
   ]
  },
  {
   "cell_type": "code",
   "execution_count": 119,
   "metadata": {},
   "outputs": [],
   "source": [
    "# Regroup \"S\" and \"Q\" as an unique modality \"S/Q\"\n",
    "df__engtrain[\"Embarked\"] = df__engtrain[\"Embarked\"].apply(lambda x: \"S/Q\" if x == \"S\" or x ==\"Q\" else x)\n",
    "\n",
    "# Order \"Embarked\" modalities\n",
    "df__engtrain[\"Embarked\"] = pd.Categorical(df__engtrain[\"Embarked\"], categories=[\"S/Q\", \"C\"], ordered=True) "
   ]
  },
  {
   "cell_type": "code",
   "execution_count": null,
   "metadata": {},
   "outputs": [],
   "source": [
    "# Don't forget to apply the same transformation on the test data\n",
    "df__engtest[\"Embarked\"] = df__engtest[\"Embarked\"].apply(lambda x: \"S/Q\" if x == \"S\" or x ==\"Q\" else x)\n",
    "df__engtest[\"Embarked\"] = pd.Categorical(df__engtest[\"Embarked\"], categories=[\"S/Q\", \"C\"], ordered=True) "
   ]
  },
  {
   "cell_type": "code",
   "execution_count": 120,
   "metadata": {},
   "outputs": [
    {
     "data": {
      "image/png": "[encoded data removed]",
      "text/plain": [
       "<Figure size 1000x600 with 1 Axes>"
      ]
     },
     "metadata": {},
     "output_type": "display_data"
    }
   ],
   "source": [
    "# Perform the new visualization of survival rate by embarkation point\n",
    "\n",
    "# Create a cross-tab between \"Embarked\" and \"Survived\"\n",
    "df__table = 100 * pd.crosstab(df__engtrain[\"Embarked\"], df__engtrain[\"Survived\"], normalize=\"index\")\n",
    "\n",
    "# Create the stacked bar chart\n",
    "ax_object = df__table.plot(kind='bar', stacked=True, figsize=(10, 6))\n",
    "\n",
    "# Customize the chart\n",
    "plt.title('Survival Rates by Embarkation Origin on Titanic', fontsize=16)\n",
    "plt.xlabel('Embarked', fontsize=12)\n",
    "plt.ylabel('Percentage', fontsize=12)\n",
    "plt.legend(['Did Not Survive', 'Survived'], title='Survival', loc='upper right')\n",
    "\n",
    "# Add value labels on the bars, rounded to two decimal places\n",
    "for barcontainer_object in ax_object.containers:\n",
    "    ax_object.bar_label(barcontainer_object, label_type='center', fmt='%.2f')\n",
    "\n",
    "# Adjust layout and display\n",
    "plt.tight_layout()\n",
    "plt.show()"
   ]
  },
  {
   "cell_type": "code",
   "execution_count": 121,
   "metadata": {},
   "outputs": [],
   "source": [
    "# Cleanup\n",
    "del df__table, ax_object, barcontainer_object"
   ]
  },
  {
   "cell_type": "code",
   "execution_count": 122,
   "metadata": {},
   "outputs": [
    {
     "data": {
      "text/plain": [
       "np.float64(0.1652904130300282)"
      ]
     },
     "execution_count": 122,
     "metadata": {},
     "output_type": "execute_result"
    }
   ],
   "source": [
    "# Recalculate Cramer's V for effect size : strength of the association between \"Embarked\" and \"Survived\" \n",
    "# (Check if its value has increased or isn't too low compared to before)\n",
    "df__table = pd.crosstab(df__engtrain[\"Embarked\"], df__engtrain[\"Survived\"])\n",
    "np.sqrt(chi2_contingency(df__table)[0] / (df__table.sum().sum() * (min(df__table.shape) - 1)))"
   ]
  },
  {
   "cell_type": "code",
   "execution_count": 123,
   "metadata": {},
   "outputs": [],
   "source": [
    "# Cleanup\n",
    "del df__table"
   ]
  },
  {
   "cell_type": "markdown",
   "metadata": {},
   "source": [
    "##### *6.3. BoardingClass and Survived*"
   ]
  },
  {
   "cell_type": "code",
   "execution_count": 124,
   "metadata": {},
   "outputs": [
    {
     "data": {
      "image/png": "[encoded data removed]",
      "text/plain": [
       "<Figure size 1000x600 with 1 Axes>"
      ]
     },
     "metadata": {},
     "output_type": "display_data"
    }
   ],
   "source": [
    "# Create a cross-tab between \"BoardingClass\" and \"Survived\"\n",
    "df__table = 100 * pd.crosstab(df__engtrain[\"BoardingClass\"], df__engtrain[\"Survived\"], normalize=\"index\")\n",
    "\n",
    "# Create the stacked bar chart\n",
    "ax_object = df__table.plot(kind='bar', stacked=True, figsize=(10, 6))\n",
    "\n",
    "# Customize the chart\n",
    "plt.title('Survival Rates by Boarding Class on Titanic', fontsize=16)\n",
    "plt.xlabel('BoardingClass', fontsize=12)\n",
    "plt.ylabel('Percentage', fontsize=12)\n",
    "plt.legend(['Did Not Survive', 'Survived'], title='Survival', loc='upper right')\n",
    "\n",
    "# Add value labels on the bars, rounded to two decimal places\n",
    "for barcontainer_object in ax_object.containers:\n",
    "    ax_object.bar_label(barcontainer_object, label_type='center', fmt='%.2f')\n",
    "\n",
    "# Adjust layout and display\n",
    "plt.tight_layout()\n",
    "plt.show()"
   ]
  },
  {
   "cell_type": "code",
   "execution_count": 125,
   "metadata": {},
   "outputs": [],
   "source": [
    "# Cleanup\n",
    "del df__table, ax_object, barcontainer_object"
   ]
  },
  {
   "cell_type": "code",
   "execution_count": 126,
   "metadata": {},
   "outputs": [
    {
     "data": {
      "text/plain": [
       "Chi2ContingencyResult(statistic=np.float64(102.88898875696057), pvalue=np.float64(4.5492517112987275e-23), dof=2, expected_freq=array([[302.53535354, 188.46464646],\n",
       "       [113.37373737,  70.62626263],\n",
       "       [133.09090909,  82.90909091]]))"
      ]
     },
     "execution_count": 126,
     "metadata": {},
     "output_type": "execute_result"
    }
   ],
   "source": [
    "# Perform a Chi-Square test (risk level of 5%) between \"BoardingClass\" and \"Survived\"\n",
    "chi2_contingency(pd.crosstab(df__engtrain[\"BoardingClass\"], df__engtrain[\"Survived\"]))"
   ]
  },
  {
   "cell_type": "code",
   "execution_count": 127,
   "metadata": {},
   "outputs": [
    {
     "data": {
      "text/plain": [
       "np.float64(0.33981738800531175)"
      ]
     },
     "execution_count": 127,
     "metadata": {},
     "output_type": "execute_result"
    }
   ],
   "source": [
    "# Calculate Cramer's V for effect size : strength of the association between \"BoardingClass\" and \"Survived\"\n",
    "df__table = pd.crosstab(df__engtrain[\"BoardingClass\"], df__engtrain[\"Survived\"])\n",
    "np.sqrt(chi2_contingency(df__table)[0] / (df__table.sum().sum() * (min(df__table.shape) - 1)))"
   ]
  },
  {
   "cell_type": "code",
   "execution_count": 128,
   "metadata": {},
   "outputs": [],
   "source": [
    "# Cleanup\n",
    "del df__table"
   ]
  },
  {
   "cell_type": "markdown",
   "metadata": {},
   "source": [
    "<div style=\"background-color: green; padding: 10px;\">\n",
    "\n",
    "- The p-value of the Chi-Square test between \"BoardingClass\" and \"Survived\" is up to 5e-23 (lesser than 0.05).\n",
    "- The strength of the association between \"BoardingClass\" and \"Survived\" is up to 34%.\n",
    "- Under a risk level of 5%, the survival rate of a passenger on the Titanic is statistically linked to its boarding class; the most privileged class is the one with the best survival rate, followed by the moderately privileged and finally the less privileged. \n",
    "- From one boarding class to another, the survival rate drops/increases at least by 15%.\n",
    "- We will order \"BoardingClass\" modalities as \"most privileged\" > \"moderately privileged\" > \"least privileged\".\n",
    "\n",
    "</div>"
   ]
  },
  {
   "cell_type": "code",
   "execution_count": 129,
   "metadata": {},
   "outputs": [],
   "source": [
    "# Order \"BoardingClass\" modalities\n",
    "df__engtrain[\"BoardingClass\"] = pd.Categorical(df__engtrain[\"BoardingClass\"], categories=[\"least privileged\", \"moderately privileged\", \"most privileged\"], ordered=True) "
   ]
  },
  {
   "cell_type": "code",
   "execution_count": null,
   "metadata": {},
   "outputs": [],
   "source": [
    "# Don't forget to apply the same transformation on the test data\n",
    "df__engtest[\"BoardingClass\"] = pd.Categorical(df__engtest[\"BoardingClass\"], categories=[\"least privileged\", \"moderately privileged\", \"most privileged\"], ordered=True)"
   ]
  },
  {
   "cell_type": "markdown",
   "metadata": {},
   "source": [
    "##### *6.4. AgeCategory and Survived*"
   ]
  },
  {
   "cell_type": "code",
   "execution_count": 130,
   "metadata": {},
   "outputs": [
    {
     "data": {
      "image/png": "[encoded data removed]",
      "text/plain": [
       "<Figure size 1000x600 with 1 Axes>"
      ]
     },
     "metadata": {},
     "output_type": "display_data"
    }
   ],
   "source": [
    "# Create a cross-tab between \"AgeCategory\" and \"Survived\"\n",
    "df__table = 100 * pd.crosstab(df__engtrain[\"AgeCategory\"], df__engtrain[\"Survived\"], normalize=\"index\")\n",
    "\n",
    "# Create the stacked bar chart\n",
    "ax_object = df__table.plot(kind='bar', stacked=True, figsize=(10, 6))\n",
    "\n",
    "# Customize the chart\n",
    "plt.title('Survival Rates by Age Category on Titanic', fontsize=16)\n",
    "plt.xlabel('AgeCategory', fontsize=12)\n",
    "plt.ylabel('Percentage', fontsize=12)\n",
    "plt.legend(['Did Not Survive', 'Survived'], title='Survival', loc='upper right')\n",
    "\n",
    "# Add value labels on the bars, rounded to two decimal places\n",
    "for barcontainer_object in ax_object.containers:\n",
    "    ax_object.bar_label(barcontainer_object, label_type='center', fmt='%.2f')\n",
    "\n",
    "# Adjust layout and display\n",
    "plt.tight_layout()\n",
    "plt.show()"
   ]
  },
  {
   "cell_type": "code",
   "execution_count": 131,
   "metadata": {},
   "outputs": [],
   "source": [
    "# Cleanup\n",
    "del df__table, ax_object, barcontainer_object"
   ]
  },
  {
   "cell_type": "code",
   "execution_count": 132,
   "metadata": {},
   "outputs": [
    {
     "data": {
      "text/plain": [
       "Chi2ContingencyResult(statistic=np.float64(4.532861903539718), pvalue=np.float64(0.03324996842582618), dof=1, expected_freq=array([[438.09090909, 272.90909091],\n",
       "       [110.90909091,  69.09090909]]))"
      ]
     },
     "execution_count": 132,
     "metadata": {},
     "output_type": "execute_result"
    }
   ],
   "source": [
    "# Perform a Chi-Square test (risk level of 5%) between \"AgeCategory\" and \"Survived\"\n",
    "chi2_contingency(pd.crosstab(df__engtrain[\"AgeCategory\"], df__engtrain[\"Survived\"]))"
   ]
  },
  {
   "cell_type": "code",
   "execution_count": 133,
   "metadata": {},
   "outputs": [
    {
     "data": {
      "text/plain": [
       "np.float64(0.07132592163531087)"
      ]
     },
     "execution_count": 133,
     "metadata": {},
     "output_type": "execute_result"
    }
   ],
   "source": [
    "# Calculate Cramer's V for effect size : strength of the association between \"AgeCategory\" and \"Survived\"\n",
    "df__table = pd.crosstab(df__engtrain[\"AgeCategory\"], df__engtrain[\"Survived\"])\n",
    "np.sqrt(chi2_contingency(df__table)[0] / (df__table.sum().sum() * (min(df__table.shape) - 1)))"
   ]
  },
  {
   "cell_type": "code",
   "execution_count": 134,
   "metadata": {},
   "outputs": [],
   "source": [
    "# Cleanup\n",
    "del df__table"
   ]
  },
  {
   "cell_type": "markdown",
   "metadata": {},
   "source": [
    "<div style=\"background-color: green; padding: 10px;\">\n",
    "\n",
    "- The p-value of the Chi-Square test between \"AgeCategory\" and \"Survived\" is up to 0.03 (just is little lesser than 0.05).\n",
    "- The strength of the association between \"AgeCategory\" and \"Survived\" is really low (only 7.1%) compared to the previous covariates.\n",
    "- \"AgeCategory\" has a limited explanatory power regarding \"Survived\".\n",
    "\n",
    "</div>"
   ]
  },
  {
   "cell_type": "markdown",
   "metadata": {},
   "source": [
    "##### *6.5. FamilySize and Survived*"
   ]
  },
  {
   "cell_type": "code",
   "execution_count": 137,
   "metadata": {},
   "outputs": [
    {
     "data": {
      "image/png": "[encoded data removed]",
      "text/plain": [
       "<Figure size 1000x600 with 1 Axes>"
      ]
     },
     "metadata": {},
     "output_type": "display_data"
    }
   ],
   "source": [
    "# Create a cross-tab between \"FamilySize\" and \"Survived\"\n",
    "df__table = 100 * pd.crosstab(df__engtrain[\"FamilySize\"], df__engtrain[\"Survived\"], normalize=\"index\")\n",
    "\n",
    "# Create the stacked bar chart\n",
    "ax_object = df__table.plot(kind='bar', stacked=True, figsize=(10, 6))\n",
    "\n",
    "# Customize the chart\n",
    "plt.title('Survival Rates by Family Size on Titanic', fontsize=16)\n",
    "plt.xlabel('FamilySize', fontsize=12)\n",
    "plt.ylabel('Percentage', fontsize=12)\n",
    "plt.legend(['Did Not Survive', 'Survived'], title='Survival', loc='upper right')\n",
    "\n",
    "# Add value labels on the bars, rounded to two decimal places\n",
    "for barcontainer_object in ax_object.containers:\n",
    "    ax_object.bar_label(barcontainer_object, label_type='center', fmt='%.2f')\n",
    "\n",
    "# Adjust layout and display\n",
    "plt.tight_layout()\n",
    "plt.show()"
   ]
  },
  {
   "cell_type": "code",
   "execution_count": 138,
   "metadata": {},
   "outputs": [],
   "source": [
    "# Cleanup\n",
    "del df__table, ax_object, barcontainer_object"
   ]
  },
  {
   "cell_type": "code",
   "execution_count": 139,
   "metadata": {},
   "outputs": [
    {
     "data": {
      "text/plain": [
       "Chi2ContingencyResult(statistic=np.float64(36.00051446773864), pvalue=np.float64(1.9726543846517183e-09), dof=1, expected_freq=array([[330.87878788, 206.12121212],\n",
       "       [218.12121212, 135.87878788]]))"
      ]
     },
     "execution_count": 139,
     "metadata": {},
     "output_type": "execute_result"
    }
   ],
   "source": [
    "# Perform a Chi-Square test (risk level of 5%) between \"FamilySize\" and \"Survived\"\n",
    "chi2_contingency(pd.crosstab(df__engtrain[\"FamilySize\"], df__engtrain[\"Survived\"]))"
   ]
  },
  {
   "cell_type": "code",
   "execution_count": 140,
   "metadata": {},
   "outputs": [
    {
     "data": {
      "text/plain": [
       "np.float64(0.20100899932318902)"
      ]
     },
     "execution_count": 140,
     "metadata": {},
     "output_type": "execute_result"
    }
   ],
   "source": [
    "# Calculate Cramer's V for effect size : strength of the association between \"FamilySize\" and \"Survived\"\n",
    "df__table = pd.crosstab(df__engtrain[\"FamilySize\"], df__engtrain[\"Survived\"])\n",
    "np.sqrt(chi2_contingency(df__table)[0] / (df__table.sum().sum() * (min(df__table.shape) - 1)))"
   ]
  },
  {
   "cell_type": "code",
   "execution_count": 141,
   "metadata": {},
   "outputs": [],
   "source": [
    "# Cleanup\n",
    "del df__table"
   ]
  },
  {
   "cell_type": "markdown",
   "metadata": {},
   "source": [
    "<div style=\"background-color: green; padding: 10px;\">\n",
    "\n",
    "- The p-value of the Chi-Square test between \"FamilySize\" and \"Survived\" is up to 2e-09 (lesser than 0.05).\n",
    "- The strength of the association between \"FamilySize\" and \"Survived\" is up to 20%.\n",
    "- Under a risk level of 5%, the survival rate of a passenger on the Titanic is statistically linked to his family size; those not alone being the ones with the best survival rate.\n",
    "- We will order \"FamilySize\" modalities as \"not alone\" > \"alone\" since those not alone have the best survival rate.\n",
    "\n",
    "</div>"
   ]
  },
  {
   "cell_type": "code",
   "execution_count": null,
   "metadata": {},
   "outputs": [],
   "source": [
    "# Order \"FamilySize\" modalities\n",
    "df__engtrain[\"FamilySize\"] = pd.Categorical(df__engtrain[\"FamilySize\"], categories=[\"not alone\", \"alone\"], ordered=True) "
   ]
  },
  {
   "cell_type": "code",
   "execution_count": null,
   "metadata": {},
   "outputs": [],
   "source": [
    "# Don't forget to apply the same transformation on the test data\n",
    "df__engtest[\"FamilySize\"] = pd.Categorical(df__engtest[\"FamilySize\"], categories=[\"not alone\", \"alone\"], ordered=True)"
   ]
  },
  {
   "cell_type": "code",
   "execution_count": 135,
   "metadata": {},
   "outputs": [
    {
     "data": {
      "text/html": [
       "<div>\n",
       "<style scoped>\n",
       "    .dataframe tbody tr th:only-of-type {\n",
       "        vertical-align: middle;\n",
       "    }\n",
       "\n",
       "    .dataframe tbody tr th {\n",
       "        vertical-align: top;\n",
       "    }\n",
       "\n",
       "    .dataframe thead th {\n",
       "        text-align: right;\n",
       "    }\n",
       "</style>\n",
       "<table border=\"1\" class=\"dataframe\">\n",
       "  <thead>\n",
       "    <tr style=\"text-align: right;\">\n",
       "      <th></th>\n",
       "      <th>PassengerId</th>\n",
       "      <th>Survived</th>\n",
       "      <th>Sex</th>\n",
       "      <th>Embarked</th>\n",
       "      <th>BoardingClass</th>\n",
       "      <th>AgeCategory</th>\n",
       "      <th>FamilySize</th>\n",
       "    </tr>\n",
       "  </thead>\n",
       "  <tbody>\n",
       "    <tr>\n",
       "      <th>0</th>\n",
       "      <td>1</td>\n",
       "      <td>0</td>\n",
       "      <td>male</td>\n",
       "      <td>S/Q</td>\n",
       "      <td>least privileged</td>\n",
       "      <td>adult</td>\n",
       "      <td>not alone</td>\n",
       "    </tr>\n",
       "    <tr>\n",
       "      <th>1</th>\n",
       "      <td>2</td>\n",
       "      <td>1</td>\n",
       "      <td>female</td>\n",
       "      <td>C</td>\n",
       "      <td>most privileged</td>\n",
       "      <td>adult</td>\n",
       "      <td>not alone</td>\n",
       "    </tr>\n",
       "    <tr>\n",
       "      <th>2</th>\n",
       "      <td>3</td>\n",
       "      <td>1</td>\n",
       "      <td>female</td>\n",
       "      <td>S/Q</td>\n",
       "      <td>least privileged</td>\n",
       "      <td>adult</td>\n",
       "      <td>alone</td>\n",
       "    </tr>\n",
       "    <tr>\n",
       "      <th>3</th>\n",
       "      <td>4</td>\n",
       "      <td>1</td>\n",
       "      <td>female</td>\n",
       "      <td>S/Q</td>\n",
       "      <td>most privileged</td>\n",
       "      <td>adult</td>\n",
       "      <td>not alone</td>\n",
       "    </tr>\n",
       "    <tr>\n",
       "      <th>4</th>\n",
       "      <td>5</td>\n",
       "      <td>0</td>\n",
       "      <td>male</td>\n",
       "      <td>S/Q</td>\n",
       "      <td>least privileged</td>\n",
       "      <td>adult</td>\n",
       "      <td>alone</td>\n",
       "    </tr>\n",
       "    <tr>\n",
       "      <th>...</th>\n",
       "      <td>...</td>\n",
       "      <td>...</td>\n",
       "      <td>...</td>\n",
       "      <td>...</td>\n",
       "      <td>...</td>\n",
       "      <td>...</td>\n",
       "      <td>...</td>\n",
       "    </tr>\n",
       "    <tr>\n",
       "      <th>886</th>\n",
       "      <td>887</td>\n",
       "      <td>0</td>\n",
       "      <td>male</td>\n",
       "      <td>S/Q</td>\n",
       "      <td>moderately privileged</td>\n",
       "      <td>adult</td>\n",
       "      <td>alone</td>\n",
       "    </tr>\n",
       "    <tr>\n",
       "      <th>887</th>\n",
       "      <td>888</td>\n",
       "      <td>1</td>\n",
       "      <td>female</td>\n",
       "      <td>S/Q</td>\n",
       "      <td>most privileged</td>\n",
       "      <td>young</td>\n",
       "      <td>alone</td>\n",
       "    </tr>\n",
       "    <tr>\n",
       "      <th>888</th>\n",
       "      <td>889</td>\n",
       "      <td>0</td>\n",
       "      <td>female</td>\n",
       "      <td>S/Q</td>\n",
       "      <td>least privileged</td>\n",
       "      <td>adult</td>\n",
       "      <td>not alone</td>\n",
       "    </tr>\n",
       "    <tr>\n",
       "      <th>889</th>\n",
       "      <td>890</td>\n",
       "      <td>1</td>\n",
       "      <td>male</td>\n",
       "      <td>C</td>\n",
       "      <td>most privileged</td>\n",
       "      <td>adult</td>\n",
       "      <td>alone</td>\n",
       "    </tr>\n",
       "    <tr>\n",
       "      <th>890</th>\n",
       "      <td>891</td>\n",
       "      <td>0</td>\n",
       "      <td>male</td>\n",
       "      <td>S/Q</td>\n",
       "      <td>least privileged</td>\n",
       "      <td>adult</td>\n",
       "      <td>alone</td>\n",
       "    </tr>\n",
       "  </tbody>\n",
       "</table>\n",
       "<p>891 rows × 7 columns</p>\n",
       "</div>"
      ],
      "text/plain": [
       "    PassengerId  Survived     Sex Embarked          BoardingClass AgeCategory  \\\n",
       "0             1         0    male      S/Q       least privileged       adult   \n",
       "1             2         1  female        C        most privileged       adult   \n",
       "2             3         1  female      S/Q       least privileged       adult   \n",
       "3             4         1  female      S/Q        most privileged       adult   \n",
       "4             5         0    male      S/Q       least privileged       adult   \n",
       "..          ...       ...     ...      ...                    ...         ...   \n",
       "886         887         0    male      S/Q  moderately privileged       adult   \n",
       "887         888         1  female      S/Q        most privileged       young   \n",
       "888         889         0  female      S/Q       least privileged       adult   \n",
       "889         890         1    male        C        most privileged       adult   \n",
       "890         891         0    male      S/Q       least privileged       adult   \n",
       "\n",
       "    FamilySize  \n",
       "0    not alone  \n",
       "1    not alone  \n",
       "2        alone  \n",
       "3    not alone  \n",
       "4        alone  \n",
       "..         ...  \n",
       "886      alone  \n",
       "887      alone  \n",
       "888  not alone  \n",
       "889      alone  \n",
       "890      alone  \n",
       "\n",
       "[891 rows x 7 columns]"
      ]
     },
     "execution_count": 135,
     "metadata": {},
     "output_type": "execute_result"
    }
   ],
   "source": [
    "df__engtrain"
   ]
  },
  {
   "cell_type": "code",
   "execution_count": null,
   "metadata": {},
   "outputs": [],
   "source": []
  },
  {
   "cell_type": "markdown",
   "metadata": {},
   "source": [
    "#### 7. Model Survived feature"
   ]
  },
  {
   "cell_type": "code",
   "execution_count": null,
   "metadata": {},
   "outputs": [],
   "source": []
  },
  {
   "cell_type": "code",
   "execution_count": 136,
   "metadata": {},
   "outputs": [],
   "source": [
    "# %reset -f"
   ]
  }
 ],
 "metadata": {
  "kernelspec": {
   "display_name": ".venv",
   "language": "python",
   "name": "python3"
  },
  "language_info": {
   "codemirror_mode": {
    "name": "ipython",
    "version": 3
   },
   "file_extension": ".py",
   "mimetype": "text/x-python",
   "name": "python",
   "nbconvert_exporter": "python",
   "pygments_lexer": "ipython3",
   "version": "3.12.4"
  }
 },
 "nbformat": 4,
 "nbformat_minor": 2
}
