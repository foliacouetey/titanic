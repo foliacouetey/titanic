{
 "cells": [
  {
   "cell_type": "markdown",
   "metadata": {},
   "source": [
    "#### 1. Refer to this section for a description of the problem"
   ]
  },
  {
   "cell_type": "markdown",
   "metadata": {},
   "source": [
    "__[Kaggle](https://www.kaggle.com/competitions/titanic/data)__ platform provides two datasets (_train.csv_, _test.csv_) containing information about Titanic passengers, such as :\n",
    "\n",
    "- An unique identifier for each passenger (_PassengerId_) ;\n",
    "- The class of service in which the passenger traveled (_Pclass_) ;\n",
    "- The passenger's full name (_Name_) ;\n",
    "- The gender of the passenger (_Sex_) ;\n",
    "- The age of the passenger (_Age_) ;\n",
    "- The number of siblings or/and spouses with the passenger on the ship (_SibSp_) ;\n",
    "- The number of parents or/and children with the passenger on the ship (_Parch_) ;\n",
    "- The ticket number assigned to the passenger (_Ticket_) ;\n",
    "- The fare paid by the passenger (_Fare_) ;\n",
    "- The cabin number assigned to the passenger (_Cabin_) ;\n",
    "- The port from which the passenger embarked (_Embarked_) ;\n",
    "- The survival status of the passenger post-collision (_Survived_), which is available only for samples in _train.csv_.\n",
    "\n",
    "Based on the data and relationships identified in the _train.csv_ file, we aim to predict the survival status of passengers listed in _test.csv_ file after the shipwreck."
   ]
  },
  {
   "cell_type": "markdown",
   "metadata": {},
   "source": [
    "#### 2. Import required libraries"
   ]
  },
  {
   "cell_type": "code",
   "execution_count": 129,
   "metadata": {},
   "outputs": [],
   "source": [
    "import gc, pandas as pd, numpy as np, matplotlib.pyplot as plt, re\n",
    "from scipy.stats import kruskal, chi2_contingency, spearmanr\n",
    "from sklearn.ensemble import RandomForestClassifier\n",
    "from sklearn.linear_model import LogisticRegression\n",
    "from sklearn.preprocessing import OneHotEncoder\n",
    "from scipy.optimize import minimize\n",
    "from pathlib import Path"
   ]
  },
  {
   "cell_type": "markdown",
   "metadata": {},
   "source": [
    "#### 3. Set up correct path"
   ]
  },
  {
   "cell_type": "code",
   "execution_count": 130,
   "metadata": {},
   "outputs": [],
   "source": [
    "windowspath__scripts = Path().resolve()\n",
    "windowspath__data = windowspath__scripts.parent / \"data\""
   ]
  },
  {
   "cell_type": "markdown",
   "metadata": {},
   "source": [
    "#### 4. Import train.csv and test.csv files"
   ]
  },
  {
   "cell_type": "code",
   "execution_count": 131,
   "metadata": {},
   "outputs": [],
   "source": [
    "df__train = pd.read_csv(filepath_or_buffer=windowspath__data / \"train\" / \"train.csv\", dtype=str)\n",
    "df__test = pd.read_csv(filepath_or_buffer=windowspath__data / \"test\" / \"test.csv\", dtype=str)"
   ]
  },
  {
   "cell_type": "code",
   "execution_count": 132,
   "metadata": {},
   "outputs": [
    {
     "data": {
      "text/html": [
       "<div>\n",
       "<style scoped>\n",
       "    .dataframe tbody tr th:only-of-type {\n",
       "        vertical-align: middle;\n",
       "    }\n",
       "\n",
       "    .dataframe tbody tr th {\n",
       "        vertical-align: top;\n",
       "    }\n",
       "\n",
       "    .dataframe thead th {\n",
       "        text-align: right;\n",
       "    }\n",
       "</style>\n",
       "<table border=\"1\" class=\"dataframe\">\n",
       "  <thead>\n",
       "    <tr style=\"text-align: right;\">\n",
       "      <th></th>\n",
       "      <th>PassengerId</th>\n",
       "      <th>Survived</th>\n",
       "      <th>Pclass</th>\n",
       "      <th>Name</th>\n",
       "      <th>Sex</th>\n",
       "      <th>Age</th>\n",
       "      <th>SibSp</th>\n",
       "      <th>Parch</th>\n",
       "      <th>Ticket</th>\n",
       "      <th>Fare</th>\n",
       "      <th>Cabin</th>\n",
       "      <th>Embarked</th>\n",
       "    </tr>\n",
       "  </thead>\n",
       "  <tbody>\n",
       "    <tr>\n",
       "      <th>694</th>\n",
       "      <td>695</td>\n",
       "      <td>0</td>\n",
       "      <td>1</td>\n",
       "      <td>Weir, Col. John</td>\n",
       "      <td>male</td>\n",
       "      <td>60</td>\n",
       "      <td>0</td>\n",
       "      <td>0</td>\n",
       "      <td>113800</td>\n",
       "      <td>26.55</td>\n",
       "      <td>NaN</td>\n",
       "      <td>S</td>\n",
       "    </tr>\n",
       "    <tr>\n",
       "      <th>656</th>\n",
       "      <td>657</td>\n",
       "      <td>0</td>\n",
       "      <td>3</td>\n",
       "      <td>Radeff, Mr. Alexander</td>\n",
       "      <td>male</td>\n",
       "      <td>NaN</td>\n",
       "      <td>0</td>\n",
       "      <td>0</td>\n",
       "      <td>349223</td>\n",
       "      <td>7.8958</td>\n",
       "      <td>NaN</td>\n",
       "      <td>S</td>\n",
       "    </tr>\n",
       "    <tr>\n",
       "      <th>34</th>\n",
       "      <td>35</td>\n",
       "      <td>0</td>\n",
       "      <td>1</td>\n",
       "      <td>Meyer, Mr. Edgar Joseph</td>\n",
       "      <td>male</td>\n",
       "      <td>28</td>\n",
       "      <td>1</td>\n",
       "      <td>0</td>\n",
       "      <td>PC 17604</td>\n",
       "      <td>82.1708</td>\n",
       "      <td>NaN</td>\n",
       "      <td>C</td>\n",
       "    </tr>\n",
       "  </tbody>\n",
       "</table>\n",
       "</div>"
      ],
      "text/plain": [
       "    PassengerId Survived Pclass                     Name   Sex  Age SibSp  \\\n",
       "694         695        0      1          Weir, Col. John  male   60     0   \n",
       "656         657        0      3    Radeff, Mr. Alexander  male  NaN     0   \n",
       "34           35        0      1  Meyer, Mr. Edgar Joseph  male   28     1   \n",
       "\n",
       "    Parch    Ticket     Fare Cabin Embarked  \n",
       "694     0    113800    26.55   NaN        S  \n",
       "656     0    349223   7.8958   NaN        S  \n",
       "34      0  PC 17604  82.1708   NaN        C  "
      ]
     },
     "execution_count": 132,
     "metadata": {},
     "output_type": "execute_result"
    }
   ],
   "source": [
    "# Take a look at df__train\n",
    "df__train.sample(n=3)"
   ]
  },
  {
   "cell_type": "code",
   "execution_count": 133,
   "metadata": {},
   "outputs": [
    {
     "data": {
      "text/html": [
       "<div>\n",
       "<style scoped>\n",
       "    .dataframe tbody tr th:only-of-type {\n",
       "        vertical-align: middle;\n",
       "    }\n",
       "\n",
       "    .dataframe tbody tr th {\n",
       "        vertical-align: top;\n",
       "    }\n",
       "\n",
       "    .dataframe thead th {\n",
       "        text-align: right;\n",
       "    }\n",
       "</style>\n",
       "<table border=\"1\" class=\"dataframe\">\n",
       "  <thead>\n",
       "    <tr style=\"text-align: right;\">\n",
       "      <th></th>\n",
       "      <th>PassengerId</th>\n",
       "      <th>Pclass</th>\n",
       "      <th>Name</th>\n",
       "      <th>Sex</th>\n",
       "      <th>Age</th>\n",
       "      <th>SibSp</th>\n",
       "      <th>Parch</th>\n",
       "      <th>Ticket</th>\n",
       "      <th>Fare</th>\n",
       "      <th>Cabin</th>\n",
       "      <th>Embarked</th>\n",
       "    </tr>\n",
       "  </thead>\n",
       "  <tbody>\n",
       "    <tr>\n",
       "      <th>332</th>\n",
       "      <td>1224</td>\n",
       "      <td>3</td>\n",
       "      <td>Thomas, Mr. Tannous</td>\n",
       "      <td>male</td>\n",
       "      <td>NaN</td>\n",
       "      <td>0</td>\n",
       "      <td>0</td>\n",
       "      <td>2684</td>\n",
       "      <td>7.225</td>\n",
       "      <td>NaN</td>\n",
       "      <td>C</td>\n",
       "    </tr>\n",
       "    <tr>\n",
       "      <th>306</th>\n",
       "      <td>1198</td>\n",
       "      <td>1</td>\n",
       "      <td>Allison, Mr. Hudson Joshua Creighton</td>\n",
       "      <td>male</td>\n",
       "      <td>30</td>\n",
       "      <td>1</td>\n",
       "      <td>2</td>\n",
       "      <td>113781</td>\n",
       "      <td>151.55</td>\n",
       "      <td>C22 C26</td>\n",
       "      <td>S</td>\n",
       "    </tr>\n",
       "    <tr>\n",
       "      <th>328</th>\n",
       "      <td>1220</td>\n",
       "      <td>2</td>\n",
       "      <td>Clarke, Mr. Charles Valentine</td>\n",
       "      <td>male</td>\n",
       "      <td>29</td>\n",
       "      <td>1</td>\n",
       "      <td>0</td>\n",
       "      <td>2003</td>\n",
       "      <td>26</td>\n",
       "      <td>NaN</td>\n",
       "      <td>S</td>\n",
       "    </tr>\n",
       "  </tbody>\n",
       "</table>\n",
       "</div>"
      ],
      "text/plain": [
       "    PassengerId Pclass                                  Name   Sex  Age SibSp  \\\n",
       "332        1224      3                   Thomas, Mr. Tannous  male  NaN     0   \n",
       "306        1198      1  Allison, Mr. Hudson Joshua Creighton  male   30     1   \n",
       "328        1220      2         Clarke, Mr. Charles Valentine  male   29     1   \n",
       "\n",
       "    Parch  Ticket    Fare    Cabin Embarked  \n",
       "332     0    2684   7.225      NaN        C  \n",
       "306     2  113781  151.55  C22 C26        S  \n",
       "328     0    2003      26      NaN        S  "
      ]
     },
     "execution_count": 133,
     "metadata": {},
     "output_type": "execute_result"
    }
   ],
   "source": [
    "# Take a look at df__test\n",
    "df__test.sample(n=3)"
   ]
  },
  {
   "cell_type": "markdown",
   "metadata": {},
   "source": [
    "Other than \"Survived\" (which we call target) and \"PassengerId\", all others features will be called covariates."
   ]
  },
  {
   "cell_type": "markdown",
   "metadata": {},
   "source": [
    "#### 5. Basic feature engineering (using some of the relations between covariates)"
   ]
  },
  {
   "cell_type": "code",
   "execution_count": 134,
   "metadata": {},
   "outputs": [
    {
     "data": {
      "text/html": [
       "<div>\n",
       "<style scoped>\n",
       "    .dataframe tbody tr th:only-of-type {\n",
       "        vertical-align: middle;\n",
       "    }\n",
       "\n",
       "    .dataframe tbody tr th {\n",
       "        vertical-align: top;\n",
       "    }\n",
       "\n",
       "    .dataframe thead th {\n",
       "        text-align: right;\n",
       "    }\n",
       "</style>\n",
       "<table border=\"1\" class=\"dataframe\">\n",
       "  <thead>\n",
       "    <tr style=\"text-align: right;\">\n",
       "      <th></th>\n",
       "      <th>PassengerId</th>\n",
       "      <th>Pclass</th>\n",
       "      <th>Name</th>\n",
       "      <th>Sex</th>\n",
       "      <th>Age</th>\n",
       "      <th>SibSp</th>\n",
       "      <th>Parch</th>\n",
       "      <th>Ticket</th>\n",
       "      <th>Fare</th>\n",
       "      <th>Cabin</th>\n",
       "      <th>Embarked</th>\n",
       "    </tr>\n",
       "  </thead>\n",
       "  <tbody>\n",
       "    <tr>\n",
       "      <th>1088</th>\n",
       "      <td>1089</td>\n",
       "      <td>3</td>\n",
       "      <td>Nilsson, Miss. Berta Olivia</td>\n",
       "      <td>female</td>\n",
       "      <td>18</td>\n",
       "      <td>0</td>\n",
       "      <td>0</td>\n",
       "      <td>347066</td>\n",
       "      <td>7.775</td>\n",
       "      <td>NaN</td>\n",
       "      <td>S</td>\n",
       "    </tr>\n",
       "    <tr>\n",
       "      <th>1274</th>\n",
       "      <td>1275</td>\n",
       "      <td>3</td>\n",
       "      <td>McNamee, Mrs. Neal (Eileen O'Leary)</td>\n",
       "      <td>female</td>\n",
       "      <td>19</td>\n",
       "      <td>1</td>\n",
       "      <td>0</td>\n",
       "      <td>376566</td>\n",
       "      <td>16.1</td>\n",
       "      <td>NaN</td>\n",
       "      <td>S</td>\n",
       "    </tr>\n",
       "    <tr>\n",
       "      <th>694</th>\n",
       "      <td>695</td>\n",
       "      <td>1</td>\n",
       "      <td>Weir, Col. John</td>\n",
       "      <td>male</td>\n",
       "      <td>60</td>\n",
       "      <td>0</td>\n",
       "      <td>0</td>\n",
       "      <td>113800</td>\n",
       "      <td>26.55</td>\n",
       "      <td>NaN</td>\n",
       "      <td>S</td>\n",
       "    </tr>\n",
       "  </tbody>\n",
       "</table>\n",
       "</div>"
      ],
      "text/plain": [
       "     PassengerId Pclass                                 Name     Sex Age  \\\n",
       "1088        1089      3          Nilsson, Miss. Berta Olivia  female  18   \n",
       "1274        1275      3  McNamee, Mrs. Neal (Eileen O'Leary)  female  19   \n",
       "694          695      1                      Weir, Col. John    male  60   \n",
       "\n",
       "     SibSp Parch  Ticket   Fare Cabin Embarked  \n",
       "1088     0     0  347066  7.775   NaN        S  \n",
       "1274     1     0  376566   16.1   NaN        S  \n",
       "694      0     0  113800  26.55   NaN        S  "
      ]
     },
     "execution_count": 134,
     "metadata": {},
     "output_type": "execute_result"
    }
   ],
   "source": [
    "# Define an unified view of df__train and df__test\n",
    "df__titanic = pd.concat([df__train.copy(deep=True).drop(columns=[\"Survived\"]), df__test.copy(deep=True)], ignore_index=True)\n",
    "\n",
    "# Do not forget that samples of df__train and df__test are identified by their PassengerId\n",
    "\n",
    "# Take a look at df__titanic\n",
    "df__titanic.sample(n=3)"
   ]
  },
  {
   "cell_type": "markdown",
   "metadata": {},
   "source": [
    "##### *5.1. PClass, Ticket, Cabin*"
   ]
  },
  {
   "cell_type": "code",
   "execution_count": 135,
   "metadata": {},
   "outputs": [
    {
     "data": {
      "text/plain": [
       "Ticket    0\n",
       "dtype: int64"
      ]
     },
     "execution_count": 135,
     "metadata": {},
     "output_type": "execute_result"
    }
   ],
   "source": [
    "# Are there missing values in \"Ticket\" ?\n",
    "df__titanic[[\"Ticket\"]].isnull().sum()"
   ]
  },
  {
   "cell_type": "code",
   "execution_count": 136,
   "metadata": {},
   "outputs": [
    {
     "data": {
      "text/plain": [
       "Cabin    1014\n",
       "dtype: int64"
      ]
     },
     "execution_count": 136,
     "metadata": {},
     "output_type": "execute_result"
    }
   ],
   "source": [
    "# Are there missing values in \"Cabin\" ?\n",
    "df__titanic[[\"Cabin\"]].isnull().sum()"
   ]
  },
  {
   "cell_type": "code",
   "execution_count": 137,
   "metadata": {},
   "outputs": [
    {
     "data": {
      "text/plain": [
       "Pclass    0\n",
       "dtype: int64"
      ]
     },
     "execution_count": 137,
     "metadata": {},
     "output_type": "execute_result"
    }
   ],
   "source": [
    "# Are there missing values in \"Pclass\" ?\n",
    "df__titanic[[\"Pclass\"]].isnull().sum()"
   ]
  },
  {
   "cell_type": "code",
   "execution_count": 138,
   "metadata": {},
   "outputs": [],
   "source": [
    "# Remove \"Ticket\" and \"Cabin\" since their information can be seen as summarized and grouped in \"PClass\"\n",
    "\n",
    "# \"Ticket\" granularity could be a problem for a good model construction\n",
    "# \"Cabin\" has missing values which would be difficult to impute, and even if we manage to impute them it has the same granularity problem as \"Ticket\"\n",
    "\n",
    "df__titanic.drop(columns=[\"Ticket\", \"Cabin\"], inplace=True)"
   ]
  },
  {
   "cell_type": "code",
   "execution_count": 139,
   "metadata": {},
   "outputs": [],
   "source": [
    "# Rewrite \"PClass\" feature as \"BoardingClass\"\n",
    "# first class is the most privileged, second class is moderately privileged, and third class is the least privileged. \n",
    "dict__pclass = {\"1\": \"most privileged\", \"2\": \"moderately privileged\", \"3\": \"least privileged\"}  \n",
    "df__titanic[\"BoardingClass\"] = df__titanic[\"Pclass\"].map(dict__pclass)\n",
    "\n",
    "# Cleanup\n",
    "del df__titanic[\"Pclass\"], dict__pclass"
   ]
  },
  {
   "cell_type": "code",
   "execution_count": 140,
   "metadata": {},
   "outputs": [
    {
     "data": {
      "text/plain": [
       "<Axes: title={'center': 'BoardingClass count distribution'}, xlabel='BoardingClass'>"
      ]
     },
     "execution_count": 140,
     "metadata": {},
     "output_type": "execute_result"
    },
    {
     "data": {
      "image/png": "[encoded data removed]",
      "text/plain": [
       "<Figure size 640x480 with 1 Axes>"
      ]
     },
     "metadata": {},
     "output_type": "display_data"
    }
   ],
   "source": [
    "# Take a look at \"BoardingClass\"\n",
    "df__titanic[\"BoardingClass\"].value_counts().plot(kind=\"bar\", title=\"BoardingClass count distribution\")"
   ]
  },
  {
   "cell_type": "markdown",
   "metadata": {},
   "source": [
    "<div style=\"background-color: green; padding: 10px;\">\n",
    "Half of the passengers on the ship are least privileged people.\n",
    "</div>"
   ]
  },
  {
   "cell_type": "code",
   "execution_count": 141,
   "metadata": {},
   "outputs": [
    {
     "data": {
      "text/html": [
       "<div>\n",
       "<style scoped>\n",
       "    .dataframe tbody tr th:only-of-type {\n",
       "        vertical-align: middle;\n",
       "    }\n",
       "\n",
       "    .dataframe tbody tr th {\n",
       "        vertical-align: top;\n",
       "    }\n",
       "\n",
       "    .dataframe thead th {\n",
       "        text-align: right;\n",
       "    }\n",
       "</style>\n",
       "<table border=\"1\" class=\"dataframe\">\n",
       "  <thead>\n",
       "    <tr style=\"text-align: right;\">\n",
       "      <th></th>\n",
       "      <th>PassengerId</th>\n",
       "      <th>Name</th>\n",
       "      <th>Sex</th>\n",
       "      <th>Age</th>\n",
       "      <th>SibSp</th>\n",
       "      <th>Parch</th>\n",
       "      <th>Fare</th>\n",
       "      <th>Embarked</th>\n",
       "      <th>BoardingClass</th>\n",
       "    </tr>\n",
       "  </thead>\n",
       "  <tbody>\n",
       "    <tr>\n",
       "      <th>4</th>\n",
       "      <td>5</td>\n",
       "      <td>Allen, Mr. William Henry</td>\n",
       "      <td>male</td>\n",
       "      <td>35</td>\n",
       "      <td>0</td>\n",
       "      <td>0</td>\n",
       "      <td>8.05</td>\n",
       "      <td>S</td>\n",
       "      <td>least privileged</td>\n",
       "    </tr>\n",
       "    <tr>\n",
       "      <th>1170</th>\n",
       "      <td>1171</td>\n",
       "      <td>Oxenham, Mr. Percy Thomas</td>\n",
       "      <td>male</td>\n",
       "      <td>22</td>\n",
       "      <td>0</td>\n",
       "      <td>0</td>\n",
       "      <td>10.5</td>\n",
       "      <td>S</td>\n",
       "      <td>moderately privileged</td>\n",
       "    </tr>\n",
       "    <tr>\n",
       "      <th>264</th>\n",
       "      <td>265</td>\n",
       "      <td>Henry, Miss. Delia</td>\n",
       "      <td>female</td>\n",
       "      <td>NaN</td>\n",
       "      <td>0</td>\n",
       "      <td>0</td>\n",
       "      <td>7.75</td>\n",
       "      <td>Q</td>\n",
       "      <td>least privileged</td>\n",
       "    </tr>\n",
       "  </tbody>\n",
       "</table>\n",
       "</div>"
      ],
      "text/plain": [
       "     PassengerId                       Name     Sex  Age SibSp Parch  Fare  \\\n",
       "4              5   Allen, Mr. William Henry    male   35     0     0  8.05   \n",
       "1170        1171  Oxenham, Mr. Percy Thomas    male   22     0     0  10.5   \n",
       "264          265         Henry, Miss. Delia  female  NaN     0     0  7.75   \n",
       "\n",
       "     Embarked          BoardingClass  \n",
       "4           S       least privileged  \n",
       "1170        S  moderately privileged  \n",
       "264         Q       least privileged  "
      ]
     },
     "execution_count": 141,
     "metadata": {},
     "output_type": "execute_result"
    }
   ],
   "source": [
    "# A view of df__titanic at this step\n",
    "df__titanic.sample(n=3)"
   ]
  },
  {
   "cell_type": "markdown",
   "metadata": {},
   "source": [
    "##### *5.2. Name, Sex, Age*"
   ]
  },
  {
   "cell_type": "code",
   "execution_count": 142,
   "metadata": {},
   "outputs": [
    {
     "data": {
      "text/plain": [
       "Sex    0\n",
       "dtype: int64"
      ]
     },
     "execution_count": 142,
     "metadata": {},
     "output_type": "execute_result"
    }
   ],
   "source": [
    "# Are there missing values in \"Sex\" ?\n",
    "df__titanic[[\"Sex\"]].isnull().sum()"
   ]
  },
  {
   "cell_type": "code",
   "execution_count": 143,
   "metadata": {},
   "outputs": [],
   "source": [
    "# Lowercase \"Name\" values, and remove periods\n",
    "df__titanic[\"Name\"] = df__titanic[\"Name\"].apply(lambda x: x.lower().replace(\".\", \"\"))"
   ]
  },
  {
   "cell_type": "markdown",
   "metadata": {},
   "source": [
    "<div style=\"background-color: green; padding: 10px;\">\n",
    "\n",
    "Research on early 20th-century naming conventions provides insights into titles incorporated in \"Name\" feature, which often indicated age or marital status :\n",
    "\n",
    "- Adult titles : \"mr\", \"mrs\", \"sir\", \"rev\", \"capt\", \"dr\", \"col\", \"major\", \"ms\", \"mme\", \"countess\", \"dona\", \"don\", \"jonkheer\"\n",
    "\n",
    "- Youth titles : \"master\", \"miss\"\n",
    "\n",
    "- Ambiguous titles : \"mlle\" (used for both young girls and unmarried women)\n",
    "\n",
    "Aldulthood for men was 21; whereas for women, it was 18 or 21.\n",
    "\n",
    "</div>"
   ]
  },
  {
   "cell_type": "code",
   "execution_count": 144,
   "metadata": {},
   "outputs": [
    {
     "data": {
      "text/html": [
       "<div>\n",
       "<style scoped>\n",
       "    .dataframe tbody tr th:only-of-type {\n",
       "        vertical-align: middle;\n",
       "    }\n",
       "\n",
       "    .dataframe tbody tr th {\n",
       "        vertical-align: top;\n",
       "    }\n",
       "\n",
       "    .dataframe thead th {\n",
       "        text-align: right;\n",
       "    }\n",
       "</style>\n",
       "<table border=\"1\" class=\"dataframe\">\n",
       "  <thead>\n",
       "    <tr style=\"text-align: right;\">\n",
       "      <th></th>\n",
       "      <th>PassengerId</th>\n",
       "      <th>Name</th>\n",
       "      <th>Sex</th>\n",
       "      <th>Age</th>\n",
       "      <th>SibSp</th>\n",
       "      <th>Parch</th>\n",
       "      <th>Fare</th>\n",
       "      <th>Embarked</th>\n",
       "      <th>BoardingClass</th>\n",
       "    </tr>\n",
       "  </thead>\n",
       "  <tbody>\n",
       "    <tr>\n",
       "      <th>946</th>\n",
       "      <td>947</td>\n",
       "      <td>rice, master albert</td>\n",
       "      <td>male</td>\n",
       "      <td>10</td>\n",
       "      <td>4</td>\n",
       "      <td>1</td>\n",
       "      <td>29.125</td>\n",
       "      <td>Q</td>\n",
       "      <td>least privileged</td>\n",
       "    </tr>\n",
       "    <tr>\n",
       "      <th>154</th>\n",
       "      <td>155</td>\n",
       "      <td>olsen, mr ole martin</td>\n",
       "      <td>male</td>\n",
       "      <td>NaN</td>\n",
       "      <td>0</td>\n",
       "      <td>0</td>\n",
       "      <td>7.3125</td>\n",
       "      <td>S</td>\n",
       "      <td>least privileged</td>\n",
       "    </tr>\n",
       "    <tr>\n",
       "      <th>232</th>\n",
       "      <td>233</td>\n",
       "      <td>sjostedt, mr ernst adolf</td>\n",
       "      <td>male</td>\n",
       "      <td>59</td>\n",
       "      <td>0</td>\n",
       "      <td>0</td>\n",
       "      <td>13.5</td>\n",
       "      <td>S</td>\n",
       "      <td>moderately privileged</td>\n",
       "    </tr>\n",
       "  </tbody>\n",
       "</table>\n",
       "</div>"
      ],
      "text/plain": [
       "    PassengerId                      Name   Sex  Age SibSp Parch    Fare  \\\n",
       "946         947       rice, master albert  male   10     4     1  29.125   \n",
       "154         155      olsen, mr ole martin  male  NaN     0     0  7.3125   \n",
       "232         233  sjostedt, mr ernst adolf  male   59     0     0    13.5   \n",
       "\n",
       "    Embarked          BoardingClass  \n",
       "946        Q       least privileged  \n",
       "154        S       least privileged  \n",
       "232        S  moderately privileged  "
      ]
     },
     "execution_count": 144,
     "metadata": {},
     "output_type": "execute_result"
    }
   ],
   "source": [
    "df__titanic.sample(n=3)"
   ]
  },
  {
   "cell_type": "code",
   "execution_count": 145,
   "metadata": {},
   "outputs": [],
   "source": [
    "# Extract a \"Title\" column from \"Name\" column\n",
    "\n",
    "# Define a list of all possible titles\n",
    "list__adulttitles = [\"mr\", \"mrs\", \"sir\", \"rev\", \"capt\", \"dr\", \"col\", \"major\", \"ms\", \"mme\", \"countess\", \"dona\", \"don\", \"jonkheer\"] \n",
    "list__youngtitles = [\"master\", \"miss\"]\n",
    "list__ambiguoustitles = [\"mlle\"]\n",
    "list__alltitles = list__adulttitles + list__youngtitles + list__ambiguoustitles\n",
    "\n",
    "# An example of function to extract title\n",
    "def function__title(str__name: str) -> str:\n",
    "    \"\"\"\n",
    "    Input:\n",
    "    str__name : a string (real name and title)\n",
    "    Output:\n",
    "    str__title : a string (title)\n",
    "    \"\"\"\n",
    "\n",
    "    # Create a regex pattern based on all possible titles\n",
    "    str__pattern = r\"\\b(\" + \"|\".join(map(re.escape, list__alltitles)) + r\")\\b\"\n",
    "\n",
    "    # Search the according pattern of str__pattern in str__name, and return the match\n",
    "    return re.search(str__pattern, str__name).group(1)\n",
    "\n",
    "# Apply function__title on \"Name\" column\n",
    "df__titanic[\"Title\"] = df__titanic[\"Name\"].apply(lambda x: function__title(x))\n",
    "\n",
    "# Cleanup\n",
    "del df__titanic[\"Name\"], list__alltitles"
   ]
  },
  {
   "cell_type": "code",
   "execution_count": 146,
   "metadata": {},
   "outputs": [
    {
     "data": {
      "text/plain": [
       "<Axes: title={'center': 'Title count distribution'}, xlabel='Title'>"
      ]
     },
     "execution_count": 146,
     "metadata": {},
     "output_type": "execute_result"
    },
    {
     "data": {
      "image/png": "[encoded data removed]",
      "text/plain": [
       "<Figure size 640x480 with 1 Axes>"
      ]
     },
     "metadata": {},
     "output_type": "display_data"
    }
   ],
   "source": [
    "# Take a look at \"Title\"\n",
    "df__titanic[\"Title\"].value_counts().plot(kind=\"bar\", title=\"Title count distribution\")"
   ]
  },
  {
   "cell_type": "markdown",
   "metadata": {},
   "source": [
    "<div style=\"background-color: green; padding: 10px;\">\n",
    "More than half of the passengers on the ship are adult men.\n",
    "</div>"
   ]
  },
  {
   "cell_type": "code",
   "execution_count": 147,
   "metadata": {},
   "outputs": [
    {
     "data": {
      "text/plain": [
       "Age    263\n",
       "dtype: int64"
      ]
     },
     "execution_count": 147,
     "metadata": {},
     "output_type": "execute_result"
    }
   ],
   "source": [
    "# Are there missing values in \"Age\" ?\n",
    "df__titanic[[\"Age\"]].isnull().sum()"
   ]
  },
  {
   "cell_type": "code",
   "execution_count": 148,
   "metadata": {},
   "outputs": [],
   "source": [
    "# Set \"Age\" column data type to decimal number\n",
    "df__titanic[\"Age\"] = df__titanic[\"Age\"].astype(float)"
   ]
  },
  {
   "cell_type": "markdown",
   "metadata": {},
   "source": [
    "<div style=\"background-color: green; padding: 10px;\">\n",
    "Decimals age values can be challenging to interpret. Some of the folks who worked on Titanic problem, explained that these decimals arise when ages are estimated.\n",
    "</div>"
   ]
  },
  {
   "cell_type": "code",
   "execution_count": 149,
   "metadata": {},
   "outputs": [],
   "source": [
    "# Save \"PassengerId\" of those with \"Age\" decimal value, and missing \"Age\" value\n",
    "list__missingage = list(set(df__titanic[(df__titanic[\"Age\"].isnull() | (df__titanic[\"Age\"] != np.ceil(df__titanic[\"Age\"])))][\"PassengerId\"].tolist()))"
   ]
  },
  {
   "cell_type": "code",
   "execution_count": 150,
   "metadata": {},
   "outputs": [
    {
     "name": "stdout",
     "output_type": "stream",
     "text": [
      "Of the 1309 samples, 20.09% have missing age values.\n"
     ]
    }
   ],
   "source": [
    "# Analyze the proportion of samples with missing age values\n",
    "print(f\"Of the {len(df__titanic)} samples, {(100*df__titanic[\"Age\"].isnull().sum() / len(df__titanic)):.2f}% have missing age values.\")"
   ]
  },
  {
   "cell_type": "code",
   "execution_count": 151,
   "metadata": {},
   "outputs": [],
   "source": [
    "# Define a new column \"AgeCategory\" based on \"Title\" and \"Age\"\n",
    "\n",
    "# An example of function to categorize age\n",
    "def function__agecategory(str__title: str, float__age: float, float__adulthood = 21.0) -> str:\n",
    "    \"\"\"\n",
    "    Input:\n",
    "    str__title : a string (title)\n",
    "    float__age : a decimal number (age)\n",
    "    float__adulthood : a decimal number (age value to know if adulthood is reached or not)\n",
    "    Output:\n",
    "    str__title : a string (title)\n",
    "    \"\"\"\n",
    "    # Test if age value is not NaN\n",
    "    if not np.isnan(float__age):\n",
    "        # Compare its value to adulthood threshold\n",
    "        return \"young\" if float__age < float__adulthood else \"adult\"\n",
    "    \n",
    "    # If age value is NaN, use title to determine category\n",
    "    if str__title in list__adulttitles:\n",
    "        return \"adult\"\n",
    "    if str__title in list__youngtitles:\n",
    "        return \"young\"\n",
    "    if str__title in list__ambiguoustitles:\n",
    "        return \"young/adult\"\n",
    "\n",
    "# Apply function__agecategory\n",
    "df__titanic[\"AgeCategory\"] = df__titanic.apply(lambda row: function__agecategory(str__title=row[\"Title\"], float__age=row[\"Age\"]), axis=1)\n",
    "\n",
    "# Cleanup\n",
    "del df__titanic[\"Age\"], df__titanic[\"Title\"], list__adulttitles, list__youngtitles, list__ambiguoustitles"
   ]
  },
  {
   "cell_type": "code",
   "execution_count": 152,
   "metadata": {},
   "outputs": [
    {
     "data": {
      "text/plain": [
       "<Axes: title={'center': 'AgeCategory count distribution'}, xlabel='AgeCategory'>"
      ]
     },
     "execution_count": 152,
     "metadata": {},
     "output_type": "execute_result"
    },
    {
     "data": {
      "image/png": "[encoded data removed]",
      "text/plain": [
       "<Figure size 640x480 with 1 Axes>"
      ]
     },
     "metadata": {},
     "output_type": "display_data"
    }
   ],
   "source": [
    "# Take a look at \"AgeCategory\"\n",
    "df__titanic[\"AgeCategory\"].value_counts().plot(kind=\"bar\", title=\"AgeCategory count distribution\")"
   ]
  },
  {
   "cell_type": "markdown",
   "metadata": {},
   "source": [
    "<div style=\"background-color: green; padding: 10px;\">\n",
    "Since \"AgeCategory\" is a result of combining \"Title\" and \"Age\" in order to impute \"Age\" missing values, it's normal that more than half of the passengers are adults (especially adult men).\n",
    "</div>"
   ]
  },
  {
   "cell_type": "code",
   "execution_count": 153,
   "metadata": {},
   "outputs": [
    {
     "data": {
      "text/html": [
       "<div>\n",
       "<style scoped>\n",
       "    .dataframe tbody tr th:only-of-type {\n",
       "        vertical-align: middle;\n",
       "    }\n",
       "\n",
       "    .dataframe tbody tr th {\n",
       "        vertical-align: top;\n",
       "    }\n",
       "\n",
       "    .dataframe thead th {\n",
       "        text-align: right;\n",
       "    }\n",
       "</style>\n",
       "<table border=\"1\" class=\"dataframe\">\n",
       "  <thead>\n",
       "    <tr style=\"text-align: right;\">\n",
       "      <th></th>\n",
       "      <th>PassengerId</th>\n",
       "      <th>Sex</th>\n",
       "      <th>SibSp</th>\n",
       "      <th>Parch</th>\n",
       "      <th>Fare</th>\n",
       "      <th>Embarked</th>\n",
       "      <th>BoardingClass</th>\n",
       "      <th>AgeCategory</th>\n",
       "    </tr>\n",
       "  </thead>\n",
       "  <tbody>\n",
       "    <tr>\n",
       "      <th>686</th>\n",
       "      <td>687</td>\n",
       "      <td>male</td>\n",
       "      <td>4</td>\n",
       "      <td>1</td>\n",
       "      <td>39.6875</td>\n",
       "      <td>S</td>\n",
       "      <td>least privileged</td>\n",
       "      <td>young</td>\n",
       "    </tr>\n",
       "    <tr>\n",
       "      <th>886</th>\n",
       "      <td>887</td>\n",
       "      <td>male</td>\n",
       "      <td>0</td>\n",
       "      <td>0</td>\n",
       "      <td>13</td>\n",
       "      <td>S</td>\n",
       "      <td>moderately privileged</td>\n",
       "      <td>adult</td>\n",
       "    </tr>\n",
       "    <tr>\n",
       "      <th>104</th>\n",
       "      <td>105</td>\n",
       "      <td>male</td>\n",
       "      <td>2</td>\n",
       "      <td>0</td>\n",
       "      <td>7.925</td>\n",
       "      <td>S</td>\n",
       "      <td>least privileged</td>\n",
       "      <td>adult</td>\n",
       "    </tr>\n",
       "  </tbody>\n",
       "</table>\n",
       "</div>"
      ],
      "text/plain": [
       "    PassengerId   Sex SibSp Parch     Fare Embarked          BoardingClass  \\\n",
       "686         687  male     4     1  39.6875        S       least privileged   \n",
       "886         887  male     0     0       13        S  moderately privileged   \n",
       "104         105  male     2     0    7.925        S       least privileged   \n",
       "\n",
       "    AgeCategory  \n",
       "686       young  \n",
       "886       adult  \n",
       "104       adult  "
      ]
     },
     "execution_count": 153,
     "metadata": {},
     "output_type": "execute_result"
    }
   ],
   "source": [
    "# A view of df__titanic at this step\n",
    "df__titanic.sample(n=3)"
   ]
  },
  {
   "cell_type": "markdown",
   "metadata": {},
   "source": [
    "##### *5.3. SibSp, ParCh, Fare*"
   ]
  },
  {
   "cell_type": "code",
   "execution_count": 154,
   "metadata": {},
   "outputs": [
    {
     "data": {
      "text/plain": [
       "SibSp    0\n",
       "dtype: int64"
      ]
     },
     "execution_count": 154,
     "metadata": {},
     "output_type": "execute_result"
    }
   ],
   "source": [
    "# Are there missing values in \"SibSp\"?\n",
    "df__titanic[[\"SibSp\"]].isnull().sum()"
   ]
  },
  {
   "cell_type": "code",
   "execution_count": 155,
   "metadata": {},
   "outputs": [
    {
     "data": {
      "text/plain": [
       "Parch    0\n",
       "dtype: int64"
      ]
     },
     "execution_count": 155,
     "metadata": {},
     "output_type": "execute_result"
    }
   ],
   "source": [
    "# Are there missing values in \"Parch\"?\n",
    "df__titanic[[\"Parch\"]].isnull().sum()"
   ]
  },
  {
   "cell_type": "code",
   "execution_count": 156,
   "metadata": {},
   "outputs": [],
   "source": [
    "# Set \"SibSp\" and \"Parch\" data type to integer\n",
    "df__titanic[[\"SibSp\",\"Parch\"]] = df__titanic[[\"SibSp\",\"Parch\"]].astype(int)\n",
    "\n",
    "# Create \"FamilySize\" by incrementing of 1 the sum of \"SibSp\" and \"Parch\" \n",
    "df__titanic[\"FamilySize\"] = df__titanic[[\"SibSp\",\"Parch\"]].sum(axis=1) + 1\n",
    "\n",
    "# Cleanup\n",
    "df__titanic.drop(columns=[\"SibSp\",\"Parch\"], inplace=True)"
   ]
  },
  {
   "cell_type": "code",
   "execution_count": 157,
   "metadata": {},
   "outputs": [
    {
     "data": {
      "text/plain": [
       "<Axes: title={'center': 'FamilySize count distribution'}, xlabel='FamilySize'>"
      ]
     },
     "execution_count": 157,
     "metadata": {},
     "output_type": "execute_result"
    },
    {
     "data": {
      "image/png": "[encoded data removed]",
      "text/plain": [
       "<Figure size 640x480 with 1 Axes>"
      ]
     },
     "metadata": {},
     "output_type": "display_data"
    }
   ],
   "source": [
    "# Take a look at \"FamilySize\"\n",
    "df__titanic[\"FamilySize\"].value_counts().plot(kind=\"bar\", title=\"FamilySize count distribution\")"
   ]
  },
  {
   "cell_type": "markdown",
   "metadata": {},
   "source": [
    "<div style=\"background-color: green; padding: 10px;\">\n",
    "\n",
    "More than half of the passengers on the ship were alone.\n",
    "\n",
    "We decide to transform \"FamilySize\" into a qualitative variable with two modalities which are \"alone\" and \"not alone\".\n",
    "\n",
    "</div>"
   ]
  },
  {
   "cell_type": "code",
   "execution_count": 158,
   "metadata": {},
   "outputs": [],
   "source": [
    "# Transform \"FamilySize\" into a qualitative variable with two modalities : \"alone\" and \"not alone\"\n",
    "df__titanic[\"FamilySize\"] = df__titanic[\"FamilySize\"].apply(lambda x: \"alone\" if x == 1 else \"not alone\")"
   ]
  },
  {
   "cell_type": "code",
   "execution_count": 159,
   "metadata": {},
   "outputs": [
    {
     "data": {
      "text/plain": [
       "Fare    1\n",
       "dtype: int64"
      ]
     },
     "execution_count": 159,
     "metadata": {},
     "output_type": "execute_result"
    }
   ],
   "source": [
    "# Are there missing values in \"Fare\" ?\n",
    "df__titanic[[\"Fare\"]].isnull().sum()\n",
    "\n",
    "# Only one passenger \"Fare\" is missing."
   ]
  },
  {
   "cell_type": "code",
   "execution_count": 160,
   "metadata": {},
   "outputs": [],
   "source": [
    "# Save \"PassengerId\" of those with \"Fare\" missing value\n",
    "list__missingfare = df__titanic[df__titanic[\"Fare\"].isnull()][\"PassengerId\"].tolist()"
   ]
  },
  {
   "cell_type": "code",
   "execution_count": 161,
   "metadata": {},
   "outputs": [
    {
     "data": {
      "text/plain": [
       "<Axes: title={'center': 'Fare distribution'}, ylabel='Frequency'>"
      ]
     },
     "execution_count": 161,
     "metadata": {},
     "output_type": "execute_result"
    },
    {
     "data": {
      "image/png": "[encoded data removed]",
      "text/plain": [
       "<Figure size 640x480 with 1 Axes>"
      ]
     },
     "metadata": {},
     "output_type": "display_data"
    }
   ],
   "source": [
    "# Set \"Fare\" data type to float\n",
    "df__titanic[\"Fare\"] = df__titanic[\"Fare\"].astype(float)\n",
    "\n",
    "# Take a look at \"Fare\"\n",
    "df__titanic[\"Fare\"].plot(kind=\"hist\", title=\"Fare distribution\")"
   ]
  },
  {
   "cell_type": "markdown",
   "metadata": {},
   "source": [
    "<div style=\"background-color: green; padding: 10px;\">\n",
    "\"Fare\" distribution is right-skewed, which is normal since most of the people were least priviliged (3rd class tickets).\n",
    "Let's dive further.\n",
    "</div>"
   ]
  },
  {
   "cell_type": "code",
   "execution_count": 162,
   "metadata": {},
   "outputs": [
    {
     "data": {
      "text/html": [
       "<div>\n",
       "<style scoped>\n",
       "    .dataframe tbody tr th:only-of-type {\n",
       "        vertical-align: middle;\n",
       "    }\n",
       "\n",
       "    .dataframe tbody tr th {\n",
       "        vertical-align: top;\n",
       "    }\n",
       "\n",
       "    .dataframe thead tr th {\n",
       "        text-align: left;\n",
       "    }\n",
       "\n",
       "    .dataframe thead tr:last-of-type th {\n",
       "        text-align: right;\n",
       "    }\n",
       "</style>\n",
       "<table border=\"1\" class=\"dataframe\">\n",
       "  <thead>\n",
       "    <tr>\n",
       "      <th></th>\n",
       "      <th colspan=\"8\" halign=\"left\">Fare</th>\n",
       "    </tr>\n",
       "    <tr>\n",
       "      <th></th>\n",
       "      <th>count</th>\n",
       "      <th>mean</th>\n",
       "      <th>std</th>\n",
       "      <th>min</th>\n",
       "      <th>25%</th>\n",
       "      <th>50%</th>\n",
       "      <th>75%</th>\n",
       "      <th>max</th>\n",
       "    </tr>\n",
       "    <tr>\n",
       "      <th>BoardingClass</th>\n",
       "      <th></th>\n",
       "      <th></th>\n",
       "      <th></th>\n",
       "      <th></th>\n",
       "      <th></th>\n",
       "      <th></th>\n",
       "      <th></th>\n",
       "      <th></th>\n",
       "    </tr>\n",
       "  </thead>\n",
       "  <tbody>\n",
       "    <tr>\n",
       "      <th>least privileged</th>\n",
       "      <td>491.0</td>\n",
       "      <td>13.675550</td>\n",
       "      <td>11.778142</td>\n",
       "      <td>0.0</td>\n",
       "      <td>7.75000</td>\n",
       "      <td>8.0500</td>\n",
       "      <td>15.5</td>\n",
       "      <td>69.5500</td>\n",
       "    </tr>\n",
       "    <tr>\n",
       "      <th>moderately privileged</th>\n",
       "      <td>184.0</td>\n",
       "      <td>20.662183</td>\n",
       "      <td>13.417399</td>\n",
       "      <td>0.0</td>\n",
       "      <td>13.00000</td>\n",
       "      <td>14.2500</td>\n",
       "      <td>26.0</td>\n",
       "      <td>73.5000</td>\n",
       "    </tr>\n",
       "    <tr>\n",
       "      <th>most privileged</th>\n",
       "      <td>216.0</td>\n",
       "      <td>84.154687</td>\n",
       "      <td>78.380373</td>\n",
       "      <td>0.0</td>\n",
       "      <td>30.92395</td>\n",
       "      <td>60.2875</td>\n",
       "      <td>93.5</td>\n",
       "      <td>512.3292</td>\n",
       "    </tr>\n",
       "  </tbody>\n",
       "</table>\n",
       "</div>"
      ],
      "text/plain": [
       "                        Fare                                                \\\n",
       "                       count       mean        std  min       25%      50%   \n",
       "BoardingClass                                                                \n",
       "least privileged       491.0  13.675550  11.778142  0.0   7.75000   8.0500   \n",
       "moderately privileged  184.0  20.662183  13.417399  0.0  13.00000  14.2500   \n",
       "most privileged        216.0  84.154687  78.380373  0.0  30.92395  60.2875   \n",
       "\n",
       "                                       \n",
       "                        75%       max  \n",
       "BoardingClass                          \n",
       "least privileged       15.5   69.5500  \n",
       "moderately privileged  26.0   73.5000  \n",
       "most privileged        93.5  512.3292  "
      ]
     },
     "execution_count": 162,
     "metadata": {},
     "output_type": "execute_result"
    }
   ],
   "source": [
    "# Cross \"Fare\" values with \"BoardingClass\" modalities\n",
    "# Don't forget to here use only training data\n",
    "\n",
    "df__titanic[df__titanic[\"PassengerId\"].isin(df__train[\"PassengerId\"].tolist())].groupby([\"BoardingClass\"], observed=False).describe()"
   ]
  },
  {
   "cell_type": "markdown",
   "metadata": {},
   "source": [
    "<div style=\"background-color: green; padding: 10px;\">\n",
    "Tickets \"Fare\" seem to depend on the \"BoardingClass\" : its value is the highest in the most privileged \"BoardingClass\". \n",
    " \n",
    "Let's confirm statistically the correlation between these two features.\n",
    "</div>"
   ]
  },
  {
   "cell_type": "code",
   "execution_count": 163,
   "metadata": {},
   "outputs": [
    {
     "data": {
      "text/plain": [
       "KruskalResult(statistic=np.float64(154.00589915116032), pvalue=np.float64(3.614464045876876e-34))"
      ]
     },
     "execution_count": 163,
     "metadata": {},
     "output_type": "execute_result"
    }
   ],
   "source": [
    "# Do a Kruskall-Wallis test between \"Fare\" and \"BoardingClass\" as a proof of high correlation between these two features\n",
    "# Don't forget to here use only training data\n",
    "\n",
    "# Do not consider the passenger with missing \"Fare\", and remove duplicates\n",
    "df__table = df__titanic[df__titanic[\"PassengerId\"].isin(df__train[\"PassengerId\"].tolist())][[\"Fare\", \"BoardingClass\"]].copy(deep=True).dropna().drop_duplicates()\n",
    "\n",
    "# Perform a Kruskall-Wallis test of a 5% risk level\n",
    "kruskal(*df__table.groupby([\"BoardingClass\"], observed=False)[\"Fare\"].apply(list))"
   ]
  },
  {
   "cell_type": "code",
   "execution_count": 164,
   "metadata": {},
   "outputs": [
    {
     "data": {
      "text/plain": [
       "SignificanceResult(statistic=np.float64(0.7730586879698828), pvalue=np.float64(6.268128949654468e-52))"
      ]
     },
     "execution_count": 164,
     "metadata": {},
     "output_type": "execute_result"
    }
   ],
   "source": [
    "# Compute the spearman correlation between \"Fare\" and \"BoardingClass\" using df__table\n",
    "\n",
    "# Transform \"BoardingClass\" modalities in df__table such as : \n",
    "# \"least privileged\" = 1, \"moderately privileged\" = 2, and \"most privileged\" = 3\n",
    "df__table[\"BoardingClass\"] = df__table[\"BoardingClass\"].apply(lambda x: 1 if x == \"least privileged\" else 2 if x == \"moderately privileged\" else 3)\n",
    "\n",
    "# Compute the spearman correlation\n",
    "spearmanr(df__table[\"BoardingClass\"], df__table[\"Fare\"])"
   ]
  },
  {
   "cell_type": "markdown",
   "metadata": {},
   "source": [
    "<div style=\"background-color: green; padding: 10px;\">\n",
    "\n",
    "Based on the 891 passengers of _train.csv_ having no missing \"Fare\" value :\n",
    "- The p-value computed from a Kruskal-Wallis test between \"Fare\" and \"BoardingClass\" is up to 3.61e-34 (lesser than 0.05);\n",
    "- The spearman correlation value between these features is up to 0.77.\n",
    "- We conclude that statistically there's enough proof of correlation between \"BoardingClass\" and \"Fare\" under a 5% risk level.\n",
    "\n",
    "Since \"Fare\" is the one with one missing value out of 1309 passengers (value especially missing for a sample in _test.csv_), we'll remove it and keep only \"BoardingClass\".\n",
    "</div>"
   ]
  },
  {
   "cell_type": "code",
   "execution_count": 165,
   "metadata": {},
   "outputs": [],
   "source": [
    "# Cleanup\n",
    "del df__table, df__titanic[\"Fare\"]"
   ]
  },
  {
   "cell_type": "code",
   "execution_count": 166,
   "metadata": {},
   "outputs": [
    {
     "data": {
      "text/html": [
       "<div>\n",
       "<style scoped>\n",
       "    .dataframe tbody tr th:only-of-type {\n",
       "        vertical-align: middle;\n",
       "    }\n",
       "\n",
       "    .dataframe tbody tr th {\n",
       "        vertical-align: top;\n",
       "    }\n",
       "\n",
       "    .dataframe thead th {\n",
       "        text-align: right;\n",
       "    }\n",
       "</style>\n",
       "<table border=\"1\" class=\"dataframe\">\n",
       "  <thead>\n",
       "    <tr style=\"text-align: right;\">\n",
       "      <th></th>\n",
       "      <th>PassengerId</th>\n",
       "      <th>Sex</th>\n",
       "      <th>Embarked</th>\n",
       "      <th>BoardingClass</th>\n",
       "      <th>AgeCategory</th>\n",
       "      <th>FamilySize</th>\n",
       "    </tr>\n",
       "  </thead>\n",
       "  <tbody>\n",
       "    <tr>\n",
       "      <th>679</th>\n",
       "      <td>680</td>\n",
       "      <td>male</td>\n",
       "      <td>C</td>\n",
       "      <td>most privileged</td>\n",
       "      <td>adult</td>\n",
       "      <td>not alone</td>\n",
       "    </tr>\n",
       "    <tr>\n",
       "      <th>558</th>\n",
       "      <td>559</td>\n",
       "      <td>female</td>\n",
       "      <td>S</td>\n",
       "      <td>most privileged</td>\n",
       "      <td>adult</td>\n",
       "      <td>not alone</td>\n",
       "    </tr>\n",
       "    <tr>\n",
       "      <th>1094</th>\n",
       "      <td>1095</td>\n",
       "      <td>female</td>\n",
       "      <td>S</td>\n",
       "      <td>moderately privileged</td>\n",
       "      <td>young</td>\n",
       "      <td>not alone</td>\n",
       "    </tr>\n",
       "  </tbody>\n",
       "</table>\n",
       "</div>"
      ],
      "text/plain": [
       "     PassengerId     Sex Embarked          BoardingClass AgeCategory  \\\n",
       "679          680    male        C        most privileged       adult   \n",
       "558          559  female        S        most privileged       adult   \n",
       "1094        1095  female        S  moderately privileged       young   \n",
       "\n",
       "     FamilySize  \n",
       "679   not alone  \n",
       "558   not alone  \n",
       "1094  not alone  "
      ]
     },
     "execution_count": 166,
     "metadata": {},
     "output_type": "execute_result"
    }
   ],
   "source": [
    "# A view of df__titanic at this step\n",
    "df__titanic.sample(n=3)"
   ]
  },
  {
   "cell_type": "markdown",
   "metadata": {},
   "source": [
    "##### *5.4. Embarked*"
   ]
  },
  {
   "cell_type": "code",
   "execution_count": 167,
   "metadata": {},
   "outputs": [
    {
     "data": {
      "text/plain": [
       "Embarked    2\n",
       "dtype: int64"
      ]
     },
     "execution_count": 167,
     "metadata": {},
     "output_type": "execute_result"
    }
   ],
   "source": [
    "# Are there missing values in \"Embarked\" ?\n",
    "df__titanic[[\"Embarked\"]].isnull().sum()\n",
    "\n",
    "# Two passengers' embarkation towns are missing."
   ]
  },
  {
   "cell_type": "code",
   "execution_count": 168,
   "metadata": {},
   "outputs": [],
   "source": [
    "# Save \"PassengerId\" of those with \"Embarked\" missing value\n",
    "list__missingembarked = df__titanic[df__titanic[\"Embarked\"].isnull()][\"PassengerId\"].tolist()"
   ]
  },
  {
   "cell_type": "code",
   "execution_count": 169,
   "metadata": {},
   "outputs": [
    {
     "data": {
      "text/plain": [
       "<Axes: title={'center': 'Embarked count distribution'}, xlabel='Embarked'>"
      ]
     },
     "execution_count": 169,
     "metadata": {},
     "output_type": "execute_result"
    },
    {
     "data": {
      "image/png": "[encoded data removed]",
      "text/plain": [
       "<Figure size 640x480 with 1 Axes>"
      ]
     },
     "metadata": {},
     "output_type": "display_data"
    }
   ],
   "source": [
    "# Take a look at \"Embarked\"\n",
    "df__titanic[\"Embarked\"].value_counts().plot(kind=\"bar\", title=\"Embarked count distribution\")"
   ]
  },
  {
   "cell_type": "markdown",
   "metadata": {},
   "source": [
    "<div style=\"background-color: green; padding: 10px;\">\n",
    "More than half of the passengers on the ship were embarked from Southampton (S).\n",
    "</div>"
   ]
  },
  {
   "cell_type": "code",
   "execution_count": 170,
   "metadata": {},
   "outputs": [],
   "source": [
    "# We choose to impute the most present modality to these two passengers with missing embarkation towns\n",
    "df__titanic[\"Embarked\"] = df__titanic[\"Embarked\"].fillna(value=df__titanic[\"Embarked\"].mode()[0], inplace=False)"
   ]
  },
  {
   "cell_type": "code",
   "execution_count": 171,
   "metadata": {},
   "outputs": [
    {
     "data": {
      "text/html": [
       "<div>\n",
       "<style scoped>\n",
       "    .dataframe tbody tr th:only-of-type {\n",
       "        vertical-align: middle;\n",
       "    }\n",
       "\n",
       "    .dataframe tbody tr th {\n",
       "        vertical-align: top;\n",
       "    }\n",
       "\n",
       "    .dataframe thead th {\n",
       "        text-align: right;\n",
       "    }\n",
       "</style>\n",
       "<table border=\"1\" class=\"dataframe\">\n",
       "  <thead>\n",
       "    <tr style=\"text-align: right;\">\n",
       "      <th></th>\n",
       "      <th>PassengerId</th>\n",
       "      <th>Sex</th>\n",
       "      <th>Embarked</th>\n",
       "      <th>BoardingClass</th>\n",
       "      <th>AgeCategory</th>\n",
       "      <th>FamilySize</th>\n",
       "    </tr>\n",
       "  </thead>\n",
       "  <tbody>\n",
       "    <tr>\n",
       "      <th>1227</th>\n",
       "      <td>1228</td>\n",
       "      <td>male</td>\n",
       "      <td>S</td>\n",
       "      <td>moderately privileged</td>\n",
       "      <td>adult</td>\n",
       "      <td>alone</td>\n",
       "    </tr>\n",
       "    <tr>\n",
       "      <th>237</th>\n",
       "      <td>238</td>\n",
       "      <td>female</td>\n",
       "      <td>S</td>\n",
       "      <td>moderately privileged</td>\n",
       "      <td>young</td>\n",
       "      <td>not alone</td>\n",
       "    </tr>\n",
       "    <tr>\n",
       "      <th>911</th>\n",
       "      <td>912</td>\n",
       "      <td>male</td>\n",
       "      <td>C</td>\n",
       "      <td>most privileged</td>\n",
       "      <td>adult</td>\n",
       "      <td>not alone</td>\n",
       "    </tr>\n",
       "  </tbody>\n",
       "</table>\n",
       "</div>"
      ],
      "text/plain": [
       "     PassengerId     Sex Embarked          BoardingClass AgeCategory  \\\n",
       "1227        1228    male        S  moderately privileged       adult   \n",
       "237          238  female        S  moderately privileged       young   \n",
       "911          912    male        C        most privileged       adult   \n",
       "\n",
       "     FamilySize  \n",
       "1227      alone  \n",
       "237   not alone  \n",
       "911   not alone  "
      ]
     },
     "execution_count": 171,
     "metadata": {},
     "output_type": "execute_result"
    }
   ],
   "source": [
    "# A view of df__titanic at this step\n",
    "df__titanic.sample(n=3)"
   ]
  },
  {
   "cell_type": "code",
   "execution_count": 172,
   "metadata": {},
   "outputs": [
    {
     "data": {
      "text/plain": [
       "(1309, 6)"
      ]
     },
     "execution_count": 172,
     "metadata": {},
     "output_type": "execute_result"
    }
   ],
   "source": [
    "# Take a look at df__titanic size\n",
    "df__titanic.shape"
   ]
  },
  {
   "cell_type": "markdown",
   "metadata": {},
   "source": [
    "##### *5.5. Retrieve engineered versions of df__train and df__test*"
   ]
  },
  {
   "cell_type": "code",
   "execution_count": 173,
   "metadata": {},
   "outputs": [],
   "source": [
    "# Get engineered version of df__train\n",
    "df__engineeredtrain = df__train[[\"PassengerId\", \"Survived\"]].merge(right=df__titanic, on=[\"PassengerId\"], how=\"left\")\n",
    "\n",
    "# Get engineered version of df__test\n",
    "df__engineeredtest = df__test[[\"PassengerId\"]].merge(right=df__titanic, on=[\"PassengerId\"], how=\"left\")\n",
    "\n",
    "# Cleanup\n",
    "del df__titanic"
   ]
  },
  {
   "cell_type": "code",
   "execution_count": 174,
   "metadata": {},
   "outputs": [
    {
     "data": {
      "text/plain": [
       "PassengerId      0\n",
       "Survived         0\n",
       "Sex              0\n",
       "Embarked         0\n",
       "BoardingClass    0\n",
       "AgeCategory      0\n",
       "FamilySize       0\n",
       "dtype: int64"
      ]
     },
     "execution_count": 174,
     "metadata": {},
     "output_type": "execute_result"
    }
   ],
   "source": [
    "# Make sure joins and feature engineering worked well so no missing values are present in df__engtrain\n",
    "df__engineeredtrain.isnull().sum()"
   ]
  },
  {
   "cell_type": "code",
   "execution_count": 175,
   "metadata": {},
   "outputs": [],
   "source": [
    "# Get all groups of identic PassengerId in characteristics\n",
    "df__engineeredtrain['SimilarPassengerIds'] = df__engineeredtrain.groupby(df__engineeredtrain.columns[~(df__engineeredtrain.columns.isin([\"PassengerId\"]))].tolist())['PassengerId'].transform(lambda x: '__'.join(x))"
   ]
  },
  {
   "cell_type": "code",
   "execution_count": 176,
   "metadata": {},
   "outputs": [],
   "source": [
    "# Remove \"PassengerId\" column, then remove duplicate rows\n",
    "del df__engineeredtrain[\"PassengerId\"]\n",
    "df__engineeredtrain.drop_duplicates(inplace=True)\n",
    "\n",
    "# Reset index values\n",
    "df__engineeredtrain.reset_index(inplace=True,drop=True)"
   ]
  },
  {
   "cell_type": "code",
   "execution_count": 177,
   "metadata": {},
   "outputs": [
    {
     "data": {
      "text/plain": [
       "(94, 7)"
      ]
     },
     "execution_count": 177,
     "metadata": {},
     "output_type": "execute_result"
    }
   ],
   "source": [
    "# Take a look at df__engineeredtrain size\n",
    "df__engineeredtrain.shape"
   ]
  },
  {
   "cell_type": "code",
   "execution_count": 178,
   "metadata": {},
   "outputs": [
    {
     "data": {
      "text/plain": [
       "PassengerId      0\n",
       "Sex              0\n",
       "Embarked         0\n",
       "BoardingClass    0\n",
       "AgeCategory      0\n",
       "FamilySize       0\n",
       "dtype: int64"
      ]
     },
     "execution_count": 178,
     "metadata": {},
     "output_type": "execute_result"
    }
   ],
   "source": [
    "# Make sure joins and feature engineering worked well so no missing values are present in df__engtest\n",
    "df__engineeredtest.isnull().sum()"
   ]
  },
  {
   "cell_type": "code",
   "execution_count": 179,
   "metadata": {},
   "outputs": [
    {
     "data": {
      "text/plain": [
       "102"
      ]
     },
     "execution_count": 179,
     "metadata": {},
     "output_type": "execute_result"
    }
   ],
   "source": [
    "# Empty garbage collector\n",
    "gc.collect()"
   ]
  },
  {
   "cell_type": "markdown",
   "metadata": {},
   "source": [
    "#### 6. Advanced feature engineering (using all possible relations between covariates and the target Survived)"
   ]
  },
  {
   "cell_type": "markdown",
   "metadata": {},
   "source": [
    "##### *6.1. Sex and Survived*"
   ]
  },
  {
   "cell_type": "code",
   "execution_count": 180,
   "metadata": {},
   "outputs": [
    {
     "data": {
      "image/png": "[encoded data removed]",
      "text/plain": [
       "<Figure size 1000x600 with 1 Axes>"
      ]
     },
     "metadata": {},
     "output_type": "display_data"
    }
   ],
   "source": [
    "# Create a cross-tab between \"Sex\" and \"Survived\"\n",
    "df__table = 100 * pd.crosstab(df__engineeredtrain[\"Sex\"], df__engineeredtrain[\"Survived\"], normalize=\"index\")\n",
    "\n",
    "# Create the stacked bar chart\n",
    "ax__object = df__table.plot(kind=\"bar\", stacked=True, figsize=(10, 6))\n",
    "\n",
    "# Customize the chart\n",
    "plt.title(\"Survival Rates by Sex on Titanic\", fontsize=16)\n",
    "plt.xlabel(\"Sex\", fontsize=12)\n",
    "plt.ylabel(\"Percentage\", fontsize=12)\n",
    "plt.legend([\"Did Not Survive\", \"Survived\"], title=\"Survival\", loc=\"upper right\")\n",
    "\n",
    "# Add value labels on the bars, rounded to two decimal places\n",
    "for barcontainer__object in ax__object.containers:\n",
    "    ax__object.bar_label(barcontainer__object, label_type=\"center\", fmt=\"%.2f\")\n",
    "\n",
    "# Adjust layout and display\n",
    "plt.tight_layout()\n",
    "plt.show()"
   ]
  },
  {
   "cell_type": "code",
   "execution_count": 181,
   "metadata": {},
   "outputs": [],
   "source": [
    "# Cleanup\n",
    "del df__table, ax__object, barcontainer__object"
   ]
  },
  {
   "cell_type": "code",
   "execution_count": 182,
   "metadata": {},
   "outputs": [
    {
     "data": {
      "text/plain": [
       "Chi2ContingencyResult(statistic=np.float64(3.4862637362637363), pvalue=np.float64(0.061880097362495085), dof=1, expected_freq=array([[21., 26.],\n",
       "       [21., 26.]]))"
      ]
     },
     "execution_count": 182,
     "metadata": {},
     "output_type": "execute_result"
    }
   ],
   "source": [
    "# Perform a Chi-Square test (risk level of 5%) between \"Sex\" and \"Survived\"\n",
    "chi2_contingency(pd.crosstab(df__engineeredtrain[\"Sex\"], df__engineeredtrain[\"Survived\"]))"
   ]
  },
  {
   "cell_type": "code",
   "execution_count": 183,
   "metadata": {},
   "outputs": [
    {
     "data": {
      "text/plain": [
       "np.float64(0.19258222162991082)"
      ]
     },
     "execution_count": 183,
     "metadata": {},
     "output_type": "execute_result"
    }
   ],
   "source": [
    "# Calculate Cramer's V : strength of the association between \"Sex\" and \"Survived\"\n",
    "df__table = pd.crosstab(df__engineeredtrain[\"Sex\"], df__engineeredtrain[\"Survived\"])\n",
    "np.sqrt(chi2_contingency(df__table)[0] / (df__table.sum().sum() * (min(df__table.shape) - 1)))"
   ]
  },
  {
   "cell_type": "code",
   "execution_count": 184,
   "metadata": {},
   "outputs": [],
   "source": [
    "# Cleanup\n",
    "del df__table"
   ]
  },
  {
   "cell_type": "markdown",
   "metadata": {},
   "source": [
    "<div style=\"background-color: green; padding: 10px;\">\n",
    "\n",
    "- The p-value of the Chi-Square test between \"Sex\" and \"Survived\" is up to 0.06 (a little higher than 0.05).\n",
    "\n",
    "- The strength of the association between \"Sex\" and \"Survived\" is only up to 19.26%.\n",
    "\n",
    "- For a risk level of 5%, **there's not enough proof based only on 94 samples** to attest that the survival rate of a passenger on the Titanic is statistically linked to him being a man/woman; but, since their strength of association can be seen as moderate we won't be discarding immediately this feature.\n",
    "\n",
    "</div>"
   ]
  },
  {
   "cell_type": "markdown",
   "metadata": {},
   "source": [
    "##### *6.2. Embarked and Survived*"
   ]
  },
  {
   "cell_type": "code",
   "execution_count": 185,
   "metadata": {},
   "outputs": [
    {
     "data": {
      "image/png": "[encoded data removed]",
      "text/plain": [
       "<Figure size 1000x600 with 1 Axes>"
      ]
     },
     "metadata": {},
     "output_type": "display_data"
    }
   ],
   "source": [
    "# Create a cross-tab between \"Embarked\" and \"Survived\"\n",
    "df__table = 100 * pd.crosstab(df__engineeredtrain[\"Embarked\"], df__engineeredtrain[\"Survived\"], normalize=\"index\")\n",
    "\n",
    "# Create the stacked bar chart\n",
    "ax__object = df__table.plot(kind=\"bar\", stacked=True, figsize=(10, 6))\n",
    "\n",
    "# Customize the chart\n",
    "plt.title(\"Survival Rates by Embarkation Origin on Titanic\", fontsize=16)\n",
    "plt.xlabel(\"Embarked\", fontsize=12)\n",
    "plt.ylabel(\"Percentage\", fontsize=12)\n",
    "plt.legend([\"Did Not Survive\", \"Survived\"], title=\"Survival\", loc=\"upper right\")\n",
    "\n",
    "# Add value labels on the bars, rounded to two decimal places\n",
    "for barcontainer__object in ax__object.containers:\n",
    "    ax__object.bar_label(barcontainer__object, label_type=\"center\", fmt=\"%.2f\")\n",
    "\n",
    "# Adjust layout and display\n",
    "plt.tight_layout()\n",
    "plt.show()"
   ]
  },
  {
   "cell_type": "code",
   "execution_count": 186,
   "metadata": {},
   "outputs": [],
   "source": [
    "# Cleanup\n",
    "del df__table, ax__object, barcontainer__object"
   ]
  },
  {
   "cell_type": "code",
   "execution_count": 187,
   "metadata": {},
   "outputs": [
    {
     "data": {
      "text/plain": [
       "Chi2ContingencyResult(statistic=np.float64(0.8643851970919639), pvalue=np.float64(0.6490843519433382), dof=2, expected_freq=array([[14.74468085, 18.25531915],\n",
       "       [ 8.4893617 , 10.5106383 ],\n",
       "       [18.76595745, 23.23404255]]))"
      ]
     },
     "execution_count": 187,
     "metadata": {},
     "output_type": "execute_result"
    }
   ],
   "source": [
    "# Perform a Chi-Square test (risk level of 5%) between \"Embarked\" and \"Survived\"\n",
    "chi2_contingency(pd.crosstab(df__engineeredtrain[\"Embarked\"], df__engineeredtrain[\"Survived\"]))"
   ]
  },
  {
   "cell_type": "code",
   "execution_count": 188,
   "metadata": {},
   "outputs": [
    {
     "data": {
      "text/plain": [
       "np.float64(0.09589362441323197)"
      ]
     },
     "execution_count": 188,
     "metadata": {},
     "output_type": "execute_result"
    }
   ],
   "source": [
    "# Calculate Cramer's V : strength of the association between \"Embarked\" and \"Survived\"\n",
    "df__table = pd.crosstab(df__engineeredtrain[\"Embarked\"], df__engineeredtrain[\"Survived\"])\n",
    "np.sqrt(chi2_contingency(df__table)[0] / (df__table.sum().sum() * (min(df__table.shape) - 1)))"
   ]
  },
  {
   "cell_type": "code",
   "execution_count": 189,
   "metadata": {},
   "outputs": [],
   "source": [
    "# Cleanup\n",
    "del df__table"
   ]
  },
  {
   "cell_type": "markdown",
   "metadata": {},
   "source": [
    "<div style=\"background-color: green; padding: 10px;\">\n",
    "\n",
    "- The p-value of the Chi-Square test between \"Embarked\" and \"Survived\" is up to 0.65 (higher than 0.05).\n",
    "\n",
    "- The strength of the association between \"Embarked\" and \"Survived\" is only up to 9.59%.\n",
    "\n",
    "- For a risk level of 5%, **there's not enough proof based only on 94 samples** to attest that the survival rate of a passenger on the Titanic is statistically linked to his embarkation point; but, since their strength of association can be seen as moderate we won't be discarding immediately this feature.\n",
    "\n",
    "</div>"
   ]
  },
  {
   "cell_type": "markdown",
   "metadata": {},
   "source": [
    "##### *6.3. BoardingClass and Survived*"
   ]
  },
  {
   "cell_type": "code",
   "execution_count": 190,
   "metadata": {},
   "outputs": [
    {
     "data": {
      "image/png": "[encoded data removed]",
      "text/plain": [
       "<Figure size 1000x600 with 1 Axes>"
      ]
     },
     "metadata": {},
     "output_type": "display_data"
    }
   ],
   "source": [
    "# Create a cross-tab between \"BoardingClass\" and \"Survived\"\n",
    "df__table = 100 * pd.crosstab(df__engineeredtrain[\"BoardingClass\"], df__engineeredtrain[\"Survived\"], normalize=\"index\")\n",
    "\n",
    "# Create the stacked bar chart\n",
    "ax__object = df__table.plot(kind=\"bar\", stacked=True, figsize=(10, 6))\n",
    "\n",
    "# Customize the chart\n",
    "plt.title(\"Survival Rates by Boarding Class on Titanic\", fontsize=16)\n",
    "plt.xlabel(\"BoardingClass\", fontsize=12)\n",
    "plt.ylabel(\"Percentage\", fontsize=12)\n",
    "plt.legend([\"Did Not Survive\", \"Survived\"], title=\"Survival\", loc=\"upper right\")\n",
    "\n",
    "# Add value labels on the bars, rounded to two decimal places\n",
    "for barcontainer__object in ax__object.containers:\n",
    "    ax__object.bar_label(barcontainer__object, label_type=\"center\", fmt=\"%.2f\")\n",
    "\n",
    "# Adjust layout and display\n",
    "plt.tight_layout()\n",
    "plt.show()"
   ]
  },
  {
   "cell_type": "code",
   "execution_count": 191,
   "metadata": {},
   "outputs": [],
   "source": [
    "# Cleanup\n",
    "del df__table, ax__object, barcontainer__object"
   ]
  },
  {
   "cell_type": "code",
   "execution_count": 192,
   "metadata": {},
   "outputs": [
    {
     "data": {
      "text/plain": [
       "Chi2ContingencyResult(statistic=np.float64(2.009825174825173), pvalue=np.float64(0.3660766331111594), dof=2, expected_freq=array([[19.65957447, 24.34042553],\n",
       "       [11.17021277, 13.82978723],\n",
       "       [11.17021277, 13.82978723]]))"
      ]
     },
     "execution_count": 192,
     "metadata": {},
     "output_type": "execute_result"
    }
   ],
   "source": [
    "# Perform a Chi-Square test (risk level of 5%) between \"BoardingClass\" and \"Survived\"\n",
    "chi2_contingency(pd.crosstab(df__engineeredtrain[\"BoardingClass\"], df__engineeredtrain[\"Survived\"]))"
   ]
  },
  {
   "cell_type": "code",
   "execution_count": 193,
   "metadata": {},
   "outputs": [
    {
     "data": {
      "text/plain": [
       "np.float64(0.1462228398066419)"
      ]
     },
     "execution_count": 193,
     "metadata": {},
     "output_type": "execute_result"
    }
   ],
   "source": [
    "# Calculate Cramer's V : strength of the association between \"BoardingClass\" and \"Survived\"\n",
    "df__table = pd.crosstab(df__engineeredtrain[\"BoardingClass\"], df__engineeredtrain[\"Survived\"])\n",
    "np.sqrt(chi2_contingency(df__table)[0] / (df__table.sum().sum() * (min(df__table.shape) - 1)))"
   ]
  },
  {
   "cell_type": "code",
   "execution_count": 194,
   "metadata": {},
   "outputs": [],
   "source": [
    "# Cleanup\n",
    "del df__table"
   ]
  },
  {
   "cell_type": "markdown",
   "metadata": {},
   "source": [
    "<div style=\"background-color: green; padding: 10px;\">\n",
    "\n",
    "- The p-value of the Chi-Square test between \"BoardingClass\" and \"Survived\" is up to 0.37 (higher than 0.05).\n",
    "\n",
    "- The strength of the association between \"BoardingClass\" and \"Survived\" is only up to 14.62%.\n",
    "\n",
    "- For a risk level of 5%, **there's not enough proof based only on 94 samples** to attest that the survival rate of a passenger on the Titanic is statistically linked to his boarding class; but, since their strength of association can be seen as moderate we won't be discarding immediately this feature.\n",
    "\n",
    "</div>"
   ]
  },
  {
   "cell_type": "markdown",
   "metadata": {},
   "source": [
    "##### *6.4. AgeCategory and Survived*"
   ]
  },
  {
   "cell_type": "code",
   "execution_count": 195,
   "metadata": {},
   "outputs": [
    {
     "data": {
      "image/png": "[encoded data removed]",
      "text/plain": [
       "<Figure size 1000x600 with 1 Axes>"
      ]
     },
     "metadata": {},
     "output_type": "display_data"
    }
   ],
   "source": [
    "# Create a cross-tab between \"AgeCategory\" and \"Survived\"\n",
    "df__table = 100 * pd.crosstab(df__engineeredtrain[\"AgeCategory\"], df__engineeredtrain[\"Survived\"], normalize=\"index\")\n",
    "\n",
    "# Create the stacked bar chart\n",
    "ax__object = df__table.plot(kind=\"bar\", stacked=True, figsize=(10, 6))\n",
    "\n",
    "# Customize the chart\n",
    "plt.title(\"Survival Rates by Age Category on Titanic\", fontsize=16)\n",
    "plt.xlabel(\"AgeCategory\", fontsize=12)\n",
    "plt.ylabel(\"Percentage\", fontsize=12)\n",
    "plt.legend([\"Did Not Survive\", \"Survived\"], title=\"Survival\", loc=\"upper right\")\n",
    "\n",
    "# Add value labels on the bars, rounded to two decimal places\n",
    "for barcontainer__object in ax__object.containers:\n",
    "    ax__object.bar_label(barcontainer__object, label_type=\"center\", fmt=\"%.2f\")\n",
    "\n",
    "# Adjust layout and display\n",
    "plt.tight_layout()\n",
    "plt.show()"
   ]
  },
  {
   "cell_type": "code",
   "execution_count": 196,
   "metadata": {},
   "outputs": [],
   "source": [
    "# Cleanup\n",
    "del df__table, ax__object, barcontainer__object"
   ]
  },
  {
   "cell_type": "code",
   "execution_count": 197,
   "metadata": {},
   "outputs": [
    {
     "data": {
      "text/plain": [
       "Chi2ContingencyResult(statistic=np.float64(0.11743483545140213), pvalue=np.float64(0.7318334436765885), dof=1, expected_freq=array([[23.68085106, 29.31914894],\n",
       "       [18.31914894, 22.68085106]]))"
      ]
     },
     "execution_count": 197,
     "metadata": {},
     "output_type": "execute_result"
    }
   ],
   "source": [
    "# Perform a Chi-Square test (risk level of 5%) between \"AgeCategory\" and \"Survived\"\n",
    "chi2_contingency(pd.crosstab(df__engineeredtrain[\"AgeCategory\"], df__engineeredtrain[\"Survived\"]))"
   ]
  },
  {
   "cell_type": "code",
   "execution_count": 198,
   "metadata": {},
   "outputs": [
    {
     "data": {
      "text/plain": [
       "np.float64(0.03534553380727612)"
      ]
     },
     "execution_count": 198,
     "metadata": {},
     "output_type": "execute_result"
    }
   ],
   "source": [
    "# Calculate Cramer's V : strength of the association between \"AgeCategory\" and \"Survived\"\n",
    "df__table = pd.crosstab(df__engineeredtrain[\"AgeCategory\"], df__engineeredtrain[\"Survived\"])\n",
    "np.sqrt(chi2_contingency(df__table)[0] / (df__table.sum().sum() * (min(df__table.shape) - 1)))"
   ]
  },
  {
   "cell_type": "code",
   "execution_count": 199,
   "metadata": {},
   "outputs": [],
   "source": [
    "# Cleanup\n",
    "del df__table"
   ]
  },
  {
   "cell_type": "markdown",
   "metadata": {},
   "source": [
    "<div style=\"background-color: green; padding: 10px;\">\n",
    "\n",
    "- The p-value of the Chi-Square test between \"AgeCategory\" and \"Survived\" is up to 0.73 (higher than 0.05).\n",
    "\n",
    "- The strength of the association between \"AgeCategory\" and \"Survived\" is up to 3.53%.\n",
    "\n",
    "- For a risk level of 5%, **there's no enough proof based only on 94 samples** to attest that the survival rate of a passenger on the Titanic is statistically linked to him being young or adult; even if in this case as we can see their strength of association is really low, we won't be discarding immediately this feature but he'll be among first choices later when trying to improve a model.\n",
    "\n",
    "</div>"
   ]
  },
  {
   "cell_type": "markdown",
   "metadata": {},
   "source": [
    "##### *6.5. FamilySize and Survived*"
   ]
  },
  {
   "cell_type": "code",
   "execution_count": 200,
   "metadata": {},
   "outputs": [
    {
     "data": {
      "image/png": "[encoded data removed]",
      "text/plain": [
       "<Figure size 1000x600 with 1 Axes>"
      ]
     },
     "metadata": {},
     "output_type": "display_data"
    }
   ],
   "source": [
    "# Create a cross-tab between \"FamilySize\" and \"Survived\"\n",
    "df__table = 100 * pd.crosstab(df__engineeredtrain[\"FamilySize\"], df__engineeredtrain[\"Survived\"], normalize=\"index\")\n",
    "\n",
    "# Create the stacked bar chart\n",
    "ax__object = df__table.plot(kind=\"bar\", stacked=True, figsize=(10, 6))\n",
    "\n",
    "# Customize the chart\n",
    "plt.title(\"Survival Rates by Family Size on Titanic\", fontsize=16)\n",
    "plt.xlabel(\"FamilySize\", fontsize=12)\n",
    "plt.ylabel(\"Percentage\", fontsize=12)\n",
    "plt.legend([\"Did Not Survive\", \"Survived\"], title=\"Survival\", loc=\"upper right\")\n",
    "\n",
    "# Add value labels on the bars, rounded to two decimal places\n",
    "for barcontainer__object in ax__object.containers:\n",
    "    ax__object.bar_label(barcontainer__object, label_type=\"center\", fmt=\"%.2f\")\n",
    "\n",
    "# Adjust layout and display\n",
    "plt.tight_layout()\n",
    "plt.show()"
   ]
  },
  {
   "cell_type": "code",
   "execution_count": 201,
   "metadata": {},
   "outputs": [],
   "source": [
    "# Cleanup\n",
    "del df__table, ax__object, barcontainer__object"
   ]
  },
  {
   "cell_type": "code",
   "execution_count": 202,
   "metadata": {},
   "outputs": [
    {
     "data": {
      "text/plain": [
       "Chi2ContingencyResult(statistic=np.float64(0.06341855423488046), pvalue=np.float64(0.8011721526621649), dof=1, expected_freq=array([[20.10638298, 24.89361702],\n",
       "       [21.89361702, 27.10638298]]))"
      ]
     },
     "execution_count": 202,
     "metadata": {},
     "output_type": "execute_result"
    }
   ],
   "source": [
    "# Perform a Chi-Square test (risk level of 5%) between \"FamilySize\" and \"Survived\"\n",
    "chi2_contingency(pd.crosstab(df__engineeredtrain[\"FamilySize\"], df__engineeredtrain[\"Survived\"]))"
   ]
  },
  {
   "cell_type": "code",
   "execution_count": 203,
   "metadata": {},
   "outputs": [
    {
     "data": {
      "text/plain": [
       "np.float64(0.02597432329405012)"
      ]
     },
     "execution_count": 203,
     "metadata": {},
     "output_type": "execute_result"
    }
   ],
   "source": [
    "# Calculate Cramer's V : strength of the association between \"FamilySize\" and \"Survived\"\n",
    "df__table = pd.crosstab(df__engineeredtrain[\"FamilySize\"], df__engineeredtrain[\"Survived\"])\n",
    "np.sqrt(chi2_contingency(df__table)[0] / (df__table.sum().sum() * (min(df__table.shape) - 1)))"
   ]
  },
  {
   "cell_type": "code",
   "execution_count": 204,
   "metadata": {},
   "outputs": [],
   "source": [
    "# Cleanup\n",
    "del df__table"
   ]
  },
  {
   "cell_type": "markdown",
   "metadata": {},
   "source": [
    "<div style=\"background-color: green; padding: 10px;\">\n",
    "\n",
    "- The p-value of the Chi-Square test between \"FamilySize\" and \"Survived\" is up to 0.8 (higher than 0.05).\n",
    "\n",
    "- The strength of the association between \"FamilySize\" and \"Survived\" is estimated at 2.6%.\n",
    "\n",
    "- For a risk level of 5%, **there's no enough proof based only on 94 samples** to attest that the survival rate of a passenger on the Titanic is statistically linked to his family size; ; even if in this case as we can see their strength of association is really low, we won't be discarding immediately this feature but he'll be among first choices later when trying to improve a model.\n",
    "\n",
    "</div>"
   ]
  },
  {
   "cell_type": "markdown",
   "metadata": {},
   "source": [
    "##### *6.6. Make sure correlations between covariates are low*"
   ]
  },
  {
   "cell_type": "code",
   "execution_count": 205,
   "metadata": {},
   "outputs": [
    {
     "name": "stdout",
     "output_type": "stream",
     "text": [
      "The p-value is 0.74\n",
      "The strength of the association is 0.08\n"
     ]
    }
   ],
   "source": [
    "# Cross-tab between \"Sex\" and \"Embarked\"\n",
    "df__table = pd.crosstab(df__engineeredtrain[\"Sex\"], df__engineeredtrain[\"Embarked\"])\n",
    "\n",
    "# Perform a Chi-Square test (risk level of 5%) between \"Sex\" and \"Embarked\"\n",
    "print(f\"The p-value is {chi2_contingency(df__table)[1]:.2f}\")\n",
    "\n",
    "# Calculate Cramer's V : strength of the association between \"Sex\" and \"Embarked\"\n",
    "print(f\"The strength of the association is {np.sqrt(chi2_contingency(df__table)[0] / (df__table.sum().sum() * (min(df__table.shape) - 1))):.2f}\")\n",
    "\n",
    "# Cleanup\n",
    "del df__table"
   ]
  },
  {
   "cell_type": "markdown",
   "metadata": {},
   "source": [
    "<div style=\"background-color: green; padding: 10px;\">\n",
    "Statistically, based on these 94 samples we can assume there's no strong correlation between \"Sex\" and \"Embarked\" for a 5% risk level.\n",
    "</div>"
   ]
  },
  {
   "cell_type": "code",
   "execution_count": 206,
   "metadata": {},
   "outputs": [
    {
     "name": "stdout",
     "output_type": "stream",
     "text": [
      "The p-value is 0.92\n",
      "The strength of the association is 0.04\n"
     ]
    }
   ],
   "source": [
    "# Cross-tab between \"Sex\" and \"BoardingClass\"\n",
    "df__table = pd.crosstab(df__engineeredtrain[\"Sex\"], df__engineeredtrain[\"BoardingClass\"])\n",
    "\n",
    "# Perform a Chi-Square test (risk level of 5%) between \"Sex\" and \"BoardingClass\"\n",
    "print(f\"The p-value is {chi2_contingency(df__table)[1]:.2f}\")\n",
    "\n",
    "# Calculate Cramer's V for effect size : strength of the association between \"Sex\" and \"BoardingClass\"\n",
    "print(f\"The strength of the association is {np.sqrt(chi2_contingency(df__table)[0] / (df__table.sum().sum() * (min(df__table.shape) - 1))):.2f}\")\n",
    "\n",
    "# Cleanup\n",
    "del df__table"
   ]
  },
  {
   "cell_type": "markdown",
   "metadata": {},
   "source": [
    "<div style=\"background-color: green; padding: 10px;\">\n",
    "Statistically, based on these 94 samples we can assume there's no strong correlation between \"Sex\" and \"BoardingClass\" for a 5% risk level.\n",
    "</div>"
   ]
  },
  {
   "cell_type": "code",
   "execution_count": 207,
   "metadata": {},
   "outputs": [
    {
     "name": "stdout",
     "output_type": "stream",
     "text": [
      "The p-value is 0.68\n",
      "The strength of the association is 0.04\n"
     ]
    }
   ],
   "source": [
    "# Cross-tab between \"Sex\" and \"AgeCategory\"\n",
    "df__table = pd.crosstab(df__engineeredtrain[\"Sex\"], df__engineeredtrain[\"AgeCategory\"])\n",
    "\n",
    "# Perform a Chi-Square test (risk level of 5%) between \"Sex\" and \"AgeCategory\"\n",
    "print(f\"The p-value is {chi2_contingency(df__table)[1]:.2f}\")\n",
    "\n",
    "# Calculate Cramer's V for effect size : strength of the association between \"Sex\" and \"AgeCategory\"\n",
    "print(f\"The strength of the association is {np.sqrt(chi2_contingency(df__table)[0] / (df__table.sum().sum() * (min(df__table.shape) - 1))):.2f}\")\n",
    "\n",
    "# Cleanup\n",
    "del df__table"
   ]
  },
  {
   "cell_type": "markdown",
   "metadata": {},
   "source": [
    "<div style=\"background-color: green; padding: 10px;\">\n",
    "Statistically, based on these 94 samples we can assume there's no strong correlation between \"Sex\" and \"AgeCategory\" for a 5% risk level.\n",
    "</div>"
   ]
  },
  {
   "cell_type": "code",
   "execution_count": 208,
   "metadata": {},
   "outputs": [
    {
     "name": "stdout",
     "output_type": "stream",
     "text": [
      "The p-value is 1.00\n",
      "The strength of the association is 0.00\n"
     ]
    }
   ],
   "source": [
    "# Cross-tab between \"Sex\" and \"FamilySize\"\n",
    "df__table = pd.crosstab(df__engineeredtrain[\"Sex\"], df__engineeredtrain[\"FamilySize\"])\n",
    "\n",
    "# Perform a Chi-Square test (risk level of 5%) between \"Sex\" and \"FamilySize\"\n",
    "print(f\"The p-value is {chi2_contingency(df__table)[1]:.2f}\")\n",
    "\n",
    "# Calculate Cramer's V for effect size : strength of the association between \"Sex\" and \"FamilySize\"\n",
    "print(f\"The strength of the association is {np.sqrt(chi2_contingency(df__table)[0] / (df__table.sum().sum() * (min(df__table.shape) - 1))):.2f}\")\n",
    "\n",
    "# Cleanup\n",
    "del df__table"
   ]
  },
  {
   "cell_type": "markdown",
   "metadata": {},
   "source": [
    "<div style=\"background-color: green; padding: 10px;\">\n",
    "Statistically, based on these 94 samples we can assume there's no strong correlation between \"Sex\" and \"FamilySize\" for a 5% risk level.\n",
    "</div>"
   ]
  },
  {
   "cell_type": "code",
   "execution_count": 209,
   "metadata": {},
   "outputs": [
    {
     "name": "stdout",
     "output_type": "stream",
     "text": [
      "The p-value is 0.10\n",
      "The strength of the association is 0.20\n"
     ]
    }
   ],
   "source": [
    "# Cross-tab between \"Embarked\" and \"BoardingClass\"\n",
    "df__table = pd.crosstab(df__engineeredtrain[\"Embarked\"], df__engineeredtrain[\"BoardingClass\"])\n",
    "\n",
    "# Perform a Chi-Square test (risk level of 5%) between \"Embarked\" and \"BoardingClass\"\n",
    "print(f\"The p-value is {chi2_contingency(df__table)[1]:.2f}\")\n",
    "\n",
    "# Calculate Cramer's V for effect size : strength of the association between \"Embarked\" and \"BoardingClass\"\n",
    "print(f\"The strength of the association is {np.sqrt(chi2_contingency(df__table)[0] / (df__table.sum().sum() * (min(df__table.shape) - 1))):.2f}\")\n",
    "\n",
    "# Cleanup\n",
    "del df__table"
   ]
  },
  {
   "cell_type": "markdown",
   "metadata": {},
   "source": [
    "<div style=\"background-color: green; padding: 10px;\">\n",
    "Statistically, based on these 94 samples we can assume there's no strong correlation between \"Embarked\" and \"BoardingClass\" for a 5% risk level.\n",
    "</div>"
   ]
  },
  {
   "cell_type": "code",
   "execution_count": 210,
   "metadata": {},
   "outputs": [
    {
     "name": "stdout",
     "output_type": "stream",
     "text": [
      "The p-value is 0.80\n",
      "The strength of the association is 0.07\n"
     ]
    }
   ],
   "source": [
    "# Cross-tab between \"Embarked\" and \"AgeCategory\"\n",
    "df__table = pd.crosstab(df__engineeredtrain[\"Embarked\"], df__engineeredtrain[\"AgeCategory\"])\n",
    "\n",
    "# Perform a Chi-Square test (risk level of 5%) between \"Embarked\" and \"AgeCategory\"\n",
    "print(f\"The p-value is {chi2_contingency(df__table)[1]:.2f}\")\n",
    "\n",
    "# Calculate Cramer's V for effect size : strength of the association between \"Embarked\" and \"AgeCategory\"\n",
    "print(f\"The strength of the association is {np.sqrt(chi2_contingency(df__table)[0] / (df__table.sum().sum() * (min(df__table.shape) - 1))):.2f}\")\n",
    "\n",
    "# Cleanup\n",
    "del df__table"
   ]
  },
  {
   "cell_type": "markdown",
   "metadata": {},
   "source": [
    "<div style=\"background-color: green; padding: 10px;\">\n",
    "Statistically, based on these 94 samples we can assume there's no strong correlation between \"Embarked\" and \"AgeCategory\" for a 5% risk level.\n",
    "</div>"
   ]
  },
  {
   "cell_type": "code",
   "execution_count": 211,
   "metadata": {},
   "outputs": [
    {
     "name": "stdout",
     "output_type": "stream",
     "text": [
      "The p-value is 0.86\n",
      "The strength of the association is 0.06\n"
     ]
    }
   ],
   "source": [
    "# Cross-tab between \"Embarked\" and \"FamilySize\"\n",
    "df__table = pd.crosstab(df__engineeredtrain[\"Embarked\"], df__engineeredtrain[\"FamilySize\"])\n",
    "\n",
    "# Perform a Chi-Square test (risk level of 5%) between \"Embarked\" and \"FamilySize\"\n",
    "print(f\"The p-value is {chi2_contingency(df__table)[1]:.2f}\")\n",
    "\n",
    "# Calculate Cramer's V for effect size : strength of the association between \"Embarked\" and \"FamilySize\"\n",
    "print(f\"The strength of the association is {np.sqrt(chi2_contingency(df__table)[0] / (df__table.sum().sum() * (min(df__table.shape) - 1))):.2f}\")\n",
    "\n",
    "# Cleanup\n",
    "del df__table"
   ]
  },
  {
   "cell_type": "markdown",
   "metadata": {},
   "source": [
    "<div style=\"background-color: green; padding: 10px;\">\n",
    "Statistically, based on these 94 samples we can assume there's no strong correlation between \"Embarked\" and \"FamilySize\" for a 5% risk level.\n",
    "</div>"
   ]
  },
  {
   "cell_type": "code",
   "execution_count": 212,
   "metadata": {},
   "outputs": [
    {
     "name": "stdout",
     "output_type": "stream",
     "text": [
      "The p-value is 0.48\n",
      "The strength of the association is 0.12\n"
     ]
    }
   ],
   "source": [
    "# Cross-tab between \"BoardingClass\" and \"AgeCategory\"\n",
    "df__table = pd.crosstab(df__engineeredtrain[\"BoardingClass\"], df__engineeredtrain[\"AgeCategory\"])\n",
    "\n",
    "# Perform a Chi-Square test (risk level of 5%) between \"BoardingClass\" and \"AgeCategory\"\n",
    "print(f\"The p-value is {chi2_contingency(df__table)[1]:.2f}\")\n",
    "\n",
    "# Calculate Cramer's V for effect size : strength of the association between \"BoardingClass\" and \"AgeCategory\"\n",
    "print(f\"The strength of the association is {np.sqrt(chi2_contingency(df__table)[0] / (df__table.sum().sum() * (min(df__table.shape) - 1))):.2f}\")\n",
    "\n",
    "# Cleanup\n",
    "del df__table"
   ]
  },
  {
   "cell_type": "markdown",
   "metadata": {},
   "source": [
    "<div style=\"background-color: green; padding: 10px;\">\n",
    "Statistically, based on these 94 samples we can assume there's no strong correlation between \"BoardingClass\" and \"AgeCategory\" for a 5% risk level.\n",
    "</div>"
   ]
  },
  {
   "cell_type": "code",
   "execution_count": 213,
   "metadata": {},
   "outputs": [
    {
     "name": "stdout",
     "output_type": "stream",
     "text": [
      "The p-value is 0.34\n",
      "The strength of the association is 0.15\n"
     ]
    }
   ],
   "source": [
    "# Cross-tab between \"BoardingClass\" and \"FamilySize\"\n",
    "df__table = pd.crosstab(df__engineeredtrain[\"BoardingClass\"], df__engineeredtrain[\"FamilySize\"])\n",
    "\n",
    "# Perform a Chi-Square test (risk level of 5%) between \"BoardingClass\" and \"FamilySize\"\n",
    "print(f\"The p-value is {chi2_contingency(df__table)[1]:.2f}\")\n",
    "\n",
    "# Calculate Cramer's V for effect size : strength of the association between \"BoardingClass\" and \"FamilySize\"\n",
    "print(f\"The strength of the association is {np.sqrt(chi2_contingency(df__table)[0] / (df__table.sum().sum() * (min(df__table.shape) - 1))):.2f}\")\n",
    "\n",
    "# Cleanup\n",
    "del df__table"
   ]
  },
  {
   "cell_type": "markdown",
   "metadata": {},
   "source": [
    "<div style=\"background-color: green; padding: 10px;\">\n",
    "Statistically, based on these 94 samples we can assume there's no strong correlation between \"BoardingClass\" and \"FamilySize\" for a 5% risk level.\n",
    "</div>"
   ]
  },
  {
   "cell_type": "code",
   "execution_count": 214,
   "metadata": {},
   "outputs": [
    {
     "name": "stdout",
     "output_type": "stream",
     "text": [
      "The p-value is 0.64\n",
      "The strength of the association is 0.05\n"
     ]
    }
   ],
   "source": [
    "# Cross-tab between \"AgeCategory\" and \"FamilySize\"\n",
    "df__table = pd.crosstab(df__engineeredtrain[\"AgeCategory\"], df__engineeredtrain[\"FamilySize\"])\n",
    "\n",
    "# Perform a Chi-Square test (risk level of 5%) between \"AgeCategory\" and \"FamilySize\"\n",
    "print(f\"The p-value is {chi2_contingency(df__table)[1]:.2f}\")\n",
    "\n",
    "# Calculate Cramer's V for effect size : strength of the association between \"AgeCategory\" and \"FamilySize\"\n",
    "print(f\"The strength of the association is {np.sqrt(chi2_contingency(df__table)[0] / (df__table.sum().sum() * (min(df__table.shape) - 1))):.2f}\")\n",
    "\n",
    "# Cleanup\n",
    "del df__table"
   ]
  },
  {
   "cell_type": "markdown",
   "metadata": {},
   "source": [
    "<div style=\"background-color: green; padding: 10px;\">\n",
    "Statistically, based on these 94 samples we can assume there's no strong correlation between \"AgeCategory\" and \"FamilySize\" for a 5% risk level.\n",
    "</div>"
   ]
  },
  {
   "cell_type": "code",
   "execution_count": 215,
   "metadata": {},
   "outputs": [
    {
     "data": {
      "text/plain": [
       "10609"
      ]
     },
     "execution_count": 215,
     "metadata": {},
     "output_type": "execute_result"
    }
   ],
   "source": [
    "# Empty garbage collector\n",
    "gc.collect()"
   ]
  },
  {
   "cell_type": "markdown",
   "metadata": {},
   "source": [
    "#### 7. Model the target Survived"
   ]
  },
  {
   "cell_type": "code",
   "execution_count": 216,
   "metadata": {},
   "outputs": [
    {
     "data": {
      "text/plain": [
       "<Axes: title={'center': 'Survived count distribution'}, xlabel='Survived'>"
      ]
     },
     "execution_count": 216,
     "metadata": {},
     "output_type": "execute_result"
    },
    {
     "data": {
      "image/png": "[encoded data removed]",
      "text/plain": [
       "<Figure size 640x480 with 1 Axes>"
      ]
     },
     "metadata": {},
     "output_type": "display_data"
    }
   ],
   "source": [
    "# Take a look at \"Survived\" in the training set to watch for any pronounced class imbalance\n",
    "df__engineeredtrain[\"Survived\"].value_counts().plot(kind=\"bar\", title=\"Survived count distribution\")"
   ]
  },
  {
   "cell_type": "code",
   "execution_count": 217,
   "metadata": {},
   "outputs": [],
   "source": [
    "# Separate Covariates and Target in df__engineeredtrain\n",
    "df__covariates = df__engineeredtrain[df__engineeredtrain.columns[~(df__engineeredtrain.columns.isin([\"Survived\"]))]].copy(deep=True)\n",
    "df__target = df__engineeredtrain[[\"Survived\"]].copy(deep=True).astype(int)\n",
    "\n",
    "# Cleanup\n",
    "del df__engineeredtrain"
   ]
  },
  {
   "cell_type": "code",
   "execution_count": 218,
   "metadata": {},
   "outputs": [],
   "source": [
    "# Perform an encoding of all categorical covariates modalities for both df__covariates and df__engineeredtest\n",
    "\n",
    "# Initialize a counter\n",
    "int__counter = 0\n",
    "\n",
    "# Create a copy of df__covariates\n",
    "df__nwcovariates = df__covariates.copy(deep=True)\n",
    "\n",
    "# Create a copy of df__engineeredtest\n",
    "df__nwengineeredtest = df__engineeredtest.copy(deep=True)\n",
    "\n",
    "# Define a list with all the names of covariates \n",
    "list__covariates = df__covariates[df__covariates.columns[~(df__covariates.columns.isin([\"SimilarPassengerIds\", \"GroupSize\"]))]]\n",
    "\n",
    "# Go through each feature\n",
    "for str__featurename in list__covariates:\n",
    "    \n",
    "    # Initialize a OneHotEncoder object\n",
    "    onehotencoder__object = OneHotEncoder(drop=\"first\", sparse_output=False)\n",
    "\n",
    "    # Fit onehotencoder__object to str__featurename modalities in df__covariates\n",
    "    onehotencoder__object.fit(df__covariates[[str__featurename]])\n",
    "    \n",
    "    # Perform an encoding of str__featurename modalities in df__covariates\n",
    "    array__feature = onehotencoder__object.transform(df__covariates[[str__featurename]])\n",
    "    # Convert array__feature into a DataFrame\n",
    "    df__feature = pd.DataFrame(data=array__feature, columns=[str__featurename + \"_newfeature\" + str(int__i) for int__i in range(int__counter, array__feature.shape[1]+int__counter)])\n",
    "    # Add df__feature into df__nwcovariates\n",
    "    df__nwcovariates = pd.concat([df__nwcovariates, df__feature], axis=1)\n",
    "    # Cleanup\n",
    "    del df__nwcovariates[str__featurename], array__feature, df__feature\n",
    "\n",
    "    # Perform an encoding of str__featurename modalities in df__nwengineeredtest\n",
    "    array__feature = onehotencoder__object.transform(df__nwengineeredtest[[str__featurename]])\n",
    "    # Convert array__feature into a DataFrame\n",
    "    df__feature = pd.DataFrame(data=array__feature, columns=[str__featurename + \"_newfeature\" + str(int__i) for int__i in range(int__counter, array__feature.shape[1]+int__counter)])\n",
    "    # Add df__feature into df__nwengineeredtest\n",
    "    df__nwengineeredtest = pd.concat([df__nwengineeredtest, df__feature], axis=1)\n",
    "    # Cleanup\n",
    "    del df__nwengineeredtest[str__featurename], onehotencoder__object, df__feature\n",
    "\n",
    "    # Increment int__counter\n",
    "    int__counter += array__feature.shape[1]\n",
    "\n",
    "    # Cleanup\n",
    "    del array__feature\n",
    "\n",
    "# Cleanup\n",
    "del str__featurename, int__counter, list__covariates"
   ]
  },
  {
   "cell_type": "markdown",
   "metadata": {},
   "source": [
    "##### *7.1. Try a logistic regression*"
   ]
  },
  {
   "cell_type": "code",
   "execution_count": 219,
   "metadata": {},
   "outputs": [],
   "source": [
    "# Put back together the data that will be used to train a logistic regression model\n",
    "df__logisticregression = pd.concat([df__nwcovariates, df__target], axis=1)\n",
    "list__logregcovariates = df__nwcovariates.columns[~(df__nwcovariates.columns.isin([\"Survived\", \"SimilarPassengerIds\"]))]"
   ]
  },
  {
   "cell_type": "code",
   "execution_count": 220,
   "metadata": {},
   "outputs": [
    {
     "name": "stdout",
     "output_type": "stream",
     "text": [
      "The minimum number of samples and covariates of the covariates matrix is 7.\n",
      "The rank of the covariates matrix is 7.\n"
     ]
    }
   ],
   "source": [
    "# Remove any eventual duplicate infos\n",
    "df__logisticregression.drop_duplicates(inplace=True)\n",
    "\n",
    "# Reset index values\n",
    "df__logisticregression.reset_index(inplace=True, drop=True)\n",
    "\n",
    "# Make sure the rank of matrix of covariates is no less than the min number of samples and covariates\n",
    "print(f\"The minimum number of samples and covariates of the covariates matrix is {min(df__logisticregression[list__logregcovariates].shape)}.\")\n",
    "print(f\"The rank of the covariates matrix is {np.linalg.matrix_rank(df__logisticregression[list__logregcovariates])}.\")"
   ]
  },
  {
   "cell_type": "code",
   "execution_count": 221,
   "metadata": {},
   "outputs": [],
   "source": [
    "# Initialize two LogisticRegression objects : be careful of your chosen parameters\n",
    "logisticregression__object1 = LogisticRegression(random_state=123, penalty=\"l2\", C=1, max_iter=100, solver=\"lbfgs\")\n",
    "logisticregression__object2 = LogisticRegression(random_state=123, penalty=\"l2\", C=1, max_iter=100, solver=\"lbfgs\")"
   ]
  },
  {
   "cell_type": "code",
   "execution_count": 222,
   "metadata": {},
   "outputs": [
    {
     "data": {
      "text/plain": [
       "array([8], dtype=int32)"
      ]
     },
     "execution_count": 222,
     "metadata": {},
     "output_type": "execute_result"
    }
   ],
   "source": [
    "# Fit logisticregression__object1 to all covariates\n",
    "logisticregression__object1.fit(\n",
    "    X=np.array(df__logisticregression[list__logregcovariates])\n",
    "    , y=np.array(df__logisticregression[\"Survived\"]))\n",
    "\n",
    "# Check the number of iterations used for the optimization algo to converge (if it converges)\n",
    "logisticregression__object1.n_iter_"
   ]
  },
  {
   "cell_type": "code",
   "execution_count": 223,
   "metadata": {},
   "outputs": [
    {
     "data": {
      "text/plain": [
       "array([8], dtype=int32)"
      ]
     },
     "execution_count": 223,
     "metadata": {},
     "output_type": "execute_result"
    }
   ],
   "source": [
    "# Fit logisticregression__object2 only to relevant covariates\n",
    "# By irrelevant covariates, we're talking about discarding those which have statistically the weakest associations with \"Survived\"\n",
    "# Covariates with the weakest associations with \"Survived\" were noticed in the previous section 6.\n",
    "\n",
    "list__logregrelevantcovariates = [str__covariate for str__covariate in list__logregcovariates if \"AgeCategory\" not in str__covariate and \"FamilySize\" not in str__covariate]\n",
    "\n",
    "logisticregression__object2.fit(\n",
    "    X=np.array(df__logisticregression[list__logregrelevantcovariates])\n",
    "    , y=np.array(df__logisticregression[\"Survived\"]))\n",
    "\n",
    "# Check the number of iterations used for the optimization algo to converge (if it converges)\n",
    "logisticregression__object2.n_iter_"
   ]
  },
  {
   "cell_type": "code",
   "execution_count": 224,
   "metadata": {},
   "outputs": [],
   "source": [
    "# Get predicted death probabilities coming from each model\n",
    "df__logisticregression = pd.concat(\n",
    "    [\n",
    "        df__logisticregression\n",
    "        , pd.DataFrame(data=np.array(pd.DataFrame(logisticregression__object1.predict_proba(X=np.array(df__logisticregression[list__logregcovariates]))).loc[:, 0]), columns=[\"DeathProbability_model1\"])\n",
    "        , pd.DataFrame(data=np.array(pd.DataFrame(logisticregression__object2.predict_proba(X=np.array(df__logisticregression[list__logregrelevantcovariates]))).loc[:, 0]), columns=[\"DeathProbability_model2\"])  \n",
    "    ]\n",
    "    , axis=1)"
   ]
  },
  {
   "cell_type": "code",
   "execution_count": 225,
   "metadata": {},
   "outputs": [
    {
     "data": {
      "text/html": [
       "<div>\n",
       "<style scoped>\n",
       "    .dataframe tbody tr th:only-of-type {\n",
       "        vertical-align: middle;\n",
       "    }\n",
       "\n",
       "    .dataframe tbody tr th {\n",
       "        vertical-align: top;\n",
       "    }\n",
       "\n",
       "    .dataframe thead tr th {\n",
       "        text-align: left;\n",
       "    }\n",
       "\n",
       "    .dataframe thead tr:last-of-type th {\n",
       "        text-align: right;\n",
       "    }\n",
       "</style>\n",
       "<table border=\"1\" class=\"dataframe\">\n",
       "  <thead>\n",
       "    <tr>\n",
       "      <th></th>\n",
       "      <th colspan=\"8\" halign=\"left\">DeathProbability_model1</th>\n",
       "    </tr>\n",
       "    <tr>\n",
       "      <th></th>\n",
       "      <th>count</th>\n",
       "      <th>mean</th>\n",
       "      <th>std</th>\n",
       "      <th>min</th>\n",
       "      <th>25%</th>\n",
       "      <th>50%</th>\n",
       "      <th>75%</th>\n",
       "      <th>max</th>\n",
       "    </tr>\n",
       "    <tr>\n",
       "      <th>Survived</th>\n",
       "      <th></th>\n",
       "      <th></th>\n",
       "      <th></th>\n",
       "      <th></th>\n",
       "      <th></th>\n",
       "      <th></th>\n",
       "      <th></th>\n",
       "      <th></th>\n",
       "    </tr>\n",
       "  </thead>\n",
       "  <tbody>\n",
       "    <tr>\n",
       "      <th>0</th>\n",
       "      <td>42.0</td>\n",
       "      <td>0.482991</td>\n",
       "      <td>0.102763</td>\n",
       "      <td>0.286366</td>\n",
       "      <td>0.415011</td>\n",
       "      <td>0.476427</td>\n",
       "      <td>0.555592</td>\n",
       "      <td>0.684354</td>\n",
       "    </tr>\n",
       "    <tr>\n",
       "      <th>1</th>\n",
       "      <td>52.0</td>\n",
       "      <td>0.417556</td>\n",
       "      <td>0.117985</td>\n",
       "      <td>0.222189</td>\n",
       "      <td>0.322586</td>\n",
       "      <td>0.415284</td>\n",
       "      <td>0.504254</td>\n",
       "      <td>0.684354</td>\n",
       "    </tr>\n",
       "  </tbody>\n",
       "</table>\n",
       "</div>"
      ],
      "text/plain": [
       "         DeathProbability_model1                                          \\\n",
       "                           count      mean       std       min       25%   \n",
       "Survived                                                                   \n",
       "0                           42.0  0.482991  0.102763  0.286366  0.415011   \n",
       "1                           52.0  0.417556  0.117985  0.222189  0.322586   \n",
       "\n",
       "                                        \n",
       "               50%       75%       max  \n",
       "Survived                                \n",
       "0         0.476427  0.555592  0.684354  \n",
       "1         0.415284  0.504254  0.684354  "
      ]
     },
     "execution_count": 225,
     "metadata": {},
     "output_type": "execute_result"
    }
   ],
   "source": [
    "# Display characteristics of predicted death probabilities by model1 for each \"Survived\" modality \n",
    "df__logisticregression[[\"DeathProbability_model1\", \"Survived\"]].groupby([\"Survived\"], observed=False).describe()"
   ]
  },
  {
   "cell_type": "markdown",
   "metadata": {},
   "source": [
    "-  50% of groups who survived have their death probabilities lesser than or equal to 0.42, and 50% of death groups have their death probabilities equal or higher than 0.48.\n",
    "\n",
    "-  75% of people who survived have their death probabilities lesser than or equal to approximately 0.5, and only 25% of dead people have their death probabilities equal or higher than 0.56.\n",
    "\n",
    "-  The max death probability observed in both groups of survived or dead people is the same : 68.44%."
   ]
  },
  {
   "cell_type": "code",
   "execution_count": 226,
   "metadata": {},
   "outputs": [
    {
     "data": {
      "text/html": [
       "<div>\n",
       "<style scoped>\n",
       "    .dataframe tbody tr th:only-of-type {\n",
       "        vertical-align: middle;\n",
       "    }\n",
       "\n",
       "    .dataframe tbody tr th {\n",
       "        vertical-align: top;\n",
       "    }\n",
       "\n",
       "    .dataframe thead tr th {\n",
       "        text-align: left;\n",
       "    }\n",
       "\n",
       "    .dataframe thead tr:last-of-type th {\n",
       "        text-align: right;\n",
       "    }\n",
       "</style>\n",
       "<table border=\"1\" class=\"dataframe\">\n",
       "  <thead>\n",
       "    <tr>\n",
       "      <th></th>\n",
       "      <th colspan=\"8\" halign=\"left\">DeathProbability_model2</th>\n",
       "    </tr>\n",
       "    <tr>\n",
       "      <th></th>\n",
       "      <th>count</th>\n",
       "      <th>mean</th>\n",
       "      <th>std</th>\n",
       "      <th>min</th>\n",
       "      <th>25%</th>\n",
       "      <th>50%</th>\n",
       "      <th>75%</th>\n",
       "      <th>max</th>\n",
       "    </tr>\n",
       "    <tr>\n",
       "      <th>Survived</th>\n",
       "      <th></th>\n",
       "      <th></th>\n",
       "      <th></th>\n",
       "      <th></th>\n",
       "      <th></th>\n",
       "      <th></th>\n",
       "      <th></th>\n",
       "      <th></th>\n",
       "    </tr>\n",
       "  </thead>\n",
       "  <tbody>\n",
       "    <tr>\n",
       "      <th>0</th>\n",
       "      <td>42.0</td>\n",
       "      <td>0.480702</td>\n",
       "      <td>0.101720</td>\n",
       "      <td>0.291706</td>\n",
       "      <td>0.411615</td>\n",
       "      <td>0.475248</td>\n",
       "      <td>0.559759</td>\n",
       "      <td>0.64613</td>\n",
       "    </tr>\n",
       "    <tr>\n",
       "      <th>1</th>\n",
       "      <td>52.0</td>\n",
       "      <td>0.419452</td>\n",
       "      <td>0.112846</td>\n",
       "      <td>0.257296</td>\n",
       "      <td>0.331274</td>\n",
       "      <td>0.411615</td>\n",
       "      <td>0.476710</td>\n",
       "      <td>0.64613</td>\n",
       "    </tr>\n",
       "  </tbody>\n",
       "</table>\n",
       "</div>"
      ],
      "text/plain": [
       "         DeathProbability_model2                                          \\\n",
       "                           count      mean       std       min       25%   \n",
       "Survived                                                                   \n",
       "0                           42.0  0.480702  0.101720  0.291706  0.411615   \n",
       "1                           52.0  0.419452  0.112846  0.257296  0.331274   \n",
       "\n",
       "                                       \n",
       "               50%       75%      max  \n",
       "Survived                               \n",
       "0         0.475248  0.559759  0.64613  \n",
       "1         0.411615  0.476710  0.64613  "
      ]
     },
     "execution_count": 226,
     "metadata": {},
     "output_type": "execute_result"
    }
   ],
   "source": [
    "# Display characteristics of predicted death probabilities by model2 for each \"Survived\" modality \n",
    "df__logisticregression[[\"DeathProbability_model2\", \"Survived\"]].groupby([\"Survived\"], observed=False).describe()"
   ]
  },
  {
   "cell_type": "markdown",
   "metadata": {},
   "source": [
    "-  50% of groups who survived have their death probabilities lesser than or equal to 0.41, and 50% of death groups have their death probabilities equal or higher than 0.48.\n",
    "\n",
    "-  75% of groups who survived have their death probabilities lesser than or equal to approximatel 0.48, and 25% of death groups have their death probabilities equal or higher than 0.56.\n",
    "\n",
    "-  The max death probability observed in both groups of survived or dead people is the same : 64.61%.\n",
    "\n",
    "- Similar results are obtained from both models, and since this second model uses less features than the first we'll keep this one and discard the first when proceeding further."
   ]
  },
  {
   "cell_type": "code",
   "execution_count": 227,
   "metadata": {},
   "outputs": [],
   "source": [
    "# Clean up\n",
    "list__logregcovariates = list__logregrelevantcovariates\n",
    "del logisticregression__object1, df__logisticregression[\"DeathProbability_model1\"], list__logregrelevantcovariates"
   ]
  },
  {
   "cell_type": "code",
   "execution_count": 228,
   "metadata": {},
   "outputs": [
    {
     "name": "stdout",
     "output_type": "stream",
     "text": [
      "  message: CONVERGENCE: NORM_OF_PROJECTED_GRADIENT_<=_PGTOL\n",
      "  success: True\n",
      "   status: 0\n",
      "      fun: 51.866093280982916\n",
      "        x: [ 5.000e-01]\n",
      "      nit: 0\n",
      "      jac: [ 0.000e+00]\n",
      "     nfev: 2\n",
      "     njev: 1\n",
      " hess_inv: <1x1 LbfgsInvHessProduct with dtype=float64>\n"
     ]
    }
   ],
   "source": [
    "# Look for the best threshold so we can have a good prediction on all passengers in the training set : work on the size of each group of similar passengers\n",
    "\n",
    "# Prepare the data used to search for an adequate threshold\n",
    "df__table = df__logisticregression[[\"DeathProbability_model2\", \"Survived\", \"SimilarPassengerIds\"]].copy(deep=True)\n",
    "df__table[\"GroupSize\"] = df__table[\"SimilarPassengerIds\"].apply(lambda x: len(x.split(\"__\")))\n",
    "df__table[\"GroupWeight\"] = df__table[\"GroupSize\"] / df__table[\"GroupSize\"].sum()\n",
    "\n",
    "# Define the objective function according to the current problem\n",
    "def function__objective1(float__threshold: float, array__deathprobabilities: np.ndarray, array__groupweights: np.ndarray, array__survived: np.ndarray)-> float:\n",
    "    \"\"\"\n",
    "    Input:\n",
    "    float__threshold : a float (value which helps identifies if a passenger death probability is enough high to be considered as a dead person)\n",
    "    array__deathprobabilities : an array of float (array of death probabilities for each group of passengers)\n",
    "    array__groupweights : an array of float (array of weigths for each group of passengers)\n",
    "    array__survived : an array of integer (with only 0 or 1) which is the survival state of each group of passengers\n",
    "    \n",
    "    Output:\n",
    "    float__sumerrors : a float (sum of squared differences between actual survival outcomes and weighted predicted survival probabilities for each passenger group) \n",
    "    \"\"\"\n",
    "    \n",
    "    float__sumerrors = np.sum((((array__deathprobabilities > float__threshold).astype(int)) * array__groupweights - array__survived) ** 2)\n",
    "    return float__sumerrors\n",
    "\n",
    "# Do the optimization\n",
    "optimizeresult__object = minimize(\n",
    "    fun=lambda x: function__objective1(\n",
    "        float__threshold=x[0]\n",
    "        , array__deathprobabilities=np.array(df__table[\"DeathProbability_model2\"])\n",
    "        , array__groupweights=np.array(df__table[\"GroupWeight\"])\n",
    "        , array__survived=np.array(df__table[\"Survived\"]))\n",
    "    , x0=[0.5]  # Initial guess for float__threshold\n",
    "    , bounds=[(0, 1)] # float__threshold must be between 0 and 1\n",
    "    , method='L-BFGS-B'\n",
    "    , options={'ftol': 1e-9, 'maxiter': 1000} # stopping criteria for the algo to stop if an optimum is not found / is found\n",
    ")\n",
    "\n",
    "# Analyze if an optimum was found\n",
    "print(optimizeresult__object)"
   ]
  },
  {
   "cell_type": "code",
   "execution_count": 229,
   "metadata": {},
   "outputs": [
    {
     "name": "stdout",
     "output_type": "stream",
     "text": [
      "_________ \n",
      "\n",
      "Out of 549 passengers who did not survived, we were able to predict correctly 353.\n",
      "_________ \n",
      "\n",
      "Out of 342 passengers who survived, we were able to predict correctly 267.\n",
      "_________ \n",
      "\n",
      "Globally, out of 891 passengers, we were able to predict correctly 620.\n"
     ]
    }
   ],
   "source": [
    "# Get the optimal threshold\n",
    "float__optimthreshold = optimizeresult__object.x[0]\n",
    "\n",
    "# Predict \"Survived\"\n",
    "df__table[\"SurvivedPredicted\"] = df__table[\"DeathProbability_model2\"].apply(lambda x: 1 if x <= float__optimthreshold else 0)\n",
    "\n",
    "# Compute the total number of good prediction\n",
    "print(\"_________ \\n\")\n",
    "print(f\"Out of {df__table[df__table[\"Survived\"] == 0][\"GroupSize\"].sum()} passengers who did not survived, we were able to predict correctly {df__table[(df__table[\"Survived\"] == df__table[\"SurvivedPredicted\"]) & (df__table[\"Survived\"] == 0)][\"GroupSize\"].sum()}.\")\n",
    "print(\"_________ \\n\")\n",
    "print(f\"Out of {df__table[df__table[\"Survived\"] == 1][\"GroupSize\"].sum()} passengers who survived, we were able to predict correctly {df__table[(df__table[\"Survived\"] == df__table[\"SurvivedPredicted\"]) & (df__table[\"Survived\"] == 1)][\"GroupSize\"].sum()}.\")\n",
    "print(\"_________ \\n\")\n",
    "print(f\"Globally, out of {df__table[\"GroupSize\"].sum()} passengers, we were able to predict correctly {df__table[(df__table[\"Survived\"] == df__table[\"SurvivedPredicted\"])][\"GroupSize\"].sum()}.\")\n"
   ]
  },
  {
   "cell_type": "code",
   "execution_count": 230,
   "metadata": {},
   "outputs": [
    {
     "name": "stdout",
     "output_type": "stream",
     "text": [
      "Out of 271 passengers with bad predictions : \n",
      "\n",
      "48 have missing and/or approximately estimated age. \n",
      "\n",
      "0 have missing fare. \n",
      "\n",
      "0 have missing embarkation points. \n",
      "\n"
     ]
    }
   ],
   "source": [
    "# Try to understand bad predictions on some passengers : we try to relate bad predictions to inaccurate/missing data\n",
    "\n",
    "# Keep only bad predictions\n",
    "df__nwtable = df__table[df__table[\"Survived\"] != df__table[\"SurvivedPredicted\"]][[\"SimilarPassengerIds\"]].copy(deep=True)\n",
    "\n",
    "# Get list of all passengers with bad predictions\n",
    "list__badpredictions = []\n",
    "for str__passengersgroup in df__nwtable[\"SimilarPassengerIds\"].tolist():\n",
    "    list__passengersgroup = str__passengersgroup.split(\"__\")\n",
    "    list__badpredictions = list__badpredictions + list__passengersgroup\n",
    "    # Cleanup\n",
    "    del list__passengersgroup\n",
    "\n",
    "# Cleanup\n",
    "del str__passengersgroup\n",
    "\n",
    "# Get how many of passengers with bad predictions have missing data\n",
    "print(f\"Out of {len(list__badpredictions)} passengers with bad predictions : \\n\")\n",
    "print(f\"{len([str__passengerid for str__passengerid in list__badpredictions if str__passengerid in list__missingage])} have missing and/or approximately estimated age. \\n\")\n",
    "print(f\"{len([str__passengerid for str__passengerid in list__badpredictions if str__passengerid in list__missingfare])} have missing fare. \\n\")\n",
    "print(f\"{len([str__passengerid for str__passengerid in list__badpredictions if str__passengerid in list__missingembarked])} have missing embarkation points. \\n\")"
   ]
  },
  {
   "cell_type": "code",
   "execution_count": 231,
   "metadata": {},
   "outputs": [
    {
     "data": {
      "text/html": [
       "<div>\n",
       "<style scoped>\n",
       "    .dataframe tbody tr th:only-of-type {\n",
       "        vertical-align: middle;\n",
       "    }\n",
       "\n",
       "    .dataframe tbody tr th {\n",
       "        vertical-align: top;\n",
       "    }\n",
       "\n",
       "    .dataframe thead th {\n",
       "        text-align: right;\n",
       "    }\n",
       "</style>\n",
       "<table border=\"1\" class=\"dataframe\">\n",
       "  <thead>\n",
       "    <tr style=\"text-align: right;\">\n",
       "      <th></th>\n",
       "      <th></th>\n",
       "      <th></th>\n",
       "      <th>FamilySize</th>\n",
       "      <th>alone</th>\n",
       "      <th>not alone</th>\n",
       "    </tr>\n",
       "    <tr>\n",
       "      <th>Sex</th>\n",
       "      <th>Embarked</th>\n",
       "      <th>BoardingClass</th>\n",
       "      <th>AgeCategory</th>\n",
       "      <th></th>\n",
       "      <th></th>\n",
       "    </tr>\n",
       "  </thead>\n",
       "  <tbody>\n",
       "    <tr>\n",
       "      <th rowspan=\"10\" valign=\"top\">female</th>\n",
       "      <th rowspan=\"3\" valign=\"top\">C</th>\n",
       "      <th rowspan=\"2\" valign=\"top\">least privileged</th>\n",
       "      <th>adult</th>\n",
       "      <td>0</td>\n",
       "      <td>1</td>\n",
       "    </tr>\n",
       "    <tr>\n",
       "      <th>young</th>\n",
       "      <td>1</td>\n",
       "      <td>1</td>\n",
       "    </tr>\n",
       "    <tr>\n",
       "      <th>most privileged</th>\n",
       "      <th>adult</th>\n",
       "      <td>1</td>\n",
       "      <td>0</td>\n",
       "    </tr>\n",
       "    <tr>\n",
       "      <th rowspan=\"2\" valign=\"top\">Q</th>\n",
       "      <th rowspan=\"2\" valign=\"top\">least privileged</th>\n",
       "      <th>adult</th>\n",
       "      <td>1</td>\n",
       "      <td>1</td>\n",
       "    </tr>\n",
       "    <tr>\n",
       "      <th>young</th>\n",
       "      <td>1</td>\n",
       "      <td>1</td>\n",
       "    </tr>\n",
       "    <tr>\n",
       "      <th rowspan=\"5\" valign=\"top\">S</th>\n",
       "      <th rowspan=\"2\" valign=\"top\">least privileged</th>\n",
       "      <th>adult</th>\n",
       "      <td>1</td>\n",
       "      <td>1</td>\n",
       "    </tr>\n",
       "    <tr>\n",
       "      <th>young</th>\n",
       "      <td>1</td>\n",
       "      <td>1</td>\n",
       "    </tr>\n",
       "    <tr>\n",
       "      <th>moderately privileged</th>\n",
       "      <th>adult</th>\n",
       "      <td>1</td>\n",
       "      <td>1</td>\n",
       "    </tr>\n",
       "    <tr>\n",
       "      <th rowspan=\"2\" valign=\"top\">most privileged</th>\n",
       "      <th>adult</th>\n",
       "      <td>0</td>\n",
       "      <td>1</td>\n",
       "    </tr>\n",
       "    <tr>\n",
       "      <th>young</th>\n",
       "      <td>0</td>\n",
       "      <td>1</td>\n",
       "    </tr>\n",
       "    <tr>\n",
       "      <th rowspan=\"12\" valign=\"top\">male</th>\n",
       "      <th rowspan=\"5\" valign=\"top\">C</th>\n",
       "      <th rowspan=\"2\" valign=\"top\">least privileged</th>\n",
       "      <th>adult</th>\n",
       "      <td>1</td>\n",
       "      <td>0</td>\n",
       "    </tr>\n",
       "    <tr>\n",
       "      <th>young</th>\n",
       "      <td>1</td>\n",
       "      <td>1</td>\n",
       "    </tr>\n",
       "    <tr>\n",
       "      <th>moderately privileged</th>\n",
       "      <th>adult</th>\n",
       "      <td>1</td>\n",
       "      <td>1</td>\n",
       "    </tr>\n",
       "    <tr>\n",
       "      <th rowspan=\"2\" valign=\"top\">most privileged</th>\n",
       "      <th>adult</th>\n",
       "      <td>1</td>\n",
       "      <td>1</td>\n",
       "    </tr>\n",
       "    <tr>\n",
       "      <th>young</th>\n",
       "      <td>0</td>\n",
       "      <td>1</td>\n",
       "    </tr>\n",
       "    <tr>\n",
       "      <th>Q</th>\n",
       "      <th>least privileged</th>\n",
       "      <th>adult</th>\n",
       "      <td>1</td>\n",
       "      <td>1</td>\n",
       "    </tr>\n",
       "    <tr>\n",
       "      <th rowspan=\"6\" valign=\"top\">S</th>\n",
       "      <th rowspan=\"2\" valign=\"top\">least privileged</th>\n",
       "      <th>adult</th>\n",
       "      <td>1</td>\n",
       "      <td>1</td>\n",
       "    </tr>\n",
       "    <tr>\n",
       "      <th>young</th>\n",
       "      <td>1</td>\n",
       "      <td>1</td>\n",
       "    </tr>\n",
       "    <tr>\n",
       "      <th rowspan=\"2\" valign=\"top\">moderately privileged</th>\n",
       "      <th>adult</th>\n",
       "      <td>1</td>\n",
       "      <td>1</td>\n",
       "    </tr>\n",
       "    <tr>\n",
       "      <th>young</th>\n",
       "      <td>1</td>\n",
       "      <td>1</td>\n",
       "    </tr>\n",
       "    <tr>\n",
       "      <th rowspan=\"2\" valign=\"top\">most privileged</th>\n",
       "      <th>adult</th>\n",
       "      <td>1</td>\n",
       "      <td>1</td>\n",
       "    </tr>\n",
       "    <tr>\n",
       "      <th>young</th>\n",
       "      <td>0</td>\n",
       "      <td>1</td>\n",
       "    </tr>\n",
       "  </tbody>\n",
       "</table>\n",
       "</div>"
      ],
      "text/plain": [
       "FamilySize                                         alone  not alone\n",
       "Sex    Embarked BoardingClass         AgeCategory                  \n",
       "female C        least privileged      adult            0          1\n",
       "                                      young            1          1\n",
       "                most privileged       adult            1          0\n",
       "       Q        least privileged      adult            1          1\n",
       "                                      young            1          1\n",
       "       S        least privileged      adult            1          1\n",
       "                                      young            1          1\n",
       "                moderately privileged adult            1          1\n",
       "                most privileged       adult            0          1\n",
       "                                      young            0          1\n",
       "male   C        least privileged      adult            1          0\n",
       "                                      young            1          1\n",
       "                moderately privileged adult            1          1\n",
       "                most privileged       adult            1          1\n",
       "                                      young            0          1\n",
       "       Q        least privileged      adult            1          1\n",
       "       S        least privileged      adult            1          1\n",
       "                                      young            1          1\n",
       "                moderately privileged adult            1          1\n",
       "                                      young            1          1\n",
       "                most privileged       adult            1          1\n",
       "                                      young            0          1"
      ]
     },
     "execution_count": 231,
     "metadata": {},
     "output_type": "execute_result"
    }
   ],
   "source": [
    "# Try to understand bad predictions on some passengers : try to identify any common pattern between these passengers\n",
    "\n",
    "# Update df__nwtable\n",
    "df__nwtable = df__nwtable.merge(right=df__covariates, on=[\"SimilarPassengerIds\"], how=\"inner\")\n",
    "del df__nwtable[\"SimilarPassengerIds\"]\n",
    "\n",
    "# Take a look at df__nwtable using a Multi-level cross-tabulation\n",
    "pd.crosstab([df__nwtable[str__covariate] for str__covariate in df__nwtable.columns[:-1]], df__nwtable[df__nwtable.columns[-1]])"
   ]
  },
  {
   "cell_type": "markdown",
   "metadata": {},
   "source": [
    "_There seems to be **no obvious commonality** among misclassified cases._"
   ]
  },
  {
   "cell_type": "markdown",
   "metadata": {},
   "source": [
    "<div style=\"background-color: green; padding: 10px;\">\n",
    "\n",
    "The logistic regression model based on covariates such as \"Sex\", \"Embarked\" and \"BoardingClass\", and a death probability threshold of 0.5 was able to give on the training set :\n",
    "- An accuracy of 78.07% for the actual people who survived ;\n",
    "- An accuracy of 64.3% for the actual people who did not survived ;\n",
    "- Keeping in mind that proportions of survived and dead groups are similar in the training set, the overall accuracy is 69.58%.\n",
    "\n",
    "We'll keep the logistic regression as a based model to which we'll compare some advanced models, since its result is better than a model where we choose to consider all people as dead or alive : an overall accuracy at least 7% higher, and at most 32% higher than this of a model where we consider all people as dead or alive.\n",
    "</div>"
   ]
  },
  {
   "cell_type": "code",
   "execution_count": 232,
   "metadata": {},
   "outputs": [],
   "source": [
    "# Cleanup\n",
    "df__logisticregression.rename(columns={\"DeathProbability_model2\":\"DeathProbability_logreg\"}, inplace=True)\n",
    "del optimizeresult__object, df__table, float__optimthreshold, list__badpredictions, df__nwtable"
   ]
  },
  {
   "cell_type": "markdown",
   "metadata": {},
   "source": [
    "##### *7.2. Try a random forest*"
   ]
  },
  {
   "cell_type": "markdown",
   "metadata": {},
   "source": [
    "Our goal when using a random forest is to use primarly a decision tree ability to take into account interactions between features. Secondly, a decision tree has the ability to do feature selection so only relevant features will be used. Thirdly, using the concept of bagging enables us to combine the predictive power of different decision trees for a better generalization."
   ]
  },
  {
   "cell_type": "code",
   "execution_count": 233,
   "metadata": {},
   "outputs": [
    {
     "name": "stdout",
     "output_type": "stream",
     "text": [
      "The minimum number of samples and covariates of the covariates matrix is 7.\n",
      "The rank of the covariates matrix is 7.\n"
     ]
    }
   ],
   "source": [
    "# Put back together the data that will be used to train a random forest model\n",
    "df__randomforest = pd.concat([df__nwcovariates, df__target], axis=1)\n",
    "list__rfcovariates = df__randomforest.columns[~(df__randomforest.columns.isin([\"Survived\", \"SimilarPassengerIds\"]))].tolist()\n",
    "\n",
    "# Remove any eventual duplicate infos\n",
    "df__randomforest.drop_duplicates(inplace=True)\n",
    "\n",
    "# Reset index values\n",
    "df__randomforest.reset_index(inplace=True, drop=True)\n",
    "\n",
    "# Make sure the rank of matrix of covariates is no less than the min number of samples and covariates\n",
    "print(f\"The minimum number of samples and covariates of the covariates matrix is {min(df__randomforest[list__rfcovariates].shape)}.\")\n",
    "print(f\"The rank of the covariates matrix is {np.linalg.matrix_rank(df__randomforest[list__rfcovariates])}.\")"
   ]
  },
  {
   "cell_type": "code",
   "execution_count": 234,
   "metadata": {},
   "outputs": [],
   "source": [
    "# Compute each group of passengers weight\n",
    "df__randomforest[\"GroupSize\"] = df__randomforest[\"SimilarPassengerIds\"].apply(lambda x: len(x.split(\"__\")))\n",
    "df__randomforest[\"GroupWeight\"] = df__randomforest[\"GroupSize\"] / df__randomforest[\"GroupSize\"].sum()"
   ]
  },
  {
   "cell_type": "code",
   "execution_count": 235,
   "metadata": {},
   "outputs": [],
   "source": [
    "# Initialize a RandomForest object : be careful of your chosen parameters\n",
    "randomforest__object = RandomForestClassifier(\n",
    "    n_estimators=50\n",
    "    , criterion=\"gini\"\n",
    "    , max_features=len(list__rfcovariates)\n",
    "    , bootstrap=True # Use bootstraped samples when constructing any of n_estimators trees\n",
    "    , random_state=123\n",
    "    )"
   ]
  },
  {
   "cell_type": "code",
   "execution_count": 236,
   "metadata": {},
   "outputs": [
    {
     "data": {
      "text/html": [
       "<style>#sk-container-id-2 {\n",
       "  /* Definition of color scheme common for light and dark mode */\n",
       "  --sklearn-color-text: black;\n",
       "  --sklearn-color-line: gray;\n",
       "  /* Definition of color scheme for unfitted estimators */\n",
       "  --sklearn-color-unfitted-level-0: #fff5e6;\n",
       "  --sklearn-color-unfitted-level-1: #f6e4d2;\n",
       "  --sklearn-color-unfitted-level-2: #ffe0b3;\n",
       "  --sklearn-color-unfitted-level-3: chocolate;\n",
       "  /* Definition of color scheme for fitted estimators */\n",
       "  --sklearn-color-fitted-level-0: #f0f8ff;\n",
       "  --sklearn-color-fitted-level-1: #d4ebff;\n",
       "  --sklearn-color-fitted-level-2: #b3dbfd;\n",
       "  --sklearn-color-fitted-level-3: cornflowerblue;\n",
       "\n",
       "  /* Specific color for light theme */\n",
       "  --sklearn-color-text-on-default-background: var(--sg-text-color, var(--theme-code-foreground, var(--jp-content-font-color1, black)));\n",
       "  --sklearn-color-background: var(--sg-background-color, var(--theme-background, var(--jp-layout-color0, white)));\n",
       "  --sklearn-color-border-box: var(--sg-text-color, var(--theme-code-foreground, var(--jp-content-font-color1, black)));\n",
       "  --sklearn-color-icon: #696969;\n",
       "\n",
       "  @media (prefers-color-scheme: dark) {\n",
       "    /* Redefinition of color scheme for dark theme */\n",
       "    --sklearn-color-text-on-default-background: var(--sg-text-color, var(--theme-code-foreground, var(--jp-content-font-color1, white)));\n",
       "    --sklearn-color-background: var(--sg-background-color, var(--theme-background, var(--jp-layout-color0, #111)));\n",
       "    --sklearn-color-border-box: var(--sg-text-color, var(--theme-code-foreground, var(--jp-content-font-color1, white)));\n",
       "    --sklearn-color-icon: #878787;\n",
       "  }\n",
       "}\n",
       "\n",
       "#sk-container-id-2 {\n",
       "  color: var(--sklearn-color-text);\n",
       "}\n",
       "\n",
       "#sk-container-id-2 pre {\n",
       "  padding: 0;\n",
       "}\n",
       "\n",
       "#sk-container-id-2 input.sk-hidden--visually {\n",
       "  border: 0;\n",
       "  clip: rect(1px 1px 1px 1px);\n",
       "  clip: rect(1px, 1px, 1px, 1px);\n",
       "  height: 1px;\n",
       "  margin: -1px;\n",
       "  overflow: hidden;\n",
       "  padding: 0;\n",
       "  position: absolute;\n",
       "  width: 1px;\n",
       "}\n",
       "\n",
       "#sk-container-id-2 div.sk-dashed-wrapped {\n",
       "  border: 1px dashed var(--sklearn-color-line);\n",
       "  margin: 0 0.4em 0.5em 0.4em;\n",
       "  box-sizing: border-box;\n",
       "  padding-bottom: 0.4em;\n",
       "  background-color: var(--sklearn-color-background);\n",
       "}\n",
       "\n",
       "#sk-container-id-2 div.sk-container {\n",
       "  /* jupyter's `normalize.less` sets `[hidden] { display: none; }`\n",
       "     but bootstrap.min.css set `[hidden] { display: none !important; }`\n",
       "     so we also need the `!important` here to be able to override the\n",
       "     default hidden behavior on the sphinx rendered scikit-learn.org.\n",
       "     See: https://github.com/scikit-learn/scikit-learn/issues/21755 */\n",
       "  display: inline-block !important;\n",
       "  position: relative;\n",
       "}\n",
       "\n",
       "#sk-container-id-2 div.sk-text-repr-fallback {\n",
       "  display: none;\n",
       "}\n",
       "\n",
       "div.sk-parallel-item,\n",
       "div.sk-serial,\n",
       "div.sk-item {\n",
       "  /* draw centered vertical line to link estimators */\n",
       "  background-image: linear-gradient(var(--sklearn-color-text-on-default-background), var(--sklearn-color-text-on-default-background));\n",
       "  background-size: 2px 100%;\n",
       "  background-repeat: no-repeat;\n",
       "  background-position: center center;\n",
       "}\n",
       "\n",
       "/* Parallel-specific style estimator block */\n",
       "\n",
       "#sk-container-id-2 div.sk-parallel-item::after {\n",
       "  content: \"\";\n",
       "  width: 100%;\n",
       "  border-bottom: 2px solid var(--sklearn-color-text-on-default-background);\n",
       "  flex-grow: 1;\n",
       "}\n",
       "\n",
       "#sk-container-id-2 div.sk-parallel {\n",
       "  display: flex;\n",
       "  align-items: stretch;\n",
       "  justify-content: center;\n",
       "  background-color: var(--sklearn-color-background);\n",
       "  position: relative;\n",
       "}\n",
       "\n",
       "#sk-container-id-2 div.sk-parallel-item {\n",
       "  display: flex;\n",
       "  flex-direction: column;\n",
       "}\n",
       "\n",
       "#sk-container-id-2 div.sk-parallel-item:first-child::after {\n",
       "  align-self: flex-end;\n",
       "  width: 50%;\n",
       "}\n",
       "\n",
       "#sk-container-id-2 div.sk-parallel-item:last-child::after {\n",
       "  align-self: flex-start;\n",
       "  width: 50%;\n",
       "}\n",
       "\n",
       "#sk-container-id-2 div.sk-parallel-item:only-child::after {\n",
       "  width: 0;\n",
       "}\n",
       "\n",
       "/* Serial-specific style estimator block */\n",
       "\n",
       "#sk-container-id-2 div.sk-serial {\n",
       "  display: flex;\n",
       "  flex-direction: column;\n",
       "  align-items: center;\n",
       "  background-color: var(--sklearn-color-background);\n",
       "  padding-right: 1em;\n",
       "  padding-left: 1em;\n",
       "}\n",
       "\n",
       "\n",
       "/* Toggleable style: style used for estimator/Pipeline/ColumnTransformer box that is\n",
       "clickable and can be expanded/collapsed.\n",
       "- Pipeline and ColumnTransformer use this feature and define the default style\n",
       "- Estimators will overwrite some part of the style using the `sk-estimator` class\n",
       "*/\n",
       "\n",
       "/* Pipeline and ColumnTransformer style (default) */\n",
       "\n",
       "#sk-container-id-2 div.sk-toggleable {\n",
       "  /* Default theme specific background. It is overwritten whether we have a\n",
       "  specific estimator or a Pipeline/ColumnTransformer */\n",
       "  background-color: var(--sklearn-color-background);\n",
       "}\n",
       "\n",
       "/* Toggleable label */\n",
       "#sk-container-id-2 label.sk-toggleable__label {\n",
       "  cursor: pointer;\n",
       "  display: block;\n",
       "  width: 100%;\n",
       "  margin-bottom: 0;\n",
       "  padding: 0.5em;\n",
       "  box-sizing: border-box;\n",
       "  text-align: center;\n",
       "}\n",
       "\n",
       "#sk-container-id-2 label.sk-toggleable__label-arrow:before {\n",
       "  /* Arrow on the left of the label */\n",
       "  content: \"▸\";\n",
       "  float: left;\n",
       "  margin-right: 0.25em;\n",
       "  color: var(--sklearn-color-icon);\n",
       "}\n",
       "\n",
       "#sk-container-id-2 label.sk-toggleable__label-arrow:hover:before {\n",
       "  color: var(--sklearn-color-text);\n",
       "}\n",
       "\n",
       "/* Toggleable content - dropdown */\n",
       "\n",
       "#sk-container-id-2 div.sk-toggleable__content {\n",
       "  max-height: 0;\n",
       "  max-width: 0;\n",
       "  overflow: hidden;\n",
       "  text-align: left;\n",
       "  /* unfitted */\n",
       "  background-color: var(--sklearn-color-unfitted-level-0);\n",
       "}\n",
       "\n",
       "#sk-container-id-2 div.sk-toggleable__content.fitted {\n",
       "  /* fitted */\n",
       "  background-color: var(--sklearn-color-fitted-level-0);\n",
       "}\n",
       "\n",
       "#sk-container-id-2 div.sk-toggleable__content pre {\n",
       "  margin: 0.2em;\n",
       "  border-radius: 0.25em;\n",
       "  color: var(--sklearn-color-text);\n",
       "  /* unfitted */\n",
       "  background-color: var(--sklearn-color-unfitted-level-0);\n",
       "}\n",
       "\n",
       "#sk-container-id-2 div.sk-toggleable__content.fitted pre {\n",
       "  /* unfitted */\n",
       "  background-color: var(--sklearn-color-fitted-level-0);\n",
       "}\n",
       "\n",
       "#sk-container-id-2 input.sk-toggleable__control:checked~div.sk-toggleable__content {\n",
       "  /* Expand drop-down */\n",
       "  max-height: 200px;\n",
       "  max-width: 100%;\n",
       "  overflow: auto;\n",
       "}\n",
       "\n",
       "#sk-container-id-2 input.sk-toggleable__control:checked~label.sk-toggleable__label-arrow:before {\n",
       "  content: \"▾\";\n",
       "}\n",
       "\n",
       "/* Pipeline/ColumnTransformer-specific style */\n",
       "\n",
       "#sk-container-id-2 div.sk-label input.sk-toggleable__control:checked~label.sk-toggleable__label {\n",
       "  color: var(--sklearn-color-text);\n",
       "  background-color: var(--sklearn-color-unfitted-level-2);\n",
       "}\n",
       "\n",
       "#sk-container-id-2 div.sk-label.fitted input.sk-toggleable__control:checked~label.sk-toggleable__label {\n",
       "  background-color: var(--sklearn-color-fitted-level-2);\n",
       "}\n",
       "\n",
       "/* Estimator-specific style */\n",
       "\n",
       "/* Colorize estimator box */\n",
       "#sk-container-id-2 div.sk-estimator input.sk-toggleable__control:checked~label.sk-toggleable__label {\n",
       "  /* unfitted */\n",
       "  background-color: var(--sklearn-color-unfitted-level-2);\n",
       "}\n",
       "\n",
       "#sk-container-id-2 div.sk-estimator.fitted input.sk-toggleable__control:checked~label.sk-toggleable__label {\n",
       "  /* fitted */\n",
       "  background-color: var(--sklearn-color-fitted-level-2);\n",
       "}\n",
       "\n",
       "#sk-container-id-2 div.sk-label label.sk-toggleable__label,\n",
       "#sk-container-id-2 div.sk-label label {\n",
       "  /* The background is the default theme color */\n",
       "  color: var(--sklearn-color-text-on-default-background);\n",
       "}\n",
       "\n",
       "/* On hover, darken the color of the background */\n",
       "#sk-container-id-2 div.sk-label:hover label.sk-toggleable__label {\n",
       "  color: var(--sklearn-color-text);\n",
       "  background-color: var(--sklearn-color-unfitted-level-2);\n",
       "}\n",
       "\n",
       "/* Label box, darken color on hover, fitted */\n",
       "#sk-container-id-2 div.sk-label.fitted:hover label.sk-toggleable__label.fitted {\n",
       "  color: var(--sklearn-color-text);\n",
       "  background-color: var(--sklearn-color-fitted-level-2);\n",
       "}\n",
       "\n",
       "/* Estimator label */\n",
       "\n",
       "#sk-container-id-2 div.sk-label label {\n",
       "  font-family: monospace;\n",
       "  font-weight: bold;\n",
       "  display: inline-block;\n",
       "  line-height: 1.2em;\n",
       "}\n",
       "\n",
       "#sk-container-id-2 div.sk-label-container {\n",
       "  text-align: center;\n",
       "}\n",
       "\n",
       "/* Estimator-specific */\n",
       "#sk-container-id-2 div.sk-estimator {\n",
       "  font-family: monospace;\n",
       "  border: 1px dotted var(--sklearn-color-border-box);\n",
       "  border-radius: 0.25em;\n",
       "  box-sizing: border-box;\n",
       "  margin-bottom: 0.5em;\n",
       "  /* unfitted */\n",
       "  background-color: var(--sklearn-color-unfitted-level-0);\n",
       "}\n",
       "\n",
       "#sk-container-id-2 div.sk-estimator.fitted {\n",
       "  /* fitted */\n",
       "  background-color: var(--sklearn-color-fitted-level-0);\n",
       "}\n",
       "\n",
       "/* on hover */\n",
       "#sk-container-id-2 div.sk-estimator:hover {\n",
       "  /* unfitted */\n",
       "  background-color: var(--sklearn-color-unfitted-level-2);\n",
       "}\n",
       "\n",
       "#sk-container-id-2 div.sk-estimator.fitted:hover {\n",
       "  /* fitted */\n",
       "  background-color: var(--sklearn-color-fitted-level-2);\n",
       "}\n",
       "\n",
       "/* Specification for estimator info (e.g. \"i\" and \"?\") */\n",
       "\n",
       "/* Common style for \"i\" and \"?\" */\n",
       "\n",
       ".sk-estimator-doc-link,\n",
       "a:link.sk-estimator-doc-link,\n",
       "a:visited.sk-estimator-doc-link {\n",
       "  float: right;\n",
       "  font-size: smaller;\n",
       "  line-height: 1em;\n",
       "  font-family: monospace;\n",
       "  background-color: var(--sklearn-color-background);\n",
       "  border-radius: 1em;\n",
       "  height: 1em;\n",
       "  width: 1em;\n",
       "  text-decoration: none !important;\n",
       "  margin-left: 1ex;\n",
       "  /* unfitted */\n",
       "  border: var(--sklearn-color-unfitted-level-1) 1pt solid;\n",
       "  color: var(--sklearn-color-unfitted-level-1);\n",
       "}\n",
       "\n",
       ".sk-estimator-doc-link.fitted,\n",
       "a:link.sk-estimator-doc-link.fitted,\n",
       "a:visited.sk-estimator-doc-link.fitted {\n",
       "  /* fitted */\n",
       "  border: var(--sklearn-color-fitted-level-1) 1pt solid;\n",
       "  color: var(--sklearn-color-fitted-level-1);\n",
       "}\n",
       "\n",
       "/* On hover */\n",
       "div.sk-estimator:hover .sk-estimator-doc-link:hover,\n",
       ".sk-estimator-doc-link:hover,\n",
       "div.sk-label-container:hover .sk-estimator-doc-link:hover,\n",
       ".sk-estimator-doc-link:hover {\n",
       "  /* unfitted */\n",
       "  background-color: var(--sklearn-color-unfitted-level-3);\n",
       "  color: var(--sklearn-color-background);\n",
       "  text-decoration: none;\n",
       "}\n",
       "\n",
       "div.sk-estimator.fitted:hover .sk-estimator-doc-link.fitted:hover,\n",
       ".sk-estimator-doc-link.fitted:hover,\n",
       "div.sk-label-container:hover .sk-estimator-doc-link.fitted:hover,\n",
       ".sk-estimator-doc-link.fitted:hover {\n",
       "  /* fitted */\n",
       "  background-color: var(--sklearn-color-fitted-level-3);\n",
       "  color: var(--sklearn-color-background);\n",
       "  text-decoration: none;\n",
       "}\n",
       "\n",
       "/* Span, style for the box shown on hovering the info icon */\n",
       ".sk-estimator-doc-link span {\n",
       "  display: none;\n",
       "  z-index: 9999;\n",
       "  position: relative;\n",
       "  font-weight: normal;\n",
       "  right: .2ex;\n",
       "  padding: .5ex;\n",
       "  margin: .5ex;\n",
       "  width: min-content;\n",
       "  min-width: 20ex;\n",
       "  max-width: 50ex;\n",
       "  color: var(--sklearn-color-text);\n",
       "  box-shadow: 2pt 2pt 4pt #999;\n",
       "  /* unfitted */\n",
       "  background: var(--sklearn-color-unfitted-level-0);\n",
       "  border: .5pt solid var(--sklearn-color-unfitted-level-3);\n",
       "}\n",
       "\n",
       ".sk-estimator-doc-link.fitted span {\n",
       "  /* fitted */\n",
       "  background: var(--sklearn-color-fitted-level-0);\n",
       "  border: var(--sklearn-color-fitted-level-3);\n",
       "}\n",
       "\n",
       ".sk-estimator-doc-link:hover span {\n",
       "  display: block;\n",
       "}\n",
       "\n",
       "/* \"?\"-specific style due to the `<a>` HTML tag */\n",
       "\n",
       "#sk-container-id-2 a.estimator_doc_link {\n",
       "  float: right;\n",
       "  font-size: 1rem;\n",
       "  line-height: 1em;\n",
       "  font-family: monospace;\n",
       "  background-color: var(--sklearn-color-background);\n",
       "  border-radius: 1rem;\n",
       "  height: 1rem;\n",
       "  width: 1rem;\n",
       "  text-decoration: none;\n",
       "  /* unfitted */\n",
       "  color: var(--sklearn-color-unfitted-level-1);\n",
       "  border: var(--sklearn-color-unfitted-level-1) 1pt solid;\n",
       "}\n",
       "\n",
       "#sk-container-id-2 a.estimator_doc_link.fitted {\n",
       "  /* fitted */\n",
       "  border: var(--sklearn-color-fitted-level-1) 1pt solid;\n",
       "  color: var(--sklearn-color-fitted-level-1);\n",
       "}\n",
       "\n",
       "/* On hover */\n",
       "#sk-container-id-2 a.estimator_doc_link:hover {\n",
       "  /* unfitted */\n",
       "  background-color: var(--sklearn-color-unfitted-level-3);\n",
       "  color: var(--sklearn-color-background);\n",
       "  text-decoration: none;\n",
       "}\n",
       "\n",
       "#sk-container-id-2 a.estimator_doc_link.fitted:hover {\n",
       "  /* fitted */\n",
       "  background-color: var(--sklearn-color-fitted-level-3);\n",
       "}\n",
       "</style><div id=\"sk-container-id-2\" class=\"sk-top-container\"><div class=\"sk-text-repr-fallback\"><pre>RandomForestClassifier(max_features=7, n_estimators=50, random_state=123)</pre><b>In a Jupyter environment, please rerun this cell to show the HTML representation or trust the notebook. <br />On GitHub, the HTML representation is unable to render, please try loading this page with nbviewer.org.</b></div><div class=\"sk-container\" hidden><div class=\"sk-item\"><div class=\"sk-estimator fitted sk-toggleable\"><input class=\"sk-toggleable__control sk-hidden--visually\" id=\"sk-estimator-id-2\" type=\"checkbox\" checked><label for=\"sk-estimator-id-2\" class=\"sk-toggleable__label fitted sk-toggleable__label-arrow fitted\">&nbsp;&nbsp;RandomForestClassifier<a class=\"sk-estimator-doc-link fitted\" rel=\"noreferrer\" target=\"_blank\" href=\"https://scikit-learn.org/1.5/modules/generated/sklearn.ensemble.RandomForestClassifier.html\">?<span>Documentation for RandomForestClassifier</span></a><span class=\"sk-estimator-doc-link fitted\">i<span>Fitted</span></span></label><div class=\"sk-toggleable__content fitted\"><pre>RandomForestClassifier(max_features=7, n_estimators=50, random_state=123)</pre></div> </div></div></div></div>"
      ],
      "text/plain": [
       "RandomForestClassifier(max_features=7, n_estimators=50, random_state=123)"
      ]
     },
     "execution_count": 236,
     "metadata": {},
     "output_type": "execute_result"
    }
   ],
   "source": [
    "# Fit randomforest__object\n",
    "randomforest__object.fit(\n",
    "    X=np.array(df__randomforest[list__rfcovariates])\n",
    "    , y=np.array(df__randomforest[\"Survived\"])\n",
    "    , sample_weight=np.array(df__randomforest[\"GroupWeight\"])\n",
    ")"
   ]
  },
  {
   "cell_type": "code",
   "execution_count": 237,
   "metadata": {},
   "outputs": [],
   "source": [
    "# Get the predicted death probabilities given by the model\n",
    "df__randomforest = pd.concat(\n",
    "    [\n",
    "        df__randomforest\n",
    "        , pd.DataFrame(data=np.array(pd.DataFrame(randomforest__object.predict_proba(X=np.array(df__randomforest[list__rfcovariates]))).loc[:, 0]), columns=[\"DeathProbability_rf\"])\n",
    "    ]\n",
    "    , axis=1)"
   ]
  },
  {
   "cell_type": "code",
   "execution_count": 238,
   "metadata": {},
   "outputs": [
    {
     "data": {
      "text/html": [
       "<div>\n",
       "<style scoped>\n",
       "    .dataframe tbody tr th:only-of-type {\n",
       "        vertical-align: middle;\n",
       "    }\n",
       "\n",
       "    .dataframe tbody tr th {\n",
       "        vertical-align: top;\n",
       "    }\n",
       "\n",
       "    .dataframe thead tr th {\n",
       "        text-align: left;\n",
       "    }\n",
       "\n",
       "    .dataframe thead tr:last-of-type th {\n",
       "        text-align: right;\n",
       "    }\n",
       "</style>\n",
       "<table border=\"1\" class=\"dataframe\">\n",
       "  <thead>\n",
       "    <tr>\n",
       "      <th></th>\n",
       "      <th colspan=\"8\" halign=\"left\">DeathProbability_rf</th>\n",
       "    </tr>\n",
       "    <tr>\n",
       "      <th></th>\n",
       "      <th>count</th>\n",
       "      <th>mean</th>\n",
       "      <th>std</th>\n",
       "      <th>min</th>\n",
       "      <th>25%</th>\n",
       "      <th>50%</th>\n",
       "      <th>75%</th>\n",
       "      <th>max</th>\n",
       "    </tr>\n",
       "    <tr>\n",
       "      <th>Survived</th>\n",
       "      <th></th>\n",
       "      <th></th>\n",
       "      <th></th>\n",
       "      <th></th>\n",
       "      <th></th>\n",
       "      <th></th>\n",
       "      <th></th>\n",
       "      <th></th>\n",
       "    </tr>\n",
       "  </thead>\n",
       "  <tbody>\n",
       "    <tr>\n",
       "      <th>0</th>\n",
       "      <td>42.0</td>\n",
       "      <td>0.580082</td>\n",
       "      <td>0.185246</td>\n",
       "      <td>0.172402</td>\n",
       "      <td>0.486788</td>\n",
       "      <td>0.576104</td>\n",
       "      <td>0.729542</td>\n",
       "      <td>0.928926</td>\n",
       "    </tr>\n",
       "    <tr>\n",
       "      <th>1</th>\n",
       "      <td>52.0</td>\n",
       "      <td>0.397209</td>\n",
       "      <td>0.252922</td>\n",
       "      <td>0.012000</td>\n",
       "      <td>0.097537</td>\n",
       "      <td>0.483238</td>\n",
       "      <td>0.593685</td>\n",
       "      <td>0.773447</td>\n",
       "    </tr>\n",
       "  </tbody>\n",
       "</table>\n",
       "</div>"
      ],
      "text/plain": [
       "         DeathProbability_rf                                          \\\n",
       "                       count      mean       std       min       25%   \n",
       "Survived                                                               \n",
       "0                       42.0  0.580082  0.185246  0.172402  0.486788   \n",
       "1                       52.0  0.397209  0.252922  0.012000  0.097537   \n",
       "\n",
       "                                        \n",
       "               50%       75%       max  \n",
       "Survived                                \n",
       "0         0.576104  0.729542  0.928926  \n",
       "1         0.483238  0.593685  0.773447  "
      ]
     },
     "execution_count": 238,
     "metadata": {},
     "output_type": "execute_result"
    }
   ],
   "source": [
    "# Display characteristics of predicted death probabilities for each \"Survived\" modality \n",
    "df__randomforest[[\"DeathProbability_rf\", \"Survived\"]].groupby([\"Survived\"], observed=False).describe()"
   ]
  },
  {
   "cell_type": "markdown",
   "metadata": {},
   "source": [
    "-  50% of groups who survived have their death probabilities lesser than or equal to 0.48, and 50% of death groups have their death probabilities equal or higher than 0.58.\n",
    "\n",
    "- 75% of groups who survived have their death probabilities lesser than or equal to 0.59, and 25% of death people have their death probabilities equal or higher than 0.73.\n",
    "\n",
    "-  The max death probability observed for death groups is up to 0.77; whereas for groups who are alive, their max death probability is up to 0.93."
   ]
  },
  {
   "cell_type": "code",
   "execution_count": 239,
   "metadata": {},
   "outputs": [
    {
     "data": {
      "image/png": "[encoded data removed]",
      "text/plain": [
       "<Figure size 1200x600 with 1 Axes>"
      ]
     },
     "metadata": {},
     "output_type": "display_data"
    }
   ],
   "source": [
    "# Get a look at each feature importance\n",
    "\n",
    "# Prepare data for plotting\n",
    "df__table = pd.DataFrame(data=randomforest__object.feature_importances_, columns=[\"FeatureImportance\"])\n",
    "df__table = pd.concat([df__table, pd.DataFrame(data=list__rfcovariates, columns=[\"Feature\"])], axis=1)\n",
    "df__table = df__table.sort_values(by=[\"FeatureImportance\"], ascending=False).reset_index()\n",
    "\n",
    "# Define the plot\n",
    "plt.figure(figsize=(12, 6))\n",
    "barcontainer__object = plt.bar(df__table[\"Feature\"], df__table[\"FeatureImportance\"])\n",
    "\n",
    "# Customize the plot\n",
    "plt.title(\"Feature Importance\", fontsize=16)\n",
    "plt.xlabel(\"Feature\", fontsize=12)\n",
    "plt.ylabel(\"Importance\", fontsize=12)\n",
    "plt.xticks(rotation=45, ha=\"right\")\n",
    "\n",
    "# Add value labels on top of each bar of the plot\n",
    "for rectangle__bar in barcontainer__object:\n",
    "    float__height = rectangle__bar.get_height()\n",
    "    plt.text(\n",
    "        rectangle__bar.get_x() + rectangle__bar.get_width()/2., float__height\n",
    "        , f'{float__height:.2f}', ha=\"center\", va=\"bottom\")\n",
    "\n",
    "# Adjust layout and display the plot\n",
    "plt.tight_layout()\n",
    "plt.show()"
   ]
  },
  {
   "cell_type": "markdown",
   "metadata": {},
   "source": [
    "The \"Sex covariate exhibits the highest discriminative power among all predictors in differentiating survival outcomes."
   ]
  },
  {
   "cell_type": "code",
   "execution_count": 240,
   "metadata": {},
   "outputs": [],
   "source": [
    "# Cleanup\n",
    "del df__table, barcontainer__object, rectangle__bar, float__height"
   ]
  },
  {
   "cell_type": "code",
   "execution_count": 241,
   "metadata": {},
   "outputs": [
    {
     "name": "stdout",
     "output_type": "stream",
     "text": [
      "  message: CONVERGENCE: NORM_OF_PROJECTED_GRADIENT_<=_PGTOL\n",
      "  success: True\n",
      "   status: 0\n",
      "      fun: 51.74444406655405\n",
      "        x: [ 5.000e-01]\n",
      "      nit: 0\n",
      "      jac: [ 0.000e+00]\n",
      "     nfev: 2\n",
      "     njev: 1\n",
      " hess_inv: <1x1 LbfgsInvHessProduct with dtype=float64>\n"
     ]
    }
   ],
   "source": [
    "# Look for the best threshold so we can have a good prediction on all passengers in the training set : work on the size of each group of similar passengers\n",
    "\n",
    "# Prepare the data used to search for an adequate threshold\n",
    "df__table = df__randomforest[[\"DeathProbability_rf\", \"Survived\", \"SimilarPassengerIds\", \"GroupSize\", \"GroupWeight\"]].copy(deep=True)\n",
    "\n",
    "# Define the objective function according to the current problem\n",
    "def function__objective2(float__threshold: float, array__deathprobabilities: np.ndarray, array__groupweights: np.ndarray, array__survived: np.ndarray)-> float:\n",
    "    \"\"\"\n",
    "    Input:\n",
    "    float__threshold : a float (value which helps identifies if a passenger death probability is enough high to be considered as a dead person)\n",
    "    array__deathprobabilities : an array of float (array of death probabilities for each group of passengers)\n",
    "    array__groupweights : an array of float (array of weigths for each group of passengers)\n",
    "    array__survived : an array of integer (with only 0 or 1) which is the survival state of each group of passengers\n",
    "    \n",
    "    Output:\n",
    "    float__sumerrors : a float (sum of squared differences between actual survival outcomes and weighted predicted survival probabilities for each passenger group) \n",
    "    \"\"\"\n",
    "    \n",
    "    float__sumerrors = np.sum((((array__deathprobabilities > float__threshold).astype(int)) * array__groupweights - array__survived) ** 2)\n",
    "    return float__sumerrors\n",
    "\n",
    "# Do the optimization\n",
    "optimizeresult__object = minimize(\n",
    "    fun=lambda x: function__objective2(\n",
    "        float__threshold=x[0]\n",
    "        , array__deathprobabilities=np.array(df__table[\"DeathProbability_rf\"])\n",
    "        , array__groupweights=np.array(df__table[\"GroupWeight\"])\n",
    "        , array__survived=np.array(df__table[\"Survived\"]))\n",
    "    , x0=[0.5]  # Initial guess for float__threshold\n",
    "    , bounds=[(0, 1)] # float__threshold must be between 0 and 1\n",
    "    , method='L-BFGS-B'\n",
    "    , options={'ftol': 1e-9, 'maxiter': 1000} # stopping criteria for the algo to stop if an optimum is not found / is found\n",
    ")\n",
    "\n",
    "# Analyze if an optimum was found\n",
    "print(optimizeresult__object)"
   ]
  },
  {
   "cell_type": "code",
   "execution_count": 242,
   "metadata": {},
   "outputs": [
    {
     "name": "stdout",
     "output_type": "stream",
     "text": [
      "_________ \n",
      "\n",
      "Out of 549 passengers who did not survived, we were able to predict correctly 525.\n",
      "_________ \n",
      "\n",
      "Out of 342 passengers who survived, we were able to predict correctly 210.\n",
      "_________ \n",
      "\n",
      "Globally, out of 891 passengers, we were able to predict correctly 735.\n"
     ]
    }
   ],
   "source": [
    "# Get the optimal threshold\n",
    "float__optimthreshold = optimizeresult__object.x[0]\n",
    "\n",
    "# Predict Survived\n",
    "df__table[\"SurvivedPredicted\"] = df__table[\"DeathProbability_rf\"].apply(lambda x: 1 if x <= float__optimthreshold else 0)\n",
    "\n",
    "# Compute the total number of good prediction for all the passengers\n",
    "print(\"_________ \\n\")\n",
    "print(f\"Out of {df__table[df__table[\"Survived\"] == 0][\"GroupSize\"].sum()} passengers who did not survived, we were able to predict correctly {df__table[(df__table[\"Survived\"] == df__table[\"SurvivedPredicted\"]) & (df__table[\"Survived\"] == 0)][\"GroupSize\"].sum()}.\")\n",
    "print(\"_________ \\n\")\n",
    "print(f\"Out of {df__table[df__table[\"Survived\"] == 1][\"GroupSize\"].sum()} passengers who survived, we were able to predict correctly {df__table[(df__table[\"Survived\"] == df__table[\"SurvivedPredicted\"]) & (df__table[\"Survived\"] == 1)][\"GroupSize\"].sum()}.\")\n",
    "print(\"_________ \\n\")\n",
    "print(f\"Globally, out of {df__table[\"GroupSize\"].sum()} passengers, we were able to predict correctly {df__table[(df__table[\"Survived\"] == df__table[\"SurvivedPredicted\"])][\"GroupSize\"].sum()}.\")\n"
   ]
  },
  {
   "cell_type": "code",
   "execution_count": 243,
   "metadata": {},
   "outputs": [
    {
     "name": "stdout",
     "output_type": "stream",
     "text": [
      "Out of 156 passengers with bad predictions : \n",
      "\n",
      "26 have missing and/or approximately estimated age. \n",
      "\n",
      "0 have missing fare. \n",
      "\n",
      "0 have missing embarkation points. \n",
      "\n"
     ]
    }
   ],
   "source": [
    "# Try to understand bad predictions on some passengers : we try to relate bad predictions to inaccurate/missing data\n",
    "\n",
    "# Keep only bad predictions\n",
    "df__nwtable = df__table[df__table[\"Survived\"] != df__table[\"SurvivedPredicted\"]][[\"SimilarPassengerIds\"]].copy(deep=True)\n",
    "\n",
    "# Get list of all passengers with bad predictions\n",
    "list__badpredictions = []\n",
    "for str__passengersgroup in df__nwtable[\"SimilarPassengerIds\"].tolist():\n",
    "    list__passengersgroup = str__passengersgroup.split(\"__\")\n",
    "    list__badpredictions = list__badpredictions + list__passengersgroup\n",
    "    # Cleanup\n",
    "    del list__passengersgroup\n",
    "\n",
    "# Cleanup\n",
    "del str__passengersgroup\n",
    "\n",
    "# Get how many of passengers with bad predictions have missing data\n",
    "print(f\"Out of {len(list__badpredictions)} passengers with bad predictions : \\n\")\n",
    "print(f\"{len([str__passengerid for str__passengerid in list__badpredictions if str__passengerid in list__missingage])} have missing and/or approximately estimated age. \\n\")\n",
    "print(f\"{len([str__passengerid for str__passengerid in list__badpredictions if str__passengerid in list__missingfare])} have missing fare. \\n\")\n",
    "print(f\"{len([str__passengerid for str__passengerid in list__badpredictions if str__passengerid in list__missingembarked])} have missing embarkation points. \\n\")"
   ]
  },
  {
   "cell_type": "code",
   "execution_count": 244,
   "metadata": {},
   "outputs": [
    {
     "data": {
      "text/html": [
       "<div>\n",
       "<style scoped>\n",
       "    .dataframe tbody tr th:only-of-type {\n",
       "        vertical-align: middle;\n",
       "    }\n",
       "\n",
       "    .dataframe tbody tr th {\n",
       "        vertical-align: top;\n",
       "    }\n",
       "\n",
       "    .dataframe thead th {\n",
       "        text-align: right;\n",
       "    }\n",
       "</style>\n",
       "<table border=\"1\" class=\"dataframe\">\n",
       "  <thead>\n",
       "    <tr style=\"text-align: right;\">\n",
       "      <th></th>\n",
       "      <th></th>\n",
       "      <th></th>\n",
       "      <th>FamilySize</th>\n",
       "      <th>alone</th>\n",
       "      <th>not alone</th>\n",
       "    </tr>\n",
       "    <tr>\n",
       "      <th>Sex</th>\n",
       "      <th>Embarked</th>\n",
       "      <th>BoardingClass</th>\n",
       "      <th>AgeCategory</th>\n",
       "      <th></th>\n",
       "      <th></th>\n",
       "    </tr>\n",
       "  </thead>\n",
       "  <tbody>\n",
       "    <tr>\n",
       "      <th rowspan=\"10\" valign=\"top\">female</th>\n",
       "      <th rowspan=\"3\" valign=\"top\">C</th>\n",
       "      <th rowspan=\"2\" valign=\"top\">least privileged</th>\n",
       "      <th>adult</th>\n",
       "      <td>0</td>\n",
       "      <td>1</td>\n",
       "    </tr>\n",
       "    <tr>\n",
       "      <th>young</th>\n",
       "      <td>1</td>\n",
       "      <td>1</td>\n",
       "    </tr>\n",
       "    <tr>\n",
       "      <th>most privileged</th>\n",
       "      <th>adult</th>\n",
       "      <td>1</td>\n",
       "      <td>0</td>\n",
       "    </tr>\n",
       "    <tr>\n",
       "      <th rowspan=\"2\" valign=\"top\">Q</th>\n",
       "      <th rowspan=\"2\" valign=\"top\">least privileged</th>\n",
       "      <th>adult</th>\n",
       "      <td>1</td>\n",
       "      <td>1</td>\n",
       "    </tr>\n",
       "    <tr>\n",
       "      <th>young</th>\n",
       "      <td>1</td>\n",
       "      <td>1</td>\n",
       "    </tr>\n",
       "    <tr>\n",
       "      <th rowspan=\"5\" valign=\"top\">S</th>\n",
       "      <th rowspan=\"2\" valign=\"top\">least privileged</th>\n",
       "      <th>adult</th>\n",
       "      <td>1</td>\n",
       "      <td>1</td>\n",
       "    </tr>\n",
       "    <tr>\n",
       "      <th>young</th>\n",
       "      <td>1</td>\n",
       "      <td>1</td>\n",
       "    </tr>\n",
       "    <tr>\n",
       "      <th>moderately privileged</th>\n",
       "      <th>adult</th>\n",
       "      <td>1</td>\n",
       "      <td>1</td>\n",
       "    </tr>\n",
       "    <tr>\n",
       "      <th rowspan=\"2\" valign=\"top\">most privileged</th>\n",
       "      <th>adult</th>\n",
       "      <td>0</td>\n",
       "      <td>1</td>\n",
       "    </tr>\n",
       "    <tr>\n",
       "      <th>young</th>\n",
       "      <td>0</td>\n",
       "      <td>1</td>\n",
       "    </tr>\n",
       "    <tr>\n",
       "      <th rowspan=\"12\" valign=\"top\">male</th>\n",
       "      <th rowspan=\"5\" valign=\"top\">C</th>\n",
       "      <th rowspan=\"2\" valign=\"top\">least privileged</th>\n",
       "      <th>adult</th>\n",
       "      <td>1</td>\n",
       "      <td>0</td>\n",
       "    </tr>\n",
       "    <tr>\n",
       "      <th>young</th>\n",
       "      <td>1</td>\n",
       "      <td>1</td>\n",
       "    </tr>\n",
       "    <tr>\n",
       "      <th>moderately privileged</th>\n",
       "      <th>adult</th>\n",
       "      <td>1</td>\n",
       "      <td>0</td>\n",
       "    </tr>\n",
       "    <tr>\n",
       "      <th rowspan=\"2\" valign=\"top\">most privileged</th>\n",
       "      <th>adult</th>\n",
       "      <td>1</td>\n",
       "      <td>1</td>\n",
       "    </tr>\n",
       "    <tr>\n",
       "      <th>young</th>\n",
       "      <td>0</td>\n",
       "      <td>1</td>\n",
       "    </tr>\n",
       "    <tr>\n",
       "      <th>Q</th>\n",
       "      <th>least privileged</th>\n",
       "      <th>adult</th>\n",
       "      <td>1</td>\n",
       "      <td>1</td>\n",
       "    </tr>\n",
       "    <tr>\n",
       "      <th rowspan=\"6\" valign=\"top\">S</th>\n",
       "      <th rowspan=\"2\" valign=\"top\">least privileged</th>\n",
       "      <th>adult</th>\n",
       "      <td>1</td>\n",
       "      <td>1</td>\n",
       "    </tr>\n",
       "    <tr>\n",
       "      <th>young</th>\n",
       "      <td>1</td>\n",
       "      <td>1</td>\n",
       "    </tr>\n",
       "    <tr>\n",
       "      <th rowspan=\"2\" valign=\"top\">moderately privileged</th>\n",
       "      <th>adult</th>\n",
       "      <td>1</td>\n",
       "      <td>1</td>\n",
       "    </tr>\n",
       "    <tr>\n",
       "      <th>young</th>\n",
       "      <td>1</td>\n",
       "      <td>1</td>\n",
       "    </tr>\n",
       "    <tr>\n",
       "      <th rowspan=\"2\" valign=\"top\">most privileged</th>\n",
       "      <th>adult</th>\n",
       "      <td>1</td>\n",
       "      <td>1</td>\n",
       "    </tr>\n",
       "    <tr>\n",
       "      <th>young</th>\n",
       "      <td>0</td>\n",
       "      <td>1</td>\n",
       "    </tr>\n",
       "  </tbody>\n",
       "</table>\n",
       "</div>"
      ],
      "text/plain": [
       "FamilySize                                         alone  not alone\n",
       "Sex    Embarked BoardingClass         AgeCategory                  \n",
       "female C        least privileged      adult            0          1\n",
       "                                      young            1          1\n",
       "                most privileged       adult            1          0\n",
       "       Q        least privileged      adult            1          1\n",
       "                                      young            1          1\n",
       "       S        least privileged      adult            1          1\n",
       "                                      young            1          1\n",
       "                moderately privileged adult            1          1\n",
       "                most privileged       adult            0          1\n",
       "                                      young            0          1\n",
       "male   C        least privileged      adult            1          0\n",
       "                                      young            1          1\n",
       "                moderately privileged adult            1          0\n",
       "                most privileged       adult            1          1\n",
       "                                      young            0          1\n",
       "       Q        least privileged      adult            1          1\n",
       "       S        least privileged      adult            1          1\n",
       "                                      young            1          1\n",
       "                moderately privileged adult            1          1\n",
       "                                      young            1          1\n",
       "                most privileged       adult            1          1\n",
       "                                      young            0          1"
      ]
     },
     "execution_count": 244,
     "metadata": {},
     "output_type": "execute_result"
    }
   ],
   "source": [
    "# Try to understand bad predictions on some passengers : try to identify any common pattern between these passengers\n",
    "\n",
    "# Update df__nwtable\n",
    "df__nwtable = df__nwtable.merge(right=df__covariates, on=[\"SimilarPassengerIds\"], how=\"inner\")\n",
    "del df__nwtable[\"SimilarPassengerIds\"]\n",
    "\n",
    "# Take a look at df__nwtable using a Multi-level cross-tabulation\n",
    "pd.crosstab([df__nwtable[str__covariate] for str__covariate in df__nwtable.columns[:-1]], df__nwtable[df__nwtable.columns[-1]])"
   ]
  },
  {
   "cell_type": "markdown",
   "metadata": {},
   "source": [
    "_There seems to be **no obvious commonality** among misclassified cases._"
   ]
  },
  {
   "cell_type": "markdown",
   "metadata": {},
   "source": [
    "<div style=\"background-color: green; padding: 10px;\">\n",
    "\n",
    "The random forest model based on all covariates, and a death probability threshold of 0.5 was able to give on the training set :\n",
    "- An accuracy of 61.4%  for the actual people who survived (lesser than 78.07% obtained by the logistic regression);\n",
    "- An accuracy of 95.63% for the actual people who did not survived (higher than 64.3% obtained by the logistic regression);\n",
    "- Keeping in mind that proportions of survived and dead groups are similar in the training set, the overall accuracy is 82.49% (at least 12% higher than the 69.58% of the logistic regression).\n",
    "\n",
    "The logistic regression did well on the actual people who survived; and the actual dead people were well identified by the random forest. The final step we will try, will be a combination of the logistic regression and random forest results.\n",
    "</div>"
   ]
  },
  {
   "cell_type": "code",
   "execution_count": 245,
   "metadata": {},
   "outputs": [],
   "source": [
    "# Cleanup\n",
    "del df__nwtable, df__table, float__optimthreshold, list__badpredictions"
   ]
  },
  {
   "cell_type": "markdown",
   "metadata": {},
   "source": [
    "##### *7.3. Try a combination of logistic regression and random forest*"
   ]
  },
  {
   "cell_type": "markdown",
   "metadata": {},
   "source": [
    "We try to resolve here an optimization problem where we want an **adequate threshold** and the **best linear combination of death probabilities issued by both logistic regression and random forest** for each group of passengers in the training set. \n",
    "\n",
    "Do not forget that each group size will be taken into account in the formulation of the optimization problem."
   ]
  },
  {
   "cell_type": "code",
   "execution_count": 246,
   "metadata": {},
   "outputs": [],
   "source": [
    "# Prepare data\n",
    "df__mixedmodel = df__randomforest.merge(\n",
    "    right=df__logisticregression[[\"SimilarPassengerIds\", \"DeathProbability_logreg\"]]\n",
    "    , on=[\"SimilarPassengerIds\"], how=\"inner\").copy(deep=True)\n",
    "\n",
    "# Cleanup\n",
    "del df__randomforest, df__logisticregression"
   ]
  },
  {
   "cell_type": "code",
   "execution_count": 247,
   "metadata": {},
   "outputs": [
    {
     "data": {
      "text/html": [
       "<div>\n",
       "<style scoped>\n",
       "    .dataframe tbody tr th:only-of-type {\n",
       "        vertical-align: middle;\n",
       "    }\n",
       "\n",
       "    .dataframe tbody tr th {\n",
       "        vertical-align: top;\n",
       "    }\n",
       "\n",
       "    .dataframe thead th {\n",
       "        text-align: right;\n",
       "    }\n",
       "</style>\n",
       "<table border=\"1\" class=\"dataframe\">\n",
       "  <thead>\n",
       "    <tr style=\"text-align: right;\">\n",
       "      <th></th>\n",
       "      <th>SimilarPassengerIds</th>\n",
       "      <th>Sex_newfeature0</th>\n",
       "      <th>Embarked_newfeature1</th>\n",
       "      <th>Embarked_newfeature2</th>\n",
       "      <th>BoardingClass_newfeature3</th>\n",
       "      <th>BoardingClass_newfeature4</th>\n",
       "      <th>AgeCategory_newfeature5</th>\n",
       "      <th>FamilySize_newfeature6</th>\n",
       "      <th>Survived</th>\n",
       "      <th>GroupSize</th>\n",
       "      <th>GroupWeight</th>\n",
       "      <th>DeathProbability_rf</th>\n",
       "      <th>DeathProbability_logreg</th>\n",
       "    </tr>\n",
       "  </thead>\n",
       "  <tbody>\n",
       "    <tr>\n",
       "      <th>39</th>\n",
       "      <td>98__371__454__485__588__600__646__680</td>\n",
       "      <td>1.0</td>\n",
       "      <td>0.0</td>\n",
       "      <td>0.0</td>\n",
       "      <td>0.0</td>\n",
       "      <td>1.0</td>\n",
       "      <td>0.0</td>\n",
       "      <td>1.0</td>\n",
       "      <td>1</td>\n",
       "      <td>8</td>\n",
       "      <td>0.008979</td>\n",
       "      <td>0.533105</td>\n",
       "      <td>0.473786</td>\n",
       "    </tr>\n",
       "    <tr>\n",
       "      <th>92</th>\n",
       "      <td>781__876</td>\n",
       "      <td>0.0</td>\n",
       "      <td>0.0</td>\n",
       "      <td>0.0</td>\n",
       "      <td>0.0</td>\n",
       "      <td>0.0</td>\n",
       "      <td>1.0</td>\n",
       "      <td>0.0</td>\n",
       "      <td>1</td>\n",
       "      <td>2</td>\n",
       "      <td>0.002245</td>\n",
       "      <td>0.481333</td>\n",
       "      <td>0.367728</td>\n",
       "    </tr>\n",
       "    <tr>\n",
       "      <th>18</th>\n",
       "      <td>20__368</td>\n",
       "      <td>0.0</td>\n",
       "      <td>0.0</td>\n",
       "      <td>0.0</td>\n",
       "      <td>0.0</td>\n",
       "      <td>0.0</td>\n",
       "      <td>0.0</td>\n",
       "      <td>0.0</td>\n",
       "      <td>1</td>\n",
       "      <td>2</td>\n",
       "      <td>0.002245</td>\n",
       "      <td>0.248333</td>\n",
       "      <td>0.367728</td>\n",
       "    </tr>\n",
       "  </tbody>\n",
       "</table>\n",
       "</div>"
      ],
      "text/plain": [
       "                      SimilarPassengerIds  Sex_newfeature0  \\\n",
       "39  98__371__454__485__588__600__646__680              1.0   \n",
       "92                               781__876              0.0   \n",
       "18                                20__368              0.0   \n",
       "\n",
       "    Embarked_newfeature1  Embarked_newfeature2  BoardingClass_newfeature3  \\\n",
       "39                   0.0                   0.0                        0.0   \n",
       "92                   0.0                   0.0                        0.0   \n",
       "18                   0.0                   0.0                        0.0   \n",
       "\n",
       "    BoardingClass_newfeature4  AgeCategory_newfeature5  \\\n",
       "39                        1.0                      0.0   \n",
       "92                        0.0                      1.0   \n",
       "18                        0.0                      0.0   \n",
       "\n",
       "    FamilySize_newfeature6  Survived  GroupSize  GroupWeight  \\\n",
       "39                     1.0         1          8     0.008979   \n",
       "92                     0.0         1          2     0.002245   \n",
       "18                     0.0         1          2     0.002245   \n",
       "\n",
       "    DeathProbability_rf  DeathProbability_logreg  \n",
       "39             0.533105                 0.473786  \n",
       "92             0.481333                 0.367728  \n",
       "18             0.248333                 0.367728  "
      ]
     },
     "execution_count": 247,
     "metadata": {},
     "output_type": "execute_result"
    }
   ],
   "source": [
    "# Take a look at df__mixedmodel\n",
    "df__mixedmodel.sample(n=3)"
   ]
  },
  {
   "cell_type": "code",
   "execution_count": 248,
   "metadata": {},
   "outputs": [
    {
     "name": "stdout",
     "output_type": "stream",
     "text": [
      "  message: CONVERGENCE: NORM_OF_PROJECTED_GRADIENT_<=_PGTOL\n",
      "  success: True\n",
      "   status: 0\n",
      "      fun: 51.80419735451535\n",
      "        x: [ 5.000e-01  5.000e-01  5.000e-01]\n",
      "      nit: 0\n",
      "      jac: [ 0.000e+00  0.000e+00  0.000e+00]\n",
      "     nfev: 4\n",
      "     njev: 1\n",
      " hess_inv: <3x3 LbfgsInvHessProduct with dtype=float64>\n"
     ]
    }
   ],
   "source": [
    "# Define the objective function according to the current problem\n",
    "def function__objective3(\n",
    "        float__threshold: float, array__deathprobabilitiesRF: np.ndarray, array__deathprobabilitiesLOGREG: np.ndarray\n",
    "        , float__weightRF: float, float__weightLOGREG: float, float__lagrangemultiplier: float\n",
    "        , array__groupweights: np.ndarray, array__survived: np.ndarray)-> float:\n",
    "    \"\"\"\n",
    "    Input:\n",
    "    float__threshold : a float (value which helps identifies if a passenger death probability is enough high to be considered as a dead person)\n",
    "    array__deathprobabilitiesRF : an array of float (array of death probabilities for each group of passengers) issued by the random forest model\n",
    "    array__deathprobabilitiesLOGREG : an array of float (array of death probabilities for each group of passengers) issued by the logistic regression model\n",
    "    float__weightRF : a float (value which is the appropriate weight given to array__deathprobabilitesRF in the computation of the final death probabilities)\n",
    "    float__weightLOGREG : a float (value which is the appropriate weight given to array__deathprobabilitesLOGREG in the computation of the final death probabilities)\n",
    "    float__lagrangemultiplier :  a float (lagange multiplier value)\n",
    "    array__groupweights : an array of float (array of weigths for each group of passengers)\n",
    "    array__survived : an array of integer (with only 0 or 1) which is the survival state of each group of passengers\n",
    "    \n",
    "    Output:\n",
    "    float__error : a float \n",
    "    (sum of squared differences between actual survival outcomes and weighted predicted survival probabilities for each passenger group, to which\n",
    "    is added a Lagrangian penalty term)\n",
    "    \"\"\"\n",
    "\n",
    "    # Compute the weighted average of death probabilities\n",
    "    array__avgdeathprobabilites = float__weightRF*array__deathprobabilitiesRF + float__weightLOGREG*array__deathprobabilitiesLOGREG\n",
    "\n",
    "    # Compute survival state predictions\n",
    "    array__predictions = (array__avgdeathprobabilites > float__threshold).astype(int)\n",
    "    array__weightedpredictions = array__groupweights * array__predictions\n",
    "\n",
    "    # Compute the Lagrangian penalty term\n",
    "    float__penalty = float__lagrangemultiplier * ((float__weightRF + float__weightLOGREG - 1) ** 2)\n",
    "\n",
    "    # Compute error (objective function value)\n",
    "    float__error = np.sum((array__weightedpredictions - array__survived) ** 2) + float__penalty\n",
    "\n",
    "    return float__error\n",
    "\n",
    "# Do the optimization\n",
    "optimizeresult__object = minimize(\n",
    "    fun=lambda x: function__objective3(\n",
    "        float__threshold=x[0]\n",
    "        , array__deathprobabilitiesRF=np.array(df__mixedmodel[\"DeathProbability_rf\"])\n",
    "        , array__deathprobabilitiesLOGREG=np.array(df__mixedmodel[\"DeathProbability_logreg\"])\n",
    "        , float__weightRF=x[1]\n",
    "        , float__weightLOGREG=x[2]\n",
    "        , float__lagrangemultiplier=0.5       \n",
    "        , array__groupweights=np.array(df__mixedmodel[\"GroupWeight\"])\n",
    "        , array__survived=np.array(df__mixedmodel[\"Survived\"]))\n",
    "    , x0=[0.5, 0.5, 0.5]  # Initial guesses for float__threshold, float__weightRF and float__weightLOGREG\n",
    "    , bounds=[(0, 1), (0, 1), (0, 1)] # float__threshold, float__weightRF and float__weightLOGREG must be between 0 and 1\n",
    "    , method='L-BFGS-B'\n",
    "    , options={'ftol': 1e-9, 'maxiter': 1000} # stopping criteria for the algo to stop if an optimum is not found / is found\n",
    ")\n",
    "\n",
    "# Analyze if an optimum was found\n",
    "print(optimizeresult__object)"
   ]
  },
  {
   "cell_type": "code",
   "execution_count": 249,
   "metadata": {},
   "outputs": [
    {
     "name": "stdout",
     "output_type": "stream",
     "text": [
      "_________ \n",
      "\n",
      "Out of 549 passengers who did not survived, we were able to predict correctly 491.\n",
      "_________ \n",
      "\n",
      "Out of 342 passengers who survived, we were able to predict correctly 237.\n",
      "_________ \n",
      "\n",
      "Globally, out of 891 passengers, we were able to predict correctly 728.\n"
     ]
    }
   ],
   "source": [
    "# Get the optimal threshold, and weights for random forest and logistic regression models\n",
    "float__optimthreshold, float__rfweight, float__logregweight = optimizeresult__object.x[0], optimizeresult__object.x[1], optimizeresult__object.x[2]\n",
    "\n",
    "# Predict Survived\n",
    "df__mixedmodel[\"DeathProbability_mixedmodel\"] = float__rfweight*df__mixedmodel[\"DeathProbability_rf\"] + float__logregweight*df__mixedmodel[\"DeathProbability_logreg\"]\n",
    "df__mixedmodel[\"SurvivedPredicted\"] = df__mixedmodel[\"DeathProbability_mixedmodel\"].apply(lambda x: 1 if x <= float__optimthreshold else 0)\n",
    "\n",
    "# Compute the total number of good prediction for all the passengers\n",
    "print(\"_________ \\n\")\n",
    "print(f\"Out of {df__mixedmodel[df__mixedmodel[\"Survived\"] == 0][\"GroupSize\"].sum()} passengers who did not survived, we were able to predict correctly {df__mixedmodel[(df__mixedmodel[\"Survived\"] == df__mixedmodel[\"SurvivedPredicted\"]) & (df__mixedmodel[\"Survived\"] == 0)][\"GroupSize\"].sum()}.\")\n",
    "print(\"_________ \\n\")\n",
    "print(f\"Out of {df__mixedmodel[df__mixedmodel[\"Survived\"] == 1][\"GroupSize\"].sum()} passengers who survived, we were able to predict correctly {df__mixedmodel[(df__mixedmodel[\"Survived\"] == df__mixedmodel[\"SurvivedPredicted\"]) & (df__mixedmodel[\"Survived\"] == 1)][\"GroupSize\"].sum()}.\")\n",
    "print(\"_________ \\n\")\n",
    "print(f\"Globally, out of {df__mixedmodel[\"GroupSize\"].sum()} passengers, we were able to predict correctly {df__mixedmodel[(df__mixedmodel[\"Survived\"] == df__mixedmodel[\"SurvivedPredicted\"])][\"GroupSize\"].sum()}.\")"
   ]
  },
  {
   "cell_type": "code",
   "execution_count": 250,
   "metadata": {},
   "outputs": [
    {
     "data": {
      "text/html": [
       "<div>\n",
       "<style scoped>\n",
       "    .dataframe tbody tr th:only-of-type {\n",
       "        vertical-align: middle;\n",
       "    }\n",
       "\n",
       "    .dataframe tbody tr th {\n",
       "        vertical-align: top;\n",
       "    }\n",
       "\n",
       "    .dataframe thead tr th {\n",
       "        text-align: left;\n",
       "    }\n",
       "\n",
       "    .dataframe thead tr:last-of-type th {\n",
       "        text-align: right;\n",
       "    }\n",
       "</style>\n",
       "<table border=\"1\" class=\"dataframe\">\n",
       "  <thead>\n",
       "    <tr>\n",
       "      <th></th>\n",
       "      <th colspan=\"8\" halign=\"left\">DeathProbability_mixedmodel</th>\n",
       "    </tr>\n",
       "    <tr>\n",
       "      <th></th>\n",
       "      <th>count</th>\n",
       "      <th>mean</th>\n",
       "      <th>std</th>\n",
       "      <th>min</th>\n",
       "      <th>25%</th>\n",
       "      <th>50%</th>\n",
       "      <th>75%</th>\n",
       "      <th>max</th>\n",
       "    </tr>\n",
       "    <tr>\n",
       "      <th>Survived</th>\n",
       "      <th></th>\n",
       "      <th></th>\n",
       "      <th></th>\n",
       "      <th></th>\n",
       "      <th></th>\n",
       "      <th></th>\n",
       "      <th></th>\n",
       "      <th></th>\n",
       "    </tr>\n",
       "  </thead>\n",
       "  <tbody>\n",
       "    <tr>\n",
       "      <th>0</th>\n",
       "      <td>42.0</td>\n",
       "      <td>0.530392</td>\n",
       "      <td>0.132607</td>\n",
       "      <td>0.233268</td>\n",
       "      <td>0.446734</td>\n",
       "      <td>0.531208</td>\n",
       "      <td>0.637842</td>\n",
       "      <td>0.745210</td>\n",
       "    </tr>\n",
       "    <tr>\n",
       "      <th>1</th>\n",
       "      <td>52.0</td>\n",
       "      <td>0.408331</td>\n",
       "      <td>0.176035</td>\n",
       "      <td>0.134648</td>\n",
       "      <td>0.223029</td>\n",
       "      <td>0.437920</td>\n",
       "      <td>0.547553</td>\n",
       "      <td>0.701455</td>\n",
       "    </tr>\n",
       "  </tbody>\n",
       "</table>\n",
       "</div>"
      ],
      "text/plain": [
       "         DeathProbability_mixedmodel                                          \\\n",
       "                               count      mean       std       min       25%   \n",
       "Survived                                                                       \n",
       "0                               42.0  0.530392  0.132607  0.233268  0.446734   \n",
       "1                               52.0  0.408331  0.176035  0.134648  0.223029   \n",
       "\n",
       "                                        \n",
       "               50%       75%       max  \n",
       "Survived                                \n",
       "0         0.531208  0.637842  0.745210  \n",
       "1         0.437920  0.547553  0.701455  "
      ]
     },
     "execution_count": 250,
     "metadata": {},
     "output_type": "execute_result"
    }
   ],
   "source": [
    "# Display characteristics of predicted death probabilities for each \"Survived\" modality \n",
    "df__mixedmodel[[\"DeathProbability_mixedmodel\", \"Survived\"]].groupby([\"Survived\"], observed=False).describe()"
   ]
  },
  {
   "cell_type": "markdown",
   "metadata": {},
   "source": [
    "-  50% of groups who survived have their death probabilities lesser than or equal to 0.44, and 50% of death groups have their death probabilities equal or higher than 0.53.\n",
    "\n",
    "- 75% of groups who survived have their death probabilities lesser than or equal to 0.55, and 25% of death people have their death probabilities equal or higher than 0.64.\n",
    "\n",
    "-  The max death probability observed for death groups is up to 0.74; whereas for groups who are alive, their max death probability is up to 0.7."
   ]
  },
  {
   "cell_type": "code",
   "execution_count": 251,
   "metadata": {},
   "outputs": [
    {
     "name": "stdout",
     "output_type": "stream",
     "text": [
      "Out of 163 passengers with bad predictions : \n",
      "\n",
      "25 have missing and/or approximately estimated age. \n",
      "\n",
      "0 have missing fare. \n",
      "\n",
      "0 have missing embarkation points. \n",
      "\n"
     ]
    }
   ],
   "source": [
    "# Try to understand bad predictions on some passengers : we try to relate bad predictions to inaccurate/missing data\n",
    "\n",
    "# Keep only bad predictions\n",
    "df__table = df__mixedmodel[df__mixedmodel[\"Survived\"] != df__mixedmodel[\"SurvivedPredicted\"]][[\"SimilarPassengerIds\"]].copy(deep=True)\n",
    "\n",
    "# Get list of all passengers with bad predictions\n",
    "list__badpredictions = []\n",
    "for str__passengersgroup in df__table[\"SimilarPassengerIds\"].tolist():\n",
    "    list__passengersgroup = str__passengersgroup.split(\"__\")\n",
    "    list__badpredictions = list__badpredictions + list__passengersgroup\n",
    "    # Cleanup\n",
    "    del list__passengersgroup\n",
    "\n",
    "# Cleanup\n",
    "del str__passengersgroup\n",
    "\n",
    "# Get how many of passengers with bad predictions have missing data\n",
    "print(f\"Out of {len(list__badpredictions)} passengers with bad predictions : \\n\")\n",
    "print(f\"{len([str__passengerid for str__passengerid in list__badpredictions if str__passengerid in list__missingage])} have missing and/or approximately estimated age. \\n\")\n",
    "print(f\"{len([str__passengerid for str__passengerid in list__badpredictions if str__passengerid in list__missingfare])} have missing fare. \\n\")\n",
    "print(f\"{len([str__passengerid for str__passengerid in list__badpredictions if str__passengerid in list__missingembarked])} have missing embarkation points. \\n\")"
   ]
  },
  {
   "cell_type": "code",
   "execution_count": 252,
   "metadata": {},
   "outputs": [
    {
     "data": {
      "text/html": [
       "<div>\n",
       "<style scoped>\n",
       "    .dataframe tbody tr th:only-of-type {\n",
       "        vertical-align: middle;\n",
       "    }\n",
       "\n",
       "    .dataframe tbody tr th {\n",
       "        vertical-align: top;\n",
       "    }\n",
       "\n",
       "    .dataframe thead th {\n",
       "        text-align: right;\n",
       "    }\n",
       "</style>\n",
       "<table border=\"1\" class=\"dataframe\">\n",
       "  <thead>\n",
       "    <tr style=\"text-align: right;\">\n",
       "      <th></th>\n",
       "      <th></th>\n",
       "      <th></th>\n",
       "      <th>FamilySize</th>\n",
       "      <th>alone</th>\n",
       "      <th>not alone</th>\n",
       "    </tr>\n",
       "    <tr>\n",
       "      <th>Sex</th>\n",
       "      <th>Embarked</th>\n",
       "      <th>BoardingClass</th>\n",
       "      <th>AgeCategory</th>\n",
       "      <th></th>\n",
       "      <th></th>\n",
       "    </tr>\n",
       "  </thead>\n",
       "  <tbody>\n",
       "    <tr>\n",
       "      <th rowspan=\"10\" valign=\"top\">female</th>\n",
       "      <th rowspan=\"3\" valign=\"top\">C</th>\n",
       "      <th rowspan=\"2\" valign=\"top\">least privileged</th>\n",
       "      <th>adult</th>\n",
       "      <td>0</td>\n",
       "      <td>1</td>\n",
       "    </tr>\n",
       "    <tr>\n",
       "      <th>young</th>\n",
       "      <td>1</td>\n",
       "      <td>1</td>\n",
       "    </tr>\n",
       "    <tr>\n",
       "      <th>most privileged</th>\n",
       "      <th>adult</th>\n",
       "      <td>1</td>\n",
       "      <td>0</td>\n",
       "    </tr>\n",
       "    <tr>\n",
       "      <th rowspan=\"2\" valign=\"top\">Q</th>\n",
       "      <th rowspan=\"2\" valign=\"top\">least privileged</th>\n",
       "      <th>adult</th>\n",
       "      <td>1</td>\n",
       "      <td>1</td>\n",
       "    </tr>\n",
       "    <tr>\n",
       "      <th>young</th>\n",
       "      <td>1</td>\n",
       "      <td>1</td>\n",
       "    </tr>\n",
       "    <tr>\n",
       "      <th rowspan=\"5\" valign=\"top\">S</th>\n",
       "      <th rowspan=\"2\" valign=\"top\">least privileged</th>\n",
       "      <th>adult</th>\n",
       "      <td>1</td>\n",
       "      <td>1</td>\n",
       "    </tr>\n",
       "    <tr>\n",
       "      <th>young</th>\n",
       "      <td>1</td>\n",
       "      <td>1</td>\n",
       "    </tr>\n",
       "    <tr>\n",
       "      <th>moderately privileged</th>\n",
       "      <th>adult</th>\n",
       "      <td>1</td>\n",
       "      <td>1</td>\n",
       "    </tr>\n",
       "    <tr>\n",
       "      <th rowspan=\"2\" valign=\"top\">most privileged</th>\n",
       "      <th>adult</th>\n",
       "      <td>0</td>\n",
       "      <td>1</td>\n",
       "    </tr>\n",
       "    <tr>\n",
       "      <th>young</th>\n",
       "      <td>0</td>\n",
       "      <td>1</td>\n",
       "    </tr>\n",
       "    <tr>\n",
       "      <th rowspan=\"12\" valign=\"top\">male</th>\n",
       "      <th rowspan=\"5\" valign=\"top\">C</th>\n",
       "      <th rowspan=\"2\" valign=\"top\">least privileged</th>\n",
       "      <th>adult</th>\n",
       "      <td>1</td>\n",
       "      <td>0</td>\n",
       "    </tr>\n",
       "    <tr>\n",
       "      <th>young</th>\n",
       "      <td>1</td>\n",
       "      <td>1</td>\n",
       "    </tr>\n",
       "    <tr>\n",
       "      <th>moderately privileged</th>\n",
       "      <th>adult</th>\n",
       "      <td>1</td>\n",
       "      <td>0</td>\n",
       "    </tr>\n",
       "    <tr>\n",
       "      <th rowspan=\"2\" valign=\"top\">most privileged</th>\n",
       "      <th>adult</th>\n",
       "      <td>1</td>\n",
       "      <td>1</td>\n",
       "    </tr>\n",
       "    <tr>\n",
       "      <th>young</th>\n",
       "      <td>0</td>\n",
       "      <td>1</td>\n",
       "    </tr>\n",
       "    <tr>\n",
       "      <th>Q</th>\n",
       "      <th>least privileged</th>\n",
       "      <th>adult</th>\n",
       "      <td>1</td>\n",
       "      <td>1</td>\n",
       "    </tr>\n",
       "    <tr>\n",
       "      <th rowspan=\"6\" valign=\"top\">S</th>\n",
       "      <th rowspan=\"2\" valign=\"top\">least privileged</th>\n",
       "      <th>adult</th>\n",
       "      <td>1</td>\n",
       "      <td>1</td>\n",
       "    </tr>\n",
       "    <tr>\n",
       "      <th>young</th>\n",
       "      <td>1</td>\n",
       "      <td>1</td>\n",
       "    </tr>\n",
       "    <tr>\n",
       "      <th rowspan=\"2\" valign=\"top\">moderately privileged</th>\n",
       "      <th>adult</th>\n",
       "      <td>1</td>\n",
       "      <td>1</td>\n",
       "    </tr>\n",
       "    <tr>\n",
       "      <th>young</th>\n",
       "      <td>1</td>\n",
       "      <td>1</td>\n",
       "    </tr>\n",
       "    <tr>\n",
       "      <th rowspan=\"2\" valign=\"top\">most privileged</th>\n",
       "      <th>adult</th>\n",
       "      <td>1</td>\n",
       "      <td>1</td>\n",
       "    </tr>\n",
       "    <tr>\n",
       "      <th>young</th>\n",
       "      <td>0</td>\n",
       "      <td>1</td>\n",
       "    </tr>\n",
       "  </tbody>\n",
       "</table>\n",
       "</div>"
      ],
      "text/plain": [
       "FamilySize                                         alone  not alone\n",
       "Sex    Embarked BoardingClass         AgeCategory                  \n",
       "female C        least privileged      adult            0          1\n",
       "                                      young            1          1\n",
       "                most privileged       adult            1          0\n",
       "       Q        least privileged      adult            1          1\n",
       "                                      young            1          1\n",
       "       S        least privileged      adult            1          1\n",
       "                                      young            1          1\n",
       "                moderately privileged adult            1          1\n",
       "                most privileged       adult            0          1\n",
       "                                      young            0          1\n",
       "male   C        least privileged      adult            1          0\n",
       "                                      young            1          1\n",
       "                moderately privileged adult            1          0\n",
       "                most privileged       adult            1          1\n",
       "                                      young            0          1\n",
       "       Q        least privileged      adult            1          1\n",
       "       S        least privileged      adult            1          1\n",
       "                                      young            1          1\n",
       "                moderately privileged adult            1          1\n",
       "                                      young            1          1\n",
       "                most privileged       adult            1          1\n",
       "                                      young            0          1"
      ]
     },
     "execution_count": 252,
     "metadata": {},
     "output_type": "execute_result"
    }
   ],
   "source": [
    "# Try to understand bad predictions on some passengers : try to identify any common pattern between these passengers\n",
    "\n",
    "# Update df__table\n",
    "df__table = df__table.merge(right=df__covariates, on=[\"SimilarPassengerIds\"], how=\"inner\")\n",
    "del df__table[\"SimilarPassengerIds\"]\n",
    "\n",
    "# Take a look at df__nwtable using a Multi-level cross-tabulation\n",
    "pd.crosstab([df__table[str__covariate] for str__covariate in df__table.columns[:-1]], df__table[df__table.columns[-1]])"
   ]
  },
  {
   "cell_type": "markdown",
   "metadata": {},
   "source": [
    "_Still, there seems to be **no obvious commonality** among misclassified cases._"
   ]
  },
  {
   "cell_type": "markdown",
   "metadata": {},
   "source": [
    "<div style=\"background-color: green; padding: 10px;\">\n",
    "\n",
    "The mix model, combining random forest (RF) and logistic regression (LR), demonstrated the following performance metrics on the training set:\n",
    "\n",
    "1. Survival prediction accuracy:\n",
    "   - mix model: 69.3%\n",
    "   - RF: 61.4%\n",
    "   - LR: 78.07%\n",
    "\n",
    "2. Non-survival prediction accuracy:\n",
    "   - mix model: 89.44%\n",
    "   - RF: 95.63%\n",
    "   - LR: 64.3%\n",
    "\n",
    "3. Overall accuracy (balanced dataset):\n",
    "   - mix model: 81.71%\n",
    "   - RF: 82.49%\n",
    "   - LR: 69.58%\n",
    "\n",
    "The ensemble model tries to leverage strengths of both intial models: LR's performance in identifying survivors and RF's accuracy in detecting non-survivors.\n",
    "\n",
    "_Limitations in model performance may be attributed to insufficient data granularity. Additional variables such as collision time, passenger locations at impact, ship flooding patterns, and emergency protocols could potentially enhance predictive accuracy._\n",
    "\n",
    "Given the available Titanic data, the ensemble model's performance is deemed sufficient to predict passenger survival outcomes on the test set.\n",
    "\n",
    "</div>"
   ]
  },
  {
   "cell_type": "code",
   "execution_count": 253,
   "metadata": {},
   "outputs": [],
   "source": [
    "# Cleanup\n",
    "del df__covariates, df__engineeredtest, df__mixedmodel, df__nwcovariates, df__table, df__target, df__test, df__train, list__badpredictions\n",
    "del list__missingage, list__missingembarked, list__missingfare, optimizeresult__object"
   ]
  },
  {
   "cell_type": "code",
   "execution_count": 254,
   "metadata": {},
   "outputs": [
    {
     "data": {
      "text/plain": [
       "3742"
      ]
     },
     "execution_count": 254,
     "metadata": {},
     "output_type": "execute_result"
    }
   ],
   "source": [
    "# Empty garbage collector\n",
    "gc.collect()"
   ]
  },
  {
   "cell_type": "markdown",
   "metadata": {},
   "source": [
    "#### 8. Predict the target Survived for the test set"
   ]
  },
  {
   "cell_type": "code",
   "execution_count": 255,
   "metadata": {},
   "outputs": [],
   "source": [
    "# Predict logistic regression death probabilities\n",
    "df__nwengineeredtest[\"DeathProbability_logreg\"] = np.array(pd.DataFrame(logisticregression__object2.predict_proba(X=np.array(df__nwengineeredtest[list__logregcovariates]))).loc[:, 0])\n",
    "\n",
    "# Predict random forest death probabilities\n",
    "df__nwengineeredtest[\"DeathProbability_rf\"] = np.array(pd.DataFrame(randomforest__object.predict_proba(X=np.array(df__nwengineeredtest[list__rfcovariates]))).loc[:, 0])\n",
    "\n",
    "# Computed the weight summ of both predicted death probabilities\n",
    "df__nwengineeredtest[\"DeathProbability_mixedmodel\"] = float__rfweight*df__nwengineeredtest[\"DeathProbability_rf\"] + float__logregweight*df__nwengineeredtest[\"DeathProbability_logreg\"]\n",
    "\n",
    "# Compute the survival state\n",
    "df__nwengineeredtest[\"Survived\"] = df__nwengineeredtest[\"DeathProbability_mixedmodel\"].apply(lambda x: 1 if x <= float__optimthreshold else 0)\n",
    "\n",
    "# Save the result\n",
    "df__nwengineeredtest[[\"PassengerId\", \"Survived\"]].to_csv(path_or_buf=windowspath__data / \"test\" / \"test_pred.csv\", index=False)"
   ]
  },
  {
   "cell_type": "code",
   "execution_count": 256,
   "metadata": {},
   "outputs": [],
   "source": [
    "# Cleanup\n",
    "gc.collect()\n",
    "%reset -f"
   ]
  }
 ],
 "metadata": {
  "kernelspec": {
   "display_name": ".venv",
   "language": "python",
   "name": "python3"
  },
  "language_info": {
   "codemirror_mode": {
    "name": "ipython",
    "version": 3
   },
   "file_extension": ".py",
   "mimetype": "text/x-python",
   "name": "python",
   "nbconvert_exporter": "python",
   "pygments_lexer": "ipython3",
   "version": "3.12.4"
  }
 },
 "nbformat": 4,
 "nbformat_minor": 2
}
