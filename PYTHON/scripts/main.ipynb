{
 "cells": [
  {
   "cell_type": "markdown",
   "metadata": {},
   "source": [
    "#### 1. Refer to this section for a description of the problem"
   ]
  },
  {
   "cell_type": "markdown",
   "metadata": {},
   "source": [
    "__[Kaggle](https://www.kaggle.com/competitions/titanic/data)__ platform provides two datasets (_train.csv_, _test.csv_) containing detailed information about Titanic passengers, such as :\n",
    "- A unique identifier for each passenger (_PassengerId_) ;\n",
    "- The class of service in which the passenger traveled (_Pclass_) ;\n",
    "- The passenger's full name (_Name_) ;\n",
    "- The gender of the passenger (_Sex_) ;\n",
    "- The age of the passenger (_Age_) ;\n",
    "- The number of siblings or spouses accompanying the passenger on the ship (_SibSp_) ;\n",
    "- The number of parents or children accompanying the passenger on the ship (_Parch_) ;\n",
    "- The ticket number assigned to the passenger (_Ticket_) ;\n",
    "- The fare paid by the passenger (_Fare_) ;\n",
    "- The cabin number assigned to the passenger (_Cabin_) ;\n",
    "- The port from which the passenger embarked (_Embarked_) ;\n",
    "- The survival status of the passenger post-collision (_Survived_), which is available only in the _train.csv_ dataset.\n",
    "\n",
    "Based on the data and relationships identified in the _train.csv_ file, we aim to predict the survival status of passengers listed in the _test.csv_ file following the shipwreck."
   ]
  },
  {
   "cell_type": "markdown",
   "metadata": {},
   "source": [
    "#### 2. Import required libraries"
   ]
  },
  {
   "cell_type": "code",
   "execution_count": 114,
   "metadata": {},
   "outputs": [],
   "source": [
    "import gc, pandas as pd, numpy as np, matplotlib.pyplot as plt\n",
    "from scipy.stats import kruskal\n",
    "from pathlib import Path"
   ]
  },
  {
   "cell_type": "markdown",
   "metadata": {},
   "source": [
    "#### 3. Set up correct path"
   ]
  },
  {
   "cell_type": "code",
   "execution_count": 115,
   "metadata": {},
   "outputs": [],
   "source": [
    "windowspath__scripts = Path().resolve()\n",
    "windowspath__data = windowspath__scripts.parent / \"data\""
   ]
  },
  {
   "cell_type": "markdown",
   "metadata": {},
   "source": [
    "#### 4. Import train.csv and test.csv files"
   ]
  },
  {
   "cell_type": "code",
   "execution_count": 116,
   "metadata": {},
   "outputs": [],
   "source": [
    "df__train = pd.read_csv(filepath_or_buffer=windowspath__data / \"train\" / \"train.csv\", dtype=str)\n",
    "df__test = pd.read_csv(filepath_or_buffer=windowspath__data / \"test\" / \"test.csv\", dtype=str)"
   ]
  },
  {
   "cell_type": "code",
   "execution_count": 117,
   "metadata": {},
   "outputs": [
    {
     "data": {
      "text/html": [
       "<div>\n",
       "<style scoped>\n",
       "    .dataframe tbody tr th:only-of-type {\n",
       "        vertical-align: middle;\n",
       "    }\n",
       "\n",
       "    .dataframe tbody tr th {\n",
       "        vertical-align: top;\n",
       "    }\n",
       "\n",
       "    .dataframe thead th {\n",
       "        text-align: right;\n",
       "    }\n",
       "</style>\n",
       "<table border=\"1\" class=\"dataframe\">\n",
       "  <thead>\n",
       "    <tr style=\"text-align: right;\">\n",
       "      <th></th>\n",
       "      <th>PassengerId</th>\n",
       "      <th>Survived</th>\n",
       "      <th>Pclass</th>\n",
       "      <th>Name</th>\n",
       "      <th>Sex</th>\n",
       "      <th>Age</th>\n",
       "      <th>SibSp</th>\n",
       "      <th>Parch</th>\n",
       "      <th>Ticket</th>\n",
       "      <th>Fare</th>\n",
       "      <th>Cabin</th>\n",
       "      <th>Embarked</th>\n",
       "    </tr>\n",
       "  </thead>\n",
       "  <tbody>\n",
       "    <tr>\n",
       "      <th>745</th>\n",
       "      <td>746</td>\n",
       "      <td>0</td>\n",
       "      <td>1</td>\n",
       "      <td>Crosby, Capt. Edward Gifford</td>\n",
       "      <td>male</td>\n",
       "      <td>70</td>\n",
       "      <td>1</td>\n",
       "      <td>1</td>\n",
       "      <td>WE/P 5735</td>\n",
       "      <td>71</td>\n",
       "      <td>B22</td>\n",
       "      <td>S</td>\n",
       "    </tr>\n",
       "    <tr>\n",
       "      <th>196</th>\n",
       "      <td>197</td>\n",
       "      <td>0</td>\n",
       "      <td>3</td>\n",
       "      <td>Mernagh, Mr. Robert</td>\n",
       "      <td>male</td>\n",
       "      <td>NaN</td>\n",
       "      <td>0</td>\n",
       "      <td>0</td>\n",
       "      <td>368703</td>\n",
       "      <td>7.75</td>\n",
       "      <td>NaN</td>\n",
       "      <td>Q</td>\n",
       "    </tr>\n",
       "    <tr>\n",
       "      <th>357</th>\n",
       "      <td>358</td>\n",
       "      <td>0</td>\n",
       "      <td>2</td>\n",
       "      <td>Funk, Miss. Annie Clemmer</td>\n",
       "      <td>female</td>\n",
       "      <td>38</td>\n",
       "      <td>0</td>\n",
       "      <td>0</td>\n",
       "      <td>237671</td>\n",
       "      <td>13</td>\n",
       "      <td>NaN</td>\n",
       "      <td>S</td>\n",
       "    </tr>\n",
       "  </tbody>\n",
       "</table>\n",
       "</div>"
      ],
      "text/plain": [
       "    PassengerId Survived Pclass                          Name     Sex  Age  \\\n",
       "745         746        0      1  Crosby, Capt. Edward Gifford    male   70   \n",
       "196         197        0      3           Mernagh, Mr. Robert    male  NaN   \n",
       "357         358        0      2     Funk, Miss. Annie Clemmer  female   38   \n",
       "\n",
       "    SibSp Parch     Ticket  Fare Cabin Embarked  \n",
       "745     1     1  WE/P 5735    71   B22        S  \n",
       "196     0     0     368703  7.75   NaN        Q  \n",
       "357     0     0     237671    13   NaN        S  "
      ]
     },
     "execution_count": 117,
     "metadata": {},
     "output_type": "execute_result"
    }
   ],
   "source": [
    "df__train.sample(n=3)"
   ]
  },
  {
   "cell_type": "code",
   "execution_count": 118,
   "metadata": {},
   "outputs": [
    {
     "data": {
      "text/html": [
       "<div>\n",
       "<style scoped>\n",
       "    .dataframe tbody tr th:only-of-type {\n",
       "        vertical-align: middle;\n",
       "    }\n",
       "\n",
       "    .dataframe tbody tr th {\n",
       "        vertical-align: top;\n",
       "    }\n",
       "\n",
       "    .dataframe thead th {\n",
       "        text-align: right;\n",
       "    }\n",
       "</style>\n",
       "<table border=\"1\" class=\"dataframe\">\n",
       "  <thead>\n",
       "    <tr style=\"text-align: right;\">\n",
       "      <th></th>\n",
       "      <th>PassengerId</th>\n",
       "      <th>Pclass</th>\n",
       "      <th>Name</th>\n",
       "      <th>Sex</th>\n",
       "      <th>Age</th>\n",
       "      <th>SibSp</th>\n",
       "      <th>Parch</th>\n",
       "      <th>Ticket</th>\n",
       "      <th>Fare</th>\n",
       "      <th>Cabin</th>\n",
       "      <th>Embarked</th>\n",
       "    </tr>\n",
       "  </thead>\n",
       "  <tbody>\n",
       "    <tr>\n",
       "      <th>203</th>\n",
       "      <td>1095</td>\n",
       "      <td>2</td>\n",
       "      <td>Quick, Miss. Winifred Vera</td>\n",
       "      <td>female</td>\n",
       "      <td>8</td>\n",
       "      <td>1</td>\n",
       "      <td>1</td>\n",
       "      <td>26360</td>\n",
       "      <td>26</td>\n",
       "      <td>NaN</td>\n",
       "      <td>S</td>\n",
       "    </tr>\n",
       "    <tr>\n",
       "      <th>322</th>\n",
       "      <td>1214</td>\n",
       "      <td>2</td>\n",
       "      <td>Nesson, Mr. Israel</td>\n",
       "      <td>male</td>\n",
       "      <td>26</td>\n",
       "      <td>0</td>\n",
       "      <td>0</td>\n",
       "      <td>244368</td>\n",
       "      <td>13</td>\n",
       "      <td>F2</td>\n",
       "      <td>S</td>\n",
       "    </tr>\n",
       "    <tr>\n",
       "      <th>413</th>\n",
       "      <td>1305</td>\n",
       "      <td>3</td>\n",
       "      <td>Spector, Mr. Woolf</td>\n",
       "      <td>male</td>\n",
       "      <td>NaN</td>\n",
       "      <td>0</td>\n",
       "      <td>0</td>\n",
       "      <td>A.5. 3236</td>\n",
       "      <td>8.05</td>\n",
       "      <td>NaN</td>\n",
       "      <td>S</td>\n",
       "    </tr>\n",
       "  </tbody>\n",
       "</table>\n",
       "</div>"
      ],
      "text/plain": [
       "    PassengerId Pclass                        Name     Sex  Age SibSp Parch  \\\n",
       "203        1095      2  Quick, Miss. Winifred Vera  female    8     1     1   \n",
       "322        1214      2          Nesson, Mr. Israel    male   26     0     0   \n",
       "413        1305      3          Spector, Mr. Woolf    male  NaN     0     0   \n",
       "\n",
       "        Ticket  Fare Cabin Embarked  \n",
       "203      26360    26   NaN        S  \n",
       "322     244368    13    F2        S  \n",
       "413  A.5. 3236  8.05   NaN        S  "
      ]
     },
     "execution_count": 118,
     "metadata": {},
     "output_type": "execute_result"
    }
   ],
   "source": [
    "df__test.sample(n=3)"
   ]
  },
  {
   "cell_type": "markdown",
   "metadata": {},
   "source": [
    "#### 5. Perform feature engineering"
   ]
  },
  {
   "cell_type": "code",
   "execution_count": 119,
   "metadata": {},
   "outputs": [
    {
     "data": {
      "text/html": [
       "<div>\n",
       "<style scoped>\n",
       "    .dataframe tbody tr th:only-of-type {\n",
       "        vertical-align: middle;\n",
       "    }\n",
       "\n",
       "    .dataframe tbody tr th {\n",
       "        vertical-align: top;\n",
       "    }\n",
       "\n",
       "    .dataframe thead th {\n",
       "        text-align: right;\n",
       "    }\n",
       "</style>\n",
       "<table border=\"1\" class=\"dataframe\">\n",
       "  <thead>\n",
       "    <tr style=\"text-align: right;\">\n",
       "      <th></th>\n",
       "      <th>PassengerId</th>\n",
       "      <th>Pclass</th>\n",
       "      <th>Name</th>\n",
       "      <th>Sex</th>\n",
       "      <th>Age</th>\n",
       "      <th>SibSp</th>\n",
       "      <th>Parch</th>\n",
       "      <th>Ticket</th>\n",
       "      <th>Fare</th>\n",
       "      <th>Cabin</th>\n",
       "      <th>Embarked</th>\n",
       "    </tr>\n",
       "  </thead>\n",
       "  <tbody>\n",
       "    <tr>\n",
       "      <th>502</th>\n",
       "      <td>503</td>\n",
       "      <td>3</td>\n",
       "      <td>O'Sullivan, Miss. Bridget Mary</td>\n",
       "      <td>female</td>\n",
       "      <td>NaN</td>\n",
       "      <td>0</td>\n",
       "      <td>0</td>\n",
       "      <td>330909</td>\n",
       "      <td>7.6292</td>\n",
       "      <td>NaN</td>\n",
       "      <td>Q</td>\n",
       "    </tr>\n",
       "    <tr>\n",
       "      <th>274</th>\n",
       "      <td>275</td>\n",
       "      <td>3</td>\n",
       "      <td>Healy, Miss. Hanora \"Nora\"</td>\n",
       "      <td>female</td>\n",
       "      <td>NaN</td>\n",
       "      <td>0</td>\n",
       "      <td>0</td>\n",
       "      <td>370375</td>\n",
       "      <td>7.75</td>\n",
       "      <td>NaN</td>\n",
       "      <td>Q</td>\n",
       "    </tr>\n",
       "    <tr>\n",
       "      <th>412</th>\n",
       "      <td>413</td>\n",
       "      <td>1</td>\n",
       "      <td>Minahan, Miss. Daisy E</td>\n",
       "      <td>female</td>\n",
       "      <td>33</td>\n",
       "      <td>1</td>\n",
       "      <td>0</td>\n",
       "      <td>19928</td>\n",
       "      <td>90</td>\n",
       "      <td>C78</td>\n",
       "      <td>Q</td>\n",
       "    </tr>\n",
       "  </tbody>\n",
       "</table>\n",
       "</div>"
      ],
      "text/plain": [
       "    PassengerId Pclass                            Name     Sex  Age SibSp  \\\n",
       "502         503      3  O'Sullivan, Miss. Bridget Mary  female  NaN     0   \n",
       "274         275      3      Healy, Miss. Hanora \"Nora\"  female  NaN     0   \n",
       "412         413      1          Minahan, Miss. Daisy E  female   33     1   \n",
       "\n",
       "    Parch  Ticket    Fare Cabin Embarked  \n",
       "502     0  330909  7.6292   NaN        Q  \n",
       "274     0  370375    7.75   NaN        Q  \n",
       "412     0   19928      90   C78        Q  "
      ]
     },
     "execution_count": 119,
     "metadata": {},
     "output_type": "execute_result"
    }
   ],
   "source": [
    "# Define an unified view of df__train and df__test\n",
    "df__titanic = pd.concat([df__train.copy(deep=True).drop(columns=[\"Survived\"]), df__test.copy(deep=True)], ignore_index=True)\n",
    "\n",
    "# Tip: samples of df__train and df__test are identified by their PassengerId\n",
    "\n",
    "df__titanic.sample(n=3)"
   ]
  },
  {
   "cell_type": "markdown",
   "metadata": {},
   "source": [
    "##### *5.1. PClass, Ticket, Cabin*"
   ]
  },
  {
   "cell_type": "code",
   "execution_count": 120,
   "metadata": {},
   "outputs": [],
   "source": [
    "# Remove \"Ticket\" and \"Cabin\" since their information can be seen as summarized in \"PClass\"\n",
    "df__titanic.drop(columns=[\"Ticket\", \"Cabin\"], inplace=True)"
   ]
  },
  {
   "cell_type": "code",
   "execution_count": 121,
   "metadata": {},
   "outputs": [
    {
     "data": {
      "text/plain": [
       "Pclass    0\n",
       "dtype: int64"
      ]
     },
     "execution_count": 121,
     "metadata": {},
     "output_type": "execute_result"
    }
   ],
   "source": [
    "# Are there missing values in \"Pclass\" ?\n",
    "df__titanic[[\"Pclass\"]].isnull().sum()"
   ]
  },
  {
   "cell_type": "code",
   "execution_count": 122,
   "metadata": {},
   "outputs": [],
   "source": [
    "# Create \"BoardingClass\" as an ordered version of \"PClass\" modalities\n",
    "\n",
    "# The ordered version is such that first class is the most privileged, second class is moderately privileged, and third class is the least privileged. \n",
    "dict__pclass = {\"1\": \"most privileged\", \"2\": \"moderately privileged\", \"3\": \"least privileged\"}  \n",
    "\n",
    "df__titanic[\"BoardingClass\"] = df__titanic[\"Pclass\"].map(dict__pclass)\n",
    "df__titanic[\"BoardingClass\"] = pd.Categorical(df__titanic[\"BoardingClass\"], categories=[\"least privileged\", \"moderately privileged\", \"most privileged\"], ordered=True)\n",
    "\n",
    "# Cleanup\n",
    "del df__titanic[\"Pclass\"], dict__pclass"
   ]
  },
  {
   "cell_type": "code",
   "execution_count": 123,
   "metadata": {},
   "outputs": [
    {
     "data": {
      "text/plain": [
       "<Axes: title={'center': 'BoardingClass count distribution'}, xlabel='BoardingClass'>"
      ]
     },
     "execution_count": 123,
     "metadata": {},
     "output_type": "execute_result"
    },
    {
     "data": {
      "image/png": "[encoded data removed]",
      "text/plain": [
       "<Figure size 640x480 with 1 Axes>"
      ]
     },
     "metadata": {},
     "output_type": "display_data"
    }
   ],
   "source": [
    "# Take a look at \"BoardingClass\"\n",
    "df__titanic[\"BoardingClass\"].value_counts().plot(kind=\"bar\", title=\"BoardingClass count distribution\")"
   ]
  },
  {
   "cell_type": "markdown",
   "metadata": {},
   "source": [
    "<div style=\"background-color: green; padding: 10px;\">\n",
    "Half of the passengers on the ship are least privileged people.\n",
    "</div>"
   ]
  },
  {
   "cell_type": "code",
   "execution_count": 124,
   "metadata": {},
   "outputs": [
    {
     "data": {
      "text/html": [
       "<div>\n",
       "<style scoped>\n",
       "    .dataframe tbody tr th:only-of-type {\n",
       "        vertical-align: middle;\n",
       "    }\n",
       "\n",
       "    .dataframe tbody tr th {\n",
       "        vertical-align: top;\n",
       "    }\n",
       "\n",
       "    .dataframe thead th {\n",
       "        text-align: right;\n",
       "    }\n",
       "</style>\n",
       "<table border=\"1\" class=\"dataframe\">\n",
       "  <thead>\n",
       "    <tr style=\"text-align: right;\">\n",
       "      <th></th>\n",
       "      <th>PassengerId</th>\n",
       "      <th>Name</th>\n",
       "      <th>Sex</th>\n",
       "      <th>Age</th>\n",
       "      <th>SibSp</th>\n",
       "      <th>Parch</th>\n",
       "      <th>Fare</th>\n",
       "      <th>Embarked</th>\n",
       "      <th>BoardingClass</th>\n",
       "    </tr>\n",
       "  </thead>\n",
       "  <tbody>\n",
       "    <tr>\n",
       "      <th>44</th>\n",
       "      <td>45</td>\n",
       "      <td>Devaney, Miss. Margaret Delia</td>\n",
       "      <td>female</td>\n",
       "      <td>19</td>\n",
       "      <td>0</td>\n",
       "      <td>0</td>\n",
       "      <td>7.8792</td>\n",
       "      <td>Q</td>\n",
       "      <td>least privileged</td>\n",
       "    </tr>\n",
       "    <tr>\n",
       "      <th>307</th>\n",
       "      <td>308</td>\n",
       "      <td>Penasco y Castellana, Mrs. Victor de Satode (M...</td>\n",
       "      <td>female</td>\n",
       "      <td>17</td>\n",
       "      <td>1</td>\n",
       "      <td>0</td>\n",
       "      <td>108.9</td>\n",
       "      <td>C</td>\n",
       "      <td>most privileged</td>\n",
       "    </tr>\n",
       "    <tr>\n",
       "      <th>169</th>\n",
       "      <td>170</td>\n",
       "      <td>Ling, Mr. Lee</td>\n",
       "      <td>male</td>\n",
       "      <td>28</td>\n",
       "      <td>0</td>\n",
       "      <td>0</td>\n",
       "      <td>56.4958</td>\n",
       "      <td>S</td>\n",
       "      <td>least privileged</td>\n",
       "    </tr>\n",
       "  </tbody>\n",
       "</table>\n",
       "</div>"
      ],
      "text/plain": [
       "    PassengerId                                               Name     Sex  \\\n",
       "44           45                      Devaney, Miss. Margaret Delia  female   \n",
       "307         308  Penasco y Castellana, Mrs. Victor de Satode (M...  female   \n",
       "169         170                                      Ling, Mr. Lee    male   \n",
       "\n",
       "    Age SibSp Parch     Fare Embarked     BoardingClass  \n",
       "44   19     0     0   7.8792        Q  least privileged  \n",
       "307  17     1     0    108.9        C   most privileged  \n",
       "169  28     0     0  56.4958        S  least privileged  "
      ]
     },
     "execution_count": 124,
     "metadata": {},
     "output_type": "execute_result"
    }
   ],
   "source": [
    "# A view of df__titanic at this step\n",
    "df__titanic.sample(n=3)"
   ]
  },
  {
   "cell_type": "markdown",
   "metadata": {},
   "source": [
    "##### *5.2. Name, Sex, Age*"
   ]
  },
  {
   "cell_type": "code",
   "execution_count": 125,
   "metadata": {},
   "outputs": [
    {
     "data": {
      "text/plain": [
       "Sex    0\n",
       "dtype: int64"
      ]
     },
     "execution_count": 125,
     "metadata": {},
     "output_type": "execute_result"
    }
   ],
   "source": [
    "# Are there missing values in \"Sex\" ?\n",
    "df__titanic[[\"Sex\"]].isnull().sum()"
   ]
  },
  {
   "cell_type": "code",
   "execution_count": 126,
   "metadata": {},
   "outputs": [],
   "source": [
    "# Make sure to order \"Sex\" values\n",
    "# In Titanic emergency, women were priviliged over men\n",
    "df__titanic[\"Sex\"] = pd.Categorical(df__titanic[\"Sex\"], categories=[\"male\", \"female\"], ordered=True)"
   ]
  },
  {
   "cell_type": "code",
   "execution_count": 127,
   "metadata": {},
   "outputs": [],
   "source": [
    "# Lowercase \"Name\" values, and remove periods\n",
    "df__titanic[\"Name\"] = df__titanic[\"Name\"].apply(lambda x: x.lower().replace(\".\", \"\"))"
   ]
  },
  {
   "cell_type": "markdown",
   "metadata": {},
   "source": [
    "<div style=\"background-color: green; padding: 10px;\">\n",
    "\n",
    "Research on early 20th-century naming conventions provides insights into titles incorporated in names, which often indicated age or marital status :\n",
    "\n",
    "- Adult titles : \"mr\", \"mrs\", \"sir\", \"rev\", \"capt\", \"dr\", \"col\", \"major\", \"ms\", \"mme\", \"countess\", \"don\", \"jonkheer\"\n",
    "\n",
    "- Youth titles : \"master\", \"miss\"\n",
    "\n",
    "- Ambiguous titles : \"mlle\" (used for both young girls and unmarried women)\n",
    "\n",
    "Aldulthood for men was 21; whereas for women, it was 18 or 21.\n",
    "\n",
    "</div>"
   ]
  },
  {
   "cell_type": "code",
   "execution_count": 128,
   "metadata": {},
   "outputs": [],
   "source": [
    "# Extract a \"Title\" column from \"Name\" column\n",
    "\n",
    "# Define a list of all possible titles\n",
    "list__adulttitles = [\"mr\", \"mrs\", \"sir\", \"rev\", \"capt\", \"dr\", \"col\", \"major\", \"ms\", \"mme\", \"countess\", \"don\", \"jonkheer\"]\n",
    "list__youngtitles = [\"master\", \"miss\"]\n",
    "list__ambiguoustitles = [\"mlle\"]\n",
    "list__alltitles = list__adulttitles + list__youngtitles + list__ambiguoustitles\n",
    "\n",
    "# An example of function to extract title\n",
    "def function__title(str__name: str) -> str:\n",
    "    \"\"\"\n",
    "    Input:\n",
    "    str__name : a string (real name and title)\n",
    "    Output:\n",
    "    str__title : a string (title)\n",
    "    \"\"\"\n",
    "    for str__title in list__alltitles:\n",
    "        if str__title in str__name:\n",
    "            return str__title\n",
    "\n",
    "# Apply function__title on \"Name\" column\n",
    "df__titanic[\"Title\"] = df__titanic[\"Name\"].apply(lambda x: function__title(x))\n",
    "\n",
    "# Cleanup\n",
    "del df__titanic[\"Name\"], list__alltitles"
   ]
  },
  {
   "cell_type": "code",
   "execution_count": 129,
   "metadata": {},
   "outputs": [
    {
     "data": {
      "text/plain": [
       "<Axes: title={'center': 'Title count distribution'}, xlabel='Title'>"
      ]
     },
     "execution_count": 129,
     "metadata": {},
     "output_type": "execute_result"
    },
    {
     "data": {
      "image/png": "[encoded data removed]",
      "text/plain": [
       "<Figure size 640x480 with 1 Axes>"
      ]
     },
     "metadata": {},
     "output_type": "display_data"
    }
   ],
   "source": [
    "# Take a look at \"Title\"\n",
    "df__titanic[\"Title\"].value_counts().plot(kind=\"bar\", title=\"Title count distribution\")"
   ]
  },
  {
   "cell_type": "markdown",
   "metadata": {},
   "source": [
    "<div style=\"background-color: green; padding: 10px;\">\n",
    "More than half of the passengers on the ship are adult men.\n",
    "</div>"
   ]
  },
  {
   "cell_type": "code",
   "execution_count": 130,
   "metadata": {},
   "outputs": [
    {
     "data": {
      "text/plain": [
       "Age    263\n",
       "dtype: int64"
      ]
     },
     "execution_count": 130,
     "metadata": {},
     "output_type": "execute_result"
    }
   ],
   "source": [
    "# Are there missing values in \"Age\" ?\n",
    "df__titanic[[\"Age\"]].isnull().sum()"
   ]
  },
  {
   "cell_type": "code",
   "execution_count": 131,
   "metadata": {},
   "outputs": [],
   "source": [
    "# Set \"Age\" column data type to decimal number\n",
    "df__titanic[\"Age\"] = df__titanic[\"Age\"].astype(float)"
   ]
  },
  {
   "cell_type": "markdown",
   "metadata": {},
   "source": [
    "<div style=\"background-color: green; padding: 10px;\">\n",
    "Decimals age values can be challenging to interpret. Some of the folks who worked on Titanic problem, explained that these decimals arise when ages are estimated.\n",
    "</div>"
   ]
  },
  {
   "cell_type": "code",
   "execution_count": 132,
   "metadata": {},
   "outputs": [
    {
     "name": "stdout",
     "output_type": "stream",
     "text": [
      "Of the 1309 samples, 20.09% have missing age values.\n"
     ]
    }
   ],
   "source": [
    "# Analyze the proportion of samples with missing age values\n",
    "print(f\"Of the {len(df__titanic)} samples, {(100*df__titanic[\"Age\"].isnull().sum() / len(df__titanic)):.2f}% have missing age values.\")"
   ]
  },
  {
   "cell_type": "code",
   "execution_count": 133,
   "metadata": {},
   "outputs": [],
   "source": [
    "# Define a new column \"AgeCategory\" based on \"Title\" and \"Age\"\n",
    "\n",
    "# An example of function to categorize age\n",
    "def function__agecategory(str__title: str, float__age: float, float__adulthood = 21.0) -> str:\n",
    "    \"\"\"\n",
    "    Input:\n",
    "    str__title : a string (title)\n",
    "    float__age : a decimal number (age)\n",
    "    float__adulthood : a decimal number (age value to know if adulthood is reached or not)\n",
    "    Output:\n",
    "    str__title : a string (title)\n",
    "    \"\"\"\n",
    "    # Test if age value is different of NA\n",
    "    if float__age != np.nan:\n",
    "        # Compare its value to adulthood threshold\n",
    "        if float__age < float__adulthood:\n",
    "            return \"young\"\n",
    "        else: return \"adult\"\n",
    "    \n",
    "    # Test if age value is NA\n",
    "    if float__age == np.nan:\n",
    "        # Use title to know if adulthood is reached\n",
    "        if str__title in list__adulttitles:\n",
    "            return \"adult\"\n",
    "        if str__title in list__youngtitles:\n",
    "            return \"young\"\n",
    "        if str__title in list__ambiguoustitles:\n",
    "            return \"young/adult\"\n",
    "\n",
    "# Apply function__agecategory\n",
    "df__titanic[\"AgeCategory\"] = df__titanic.apply(lambda row: function__agecategory(str__title=row[\"Title\"], float__age=row[\"Age\"]), axis=1)\n",
    "\n",
    "# Make sure modalities of \"AgeCategory\" are ordered\n",
    "# In Titanic emergency, young were priviliged over adult\n",
    "df__titanic[\"AgeCategory\"] = pd.Categorical(df__titanic[\"AgeCategory\"], categories=[\"adult\", \"young/adult\", \"young\"], ordered=True)\n",
    "\n",
    "# Cleanup\n",
    "del df__titanic[\"Age\"], df__titanic[\"Title\"], list__adulttitles, list__youngtitles, list__ambiguoustitles"
   ]
  },
  {
   "cell_type": "code",
   "execution_count": 134,
   "metadata": {},
   "outputs": [
    {
     "data": {
      "text/plain": [
       "<Axes: title={'center': 'AgeCategory count distribution'}, xlabel='AgeCategory'>"
      ]
     },
     "execution_count": 134,
     "metadata": {},
     "output_type": "execute_result"
    },
    {
     "data": {
      "image/png": "[encoded data removed]",
      "text/plain": [
       "<Figure size 640x480 with 1 Axes>"
      ]
     },
     "metadata": {},
     "output_type": "display_data"
    }
   ],
   "source": [
    "# Take a look at \"AgeCategory\"\n",
    "df__titanic[\"AgeCategory\"].value_counts().plot(kind=\"bar\", title=\"AgeCategory count distribution\")"
   ]
  },
  {
   "cell_type": "markdown",
   "metadata": {},
   "source": [
    "<div style=\"background-color: green; padding: 10px;\">\n",
    "Since \"AgeCategory\" is a result of combining \"Title\" and \"Age\" in order to impute \"Age\" missing values, it's normal that more than half of the passengers are adults (especially adult men).\n",
    "</div>"
   ]
  },
  {
   "cell_type": "code",
   "execution_count": 135,
   "metadata": {},
   "outputs": [
    {
     "data": {
      "text/html": [
       "<div>\n",
       "<style scoped>\n",
       "    .dataframe tbody tr th:only-of-type {\n",
       "        vertical-align: middle;\n",
       "    }\n",
       "\n",
       "    .dataframe tbody tr th {\n",
       "        vertical-align: top;\n",
       "    }\n",
       "\n",
       "    .dataframe thead th {\n",
       "        text-align: right;\n",
       "    }\n",
       "</style>\n",
       "<table border=\"1\" class=\"dataframe\">\n",
       "  <thead>\n",
       "    <tr style=\"text-align: right;\">\n",
       "      <th></th>\n",
       "      <th>PassengerId</th>\n",
       "      <th>Sex</th>\n",
       "      <th>SibSp</th>\n",
       "      <th>Parch</th>\n",
       "      <th>Fare</th>\n",
       "      <th>Embarked</th>\n",
       "      <th>BoardingClass</th>\n",
       "      <th>AgeCategory</th>\n",
       "    </tr>\n",
       "  </thead>\n",
       "  <tbody>\n",
       "    <tr>\n",
       "      <th>909</th>\n",
       "      <td>910</td>\n",
       "      <td>female</td>\n",
       "      <td>1</td>\n",
       "      <td>0</td>\n",
       "      <td>7.925</td>\n",
       "      <td>S</td>\n",
       "      <td>least privileged</td>\n",
       "      <td>adult</td>\n",
       "    </tr>\n",
       "    <tr>\n",
       "      <th>598</th>\n",
       "      <td>599</td>\n",
       "      <td>male</td>\n",
       "      <td>0</td>\n",
       "      <td>0</td>\n",
       "      <td>7.225</td>\n",
       "      <td>C</td>\n",
       "      <td>least privileged</td>\n",
       "      <td>adult</td>\n",
       "    </tr>\n",
       "    <tr>\n",
       "      <th>332</th>\n",
       "      <td>333</td>\n",
       "      <td>male</td>\n",
       "      <td>0</td>\n",
       "      <td>1</td>\n",
       "      <td>153.4625</td>\n",
       "      <td>S</td>\n",
       "      <td>most privileged</td>\n",
       "      <td>adult</td>\n",
       "    </tr>\n",
       "  </tbody>\n",
       "</table>\n",
       "</div>"
      ],
      "text/plain": [
       "    PassengerId     Sex SibSp Parch      Fare Embarked     BoardingClass  \\\n",
       "909         910  female     1     0     7.925        S  least privileged   \n",
       "598         599    male     0     0     7.225        C  least privileged   \n",
       "332         333    male     0     1  153.4625        S   most privileged   \n",
       "\n",
       "    AgeCategory  \n",
       "909       adult  \n",
       "598       adult  \n",
       "332       adult  "
      ]
     },
     "execution_count": 135,
     "metadata": {},
     "output_type": "execute_result"
    }
   ],
   "source": [
    "# A view of df__titanic at this step\n",
    "df__titanic.sample(n=3)"
   ]
  },
  {
   "cell_type": "markdown",
   "metadata": {},
   "source": [
    "##### *5.3. SibSp, ParCh, Fare*"
   ]
  },
  {
   "cell_type": "code",
   "execution_count": 136,
   "metadata": {},
   "outputs": [
    {
     "data": {
      "text/plain": [
       "SibSp    0\n",
       "dtype: int64"
      ]
     },
     "execution_count": 136,
     "metadata": {},
     "output_type": "execute_result"
    }
   ],
   "source": [
    "# Are there missing values in \"SibSp\"?\n",
    "df__titanic[[\"SibSp\"]].isnull().sum()"
   ]
  },
  {
   "cell_type": "code",
   "execution_count": 137,
   "metadata": {},
   "outputs": [
    {
     "data": {
      "text/plain": [
       "Parch    0\n",
       "dtype: int64"
      ]
     },
     "execution_count": 137,
     "metadata": {},
     "output_type": "execute_result"
    }
   ],
   "source": [
    "# Are there missing values in \"Parch\"?\n",
    "df__titanic[[\"Parch\"]].isnull().sum()"
   ]
  },
  {
   "cell_type": "code",
   "execution_count": 138,
   "metadata": {},
   "outputs": [],
   "source": [
    "# Set \"SibSp\" and \"Parch\" data type to integer\n",
    "df__titanic[[\"SibSp\",\"Parch\"]] = df__titanic[[\"SibSp\",\"Parch\"]].astype(int)\n",
    "\n",
    "# Create \"FamilySize\" by incrementing of 1 the sum of \"SibSp\" and \"Parch\" \n",
    "df__titanic[\"FamilySize\"] = df__titanic[[\"SibSp\",\"Parch\"]].sum(axis=1) + 1\n",
    "\n",
    "# Cleanup\n",
    "df__titanic.drop(columns=[\"SibSp\",\"Parch\"], inplace=True)"
   ]
  },
  {
   "cell_type": "code",
   "execution_count": 139,
   "metadata": {},
   "outputs": [
    {
     "data": {
      "text/plain": [
       "<Axes: title={'center': 'FamilySize count distribution'}, xlabel='FamilySize'>"
      ]
     },
     "execution_count": 139,
     "metadata": {},
     "output_type": "execute_result"
    },
    {
     "data": {
      "image/png": "[encoded data removed]",
      "text/plain": [
       "<Figure size 640x480 with 1 Axes>"
      ]
     },
     "metadata": {},
     "output_type": "display_data"
    }
   ],
   "source": [
    "# Take a look at \"FamilySize\"\n",
    "df__titanic[\"FamilySize\"].value_counts().plot(kind=\"bar\", title=\"FamilySize count distribution\")"
   ]
  },
  {
   "cell_type": "markdown",
   "metadata": {},
   "source": [
    "<div style=\"background-color: green; padding: 10px;\">\n",
    "More than half of the passengers on the ship were alone.\n",
    "</div>"
   ]
  },
  {
   "cell_type": "code",
   "execution_count": 140,
   "metadata": {},
   "outputs": [
    {
     "data": {
      "text/plain": [
       "Fare    1\n",
       "dtype: int64"
      ]
     },
     "execution_count": 140,
     "metadata": {},
     "output_type": "execute_result"
    }
   ],
   "source": [
    "# Are there missing values in \"Fare\" ?\n",
    "df__titanic[[\"Fare\"]].isnull().sum()\n",
    "\n",
    "# Only one passenger \"Fare\" seems to be missing."
   ]
  },
  {
   "cell_type": "code",
   "execution_count": 141,
   "metadata": {},
   "outputs": [
    {
     "data": {
      "text/plain": [
       "<Axes: title={'center': 'Fare distribution'}, ylabel='Frequency'>"
      ]
     },
     "execution_count": 141,
     "metadata": {},
     "output_type": "execute_result"
    },
    {
     "data": {
      "image/png": "[encoded data removed]",
      "text/plain": [
       "<Figure size 640x480 with 1 Axes>"
      ]
     },
     "metadata": {},
     "output_type": "display_data"
    }
   ],
   "source": [
    "# Set \"Fare\" data type to float\n",
    "df__titanic[\"Fare\"] = df__titanic[\"Fare\"].astype(float)\n",
    "\n",
    "# Take a look at \"Fare\"\n",
    "df__titanic[\"Fare\"].plot(kind=\"hist\", title=\"Fare distribution\")"
   ]
  },
  {
   "cell_type": "markdown",
   "metadata": {},
   "source": [
    "<div style=\"background-color: green; padding: 10px;\">\n",
    "\"Fare\" distribution is right-skewed, which is normal since most of the people were least priviliged (3rd class tickets).\n",
    "Let's dive further.\n",
    "</div>"
   ]
  },
  {
   "cell_type": "code",
   "execution_count": 142,
   "metadata": {},
   "outputs": [
    {
     "data": {
      "text/html": [
       "<div>\n",
       "<style scoped>\n",
       "    .dataframe tbody tr th:only-of-type {\n",
       "        vertical-align: middle;\n",
       "    }\n",
       "\n",
       "    .dataframe tbody tr th {\n",
       "        vertical-align: top;\n",
       "    }\n",
       "\n",
       "    .dataframe thead tr th {\n",
       "        text-align: left;\n",
       "    }\n",
       "\n",
       "    .dataframe thead tr:last-of-type th {\n",
       "        text-align: right;\n",
       "    }\n",
       "</style>\n",
       "<table border=\"1\" class=\"dataframe\">\n",
       "  <thead>\n",
       "    <tr>\n",
       "      <th></th>\n",
       "      <th colspan=\"8\" halign=\"left\">Fare</th>\n",
       "    </tr>\n",
       "    <tr>\n",
       "      <th></th>\n",
       "      <th>count</th>\n",
       "      <th>mean</th>\n",
       "      <th>std</th>\n",
       "      <th>min</th>\n",
       "      <th>25%</th>\n",
       "      <th>50%</th>\n",
       "      <th>75%</th>\n",
       "      <th>max</th>\n",
       "    </tr>\n",
       "    <tr>\n",
       "      <th>BoardingClass</th>\n",
       "      <th></th>\n",
       "      <th></th>\n",
       "      <th></th>\n",
       "      <th></th>\n",
       "      <th></th>\n",
       "      <th></th>\n",
       "      <th></th>\n",
       "      <th></th>\n",
       "    </tr>\n",
       "  </thead>\n",
       "  <tbody>\n",
       "    <tr>\n",
       "      <th>least privileged</th>\n",
       "      <td>708.0</td>\n",
       "      <td>13.302889</td>\n",
       "      <td>11.494358</td>\n",
       "      <td>0.0</td>\n",
       "      <td>7.7500</td>\n",
       "      <td>8.0500</td>\n",
       "      <td>15.2458</td>\n",
       "      <td>69.5500</td>\n",
       "    </tr>\n",
       "    <tr>\n",
       "      <th>moderately privileged</th>\n",
       "      <td>277.0</td>\n",
       "      <td>21.179196</td>\n",
       "      <td>13.607122</td>\n",
       "      <td>0.0</td>\n",
       "      <td>13.0000</td>\n",
       "      <td>15.0458</td>\n",
       "      <td>26.0000</td>\n",
       "      <td>73.5000</td>\n",
       "    </tr>\n",
       "    <tr>\n",
       "      <th>most privileged</th>\n",
       "      <td>323.0</td>\n",
       "      <td>87.508992</td>\n",
       "      <td>80.447178</td>\n",
       "      <td>0.0</td>\n",
       "      <td>30.6958</td>\n",
       "      <td>60.0000</td>\n",
       "      <td>107.6625</td>\n",
       "      <td>512.3292</td>\n",
       "    </tr>\n",
       "  </tbody>\n",
       "</table>\n",
       "</div>"
      ],
      "text/plain": [
       "                        Fare                                               \\\n",
       "                       count       mean        std  min      25%      50%   \n",
       "BoardingClass                                                               \n",
       "least privileged       708.0  13.302889  11.494358  0.0   7.7500   8.0500   \n",
       "moderately privileged  277.0  21.179196  13.607122  0.0  13.0000  15.0458   \n",
       "most privileged        323.0  87.508992  80.447178  0.0  30.6958  60.0000   \n",
       "\n",
       "                                           \n",
       "                            75%       max  \n",
       "BoardingClass                              \n",
       "least privileged        15.2458   69.5500  \n",
       "moderately privileged   26.0000   73.5000  \n",
       "most privileged        107.6625  512.3292  "
      ]
     },
     "execution_count": 142,
     "metadata": {},
     "output_type": "execute_result"
    }
   ],
   "source": [
    "# Cross \"Fare\" values with \"BoardingClass\"\n",
    "df__titanic[[\"Fare\", \"BoardingClass\"]].groupby([\"BoardingClass\"], observed=False).describe()"
   ]
  },
  {
   "cell_type": "markdown",
   "metadata": {},
   "source": [
    "<div style=\"background-color: green; padding: 10px;\">\n",
    "Tickets' Fare seems to depend on \"BoardingClass\" as we thought after \"Fare\" distribution analysis. Let's approximate the dependency/correlation strength between these two features.\n",
    "</div>"
   ]
  },
  {
   "cell_type": "code",
   "execution_count": 143,
   "metadata": {},
   "outputs": [
    {
     "data": {
      "text/plain": [
       "KruskalResult(statistic=np.float64(675.6437116957771), pvalue=np.float64(1.9312217278120738e-147))"
      ]
     },
     "execution_count": 143,
     "metadata": {},
     "output_type": "execute_result"
    }
   ],
   "source": [
    "# Do a Kruskall-Wallis test between \"Fare\" and \"BoardingClass\" as a proof of high correlation between these two features\n",
    "\n",
    "# Do not consider the passenger with missing \"Fare\"\n",
    "df__table = df__titanic[[\"Fare\", \"BoardingClass\"]].copy(deep=True).dropna()\n",
    "\n",
    "# Perform a Kruskall-Wallis test with a 95% level of confidence\n",
    "kruskal(*df__table.groupby([\"BoardingClass\"], observed=False)[\"Fare\"].apply(list))"
   ]
  },
  {
   "cell_type": "markdown",
   "metadata": {},
   "source": [
    "<div style=\"background-color: green; padding: 10px;\">\n",
    "\n",
    "Based on 1308 passengers with no missing \"Fare\" value :\n",
    "- The p-value computed from a Kruskal-Wallis test with 95% level of confidence between \"Fare\" and \"BoardingClass\" is up to 3.24e-72 ;\n",
    "- The p-value computed is much lesser than 0.05, and we conclude that there's statistically a high dependency/correlation between these two features.\n",
    "\n",
    "Since \"Fare\" is the one with one missing value out of 1309 passengers, we'll remove it and keep only \"BoardingClass\".\n",
    "</div>"
   ]
  },
  {
   "cell_type": "code",
   "execution_count": 144,
   "metadata": {},
   "outputs": [],
   "source": [
    "# Cleanup\n",
    "del df__table, df__titanic[\"Fare\"]"
   ]
  },
  {
   "cell_type": "code",
   "execution_count": 146,
   "metadata": {},
   "outputs": [
    {
     "data": {
      "text/html": [
       "<div>\n",
       "<style scoped>\n",
       "    .dataframe tbody tr th:only-of-type {\n",
       "        vertical-align: middle;\n",
       "    }\n",
       "\n",
       "    .dataframe tbody tr th {\n",
       "        vertical-align: top;\n",
       "    }\n",
       "\n",
       "    .dataframe thead th {\n",
       "        text-align: right;\n",
       "    }\n",
       "</style>\n",
       "<table border=\"1\" class=\"dataframe\">\n",
       "  <thead>\n",
       "    <tr style=\"text-align: right;\">\n",
       "      <th></th>\n",
       "      <th>PassengerId</th>\n",
       "      <th>Sex</th>\n",
       "      <th>Embarked</th>\n",
       "      <th>BoardingClass</th>\n",
       "      <th>AgeCategory</th>\n",
       "      <th>FamilySize</th>\n",
       "    </tr>\n",
       "  </thead>\n",
       "  <tbody>\n",
       "    <tr>\n",
       "      <th>937</th>\n",
       "      <td>938</td>\n",
       "      <td>male</td>\n",
       "      <td>C</td>\n",
       "      <td>most privileged</td>\n",
       "      <td>adult</td>\n",
       "      <td>1</td>\n",
       "    </tr>\n",
       "    <tr>\n",
       "      <th>821</th>\n",
       "      <td>822</td>\n",
       "      <td>male</td>\n",
       "      <td>S</td>\n",
       "      <td>least privileged</td>\n",
       "      <td>adult</td>\n",
       "      <td>1</td>\n",
       "    </tr>\n",
       "    <tr>\n",
       "      <th>755</th>\n",
       "      <td>756</td>\n",
       "      <td>male</td>\n",
       "      <td>S</td>\n",
       "      <td>moderately privileged</td>\n",
       "      <td>young</td>\n",
       "      <td>3</td>\n",
       "    </tr>\n",
       "  </tbody>\n",
       "</table>\n",
       "</div>"
      ],
      "text/plain": [
       "    PassengerId   Sex Embarked          BoardingClass AgeCategory  FamilySize\n",
       "937         938  male        C        most privileged       adult           1\n",
       "821         822  male        S       least privileged       adult           1\n",
       "755         756  male        S  moderately privileged       young           3"
      ]
     },
     "execution_count": 146,
     "metadata": {},
     "output_type": "execute_result"
    }
   ],
   "source": [
    "# A view of df__titanic at this step\n",
    "df__titanic.sample(n=3)"
   ]
  },
  {
   "cell_type": "markdown",
   "metadata": {},
   "source": [
    "##### *5.4. Embarked*"
   ]
  },
  {
   "cell_type": "code",
   "execution_count": 148,
   "metadata": {},
   "outputs": [
    {
     "data": {
      "text/plain": [
       "Embarked    2\n",
       "dtype: int64"
      ]
     },
     "execution_count": 148,
     "metadata": {},
     "output_type": "execute_result"
    }
   ],
   "source": [
    "# Are there missing values in \"Embarked\" ?\n",
    "df__titanic[[\"Embarked\"]].isnull().sum()\n",
    "\n",
    "# Two passengers' embarkation towns are missing."
   ]
  },
  {
   "cell_type": "code",
   "execution_count": 149,
   "metadata": {},
   "outputs": [
    {
     "data": {
      "text/plain": [
       "<Axes: title={'center': 'Embarked count distribution'}, xlabel='Embarked'>"
      ]
     },
     "execution_count": 149,
     "metadata": {},
     "output_type": "execute_result"
    },
    {
     "data": {
      "image/png": "[encoded data removed]",
      "text/plain": [
       "<Figure size 640x480 with 1 Axes>"
      ]
     },
     "metadata": {},
     "output_type": "display_data"
    }
   ],
   "source": [
    "# Take a look at \"Embarked\"\n",
    "df__titanic[\"Embarked\"].value_counts().plot(kind=\"bar\", title=\"Embarked count distribution\")"
   ]
  },
  {
   "cell_type": "code",
   "execution_count": 151,
   "metadata": {},
   "outputs": [],
   "source": [
    "# We choose to impute the most present modality to these two passengers with missing embarkation towns\n",
    "df__titanic[\"Embarked\"].fillna(value=df__titanic[\"Embarked\"].mode()[0], inplace=True)"
   ]
  },
  {
   "cell_type": "markdown",
   "metadata": {},
   "source": [
    "<div style=\"background-color: green; padding: 10px;\">\n",
    "\n",
    "We conducted research on the lifestyles of the towns the Titanic visited: Southampton (S), Cherbourg (C), and Queenstown (Q) :\n",
    "- In 1900, Ireland was still recovering from the Great Famine, so residents of Queenstown likely faced more hardships due to economic struggles.\n",
    "- Southampton, being a major port city, probably offered better economic opportunities compared to Queenstown.\n",
    "- Cherbourg, also a port city, might have been somewhere in between these two towns in terms of lifestyle.\n",
    "\n",
    "We decided to rank these cities as \"S\" < \"C\" < \"Q\", concluding that people from Queenstown were more resilient in life-threatening situations than those from Cherbourg, who in turn would react better than those from Southampton.\n",
    "</div>"
   ]
  },
  {
   "cell_type": "code",
   "execution_count": 152,
   "metadata": {},
   "outputs": [],
   "source": [
    "# Order \"Embarked\" modalities\n",
    "df__titanic[\"Embarked\"] = pd.Categorical(df__titanic[\"Embarked\"], categories=[\"S\", \"C\", \"Q\"], ordered=True)"
   ]
  },
  {
   "cell_type": "code",
   "execution_count": 153,
   "metadata": {},
   "outputs": [
    {
     "data": {
      "text/html": [
       "<div>\n",
       "<style scoped>\n",
       "    .dataframe tbody tr th:only-of-type {\n",
       "        vertical-align: middle;\n",
       "    }\n",
       "\n",
       "    .dataframe tbody tr th {\n",
       "        vertical-align: top;\n",
       "    }\n",
       "\n",
       "    .dataframe thead th {\n",
       "        text-align: right;\n",
       "    }\n",
       "</style>\n",
       "<table border=\"1\" class=\"dataframe\">\n",
       "  <thead>\n",
       "    <tr style=\"text-align: right;\">\n",
       "      <th></th>\n",
       "      <th>PassengerId</th>\n",
       "      <th>Sex</th>\n",
       "      <th>Embarked</th>\n",
       "      <th>BoardingClass</th>\n",
       "      <th>AgeCategory</th>\n",
       "      <th>FamilySize</th>\n",
       "    </tr>\n",
       "  </thead>\n",
       "  <tbody>\n",
       "    <tr>\n",
       "      <th>675</th>\n",
       "      <td>676</td>\n",
       "      <td>male</td>\n",
       "      <td>S</td>\n",
       "      <td>least privileged</td>\n",
       "      <td>young</td>\n",
       "      <td>1</td>\n",
       "    </tr>\n",
       "    <tr>\n",
       "      <th>317</th>\n",
       "      <td>318</td>\n",
       "      <td>male</td>\n",
       "      <td>S</td>\n",
       "      <td>moderately privileged</td>\n",
       "      <td>adult</td>\n",
       "      <td>1</td>\n",
       "    </tr>\n",
       "    <tr>\n",
       "      <th>87</th>\n",
       "      <td>88</td>\n",
       "      <td>male</td>\n",
       "      <td>S</td>\n",
       "      <td>least privileged</td>\n",
       "      <td>adult</td>\n",
       "      <td>1</td>\n",
       "    </tr>\n",
       "  </tbody>\n",
       "</table>\n",
       "</div>"
      ],
      "text/plain": [
       "    PassengerId   Sex Embarked          BoardingClass AgeCategory  FamilySize\n",
       "675         676  male        S       least privileged       young           1\n",
       "317         318  male        S  moderately privileged       adult           1\n",
       "87           88  male        S       least privileged       adult           1"
      ]
     },
     "execution_count": 153,
     "metadata": {},
     "output_type": "execute_result"
    }
   ],
   "source": [
    "# A view of df__titanic at this step\n",
    "df__titanic.sample(n=3)"
   ]
  },
  {
   "cell_type": "markdown",
   "metadata": {},
   "source": [
    "##### *5.1. Retrieve engineered versions of df__train and df__test*"
   ]
  },
  {
   "cell_type": "code",
   "execution_count": null,
   "metadata": {},
   "outputs": [],
   "source": [
    "# Get engineered version of df__train"
   ]
  },
  {
   "cell_type": "code",
   "execution_count": null,
   "metadata": {},
   "outputs": [],
   "source": []
  },
  {
   "cell_type": "code",
   "execution_count": null,
   "metadata": {},
   "outputs": [],
   "source": []
  },
  {
   "cell_type": "code",
   "execution_count": 145,
   "metadata": {},
   "outputs": [],
   "source": [
    "# %reset -f"
   ]
  }
 ],
 "metadata": {
  "kernelspec": {
   "display_name": ".venv",
   "language": "python",
   "name": "python3"
  },
  "language_info": {
   "codemirror_mode": {
    "name": "ipython",
    "version": 3
   },
   "file_extension": ".py",
   "mimetype": "text/x-python",
   "name": "python",
   "nbconvert_exporter": "python",
   "pygments_lexer": "ipython3",
   "version": "3.12.4"
  }
 },
 "nbformat": 4,
 "nbformat_minor": 2
}
